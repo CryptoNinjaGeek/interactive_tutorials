{
  "nbformat": 4,
  "nbformat_minor": 0,
  "metadata": {
    "colab": {
      "name": "Arangopipe_View_TF_Visualization.ipynb",
      "provenance": [],
      "collapsed_sections": []
    },
    "kernelspec": {
      "name": "python3",
      "display_name": "Python 3"
    }
  },
  "cells": [
    {
      "cell_type": "markdown",
      "metadata": {
        "id": "XEzisRL__JbL"
      },
      "source": [
        "<a href=\"https://colab.research.google.com/github/arangodb/interactive_tutorials/blob/master/notebooks/ML_Collab_Article/Arangopipe_View_TF_Visualization.ipynb\" target=\"_parent\"><img src=\"https://colab.research.google.com/assets/colab-badge.svg\" alt=\"Open In Colab\"/></a>"
      ]
    },
    {
      "cell_type": "markdown",
      "metadata": {
        "id": "Kl4qHgvKh9jk"
      },
      "source": [
        "<font color='red'>THIS NOTEBOOK IS FROM THE ARANGOML MULTI-MODEL COLLABORATION ARTICLE. PLEASE REFER TO THAT ARTICLE FOR FURTHER CONTEXT [HERE](#).</font>"
      ]
    },
    {
      "cell_type": "markdown",
      "metadata": {
        "id": "DaUr4WlXsd00"
      },
      "source": [
        "## Retreiving a Data Visualization (done by a colleague)"
      ]
    },
    {
      "cell_type": "markdown",
      "metadata": {
        "id": "9dMZZ1idspKB"
      },
      "source": [
        "### Install pre-requisites"
      ]
    },
    {
      "cell_type": "code",
      "metadata": {
        "id": "mISRCkn1htkV"
      },
      "source": [
        "%%capture\n",
        "!pip install python-arango\n",
        "!pip install arangopipe==0.0.6.9.3\n",
        "!pip install pandas PyYAML==5.1.1 sklearn2\n",
        "!pip install jsonpickle\n",
        "!pip install tensorflow==2.2.0\n",
        "# Install TensorFlow\n",
        "try:\n",
        "  # %tensorflow_version only exists in Colab.\n",
        "  %tensorflow_version 2.x\n",
        "except Exception:\n",
        "  pass\n",
        "\n",
        "print('Installing TensorFlow Data Validation')\n",
        "!pip install -q tensorflow_data_validation[visualization]"
      ],
      "execution_count": null,
      "outputs": []
    },
    {
      "cell_type": "code",
      "metadata": {
        "id": "ESbimUZSDTHZ"
      },
      "source": [
        "# Must restart runtime for tensorflow_data_validation due to how Colab installs packages.\n",
        "# You will need to resume running the code blocks below. \n",
        "# To resume onced exited, click into the next cell and then CTRL+F10.\n",
        "exit()"
      ],
      "execution_count": null,
      "outputs": []
    },
    {
      "cell_type": "code",
      "metadata": {
        "id": "x6iMOdTuDRHY"
      },
      "source": [
        "import tensorflow as tf\n",
        "import tensorflow_data_validation as tfdv\n",
        "print('TFDV version: {}'.format(tfdv.version.__version__))"
      ],
      "execution_count": null,
      "outputs": []
    },
    {
      "cell_type": "markdown",
      "metadata": {
        "id": "sLJf_WIAsukl"
      },
      "source": [
        "## Connect to Arangopipe"
      ]
    },
    {
      "cell_type": "markdown",
      "metadata": {
        "id": "m8tE_Nt2s488"
      },
      "source": [
        "\n",
        "You obtained the credentials from a project administrator or colleague"
      ]
    },
    {
      "cell_type": "code",
      "metadata": {
        "id": "LANxy984l4IX"
      },
      "source": [
        "from arangopipe.arangopipe_storage.arangopipe_api import ArangoPipe\n",
        "from arangopipe.arangopipe_storage.arangopipe_admin_api import ArangoPipeAdmin\n",
        "from arangopipe.arangopipe_storage.arangopipe_config import ArangoPipeConfig\n",
        "from arangopipe.arangopipe_storage.managed_service_conn_parameters import ManagedServiceConnParam\n",
        "mdb_config = ArangoPipeConfig()\n",
        "msc = ManagedServiceConnParam()\n",
        "conn_params = { msc.DB_SERVICE_HOST : \"arangoml.arangodb.cloud\", \\\n",
        "                        msc.DB_SERVICE_END_POINT : \"createDB\",\\\n",
        "                        msc.DB_SERVICE_NAME : \"createDB\",\\\n",
        "                        msc.DB_NAME: 'ML_Collaboration',\\\n",
        "                        msc.DB_USER_NAME:'ML_ReadOnly',\\\n",
        "                        msc.DB_PASSWORD: 'ML_ReadOnly',\\\n",
        "                        msc.DB_SERVICE_PORT : 8529,\\\n",
        "                        msc.DB_CONN_PROTOCOL : 'https',}\n",
        "mdb_config = mdb_config.create_connection_config(conn_params)\n",
        "admin = ArangoPipeAdmin(reuse_connection = True, config = mdb_config)\n",
        "ap_config = admin.get_config()\n",
        "ap = ArangoPipe(config = ap_config)\n",
        "\n",
        "# print the login credentials (ML_ReadOnly has read-only permissions)\n",
        "mdb_config.get_cfg()"
      ],
      "execution_count": null,
      "outputs": []
    },
    {
      "cell_type": "markdown",
      "metadata": {
        "id": "rrbv-dNPtDlV"
      },
      "source": [
        "## Retrieve the Dataset\n",
        "Note: Visualization is stored as dataset meta-data"
      ]
    },
    {
      "cell_type": "code",
      "metadata": {
        "id": "7tu9isB0nHeF"
      },
      "source": [
        "dataset = ap.lookup_dataset(\"california-housing-dataset\")\r\n",
        "print(dataset)"
      ],
      "execution_count": null,
      "outputs": []
    },
    {
      "cell_type": "markdown",
      "metadata": {
        "id": "EpaXHoiUtPfq"
      },
      "source": [
        "## Convert JSON encoded data to TFX artifact"
      ]
    },
    {
      "cell_type": "code",
      "metadata": {
        "id": "hbHFwioZnhD6"
      },
      "source": [
        "retrieved_stats = dataset[\"encoded_stats\"]\n",
        "retrieved_schema = dataset[\"encoded_schema\"]"
      ],
      "execution_count": null,
      "outputs": []
    },
    {
      "cell_type": "code",
      "metadata": {
        "id": "GMa_o45fnp3g"
      },
      "source": [
        "from google.protobuf import json_format\n",
        "from tensorflow_metadata.proto.v0 import statistics_pb2\n",
        "from tensorflow_metadata.proto.v0 import schema_pb2"
      ],
      "execution_count": null,
      "outputs": []
    },
    {
      "cell_type": "code",
      "metadata": {
        "id": "jEIY_8gXnwmJ"
      },
      "source": [
        "remat_stats = json_format.Parse(retrieved_stats, statistics_pb2.DatasetFeatureStatisticsList())\n",
        "remat_schema = json_format.Parse(retrieved_schema, schema_pb2.Schema())"
      ],
      "execution_count": null,
      "outputs": []
    },
    {
      "cell_type": "code",
      "metadata": {
        "id": "G3E3W6KIoAsa"
      },
      "source": [
        "tfdv.visualize_statistics(remat_stats)"
      ],
      "execution_count": null,
      "outputs": []
    }
  ]
}