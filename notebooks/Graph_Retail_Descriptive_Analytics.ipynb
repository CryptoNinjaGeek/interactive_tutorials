{
  "nbformat": 4,
  "nbformat_minor": 0,
  "metadata": {
    "colab": {
      "name": "Graph_Retail_Descriptive_Analytics.ipynb",
      "provenance": [],
      "collapsed_sections": [],
      "toc_visible": true
    },
    "kernelspec": {
      "name": "python3",
      "display_name": "Python 3"
    },
    "language_info": {
      "name": "python"
    }
  },
  "cells": [
    {
      "cell_type": "markdown",
      "metadata": {
        "id": "qStcba13duQl"
      },
      "source": [
        "<a href=\"https://colab.research.google.com/github/rajivsam/interactive_tutorials/blob/master/notebooks/Graph_Retail_Descriptive_Analytics.ipynb\" target=\"_parent\"><img src=\"https://colab.research.google.com/assets/colab-badge.svg\" alt=\"Open In Colab\"/></a>"
      ]
    },
    {
      "cell_type": "code",
      "metadata": {
        "id": "NHiPYjvmjnZT"
      },
      "source": [
        "\n",
        "%%capture\n",
        "!git clone https://github.com/rajivsam/interactive_tutorials.git\n",
        "!rsync -av interactive_tutorials/notebooks/data  interactive_tutorials/notebooks/img  interactive_tutorials/notebooks/tools ./ --exclude=.git\n",
        "!pip install python-arango\n",
        "!pip install arangopipe==0.0.6.9.5\n",
        "!pip install pandas PyYAML==5.1.1 sklearn2\n",
        "!pip install jsonpickle\n",
        "!pip3 install networkx\n",
        "!pip3 install matplotlib\n",
        "!pip3 install adbnx-adapter"
      ],
      "execution_count": 12,
      "outputs": []
    },
    {
      "cell_type": "code",
      "metadata": {
        "colab": {
          "base_uri": "https://localhost:8080/"
        },
        "id": "d2thBMSe5rGB",
        "outputId": "10ea691c-6bcd-4ccf-a02b-598ec78e3591"
      },
      "source": [
        "from arangopipe.arangopipe_storage.arangopipe_api import ArangoPipe\n",
        "from arangopipe.arangopipe_storage.arangopipe_admin_api import ArangoPipeAdmin\n",
        "from arangopipe.arangopipe_storage.arangopipe_config import ArangoPipeConfig\n",
        "from arangopipe.arangopipe_storage.managed_service_conn_parameters import ManagedServiceConnParam\n",
        "mdb_config = ArangoPipeConfig()\n",
        "msc = ManagedServiceConnParam()\n",
        "conn_params = { msc.DB_SERVICE_HOST : \"arangoml.arangodb.cloud\", \\\n",
        "                        msc.DB_SERVICE_END_POINT : \"createDB\",\\\n",
        "                        msc.DB_SERVICE_NAME : \"createDB\",\\\n",
        "                        msc.DB_SERVICE_PORT : 8529,\\\n",
        "                        msc.DB_CONN_PROTOCOL : 'https',\\\n",
        "                        msc.DB_REPLICATION_FACTOR: 3}\n",
        "        \n",
        "mdb_config = mdb_config.create_connection_config(conn_params)\n",
        "admin = ArangoPipeAdmin(reuse_connection = False, config = mdb_config)\n",
        "ap_config = admin.get_config()\n",
        "ap = ArangoPipe(config = ap_config)\n",
        "proj_info = {\"name\": \"Retail_Graph_Analytics\"}\n",
        "proj_reg = admin.register_project(proj_info)\n",
        "mdb_config.get_cfg()"
      ],
      "execution_count": 13,
      "outputs": [
        {
          "output_type": "stream",
          "text": [
            "API endpoint: https://arangoml.arangodb.cloud:8529/_db/_system/createDB/createDB\n"
          ],
          "name": "stdout"
        },
        {
          "output_type": "stream",
          "text": [
            "/usr/local/lib/python3.7/dist-packages/urllib3/connectionpool.py:1020: InsecureRequestWarning: Unverified HTTPS request is being made to host 'arangoml.arangodb.cloud'. Adding certificate verification is strongly advised. See: https://urllib3.readthedocs.io/en/latest/advanced-usage.html#ssl-warnings\n",
            "  InsecureRequestWarning,\n"
          ],
          "name": "stderr"
        },
        {
          "output_type": "stream",
          "text": [
            "Host Connection: https://arangoml.arangodb.cloud:8529\n"
          ],
          "name": "stdout"
        },
        {
          "output_type": "stream",
          "text": [
            "2021-06-07 12:50:40,785 - arangopipe_admin_logger - ERROR - Error connecting to DB, trying again...\n"
          ],
          "name": "stderr"
        },
        {
          "output_type": "stream",
          "text": [
            "API endpoint: https://arangoml.arangodb.cloud:8529/_db/_system/createDB/createDB\n"
          ],
          "name": "stdout"
        },
        {
          "output_type": "stream",
          "text": [
            "/usr/local/lib/python3.7/dist-packages/urllib3/connectionpool.py:1020: InsecureRequestWarning: Unverified HTTPS request is being made to host 'arangoml.arangodb.cloud'. Adding certificate verification is strongly advised. See: https://urllib3.readthedocs.io/en/latest/advanced-usage.html#ssl-warnings\n",
            "  InsecureRequestWarning,\n"
          ],
          "name": "stderr"
        },
        {
          "output_type": "stream",
          "text": [
            "Host Connection: https://arangoml.arangodb.cloud:8529\n"
          ],
          "name": "stdout"
        },
        {
          "output_type": "stream",
          "text": [
            "2021-06-07 12:51:10,089 - arangopipe_admin_logger - ERROR - Obtained connection with retry!\n"
          ],
          "name": "stderr"
        },
        {
          "output_type": "execute_result",
          "data": {
            "text/plain": [
              "{'arangodb': {'DB_end_point': 'createDB',\n",
              "  'DB_service_host': 'arangoml.arangodb.cloud',\n",
              "  'DB_service_name': 'createDB',\n",
              "  'DB_service_port': 8529,\n",
              "  'arangodb_replication_factor': 3,\n",
              "  'conn_protocol': 'https',\n",
              "  'dbName': 'MLk1yeq4m0frg7dhd3gkxvoj',\n",
              "  'password': 'ML5l59gwnlk4gtpl72o2m7r',\n",
              "  'username': 'MLsqvv0helduu32as4anrb'},\n",
              " 'mlgraph': {'graphname': 'enterprise_ml_graph'}}"
            ]
          },
          "metadata": {
            "tags": []
          },
          "execution_count": 13
        }
      ]
    },
    {
      "cell_type": "code",
      "metadata": {
        "id": "4JTETOMT57Zq"
      },
      "source": [
        "conn = mdb_config.get_cfg()\n",
        "login = conn['arangodb']"
      ],
      "execution_count": 14,
      "outputs": []
    },
    {
      "cell_type": "code",
      "metadata": {
        "colab": {
          "base_uri": "https://localhost:8080/"
        },
        "id": "9CQmssQz6EtW",
        "outputId": "f826f05a-bce6-4368-91b6-19cf1848bfea"
      },
      "source": [
        "login"
      ],
      "execution_count": 15,
      "outputs": [
        {
          "output_type": "execute_result",
          "data": {
            "text/plain": [
              "{'DB_end_point': 'createDB',\n",
              " 'DB_service_host': 'arangoml.arangodb.cloud',\n",
              " 'DB_service_name': 'createDB',\n",
              " 'DB_service_port': 8529,\n",
              " 'arangodb_replication_factor': 3,\n",
              " 'conn_protocol': 'https',\n",
              " 'dbName': 'MLk1yeq4m0frg7dhd3gkxvoj',\n",
              " 'password': 'ML5l59gwnlk4gtpl72o2m7r',\n",
              " 'username': 'MLsqvv0helduu32as4anrb'}"
            ]
          },
          "metadata": {
            "tags": []
          },
          "execution_count": 15
        }
      ]
    },
    {
      "cell_type": "code",
      "metadata": {
        "id": "TC-fSOh2sh7E"
      },
      "source": [
        "!chmod -R 755 ./tools/*"
      ],
      "execution_count": 16,
      "outputs": []
    },
    {
      "cell_type": "code",
      "metadata": {
        "id": "8B_UyOPFmnhA",
        "colab": {
          "base_uri": "https://localhost:8080/"
        },
        "outputId": "2a430655-391c-49b6-d166-f5c4904d92f0"
      },
      "source": [
        "# Restore an ArangoDB dump into the database.\n",
        "!./tools/arangorestore  -c none --server.endpoint  http+ssl://{login[\"DB_service_host\"]}:{login[\"DB_service_port\"]} --server.username {login[\"username\"]} \\\n",
        "--server.database {login[\"dbName\"]} \\\n",
        "--server.password {login[\"password\"]} \\\n",
        "--replication-factor 3  \\\n",
        "--input-directory \"data/retail_freq_cust_data_dump\""
      ],
      "execution_count": 17,
      "outputs": [
        {
          "output_type": "stream",
          "text": [
            "\u001b[0m2021-06-07T12:51:12Z [268] INFO [05c30] {restore} Connected to ArangoDB 'http+ssl://arangoml.arangodb.cloud:8529'\n",
            "\u001b[0m\u001b[0m2021-06-07T12:51:14Z [268] INFO [abeb4] {restore} Database name in source dump is 'MLqugvfcgt448hq4bpqccnw'\n",
            "\u001b[0m\u001b[0m2021-06-07T12:51:14Z [268] INFO [9b414] {restore} # Re-creating document collection 'Customers'...\n",
            "\u001b[0m\u001b[0m2021-06-07T12:51:15Z [268] INFO [9b414] {restore} # Re-creating document collection 'datasets'...\n",
            "\u001b[0m\u001b[0m2021-06-07T12:51:16Z [268] INFO [9b414] {restore} # Re-creating document collection 'deployment'...\n",
            "\u001b[0m\u001b[0m2021-06-07T12:51:16Z [268] INFO [9b414] {restore} # Re-creating document collection 'devperf'...\n",
            "\u001b[0m\u001b[0m2021-06-07T12:51:17Z [268] INFO [9b414] {restore} # Re-creating document collection 'featuresets'...\n",
            "\u001b[0m\u001b[0m2021-06-07T12:51:18Z [268] INFO [9b414] {restore} # Re-creating document collection 'Items'...\n",
            "\u001b[0m\u001b[0m2021-06-07T12:51:18Z [268] INFO [9b414] {restore} # Re-creating document collection 'modelparams'...\n",
            "\u001b[0m\u001b[0m2021-06-07T12:51:19Z [268] INFO [9b414] {restore} # Re-creating document collection 'models'...\n",
            "\u001b[0m\u001b[0m2021-06-07T12:51:20Z [268] INFO [9b414] {restore} # Re-creating document collection 'project'...\n",
            "\u001b[0m\u001b[0m2021-06-07T12:51:21Z [268] INFO [9b414] {restore} # Re-creating document collection 'run'...\n",
            "\u001b[0m\u001b[0m2021-06-07T12:51:21Z [268] INFO [9b414] {restore} # Re-creating document collection 'servingperf'...\n",
            "\u001b[0m\u001b[0m2021-06-07T12:51:22Z [268] INFO [9b414] {restore} # Re-creating edge collection 'deployment_featureset'...\n",
            "\u001b[0m\u001b[0m2021-06-07T12:51:23Z [268] INFO [9b414] {restore} # Re-creating edge collection 'deployment_model'...\n",
            "\u001b[0m\u001b[0m2021-06-07T12:51:24Z [268] INFO [9b414] {restore} # Re-creating edge collection 'deployment_modelparams'...\n",
            "\u001b[0m\u001b[0m2021-06-07T12:51:24Z [268] INFO [9b414] {restore} # Re-creating edge collection 'deployment_servingperf'...\n",
            "\u001b[0m\u001b[0m2021-06-07T12:51:25Z [268] INFO [9b414] {restore} # Re-creating edge collection 'featureset_dataset'...\n",
            "\u001b[0m\u001b[0m2021-06-07T12:51:26Z [268] INFO [9b414] {restore} # Re-creating edge collection 'project_models'...\n",
            "\u001b[0m\u001b[0m2021-06-07T12:51:26Z [268] INFO [9b414] {restore} # Re-creating edge collection 'Purchases'...\n",
            "\u001b[0m\u001b[0m2021-06-07T12:51:27Z [268] INFO [9b414] {restore} # Re-creating edge collection 'run_datasets'...\n",
            "\u001b[0m\u001b[0m2021-06-07T12:51:28Z [268] INFO [9b414] {restore} # Re-creating edge collection 'run_devperf'...\n",
            "\u001b[0m\u001b[0m2021-06-07T12:51:29Z [268] INFO [9b414] {restore} # Re-creating edge collection 'run_featuresets'...\n",
            "\u001b[0m\u001b[0m2021-06-07T12:51:29Z [268] INFO [9b414] {restore} # Re-creating edge collection 'run_modelparams'...\n",
            "\u001b[0m\u001b[0m2021-06-07T12:51:30Z [268] INFO [9b414] {restore} # Re-creating edge collection 'run_models'...\n",
            "\u001b[0m\u001b[0m2021-06-07T12:51:31Z [268] INFO [6d69f] {restore} # Dispatched 23 job(s), using 2 worker(s)\n",
            "\u001b[0m\u001b[0m2021-06-07T12:51:31Z [268] INFO [94913] {restore} # Loading data into document collection 'Customers', data size: 4402 byte(s)\n",
            "\u001b[0m\u001b[0m2021-06-07T12:51:31Z [268] INFO [94913] {restore} # Loading data into document collection 'datasets', data size: 210 byte(s)\n",
            "\u001b[0m\u001b[0m2021-06-07T12:51:31Z [268] INFO [6ae09] {restore} # Successfully restored document collection 'datasets'\n",
            "\u001b[0m\u001b[0m2021-06-07T12:51:31Z [268] INFO [94913] {restore} # Loading data into document collection 'deployment', data size: 20 byte(s)\n",
            "\u001b[0m\u001b[0m2021-06-07T12:51:31Z [268] INFO [6ae09] {restore} # Successfully restored document collection 'deployment'\n",
            "\u001b[0m\u001b[0m2021-06-07T12:51:31Z [268] INFO [94913] {restore} # Loading data into document collection 'devperf', data size: 581 byte(s)\n",
            "\u001b[0m\u001b[0m2021-06-07T12:51:31Z [268] INFO [6ae09] {restore} # Successfully restored document collection 'Customers'\n",
            "\u001b[0m\u001b[0m2021-06-07T12:51:31Z [268] INFO [94913] {restore} # Loading data into document collection 'featuresets', data size: 224 byte(s)\n",
            "\u001b[0m\u001b[0m2021-06-07T12:51:31Z [268] INFO [6ae09] {restore} # Successfully restored document collection 'devperf'\n",
            "\u001b[0m\u001b[0m2021-06-07T12:51:31Z [268] INFO [94913] {restore} # Loading data into document collection 'Items', data size: 830 byte(s)\n",
            "\u001b[0m\u001b[0m2021-06-07T12:51:32Z [268] INFO [6ae09] {restore} # Successfully restored document collection 'featuresets'\n",
            "\u001b[0m\u001b[0m2021-06-07T12:51:32Z [268] INFO [94913] {restore} # Loading data into document collection 'modelparams', data size: 261 byte(s)\n",
            "\u001b[0m\u001b[0m2021-06-07T12:51:32Z [268] INFO [6ae09] {restore} # Successfully restored document collection 'Items'\n",
            "\u001b[0m\u001b[0m2021-06-07T12:51:32Z [268] INFO [94913] {restore} # Loading data into document collection 'models', data size: 266 byte(s)\n",
            "\u001b[0m\u001b[0m2021-06-07T12:51:32Z [268] INFO [6ae09] {restore} # Successfully restored document collection 'modelparams'\n",
            "\u001b[0m\u001b[0m2021-06-07T12:51:32Z [268] INFO [94913] {restore} # Loading data into document collection 'project', data size: 125 byte(s)\n",
            "\u001b[0m\u001b[0m2021-06-07T12:51:32Z [268] INFO [6ae09] {restore} # Successfully restored document collection 'models'\n",
            "\u001b[0m\u001b[0m2021-06-07T12:51:32Z [268] INFO [94913] {restore} # Loading data into document collection 'run', data size: 276 byte(s)\n",
            "\u001b[0m\u001b[0m2021-06-07T12:51:32Z [268] INFO [6ae09] {restore} # Successfully restored document collection 'project'\n",
            "\u001b[0m\u001b[0m2021-06-07T12:51:32Z [268] INFO [94913] {restore} # Loading data into document collection 'servingperf', data size: 20 byte(s)\n",
            "\u001b[0m\u001b[0m2021-06-07T12:51:32Z [268] INFO [6ae09] {restore} # Successfully restored document collection 'servingperf'\n",
            "\u001b[0m\u001b[0m2021-06-07T12:51:32Z [268] INFO [94913] {restore} # Loading data into edge collection 'deployment_featureset', data size: 20 byte(s)\n",
            "\u001b[0m\u001b[0m2021-06-07T12:51:32Z [268] INFO [6ae09] {restore} # Successfully restored edge collection 'deployment_featureset'\n",
            "\u001b[0m\u001b[0m2021-06-07T12:51:32Z [268] INFO [94913] {restore} # Loading data into edge collection 'deployment_model', data size: 20 byte(s)\n",
            "\u001b[0m\u001b[0m2021-06-07T12:51:32Z [268] INFO [6ae09] {restore} # Successfully restored edge collection 'deployment_model'\n",
            "\u001b[0m\u001b[0m2021-06-07T12:51:32Z [268] INFO [94913] {restore} # Loading data into edge collection 'deployment_modelparams', data size: 20 byte(s)\n",
            "\u001b[0m\u001b[0m2021-06-07T12:51:32Z [268] INFO [6ae09] {restore} # Successfully restored edge collection 'deployment_modelparams'\n",
            "\u001b[0m\u001b[0m2021-06-07T12:51:32Z [268] INFO [94913] {restore} # Loading data into edge collection 'deployment_servingperf', data size: 20 byte(s)\n",
            "\u001b[0m\u001b[0m2021-06-07T12:51:32Z [268] INFO [6ae09] {restore} # Successfully restored edge collection 'deployment_servingperf'\n",
            "\u001b[0m\u001b[0m2021-06-07T12:51:32Z [268] INFO [94913] {restore} # Loading data into edge collection 'featureset_dataset', data size: 128 byte(s)\n",
            "\u001b[0m\u001b[0m2021-06-07T12:51:32Z [268] INFO [6ae09] {restore} # Successfully restored document collection 'run'\n",
            "\u001b[0m\u001b[0m2021-06-07T12:51:32Z [268] INFO [94913] {restore} # Loading data into edge collection 'project_models', data size: 176 byte(s)\n",
            "\u001b[0m\u001b[0m2021-06-07T12:51:32Z [268] INFO [6ae09] {restore} # Successfully restored edge collection 'featureset_dataset'\n",
            "\u001b[0m\u001b[0m2021-06-07T12:51:32Z [268] INFO [94913] {restore} # Loading data into edge collection 'Purchases', data size: 75415 byte(s)\n",
            "\u001b[0m\u001b[0m2021-06-07T12:51:32Z [268] INFO [6ae09] {restore} # Successfully restored edge collection 'project_models'\n",
            "\u001b[0m\u001b[0m2021-06-07T12:51:32Z [268] INFO [94913] {restore} # Loading data into edge collection 'run_datasets', data size: 237 byte(s)\n",
            "\u001b[0m\u001b[0m2021-06-07T12:51:33Z [268] INFO [6ae09] {restore} # Successfully restored edge collection 'run_datasets'\n",
            "\u001b[0m\u001b[0m2021-06-07T12:51:33Z [268] INFO [94913] {restore} # Loading data into edge collection 'run_devperf', data size: 255 byte(s)\n",
            "\u001b[0m\u001b[0m2021-06-07T12:51:33Z [268] INFO [6ae09] {restore} # Successfully restored edge collection 'run_devperf'\n",
            "\u001b[0m\u001b[0m2021-06-07T12:51:33Z [268] INFO [94913] {restore} # Loading data into edge collection 'run_featuresets', data size: 245 byte(s)\n",
            "\u001b[0m\u001b[0m2021-06-07T12:51:33Z [268] INFO [6ae09] {restore} # Successfully restored edge collection 'run_featuresets'\n",
            "\u001b[0m\u001b[0m2021-06-07T12:51:33Z [268] INFO [94913] {restore} # Loading data into edge collection 'run_modelparams', data size: 260 byte(s)\n",
            "\u001b[0m\u001b[0m2021-06-07T12:51:34Z [268] INFO [6ae09] {restore} # Successfully restored edge collection 'run_modelparams'\n",
            "\u001b[0m\u001b[0m2021-06-07T12:51:34Z [268] INFO [94913] {restore} # Loading data into edge collection 'run_models', data size: 261 byte(s)\n",
            "\u001b[0m\u001b[0m2021-06-07T12:51:34Z [268] INFO [6ae09] {restore} # Successfully restored edge collection 'run_models'\n",
            "\u001b[0m\u001b[0m2021-06-07T12:51:34Z [268] INFO [6ae09] {restore} # Successfully restored edge collection 'Purchases'\n",
            "\u001b[0m\u001b[0m2021-06-07T12:51:34Z [268] INFO [a66e1] {restore} Processed 23 collection(s) in 23.374210 s, read 741115 byte(s) from datafiles, sent 17 data batch(es) of 741098 byte(s) total size\n",
            "\u001b[0m"
          ],
          "name": "stdout"
        }
      ]
    },
    {
      "cell_type": "markdown",
      "metadata": {
        "id": "67j8k6e-VONE"
      },
      "source": [
        ""
      ]
    },
    {
      "cell_type": "markdown",
      "metadata": {
        "id": "hPB7hYgo1elH"
      },
      "source": [
        "## Methodology Overview\n",
        "\n",
        "This notebook provides the descriptive features of the frequent customer group. These features are obtained by applying graph analytic concepts to the frequent customer group. To do so, we need to represent the frequent customer group as a graph. In particular, this group is modeled as a bi-partite graph with the customer nodes and item nodes forming the two disjoint vertex sets. The purchase of an item by a customer as part of an invoice is modeled as an edge.\n",
        "\n",
        "![](https://github.com/rajivsam/interactive_tutorials/blob/master/notebooks/img/bi_partite_graph.png?raw=1)\n",
        "\n",
        "\n",
        "This notebook will use ideas from:\n",
        "\n",
        "1.    [Statistical Analysis of Network Data](https://bigdata.unl.edu/documents/ASA_Workshop_Materials/Tutorial%20Statistical%20Analysis%20of%20Network%20Data.pdf): Provides a methodology for characterizing network structure\n",
        "2.   [Basic Notions for the Analysis of Affiliate Networks](https://github.com/arangoml/networkx-adapter/blob/master/bipartite_clustering.pdf) : Provides a methodology for analyzing bi-partite graphs\n",
        "\n",
        "The descriptive characteristics of the graph are captured by:\n",
        "\n",
        "\n",
        "1.   Vertex and Edge Characteristics\n",
        "2.   Network Cohesion\n",
        "\n",
        "These perspectives are important because:\n",
        "\n",
        "\n",
        "1.   They provide insights about customer behavior or the concept modeled by the \n",
        "2.   The provide the basis for developing other machine learning tasks for the problem. For example, we may be interested in the following:\n",
        "*    How can we develop a generative model for the graph \n",
        "*   How do we model the formation of links in the network\n",
        "\n",
        "These tasks tell us how customers make purchases. For details of developing a generative model on bipartite graphs, see [Bipartite Graphs as Models of Complex Networks](http://denif.ens-lyon.fr/data/algorithmique_reseaux_telecoms_enslyon/2007/cours/biparti.pdf) and [Measuring and Modeling Bipartite Graphs with Community Structure](https://www.osti.gov/servlets/purl/1561802). Developing these models requires the descriptive characterization of the graph, which is what is done in this notebook. This chararacterization provides information about properties such as degree distribution and clustering characteristics of nodes which are used to develop the models discussed.\n",
        "\n",
        "While summary statistics and distributions can be used to provide one descriptive perspective of the network (vertex and edge characteristics), information about grouping characteristics provides the complimentary perspective (network-cohesion). There are multiple ways to describe network-cohension. In this notebook, we will describe two ways to capture or describe cohesive tendencies in the notebook. These are the number of connected components in the graph and measurements describing clique formation in the graph.\n",
        "\n",
        "The rest of the notebook will provide the implementation of the methodology discussed here. There is one other conceptual idea that we require in the toolbox for the analysis of bi-partite graphs. This is the notion of a _projected graph_.  The two disjoint vertex sets are called the top and bottom vertex sets. The choice of which set to call the top set is arbitrary. It is possible to determine a _projection_ of a set of vertices belonging to either the top or bottom vertex set onto the opposite vertex set. In other words, it is possible to _project_ a set of top vertices on to the bottom vertex set, or, vice versa. The projection of the top set of vertices on to the bottom set, we connect two vertices of the bottom set in the projected graph if they are linked by a vertex in the opposite set. An example graph and the projection graph of the top set of vertices to the bottom set is shown below.\n",
        "\n",
        "\n",
        "![](https://github.com/rajivsam/interactive_tutorials/blob/master/notebooks/img/projection_graph.png?raw=1)\n",
        "\n",
        "\n",
        "\n",
        "\n",
        "\n",
        "\n",
        "\n"
      ]
    },
    {
      "cell_type": "code",
      "metadata": {
        "id": "jfyCKdJ-pjza"
      },
      "source": [
        "import networkx as nx\n",
        "from adbnx_adapter.arangoDB_networkx_adapter import ArangoDB_Networkx_Adapter\n",
        "\n",
        "# Specify the connection to the ArangoDB Database\n",
        "con = {'dbName': login[\"dbName\"],\n",
        " 'username': login[\"username\"],\n",
        " 'password': login[\"password\"],\n",
        " 'hostname': login[\"DB_service_host\"],\n",
        " 'port': login[\"DB_service_port\"]}\n",
        "\n",
        "# Create Adapter instance\n",
        "ma = ArangoDB_Networkx_Adapter(conn = con)\n",
        "\n",
        "freq_customers = {'vertexCollections': {'Customers': {},\n",
        "                                         'Items': {}},\n",
        "                   'edgeCollections': {'Purchases': {'_from', '_to', 'spend'}}}\n",
        "\n",
        "# Export networkX graph                                  \n",
        "g = ma.create_networkx_graph(graph_name = '',  graph_attributes = freq_customers)\n"
      ],
      "execution_count": 18,
      "outputs": []
    },
    {
      "cell_type": "code",
      "metadata": {
        "id": "jUQ_y9eW63Wp"
      },
      "source": [
        "gp = g.to_undirected()"
      ],
      "execution_count": 19,
      "outputs": []
    },
    {
      "cell_type": "code",
      "metadata": {
        "id": "qdaTBIXT4hOH"
      },
      "source": [
        "cust_nodes = [n for n in g.nodes() if n.startswith(\"Customers\")]\n",
        "item_nodes = [n for n in g.nodes() if n.startswith(\"Items\")]"
      ],
      "execution_count": 20,
      "outputs": []
    },
    {
      "cell_type": "code",
      "metadata": {
        "colab": {
          "base_uri": "https://localhost:8080/"
        },
        "id": "hWxxHLaI4ipS",
        "outputId": "12243d76-e437-4fdf-fee0-bb17b06d64f9"
      },
      "source": [
        "len(cust_nodes)"
      ],
      "execution_count": 21,
      "outputs": [
        {
          "output_type": "execute_result",
          "data": {
            "text/plain": [
              "447"
            ]
          },
          "metadata": {
            "tags": []
          },
          "execution_count": 21
        }
      ]
    },
    {
      "cell_type": "code",
      "metadata": {
        "colab": {
          "base_uri": "https://localhost:8080/"
        },
        "id": "CGf9Si2d4-GC",
        "outputId": "fcc7dc0e-6b79-4e96-8808-5aa2f0760033"
      },
      "source": [
        "len(item_nodes)"
      ],
      "execution_count": 22,
      "outputs": [
        {
          "output_type": "execute_result",
          "data": {
            "text/plain": [
              "75"
            ]
          },
          "metadata": {
            "tags": []
          },
          "execution_count": 22
        }
      ]
    },
    {
      "cell_type": "code",
      "metadata": {
        "colab": {
          "base_uri": "https://localhost:8080/"
        },
        "id": "MkB7qoiVAMST",
        "outputId": "5ab07fef-bc7f-4ebc-fe13-cf67a377238f"
      },
      "source": [
        "len(g.edges())"
      ],
      "execution_count": 23,
      "outputs": [
        {
          "output_type": "execute_result",
          "data": {
            "text/plain": [
              "4475"
            ]
          },
          "metadata": {
            "tags": []
          },
          "execution_count": 23
        }
      ]
    },
    {
      "cell_type": "code",
      "metadata": {
        "colab": {
          "base_uri": "https://localhost:8080/"
        },
        "id": "GVvvEr_H7iRW",
        "outputId": "844ac3aa-f1fc-4ac4-be92-68491357c341"
      },
      "source": [
        "gp.is_directed()"
      ],
      "execution_count": 24,
      "outputs": [
        {
          "output_type": "execute_result",
          "data": {
            "text/plain": [
              "False"
            ]
          },
          "metadata": {
            "tags": []
          },
          "execution_count": 24
        }
      ]
    },
    {
      "cell_type": "code",
      "metadata": {
        "id": "3vF2fyvZdHxy"
      },
      "source": [
        ""
      ],
      "execution_count": 24,
      "outputs": []
    }
  ]
}