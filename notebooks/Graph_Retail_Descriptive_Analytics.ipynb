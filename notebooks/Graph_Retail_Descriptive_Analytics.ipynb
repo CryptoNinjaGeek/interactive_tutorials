{
 "cells": [
  {
   "cell_type": "markdown",
   "metadata": {
    "id": "qStcba13duQl"
   },
   "source": [
    "<a href=\"https://colab.research.google.com/github/rajivsam/interactive_tutorials/blob/master/notebooks/Graph_Retail_Descriptive_Analytics.ipynb\" target=\"_parent\"><img src=\"https://colab.research.google.com/assets/colab-badge.svg\" alt=\"Open In Colab\"/></a>"
   ]
  },
  {
   "cell_type": "code",
   "execution_count": 1,
   "metadata": {
    "id": "NHiPYjvmjnZT"
   },
   "outputs": [],
   "source": [
    "\n",
    "%%capture\n",
    "!git clone https://github.com/rajivsam/interactive_tutorials.git\n",
    "!rsync -av interactive_tutorials/notebooks/data  interactive_tutorials/notebooks/img  interactive_tutorials/notebooks/tools ./ --exclude=.git\n",
    "!pip install python-arango\n",
    "!pip install arangopipe==0.0.6.9.5\n",
    "!pip install pandas PyYAML==5.1.1 sklearn2\n",
    "!pip install jsonpickle\n",
    "!pip3 install networkx\n",
    "!pip3 install matplotlib\n",
    "!pip3 install adbnx-adapter"
   ]
  },
  {
   "cell_type": "code",
   "execution_count": 2,
   "metadata": {},
   "outputs": [],
   "source": [
    "! chmod a+x tools/* "
   ]
  },
  {
   "cell_type": "markdown",
   "metadata": {
    "id": "hPB7hYgo1elH"
   },
   "source": [
    "## Methodology Overview\n",
    "\n",
    "This notebook provides the descriptive features of the frequent customer group. These features are obtained by applying graph analytic concepts to the frequent customer group. To do so, we need to represent the frequent customer group as a graph. In particular, this group is modeled as a bi-partite graph with the customer nodes and item nodes forming the two disjoint vertex sets. The purchase of an item by a customer as part of an invoice is modeled as an edge.\n",
    "\n",
    "![](https://github.com/rajivsam/interactive_tutorials/blob/master/notebooks/img/bi_partite_graph.png?raw=1)\n",
    "\n",
    "\n",
    "This notebook will use ideas from:\n",
    "\n",
    "1.    [Statistical Analysis of Network Data](https://bigdata.unl.edu/documents/ASA_Workshop_Materials/Tutorial%20Statistical%20Analysis%20of%20Network%20Data.pdf): Provides a methodology for characterizing network structure\n",
    "2.   [Basic Notions for the Analysis of Affiliate Networks](https://github.com/arangoml/networkx-adapter/blob/master/bipartite_clustering.pdf) : Provides a methodology for analyzing bi-partite graphs\n",
    "\n",
    "The descriptive characteristics of the graph are captured by:\n",
    "\n",
    "\n",
    "1.   Vertex and Edge Characteristics\n",
    "2.   Network Cohesion\n",
    "\n",
    "These perspectives are important because:\n",
    "\n",
    "\n",
    "1.   They provide insights about customer behavior or the concept modeled by the \n",
    "2.   The provide the basis for developing other machine learning tasks for the problem. For example, we may be interested in the following:\n",
    "*    How can we develop a generative model for the graph \n",
    "*   How do we model the formation of links in the network\n",
    "\n",
    "These tasks tell us how customers make purchases. For details of developing a generative model on bipartite graphs, see [Bipartite Graphs as Models of Complex Networks](http://denif.ens-lyon.fr/data/algorithmique_reseaux_telecoms_enslyon/2007/cours/biparti.pdf) and [Measuring and Modeling Bipartite Graphs with Community Structure](https://www.osti.gov/servlets/purl/1561802). Developing these models requires the descriptive characterization of the graph, which is what is done in this notebook. This chararacterization provides information about properties such as degree distribution and clustering characteristics of nodes which are used to develop the models discussed.\n",
    "\n",
    "While summary statistics and distributions can be used to provide one descriptive perspective of the network (vertex and edge characteristics), information about grouping characteristics provides the complimentary perspective (network-cohesion). There are multiple ways to describe network-cohension. In this notebook, we will describe two ways to capture or describe cohesive tendencies in the notebook. These are the number of connected components in the graph and measurements describing clique formation in the graph.\n",
    "\n",
    "The rest of the notebook will provide the implementation of the methodology discussed here. There is one other conceptual idea that we require in the toolbox for the analysis of bi-partite graphs. This is the notion of a _projected graph_.  The two disjoint vertex sets are called the top and bottom vertex sets. The choice of which set to call the top set is arbitrary. It is possible to determine a _projection_ of a set of vertices belonging to either the top or bottom vertex set onto the opposite vertex set. In other words, it is possible to _project_ a set of top vertices on to the bottom vertex set, or, vice versa. The projection of the top set of vertices on to the bottom set, we connect two vertices of the bottom set in the projected graph if they are linked by a vertex in the opposite set. An example graph and the projection graph of the top set of vertices to the bottom set is shown below.\n",
    "\n",
    "\n",
    "![](https://github.com/rajivsam/interactive_tutorials/blob/master/notebooks/img/projection_graph.png?raw=1)\n",
    "\n",
    "The customer and the item projection graph have meaningful interpretations. This is discussed when these graphs are generated. The process followed in this notebook to implement this methodology is discussed above is shown below.\n",
    "\n",
    "\n"
   ]
  },
  {
   "cell_type": "markdown",
   "metadata": {
    "id": "NiTekYbJvgsI"
   },
   "source": [
    "![](https://github.com/rajivsam/interactive_tutorials/blob/master/notebooks/img/notebook_3_flow_chart.png?raw=1)"
   ]
  },
  {
   "cell_type": "markdown",
   "metadata": {
    "id": "XCnStoN4vuzv"
   },
   "source": [
    "## Read Graph Data\n",
    "\n",
    "An arango DB graph image from the previous excercise in this series is the starting point for this excercise. We connect to an Oasis instance that will be used for this excercise. "
   ]
  },
  {
   "cell_type": "code",
   "execution_count": 3,
   "metadata": {
    "colab": {
     "base_uri": "https://localhost:8080/"
    },
    "id": "d2thBMSe5rGB",
    "outputId": "50009d4f-5a7e-4746-87e3-c217ffe2bb36"
   },
   "outputs": [
    {
     "name": "stdout",
     "output_type": "stream",
     "text": [
      "API endpoint: https://arangoml.arangodb.cloud:8529/_db/_system/createDB/createDB\n"
     ]
    },
    {
     "name": "stderr",
     "output_type": "stream",
     "text": [
      "/home/admin2/anaconda3/lib/python3.7/site-packages/urllib3/connectionpool.py:1004: InsecureRequestWarning: Unverified HTTPS request is being made. Adding certificate verification is strongly advised. See: https://urllib3.readthedocs.io/en/latest/advanced-usage.html#ssl-warnings\n",
      "  InsecureRequestWarning,\n"
     ]
    },
    {
     "name": "stdout",
     "output_type": "stream",
     "text": [
      "Host Connection: https://arangoml.arangodb.cloud:8529\n"
     ]
    },
    {
     "data": {
      "text/plain": [
       "{'arangodb': {'DB_service_host': 'arangoml.arangodb.cloud',\n",
       "  'DB_end_point': 'createDB',\n",
       "  'DB_service_name': 'createDB',\n",
       "  'DB_service_port': 8529,\n",
       "  'conn_protocol': 'https',\n",
       "  'arangodb_replication_factor': 3,\n",
       "  'dbName': 'MLz10iqjfuq6fcq7mzdp3ta5',\n",
       "  'username': 'MLf9aqoq3l7ni5ff5nyezgxd',\n",
       "  'password': 'MLzk2e9344s7b5uoijw6xu'},\n",
       " 'mlgraph': {'graphname': 'enterprise_ml_graph'}}"
      ]
     },
     "execution_count": 3,
     "metadata": {},
     "output_type": "execute_result"
    }
   ],
   "source": [
    "from arangopipe.arangopipe_storage.arangopipe_api import ArangoPipe\n",
    "from arangopipe.arangopipe_storage.arangopipe_admin_api import ArangoPipeAdmin\n",
    "from arangopipe.arangopipe_storage.arangopipe_config import ArangoPipeConfig\n",
    "from arangopipe.arangopipe_storage.managed_service_conn_parameters import ManagedServiceConnParam\n",
    "mdb_config = ArangoPipeConfig()\n",
    "msc = ManagedServiceConnParam()\n",
    "conn_params = { msc.DB_SERVICE_HOST : \"arangoml.arangodb.cloud\", \\\n",
    "                        msc.DB_SERVICE_END_POINT : \"createDB\",\\\n",
    "                        msc.DB_SERVICE_NAME : \"createDB\",\\\n",
    "                        msc.DB_SERVICE_PORT : 8529,\\\n",
    "                        msc.DB_CONN_PROTOCOL : 'https',\\\n",
    "                        msc.DB_REPLICATION_FACTOR: 3}\n",
    "        \n",
    "mdb_config = mdb_config.create_connection_config(conn_params)\n",
    "admin = ArangoPipeAdmin(reuse_connection = False, config = mdb_config)\n",
    "ap_config = admin.get_config()\n",
    "ap = ArangoPipe(config = ap_config)\n",
    "proj_info = {\"name\": \"Retail_Graph_Analytics\"}\n",
    "proj_reg = admin.register_project(proj_info)\n",
    "mdb_config.get_cfg()"
   ]
  },
  {
   "cell_type": "code",
   "execution_count": 4,
   "metadata": {
    "id": "4JTETOMT57Zq"
   },
   "outputs": [],
   "source": [
    "conn = mdb_config.get_cfg()\n",
    "login = conn['arangodb']"
   ]
  },
  {
   "cell_type": "code",
   "execution_count": 5,
   "metadata": {
    "colab": {
     "base_uri": "https://localhost:8080/"
    },
    "id": "9CQmssQz6EtW",
    "outputId": "15f60942-f593-46b5-980a-b83c4007ff34"
   },
   "outputs": [
    {
     "data": {
      "text/plain": [
       "{'DB_service_host': 'arangoml.arangodb.cloud',\n",
       " 'DB_end_point': 'createDB',\n",
       " 'DB_service_name': 'createDB',\n",
       " 'DB_service_port': 8529,\n",
       " 'conn_protocol': 'https',\n",
       " 'arangodb_replication_factor': 3,\n",
       " 'dbName': 'MLz10iqjfuq6fcq7mzdp3ta5',\n",
       " 'username': 'MLf9aqoq3l7ni5ff5nyezgxd',\n",
       " 'password': 'MLzk2e9344s7b5uoijw6xu'}"
      ]
     },
     "execution_count": 5,
     "metadata": {},
     "output_type": "execute_result"
    }
   ],
   "source": [
    "login"
   ]
  },
  {
   "cell_type": "code",
   "execution_count": 6,
   "metadata": {
    "id": "TC-fSOh2sh7E"
   },
   "outputs": [],
   "source": [
    "!chmod -R 755 ./tools/*"
   ]
  },
  {
   "cell_type": "code",
   "execution_count": 7,
   "metadata": {
    "colab": {
     "base_uri": "https://localhost:8080/"
    },
    "id": "8B_UyOPFmnhA",
    "outputId": "eae26371-77b0-4287-b847-b171c64db6d3"
   },
   "outputs": [
    {
     "name": "stdout",
     "output_type": "stream",
     "text": [
      "\u001b[0m2021-06-17T08:42:03Z [117809] INFO [05c30] {restore} Connected to ArangoDB 'http+ssl://arangoml.arangodb.cloud:8529'\n",
      "\u001b[0m\u001b[0m2021-06-17T08:42:05Z [117809] INFO [abeb4] {restore} Database name in source dump is 'MLlsy9bo5km1qveu1018894'\n",
      "\u001b[0m\u001b[0m2021-06-17T08:42:05Z [117809] INFO [9b414] {restore} # Re-creating document collection 'Customers'...\n",
      "\u001b[0m\u001b[0m2021-06-17T08:42:06Z [117809] INFO [9b414] {restore} # Re-creating document collection 'datasets'...\n",
      "\u001b[0m\u001b[0m2021-06-17T08:42:07Z [117809] INFO [9b414] {restore} # Re-creating document collection 'deployment'...\n",
      "\u001b[0m\u001b[0m2021-06-17T08:42:08Z [117809] INFO [9b414] {restore} # Re-creating document collection 'devperf'...\n",
      "\u001b[0m\u001b[0m2021-06-17T08:42:09Z [117809] INFO [9b414] {restore} # Re-creating document collection 'featuresets'...\n",
      "\u001b[0m\u001b[0m2021-06-17T08:42:09Z [117809] INFO [9b414] {restore} # Re-creating document collection 'Items'...\n",
      "\u001b[0m\u001b[0m2021-06-17T08:42:10Z [117809] INFO [9b414] {restore} # Re-creating document collection 'modelparams'...\n",
      "\u001b[0m\u001b[0m2021-06-17T08:42:11Z [117809] INFO [9b414] {restore} # Re-creating document collection 'models'...\n",
      "\u001b[0m\u001b[0m2021-06-17T08:42:12Z [117809] INFO [9b414] {restore} # Re-creating document collection 'project'...\n",
      "\u001b[0m\u001b[0m2021-06-17T08:42:13Z [117809] INFO [9b414] {restore} # Re-creating document collection 'run'...\n",
      "\u001b[0m\u001b[0m2021-06-17T08:42:14Z [117809] INFO [9b414] {restore} # Re-creating document collection 'servingperf'...\n",
      "\u001b[0m\u001b[0m2021-06-17T08:42:14Z [117809] INFO [9b414] {restore} # Re-creating edge collection 'deployment_featureset'...\n",
      "\u001b[0m\u001b[0m2021-06-17T08:42:15Z [117809] INFO [9b414] {restore} # Re-creating edge collection 'deployment_model'...\n",
      "\u001b[0m\u001b[0m2021-06-17T08:42:16Z [117809] INFO [9b414] {restore} # Re-creating edge collection 'deployment_modelparams'...\n",
      "\u001b[0m\u001b[0m2021-06-17T08:42:17Z [117809] INFO [9b414] {restore} # Re-creating edge collection 'deployment_servingperf'...\n",
      "\u001b[0m\u001b[0m2021-06-17T08:42:17Z [117809] INFO [9b414] {restore} # Re-creating edge collection 'featureset_dataset'...\n",
      "\u001b[0m\u001b[0m2021-06-17T08:42:18Z [117809] INFO [9b414] {restore} # Re-creating edge collection 'project_models'...\n",
      "\u001b[0m\u001b[0m2021-06-17T08:42:19Z [117809] INFO [9b414] {restore} # Re-creating edge collection 'Purchases'...\n",
      "\u001b[0m\u001b[0m2021-06-17T08:42:19Z [117809] INFO [9b414] {restore} # Re-creating edge collection 'run_datasets'...\n",
      "\u001b[0m\u001b[0m2021-06-17T08:42:20Z [117809] INFO [9b414] {restore} # Re-creating edge collection 'run_devperf'...\n",
      "\u001b[0m\u001b[0m2021-06-17T08:42:21Z [117809] INFO [9b414] {restore} # Re-creating edge collection 'run_featuresets'...\n",
      "\u001b[0m\u001b[0m2021-06-17T08:42:22Z [117809] INFO [9b414] {restore} # Re-creating edge collection 'run_modelparams'...\n",
      "\u001b[0m\u001b[0m2021-06-17T08:42:23Z [117809] INFO [9b414] {restore} # Re-creating edge collection 'run_models'...\n",
      "\u001b[0m\u001b[0m2021-06-17T08:42:24Z [117809] INFO [6d69f] {restore} # Dispatched 23 job(s), using 2 worker(s)\n",
      "\u001b[0m\u001b[0m2021-06-17T08:42:24Z [117809] INFO [94913] {restore} # Loading data into document collection 'Customers', data size: 4354 byte(s)\n",
      "\u001b[0m\u001b[0m2021-06-17T08:42:24Z [117809] INFO [94913] {restore} # Loading data into document collection 'datasets', data size: 212 byte(s)\n",
      "\u001b[0m\u001b[0m2021-06-17T08:42:24Z [117809] INFO [6ae09] {restore} # Successfully restored document collection 'datasets'\n",
      "\u001b[0m\u001b[0m2021-06-17T08:42:24Z [117809] INFO [94913] {restore} # Loading data into document collection 'deployment', data size: 20 byte(s)\n",
      "\u001b[0m\u001b[0m2021-06-17T08:42:24Z [117809] INFO [6ae09] {restore} # Successfully restored document collection 'deployment'\n",
      "\u001b[0m\u001b[0m2021-06-17T08:42:24Z [117809] INFO [94913] {restore} # Loading data into document collection 'devperf', data size: 522 byte(s)\n",
      "\u001b[0m\u001b[0m2021-06-17T08:42:25Z [117809] INFO [6ae09] {restore} # Successfully restored document collection 'devperf'\n",
      "\u001b[0m\u001b[0m2021-06-17T08:42:25Z [117809] INFO [6ae09] {restore} # Successfully restored document collection 'Customers'\n",
      "\u001b[0m\u001b[0m2021-06-17T08:42:25Z [117809] INFO [94913] {restore} # Loading data into document collection 'featuresets', data size: 226 byte(s)\n",
      "\u001b[0m\u001b[0m2021-06-17T08:42:25Z [117809] INFO [94913] {restore} # Loading data into document collection 'Items', data size: 835 byte(s)\n",
      "\u001b[0m\u001b[0m2021-06-17T08:42:26Z [117809] INFO [6ae09] {restore} # Successfully restored document collection 'featuresets'\n",
      "\u001b[0m\u001b[0m2021-06-17T08:42:26Z [117809] INFO [6ae09] {restore} # Successfully restored document collection 'Items'\n",
      "\u001b[0m\u001b[0m2021-06-17T08:42:26Z [117809] INFO [94913] {restore} # Loading data into document collection 'modelparams', data size: 219 byte(s)\n",
      "\u001b[0m\u001b[0m2021-06-17T08:42:26Z [117809] INFO [94913] {restore} # Loading data into document collection 'models', data size: 216 byte(s)\n",
      "\u001b[0m\u001b[0m2021-06-17T08:42:26Z [117809] INFO [6ae09] {restore} # Successfully restored document collection 'modelparams'\n",
      "\u001b[0m\u001b[0m2021-06-17T08:42:26Z [117809] INFO [6ae09] {restore} # Successfully restored document collection 'models'\n",
      "\u001b[0m\u001b[0m2021-06-17T08:42:26Z [117809] INFO [94913] {restore} # Loading data into document collection 'project', data size: 125 byte(s)\n",
      "\u001b[0m\u001b[0m2021-06-17T08:42:26Z [117809] INFO [94913] {restore} # Loading data into document collection 'run', data size: 230 byte(s)\n",
      "\u001b[0m\u001b[0m2021-06-17T08:42:26Z [117809] INFO [6ae09] {restore} # Successfully restored document collection 'project'\n",
      "\u001b[0m\u001b[0m2021-06-17T08:42:26Z [117809] INFO [94913] {restore} # Loading data into document collection 'servingperf', data size: 20 byte(s)\n",
      "\u001b[0m\u001b[0m2021-06-17T08:42:26Z [117809] INFO [6ae09] {restore} # Successfully restored document collection 'run'\n",
      "\u001b[0m\u001b[0m2021-06-17T08:42:26Z [117809] INFO [6ae09] {restore} # Successfully restored document collection 'servingperf'\n",
      "\u001b[0m\u001b[0m2021-06-17T08:42:26Z [117809] INFO [94913] {restore} # Loading data into edge collection 'deployment_featureset', data size: 20 byte(s)\n",
      "\u001b[0m\u001b[0m2021-06-17T08:42:26Z [117809] INFO [94913] {restore} # Loading data into edge collection 'deployment_model', data size: 20 byte(s)\n",
      "\u001b[0m\u001b[0m2021-06-17T08:42:26Z [117809] INFO [6ae09] {restore} # Successfully restored edge collection 'deployment_featureset'\n",
      "\u001b[0m\u001b[0m2021-06-17T08:42:26Z [117809] INFO [6ae09] {restore} # Successfully restored edge collection 'deployment_model'\n",
      "\u001b[0m\u001b[0m2021-06-17T08:42:26Z [117809] INFO [94913] {restore} # Loading data into edge collection 'deployment_modelparams', data size: 20 byte(s)\n",
      "\u001b[0m\u001b[0m2021-06-17T08:42:26Z [117809] INFO [94913] {restore} # Loading data into edge collection 'deployment_servingperf', data size: 20 byte(s)\n",
      "\u001b[0m\u001b[0m2021-06-17T08:42:26Z [117809] INFO [6ae09] {restore} # Successfully restored edge collection 'deployment_modelparams'\n",
      "\u001b[0m\u001b[0m2021-06-17T08:42:26Z [117809] INFO [6ae09] {restore} # Successfully restored edge collection 'deployment_servingperf'\n",
      "\u001b[0m\u001b[0m2021-06-17T08:42:26Z [117809] INFO [94913] {restore} # Loading data into edge collection 'featureset_dataset', data size: 129 byte(s)\n",
      "\u001b[0m\u001b[0m2021-06-17T08:42:26Z [117809] INFO [94913] {restore} # Loading data into edge collection 'project_models', data size: 152 byte(s)\n",
      "\u001b[0m\u001b[0m2021-06-17T08:42:26Z [117809] INFO [6ae09] {restore} # Successfully restored edge collection 'project_models'\n",
      "\u001b[0m\u001b[0m2021-06-17T08:42:26Z [117809] INFO [6ae09] {restore} # Successfully restored edge collection 'featureset_dataset'\n",
      "\u001b[0m\u001b[0m2021-06-17T08:42:26Z [117809] INFO [94913] {restore} # Loading data into edge collection 'run_datasets', data size: 197 byte(s)\n",
      "\u001b[0m\u001b[0m2021-06-17T08:42:26Z [117809] INFO [94913] {restore} # Loading data into edge collection 'Purchases', data size: 75529 byte(s)\n",
      "\u001b[0m\u001b[0m2021-06-17T08:42:26Z [117809] INFO [6ae09] {restore} # Successfully restored edge collection 'run_datasets'\n",
      "\u001b[0m\u001b[0m2021-06-17T08:42:26Z [117809] INFO [94913] {restore} # Loading data into edge collection 'run_devperf', data size: 203 byte(s)\n",
      "\u001b[0m\u001b[0m2021-06-17T08:42:27Z [117809] INFO [6ae09] {restore} # Successfully restored edge collection 'run_devperf'\n",
      "\u001b[0m\u001b[0m2021-06-17T08:42:27Z [117809] INFO [94913] {restore} # Loading data into edge collection 'run_featuresets', data size: 201 byte(s)\n",
      "\u001b[0m\u001b[0m2021-06-17T08:42:27Z [117809] INFO [6ae09] {restore} # Successfully restored edge collection 'run_featuresets'\n",
      "\u001b[0m\u001b[0m2021-06-17T08:42:27Z [117809] INFO [94913] {restore} # Loading data into edge collection 'run_modelparams', data size: 207 byte(s)\n"
     ]
    },
    {
     "name": "stdout",
     "output_type": "stream",
     "text": [
      "\u001b[0m\u001b[0m2021-06-17T08:42:27Z [117809] INFO [6ae09] {restore} # Successfully restored edge collection 'run_modelparams'\n",
      "\u001b[0m\u001b[0m2021-06-17T08:42:27Z [117809] INFO [94913] {restore} # Loading data into edge collection 'run_models', data size: 206 byte(s)\n",
      "\u001b[0m\u001b[0m2021-06-17T08:42:27Z [117809] INFO [6ae09] {restore} # Successfully restored edge collection 'run_models'\n",
      "\u001b[0m\u001b[0m2021-06-17T08:42:29Z [117809] INFO [6ae09] {restore} # Successfully restored edge collection 'Purchases'\n",
      "\u001b[0m\u001b[0m2021-06-17T08:42:29Z [117809] INFO [a66e1] {restore} Processed 23 collection(s) in 26.790047 s, read 738550 byte(s) from datafiles, sent 17 data batch(es) of 738533 byte(s) total size\n",
      "\u001b[0m"
     ]
    }
   ],
   "source": [
    "# Restore an ArangoDB dump into the database.\n",
    "!./tools/arangorestore  -c none --server.endpoint  http+ssl://{login[\"DB_service_host\"]}:{login[\"DB_service_port\"]} --server.username {login[\"username\"]} \\\n",
    "--server.database {login[\"dbName\"]} \\\n",
    "--server.password {login[\"password\"]} \\\n",
    "--replication-factor 3  \\\n",
    "--input-directory \"data/retail_freq_cust_data_dump_eonb2\""
   ]
  },
  {
   "cell_type": "markdown",
   "metadata": {
    "id": "67j8k6e-VONE"
   },
   "source": [
    "## Create Networkx Graph from ArangoDB Graph\n",
    "\n",
    "For this excercise, we will use the features of the Networkx library to perform the descriptive characterization of the graph. To do so, we will need a Networkx representation of the frequent customer graph. This can be obtained using the Networkx Adapter. To create the networkx graph, we need to provide the Networkx adapter with the following information:\n",
    "1. Connection information to the ArangoDB database that contains the graph that we want to covert to a Networkx graph\n",
    "2. Structural information to create the graph. A description of the vertex and edge collections of the graph in ArangoDB need to be provided.\n",
    "\n",
    "When this information is supplied to the adapter, the adapter creates an instance of a NetworkX graph and returns it. This instance is used for the rest of the analysis in this excercise.\n"
   ]
  },
  {
   "cell_type": "code",
   "execution_count": 8,
   "metadata": {
    "id": "jfyCKdJ-pjza"
   },
   "outputs": [],
   "source": [
    "import networkx as nx\n",
    "from adbnx_adapter.arangoDB_networkx_adapter import ArangoDB_Networkx_Adapter\n",
    "\n",
    "# Specify the connection to the ArangoDB Database\n",
    "con = {'dbName': login[\"dbName\"],\n",
    " 'username': login[\"username\"],\n",
    " 'password': login[\"password\"],\n",
    " 'hostname': login[\"DB_service_host\"],\n",
    " 'port': login[\"DB_service_port\"]}\n",
    "\n",
    "# Create Adapter instance\n",
    "ma = ArangoDB_Networkx_Adapter(conn = con)\n",
    "\n",
    "freq_customers = {'vertexCollections': {'Customers': {},\n",
    "                                         'Items': {}},\n",
    "                   'edgeCollections': {'Purchases': {'_from', '_to', 'spend'}}}\n",
    "\n",
    "# Export networkX graph                                  \n",
    "g = ma.create_networkx_graph(graph_name = '',  graph_attributes = freq_customers)\n"
   ]
  },
  {
   "cell_type": "markdown",
   "metadata": {
    "id": "XJWpFl41zKcL"
   },
   "source": [
    "## Generate Vertex and Edge Characteristics\n",
    "\n",
    "In this section, the vertex and edge characteristics of frequent customer bi-partite graph are computed.\n",
    "\n",
    "To begin with we will compute the summary statistics of the bi-partite graph and we will generate the degree distribution of the two vertex sets, the customer and the item vertex sets for this graph. The details of performing this with Networkx are shown below. \n",
    "\n",
    "\n"
   ]
  },
  {
   "cell_type": "markdown",
   "metadata": {
    "id": "mvXc4Wh7-GNT"
   },
   "source": [
    "### Compute summary statistics for the bi-partite graph"
   ]
  },
  {
   "cell_type": "code",
   "execution_count": 9,
   "metadata": {
    "id": "jUQ_y9eW63Wp"
   },
   "outputs": [],
   "source": [
    "gp = g.to_undirected()"
   ]
  },
  {
   "cell_type": "code",
   "execution_count": 10,
   "metadata": {
    "id": "qdaTBIXT4hOH"
   },
   "outputs": [],
   "source": [
    "cust_nodes = [n for n in g.nodes() if n.startswith(\"Customers\")]\n",
    "item_nodes = [n for n in g.nodes() if n.startswith(\"Items\")]"
   ]
  },
  {
   "cell_type": "code",
   "execution_count": 11,
   "metadata": {
    "colab": {
     "base_uri": "https://localhost:8080/"
    },
    "id": "hWxxHLaI4ipS",
    "outputId": "a8bdd2be-545a-490d-8749-05553f630e25"
   },
   "outputs": [
    {
     "data": {
      "text/plain": [
       "447"
      ]
     },
     "execution_count": 11,
     "metadata": {},
     "output_type": "execute_result"
    }
   ],
   "source": [
    "len(cust_nodes)"
   ]
  },
  {
   "cell_type": "code",
   "execution_count": 12,
   "metadata": {
    "colab": {
     "base_uri": "https://localhost:8080/"
    },
    "id": "CGf9Si2d4-GC",
    "outputId": "3865e35c-d8cf-4f0a-83fe-7530f753628e"
   },
   "outputs": [
    {
     "data": {
      "text/plain": [
       "75"
      ]
     },
     "execution_count": 12,
     "metadata": {},
     "output_type": "execute_result"
    }
   ],
   "source": [
    "len(item_nodes)"
   ]
  },
  {
   "cell_type": "code",
   "execution_count": 13,
   "metadata": {
    "colab": {
     "base_uri": "https://localhost:8080/"
    },
    "id": "MkB7qoiVAMST",
    "outputId": "68c11b1c-178c-4044-c45c-00d729a6f02c"
   },
   "outputs": [
    {
     "data": {
      "text/plain": [
       "4475"
      ]
     },
     "execution_count": 13,
     "metadata": {},
     "output_type": "execute_result"
    }
   ],
   "source": [
    "len(g.edges())"
   ]
  },
  {
   "cell_type": "code",
   "execution_count": 14,
   "metadata": {
    "colab": {
     "base_uri": "https://localhost:8080/"
    },
    "id": "GVvvEr_H7iRW",
    "outputId": "702c7c1b-d0ac-4df2-df36-39d5df4db0ff"
   },
   "outputs": [
    {
     "data": {
      "text/plain": [
       "False"
      ]
     },
     "execution_count": 14,
     "metadata": {},
     "output_type": "execute_result"
    }
   ],
   "source": [
    "gp.is_directed()"
   ]
  },
  {
   "cell_type": "markdown",
   "metadata": {
    "id": "c8y9l_xAA3mR"
   },
   "source": [
    "### Compute Distributions of Customer and Item Vertex Sets\n",
    "We first create a bi-partite version of the graph in networkx. The earlier graph did not discriminate the type of the node. We do that now using the bi-partite graph abstraction available in networkx."
   ]
  },
  {
   "cell_type": "code",
   "execution_count": 15,
   "metadata": {
    "id": "1LHam5ea9Yp9"
   },
   "outputs": [],
   "source": [
    "import networkx as nx\n",
    "B = nx.Graph()\n",
    "B.add_nodes_from(cust_nodes, bipartite=0)\n",
    "B.add_nodes_from(item_nodes, bipartite=1)\n",
    "B.add_edges_from(list(gp.edges()))"
   ]
  },
  {
   "cell_type": "code",
   "execution_count": 16,
   "metadata": {
    "id": "fH_e-XSCBzRS"
   },
   "outputs": [],
   "source": [
    "from networkx.algorithms import bipartite\n",
    "degc, degi = bipartite.degrees(B, item_nodes)\n",
    "dc = [v for k,v in degc]\n",
    "di = [v for k,v in degi]"
   ]
  },
  {
   "cell_type": "markdown",
   "metadata": {
    "id": "-ej8UNHSIEJp"
   },
   "source": [
    "#### Customer Degree Distribution"
   ]
  },
  {
   "cell_type": "code",
   "execution_count": 17,
   "metadata": {
    "colab": {
     "base_uri": "https://localhost:8080/",
     "height": 605
    },
    "id": "ugD1w94xB_OQ",
    "outputId": "cb64e11b-dd4e-4601-8ed6-08b76a243a66"
   },
   "outputs": [
    {
     "data": {
      "text/plain": [
       "Text(0.5, 0, 'Customer Degree')"
      ]
     },
     "execution_count": 17,
     "metadata": {},
     "output_type": "execute_result"
    },
    {
     "data": {
      "image/png": "[encoded data removed]",
      "text/plain": [
       "<Figure size 842.4x595.44 with 1 Axes>"
      ]
     },
     "metadata": {},
     "output_type": "display_data"
    }
   ],
   "source": [
    "import seaborn as sns\n",
    "import matplotlib.pyplot as plt\n",
    "sns.set(rc={'figure.figsize':(11.7,8.27)})\n",
    "ax = sns.distplot(dc, hist = True)\n",
    "plt.title(\"Distribution of Customer Degree \")\n",
    "plt.xlabel(\"Customer Degree\")"
   ]
  },
  {
   "cell_type": "markdown",
   "metadata": {
    "id": "BIxTXFdrIIVU"
   },
   "source": [
    "#### Item Degree Distribution"
   ]
  },
  {
   "cell_type": "code",
   "execution_count": 18,
   "metadata": {
    "colab": {
     "base_uri": "https://localhost:8080/",
     "height": 605
    },
    "id": "Ex4Ks2qPCdt_",
    "outputId": "09f623e4-e99a-4fea-be61-157932238e6f"
   },
   "outputs": [
    {
     "data": {
      "text/plain": [
       "Text(0.5, 0, 'Item Degree')"
      ]
     },
     "execution_count": 18,
     "metadata": {},
     "output_type": "execute_result"
    },
    {
     "data": {
      "image/png": "[encoded data removed]",
      "text/plain": [
       "<Figure size 842.4x595.44 with 1 Axes>"
      ]
     },
     "metadata": {},
     "output_type": "display_data"
    }
   ],
   "source": [
    "sns.set(rc={'figure.figsize':(11.7,8.27)})\n",
    "ax = sns.distplot(di, hist = True)\n",
    "plt.title(\"Distribution of Item Degree \")\n",
    "plt.xlabel(\"Item Degree\")"
   ]
  },
  {
   "cell_type": "code",
   "execution_count": 19,
   "metadata": {
    "id": "46I1hWd7CmH5"
   },
   "outputs": [],
   "source": [
    "ci = bipartite.clustering(B, item_nodes)"
   ]
  },
  {
   "cell_type": "code",
   "execution_count": 20,
   "metadata": {
    "id": "7dwqP9_yFqaM"
   },
   "outputs": [],
   "source": [
    "cv = [v for k, v in ci.items()]"
   ]
  },
  {
   "cell_type": "code",
   "execution_count": 21,
   "metadata": {
    "colab": {
     "base_uri": "https://localhost:8080/",
     "height": 605
    },
    "id": "yAL-ZAv9DMrL",
    "outputId": "270cd333-2452-497f-fa88-f5af600bcf27"
   },
   "outputs": [
    {
     "data": {
      "text/plain": [
       "Text(0.5, 0, 'Item Clustering Coefficient')"
      ]
     },
     "execution_count": 21,
     "metadata": {},
     "output_type": "execute_result"
    },
    {
     "data": {
      "image/png": "[encoded data removed]",
      "text/plain": [
       "<Figure size 842.4x595.44 with 1 Axes>"
      ]
     },
     "metadata": {},
     "output_type": "display_data"
    }
   ],
   "source": [
    "sns.set(rc={'figure.figsize':(11.7,8.27)})\n",
    "ax = sns.distplot(cv, hist = True)\n",
    "plt.title(\"Distribution of Item Clustering \")\n",
    "plt.xlabel(\"Item Clustering Coefficient\")"
   ]
  },
  {
   "cell_type": "markdown",
   "metadata": {
    "id": "l8LRI6esGY48"
   },
   "source": [
    "### Observations\n",
    "\n",
    "\n",
    "1.   Random networks do not display clustering tendencies. An examination of the clustering coefficients associated with the item nodes clearly shows clustering tendencies. Therefore, this elminates a random graph as a possible genrative model for this graph.\n",
    "2.   The degree distribution for the customer and item nodes are non-monotonic as would be observed if either of these nodes show scale-free or power law behavior. In such a case a small set of nodes will act as hubs and have very high degress while most nodes have low degrees. Instead what we observe is that most nodes have similar degrees and a small set of nodes corresponding to both tails have either small or high degrees. This is consistent with _small world networks_ .\n",
    "3. This implies that most customers buy about the same range of items. For example, a review of the item degree graph shows that most items are bought between 25-75 people, but there a few items that are bought by many people and a few items that are not bought by many people.\n",
    "\n"
   ]
  },
  {
   "cell_type": "markdown",
   "metadata": {
    "id": "uDmM8mW6M7Wq"
   },
   "source": [
    "## Projection Graphs\n",
    "The other perspective in characterizing bipartite graphs are the characteristics of the projection graphs. The notion of the projection graph was described in the methodological overview section. We will now generate this projections for the frequent shopper group."
   ]
  },
  {
   "cell_type": "code",
   "execution_count": 22,
   "metadata": {
    "id": "OeUcdsHcH08C"
   },
   "outputs": [],
   "source": [
    "cust_graph = nx.bipartite.projected_graph(B, cust_nodes)\n",
    "item_graph = nx.bipartite.projected_graph(B, item_nodes)"
   ]
  },
  {
   "cell_type": "markdown",
   "metadata": {
    "id": "SBApbM4hOF51"
   },
   "source": [
    "### Observations\n",
    "In the customer projection graph, two nodes are connected if they have purchased an item in common. Similarly, in the item projection graph, two items are connected if they have been purchased by a customer. This implies\n",
    "\n",
    "\n",
    "1.   The customer projection graph captures shared customer taste in purchases. If we pick any random node in the customer projection graph, then the users who are connected by an edge to him or her are those who share at least one purchase. A user who does not share an edge with a user is one whose shopping preferences are different. \n",
    "2.   The item projection graph captures copurchased behavior in items. If two items are connected in the item projection graph, it implies that these items were purchased by a customer. If we pick a random item in the item projection graph, following the edges connected to it tells us the items purchased with it. Items not connected to it are not purchased with it.\n",
    "\n",
    "\n"
   ]
  },
  {
   "cell_type": "markdown",
   "metadata": {
    "id": "xiNx2nzIS2K1"
   },
   "source": [
    "#### Degree distribution of Customer Graph"
   ]
  },
  {
   "cell_type": "code",
   "execution_count": 23,
   "metadata": {
    "id": "FCKws03BQPRY"
   },
   "outputs": [],
   "source": [
    "dc = nx.degree(cust_graph)\n",
    "dcv = [ v for k, v in dc]"
   ]
  },
  {
   "cell_type": "code",
   "execution_count": 24,
   "metadata": {
    "colab": {
     "base_uri": "https://localhost:8080/",
     "height": 605
    },
    "id": "idJnnF7GTDIL",
    "outputId": "1005b7bf-dfe8-4269-86a5-da83f4c24c17"
   },
   "outputs": [
    {
     "data": {
      "text/plain": [
       "Text(0.5, 0, 'Degree Distribution of Customer Projection Graph')"
      ]
     },
     "execution_count": 24,
     "metadata": {},
     "output_type": "execute_result"
    },
    {
     "data": {
      "image/png": "[encoded data removed]",
      "text/plain": [
       "<Figure size 842.4x595.44 with 1 Axes>"
      ]
     },
     "metadata": {},
     "output_type": "display_data"
    }
   ],
   "source": [
    "sns.set(rc={'figure.figsize':(11.7,8.27)})\n",
    "ax = sns.distplot(dcv, hist = True)\n",
    "plt.title(\"Degree distribution of Customer Graph \")\n",
    "plt.xlabel(\"Degree Distribution of Customer Projection Graph\")"
   ]
  },
  {
   "cell_type": "markdown",
   "metadata": {
    "id": "pqWEKW2BVBhk"
   },
   "source": [
    "#### Observation\n",
    "The frequent shopper group has a very high degree of shared taste. If we pick a random user in the graph, he or she is connected to hundreds (the peak density is at around 350) of other users. This implies they have a similar taste in products they purchase."
   ]
  },
  {
   "cell_type": "markdown",
   "metadata": {
    "id": "W_WTaRalULK9"
   },
   "source": [
    "#### Degree Distribution of the Item Projection Graph"
   ]
  },
  {
   "cell_type": "code",
   "execution_count": 25,
   "metadata": {
    "id": "t-oZD8dGV7aR"
   },
   "outputs": [],
   "source": [
    "di = nx.degree(item_graph)\n",
    "div = [ v for k, v in di]"
   ]
  },
  {
   "cell_type": "code",
   "execution_count": 26,
   "metadata": {
    "colab": {
     "base_uri": "https://localhost:8080/",
     "height": 605
    },
    "id": "MVrYtPdaWHdN",
    "outputId": "c3571221-52cb-4062-9c7b-27e2e0f60852"
   },
   "outputs": [
    {
     "data": {
      "text/plain": [
       "Text(0.5, 0, 'Degree Distribution of Item Projection Graph')"
      ]
     },
     "execution_count": 26,
     "metadata": {},
     "output_type": "execute_result"
    },
    {
     "data": {
      "image/png": "[encoded data removed]",
      "text/plain": [
       "<Figure size 842.4x595.44 with 1 Axes>"
      ]
     },
     "metadata": {},
     "output_type": "display_data"
    }
   ],
   "source": [
    "sns.set(rc={'figure.figsize':(11.7,8.27)})\n",
    "ax = sns.distplot(div, hist = True)\n",
    "plt.title(\"Degree distribution of Item Projection Graph \")\n",
    "plt.xlabel(\"Degree Distribution of Item Projection Graph\")"
   ]
  },
  {
   "cell_type": "markdown",
   "metadata": {
    "id": "fYK_WhgwYlyC"
   },
   "source": [
    "#### Observation\n",
    "Similar to the projection graph for the customer, the projection graph for the items show a very high degree of co-purchasing behavior. If we pick any random item it is bound to be purchased with most of the other items in the store.\n",
    "\n",
    "### Observation\n",
    "Since it is not uncommon to have nodes with high degrees in both the customer and item projection graph, we should expect to see cliques in this graph.\n",
    "\n"
   ]
  },
  {
   "cell_type": "markdown",
   "metadata": {
    "id": "XWDdjlTSg2an"
   },
   "source": [
    "#### Observation\n",
    "Since the customer and item projection graph are highly interconnected and since we know we are not working with a power law graph, we don't explore centraility measures. We know that most users and items have a similar range of degrees.\n"
   ]
  },
  {
   "cell_type": "markdown",
   "metadata": {
    "id": "4uJA1Nw8fDEE"
   },
   "source": [
    "## Network Cohesion\n",
    "\n",
    "We described the vertex and edge characteristics of the graph representation associated with the frequent shopper group. In doing so, we already discovered that this group is homogeneous with a lot of shared taste. The other perspective to characterize the graph is a description of cohesion. We will do that in this section."
   ]
  },
  {
   "cell_type": "markdown",
   "metadata": {
    "id": "mhRNRlCjka2y"
   },
   "source": [
    "#### Connected Components\n",
    "A fundamental question to determine the answer to is: \"Is the customer projection graph connected?\" This asks if we starting with any user we can reach another user in the projection graph. If we can reach this user in one hop, it means the user shares shopping preference with the user we are starting with. If need two hops, it means there is no shared taste, but someone who the starting user shares taste with shares taste with this user. Can every customer in the frequent shopper group be related this way? Are there exceptions? We can find the answer by determining the connected components of the customer projection graph. This done below"
   ]
  },
  {
   "cell_type": "markdown",
   "metadata": {
    "id": "qj9lzFgKl5XJ"
   },
   "source": [
    "##### Check if the customer projection graph is connected"
   ]
  },
  {
   "cell_type": "code",
   "execution_count": 27,
   "metadata": {
    "colab": {
     "base_uri": "https://localhost:8080/"
    },
    "id": "lNluSqChZpUo",
    "outputId": "8a0a5aeb-4bda-4ce6-aa63-a3e154f16b12"
   },
   "outputs": [
    {
     "data": {
      "text/plain": [
       "False"
      ]
     },
     "execution_count": 27,
     "metadata": {},
     "output_type": "execute_result"
    }
   ],
   "source": [
    "nx.is_connected(cust_graph)"
   ]
  },
  {
   "cell_type": "markdown",
   "metadata": {
    "id": "-NC_kLlXmAUi"
   },
   "source": [
    "#### Idenfify the connected components for the customer projected graph"
   ]
  },
  {
   "cell_type": "code",
   "execution_count": 28,
   "metadata": {
    "colab": {
     "base_uri": "https://localhost:8080/"
    },
    "id": "C60iz2mtjm2f",
    "outputId": "0715a83d-b985-40c5-d638-801e47302533"
   },
   "outputs": [
    {
     "data": {
      "text/plain": [
       "[437, 1, 1, 1, 1, 1, 1, 1, 1, 1, 1]"
      ]
     },
     "execution_count": 28,
     "metadata": {},
     "output_type": "execute_result"
    }
   ],
   "source": [
    "[len(c) for c in sorted(nx.connected_components(cust_graph), key=len, reverse=True)]"
   ]
  },
  {
   "cell_type": "markdown",
   "metadata": {
    "id": "nXbsN-_z6Zq8"
   },
   "source": [
    "### Store the Customer and Item Projected Graph for Analysis\n",
    "\n",
    "These graphs will be analyzed in the next excercise."
   ]
  },
  {
   "cell_type": "code",
   "execution_count": 29,
   "metadata": {
    "colab": {
     "base_uri": "https://localhost:8080/",
     "height": 198
    },
    "id": "NizN3qDacVPP",
    "outputId": "4127d9db-4589-4c67-a9a7-cd5180131bfc"
   },
   "outputs": [
    {
     "data": {
      "text/html": [
       "<div>\n",
       "<style scoped>\n",
       "    .dataframe tbody tr th:only-of-type {\n",
       "        vertical-align: middle;\n",
       "    }\n",
       "\n",
       "    .dataframe tbody tr th {\n",
       "        vertical-align: top;\n",
       "    }\n",
       "\n",
       "    .dataframe thead th {\n",
       "        text-align: right;\n",
       "    }\n",
       "</style>\n",
       "<table border=\"1\" class=\"dataframe\">\n",
       "  <thead>\n",
       "    <tr style=\"text-align: right;\">\n",
       "      <th></th>\n",
       "      <th>source</th>\n",
       "      <th>target</th>\n",
       "    </tr>\n",
       "  </thead>\n",
       "  <tbody>\n",
       "    <tr>\n",
       "      <th>0</th>\n",
       "      <td>Customers/18237</td>\n",
       "      <td>Customers/14719</td>\n",
       "    </tr>\n",
       "    <tr>\n",
       "      <th>1</th>\n",
       "      <td>Customers/18237</td>\n",
       "      <td>Customers/17068</td>\n",
       "    </tr>\n",
       "    <tr>\n",
       "      <th>2</th>\n",
       "      <td>Customers/18237</td>\n",
       "      <td>Customers/15910</td>\n",
       "    </tr>\n",
       "    <tr>\n",
       "      <th>3</th>\n",
       "      <td>Customers/18237</td>\n",
       "      <td>Customers/17690</td>\n",
       "    </tr>\n",
       "    <tr>\n",
       "      <th>4</th>\n",
       "      <td>Customers/18237</td>\n",
       "      <td>Customers/15271</td>\n",
       "    </tr>\n",
       "  </tbody>\n",
       "</table>\n",
       "</div>"
      ],
      "text/plain": [
       "            source           target\n",
       "0  Customers/18237  Customers/14719\n",
       "1  Customers/18237  Customers/17068\n",
       "2  Customers/18237  Customers/15910\n",
       "3  Customers/18237  Customers/17690\n",
       "4  Customers/18237  Customers/15271"
      ]
     },
     "execution_count": 29,
     "metadata": {},
     "output_type": "execute_result"
    }
   ],
   "source": [
    "df_cgraph_comp1 = nx.to_pandas_edgelist(cust_graph.subgraph(next(nx.connected_components(cust_graph))))\n",
    "fp = \"data/customer_projected_graph.csv\"\n",
    "df_cgraph_comp1.to_csv(fp, index = False)\n",
    "df_cgraph_comp1.head()"
   ]
  },
  {
   "cell_type": "code",
   "execution_count": 30,
   "metadata": {
    "colab": {
     "base_uri": "https://localhost:8080/",
     "height": 198
    },
    "id": "Tx4YaryA6F4z",
    "outputId": "962fb096-1e1b-44a3-b160-390a5f5dcf83"
   },
   "outputs": [
    {
     "data": {
      "text/html": [
       "<div>\n",
       "<style scoped>\n",
       "    .dataframe tbody tr th:only-of-type {\n",
       "        vertical-align: middle;\n",
       "    }\n",
       "\n",
       "    .dataframe tbody tr th {\n",
       "        vertical-align: top;\n",
       "    }\n",
       "\n",
       "    .dataframe thead th {\n",
       "        text-align: right;\n",
       "    }\n",
       "</style>\n",
       "<table border=\"1\" class=\"dataframe\">\n",
       "  <thead>\n",
       "    <tr style=\"text-align: right;\">\n",
       "      <th></th>\n",
       "      <th>source</th>\n",
       "      <th>target</th>\n",
       "    </tr>\n",
       "  </thead>\n",
       "  <tbody>\n",
       "    <tr>\n",
       "      <th>0</th>\n",
       "      <td>Items/22771</td>\n",
       "      <td>Items/23407</td>\n",
       "    </tr>\n",
       "    <tr>\n",
       "      <th>1</th>\n",
       "      <td>Items/22771</td>\n",
       "      <td>Items/22197</td>\n",
       "    </tr>\n",
       "    <tr>\n",
       "      <th>2</th>\n",
       "      <td>Items/22771</td>\n",
       "      <td>Items/84879</td>\n",
       "    </tr>\n",
       "    <tr>\n",
       "      <th>3</th>\n",
       "      <td>Items/22771</td>\n",
       "      <td>Items/22386</td>\n",
       "    </tr>\n",
       "    <tr>\n",
       "      <th>4</th>\n",
       "      <td>Items/22771</td>\n",
       "      <td>Items/23078</td>\n",
       "    </tr>\n",
       "  </tbody>\n",
       "</table>\n",
       "</div>"
      ],
      "text/plain": [
       "        source       target\n",
       "0  Items/22771  Items/23407\n",
       "1  Items/22771  Items/22197\n",
       "2  Items/22771  Items/84879\n",
       "3  Items/22771  Items/22386\n",
       "4  Items/22771  Items/23078"
      ]
     },
     "execution_count": 30,
     "metadata": {},
     "output_type": "execute_result"
    }
   ],
   "source": [
    "df_item_graph = nx.to_pandas_edgelist(item_graph)\n",
    "fp = \"data/customer_projected_graph.csv\"\n",
    "df_item_graph.to_csv(fp, index = False)\n",
    "df_item_graph.head()"
   ]
  },
  {
   "cell_type": "code",
   "execution_count": null,
   "metadata": {
    "colab": {
     "base_uri": "https://localhost:8080/"
    },
    "id": "r3bkR7UrwKah",
    "outputId": "443d6678-47b9-43eb-dd14-53a15aa41ee2"
   },
   "outputs": [],
   "source": []
  },
  {
   "cell_type": "markdown",
   "metadata": {
    "id": "P3nFYj8amake"
   },
   "source": [
    "### Observation\n",
    "There is a large group of customers (437) whose shopping tastes are related and a group of ten customers who are outliers. These ten customers have shopping taste that is different from the other group with related taste.\n"
   ]
  },
  {
   "cell_type": "markdown",
   "metadata": {
    "id": "9ni3ZXCZpYBE"
   },
   "source": [
    "#### Check if the item projection graph is connected"
   ]
  },
  {
   "cell_type": "code",
   "execution_count": 31,
   "metadata": {
    "colab": {
     "base_uri": "https://localhost:8080/"
    },
    "id": "B15BssLimlk5",
    "outputId": "31d5e93b-774a-438e-9804-2b9c10ca04fc"
   },
   "outputs": [
    {
     "data": {
      "text/plain": [
       "True"
      ]
     },
     "execution_count": 31,
     "metadata": {},
     "output_type": "execute_result"
    }
   ],
   "source": [
    "nx.is_connected(item_graph)"
   ]
  },
  {
   "cell_type": "markdown",
   "metadata": {
    "id": "k6u3cCrkpipf"
   },
   "source": [
    "##### Observation:\n",
    "This implies that item group can be related and there are no outliers like with the customers."
   ]
  },
  {
   "cell_type": "markdown",
   "metadata": {
    "id": "3sX2dkuAVKhz"
   },
   "source": [
    "### K Core \n",
    "Since the item and customer graph have high degrees associated with most nodes, we are likely to find cliques in both these projection graph. A clique is a graph where each node is conneted to the other nodes in the graph. A clique in the customer projection graph represent customers who buy the same items. The size of the clique captures the items they buy in common. Analogously, a clique in the item projection graph represents items that are purchased together. A clique can be identified using a K-Core of the graph. A K-Core of the graph represents a subgraph where the degree of each degree is at least K. To identify the largest clique we will start with the K set to the maximum degree and check if we can find a clique, if we cannot find a clique, we decrement K till we reach a K where a clique is found. The segments below illustrate this process for both the item and customer projection graphs.\n"
   ]
  },
  {
   "cell_type": "code",
   "execution_count": 32,
   "metadata": {
    "id": "a4LO5Zjvptur"
   },
   "outputs": [],
   "source": [
    "k = 400\n",
    "while True:\n",
    "  kg = nx.k_core(cust_graph, k)\n",
    "  if kg.number_of_nodes() > 0:\n",
    "    break\n",
    "  else:\n",
    "    k = k -1\n"
   ]
  },
  {
   "cell_type": "code",
   "execution_count": 33,
   "metadata": {
    "colab": {
     "base_uri": "https://localhost:8080/"
    },
    "id": "nH6Cd8mvNO6K",
    "outputId": "7ad7474d-beca-40b1-84da-47b578359dc8"
   },
   "outputs": [
    {
     "name": "stdout",
     "output_type": "stream",
     "text": [
      "Largest clique in customer graph is 224 \n"
     ]
    }
   ],
   "source": [
    "print(\"Largest clique in customer graph is {} \".format(k))"
   ]
  },
  {
   "cell_type": "markdown",
   "metadata": {
    "id": "eQkhsR23WrTS"
   },
   "source": [
    "### Observation:\n",
    "We can find a group of users where each user is similar to 224 users in terms of purchasing habbits."
   ]
  },
  {
   "cell_type": "code",
   "execution_count": 34,
   "metadata": {
    "colab": {
     "base_uri": "https://localhost:8080/"
    },
    "id": "1eC7OcV4Mojt",
    "outputId": "305d12f0-c4f4-4080-f939-c721bdc68931"
   },
   "outputs": [
    {
     "data": {
      "text/plain": [
       "288"
      ]
     },
     "execution_count": 34,
     "metadata": {},
     "output_type": "execute_result"
    }
   ],
   "source": [
    "kg.number_of_nodes()"
   ]
  },
  {
   "cell_type": "code",
   "execution_count": 35,
   "metadata": {
    "id": "F01gQmRJWI0k"
   },
   "outputs": [],
   "source": [
    "i = 75\n",
    "while True:\n",
    "  kg = nx.k_core(item_graph, i)\n",
    "  if kg.number_of_nodes() > 0:\n",
    "    break\n",
    "  else:\n",
    "    i = i -1"
   ]
  },
  {
   "cell_type": "code",
   "execution_count": 36,
   "metadata": {
    "colab": {
     "base_uri": "https://localhost:8080/"
    },
    "id": "DHbIObhkWZzv",
    "outputId": "a53c256b-78f9-488e-88b2-4de1494149c6"
   },
   "outputs": [
    {
     "name": "stdout",
     "output_type": "stream",
     "text": [
      "Largest clique in item graph is 67 \n"
     ]
    }
   ],
   "source": [
    "print(\"Largest clique in item graph is {} \".format(i))"
   ]
  },
  {
   "cell_type": "markdown",
   "metadata": {
    "id": "K0nMuaWlXEKR"
   },
   "source": [
    "### Observation:\n",
    "We can find a group of 67 items in the store that are purchased together."
   ]
  },
  {
   "cell_type": "markdown",
   "metadata": {
    "id": "ojNPs0cfGGQ_"
   },
   "source": [
    "## Summary of Identified Facts"
   ]
  },
  {
   "cell_type": "markdown",
   "metadata": {
    "id": "iUzzS0inAFdY"
   },
   "source": [
    "\n",
    "\n",
    "*   The customer and item degree distributions show non-monotonic behavior. Most nodes have similar degrees. A small group of nodes have high and low degrees. This is suggestive of small world behavior. If the degree distributions showed a monotonic character with a small number of nodes having high degrees (hubs) with others having smaller degrees, that would suggest a power law network. Since we observe clustering tendencies in the graph we know that the graphs are not random graphs (which have no clustering tendencies).\n",
    "*   The customer and item projection graphs represent shared shopping taste and co-purchasing behavior. Shared taste implies users buy similar items. Copurchasing behavior captures items that are purchased together. Both of these behaviors are critical information to the business.\n",
    "*  Users adjacent to a customer in the customer projection graph are the users with similar to the user.\n",
    "* Users non-adjacent (more than one hop away) are disimilar to the user.\n",
    "* Items adjacent to an item in the item projection graph are the items co-purchased with the items.\n",
    "* Items not adjacent (more than one hop away) are not purchased with the item.\n",
    "* Diameter of the user projection graph identifies the most disimilar users in terms of taste.\n",
    "* Diameter of the item graph identifies items that are most unlikely to be purchased together.\n",
    "* There are a group of 10 customers with unique tastes. They are the outliers in the customer group.\n",
    "* Most nodes in the customer and item projection graph have high degrees. This implies that these graphs have cliques.\n",
    "* Cliques in the customer graph identify cohorts of customers with shared taste. The clique size can be used to specify the shared taste.\n",
    "* Cliques in the item projection identify cohorts of items purchased together. The clique size can be used to quantify the co-purchasing behavior\n"
   ]
  },
  {
   "cell_type": "markdown",
   "metadata": {
    "id": "MqQLri5S6our"
   },
   "source": [
    "## Log the Modeling Activity in Arangopipe"
   ]
  },
  {
   "cell_type": "code",
   "execution_count": 37,
   "metadata": {
    "id": "EQRvMwxqXXZO"
   },
   "outputs": [],
   "source": [
    "ds_info = {\"name\" : \"Frequent_Customer_Graph\",\\\n",
    "            \"description\": \"Frequent Customer Graph of Retail Dataset\",\\\n",
    "           \"source\": \"ArangoDB dump of Retail from Notebook II\" }\n",
    "ds_reg = ap.register_dataset(ds_info)"
   ]
  },
  {
   "cell_type": "code",
   "execution_count": 38,
   "metadata": {
    "id": "bnB4djrbX6HS"
   },
   "outputs": [],
   "source": [
    "\n",
    "featureset = {\"name\": \"Features are attributes of the nodes\"}\n",
    "fs_reg = ap.register_featureset(featureset, ds_reg[\"_key\"]) "
   ]
  },
  {
   "cell_type": "code",
   "execution_count": 39,
   "metadata": {
    "id": "Xgk7np5mY1_E"
   },
   "outputs": [],
   "source": [
    "import io\n",
    "import requests\n",
    "url = ('https://raw.githubusercontent.com/rajivsam/interactive_tutorials/master/notebooks/Graph_Retail_Descriptive_Analytics.ipynb')\n",
    "nbjson = requests.get(url).text"
   ]
  },
  {
   "cell_type": "code",
   "execution_count": 40,
   "metadata": {
    "id": "qp2QFmL_ZNcQ"
   },
   "outputs": [],
   "source": [
    "\n",
    "model_info = {\"name\": \"Descriptive Analytics for Frequent Customers\",  \"task\": \"Exploratory Data Analysis\", 'notebook': nbjson}\n",
    "model_reg = ap.register_model(model_info, project = \"Retail_Graph_Analytics\")"
   ]
  },
  {
   "cell_type": "code",
   "execution_count": 41,
   "metadata": {
    "id": "2SqQmvicWe2T"
   },
   "outputs": [],
   "source": [
    "import uuid\n",
    "import datetime\n",
    "#import jsonpickle\n",
    "\n",
    "ruuid = str(uuid.uuid4().int)\n",
    "model_perf = {'run_id': ruuid, \"timestamp\": str(datetime.datetime.now())}\n",
    "\n",
    "#mp = jsonpickle.encode(mp)\n",
    "model_params = {'run_id': ruuid, 'model_params': 'Not Applicable'}\n",
    "\n",
    "run_info = {\"dataset\" : ds_reg[\"_key\"],\\\n",
    "                    \"featureset\": fs_reg[\"_key\"],\\\n",
    "                    \"run_id\": ruuid,\\\n",
    "                    \"model\": model_reg[\"_key\"],\\\n",
    "                    \"model-params\": model_params,\\\n",
    "                    \"model-perf\": model_perf,\\\n",
    "                    \"tag\": \"Retail Descriptive Analytics Notebook\",\\\n",
    "                    \"project\": \"Retail_Graph_Analytics\"}\n",
    "ap.log_run(run_info)"
   ]
  },
  {
   "cell_type": "code",
   "execution_count": 42,
   "metadata": {},
   "outputs": [
    {
     "name": "stdout",
     "output_type": "stream",
     "text": [
      "\u001b[0m2021-06-17T08:51:12Z [119573] INFO [f3a1f] {dump} Connected to ArangoDB 'http+ssl://arangoml.arangodb.cloud:8529', database: 'MLz10iqjfuq6fcq7mzdp3ta5', username: 'MLf9aqoq3l7ni5ff5nyezgxd'\n",
      "\u001b[0m\u001b[0m2021-06-17T08:51:12Z [119573] INFO [5e989] {dump} Writing dump to output directory 'data/retail_freq_cust_data_dump_eonb3' with 2 thread(s)\n",
      "\u001b[0m\u001b[0m2021-06-17T08:51:12Z [119573] INFO [e4134] {dump} Last tick provided by server is: 699149862\n",
      "\u001b[0m\u001b[0m2021-06-17T08:51:12Z [119573] INFO [5239e] {dump} # Dumping collection 'deployment_featureset'...\n",
      "\u001b[0m\u001b[0m2021-06-17T08:51:12Z [119573] INFO [5239e] {dump} # Dumping collection 'servingperf'...\n",
      "\u001b[0m\u001b[0m2021-06-17T08:51:12Z [119573] INFO [a27be] {dump} # Dumping shard 's639484621' from DBserver 'PRMR-6vaksybf' ...\n",
      "\u001b[0m\u001b[0m2021-06-17T08:51:12Z [119573] INFO [a27be] {dump} # Dumping shard 's639484619' from DBserver 'PRMR-6vaksybf' ...\n",
      "\u001b[0m\u001b[0m2021-06-17T08:51:13Z [119573] INFO [5239e] {dump} # Dumping collection 'models'...\n",
      "\u001b[0m\u001b[0m2021-06-17T08:51:13Z [119573] INFO [5239e] {dump} # Dumping collection 'run'...\n",
      "\u001b[0m\u001b[0m2021-06-17T08:51:13Z [119573] INFO [a27be] {dump} # Dumping shard 's639484613' from DBserver 'PRMR-6vaksybf' ...\n",
      "\u001b[0m\u001b[0m2021-06-17T08:51:13Z [119573] INFO [a27be] {dump} # Dumping shard 's639484617' from DBserver 'PRMR-6vaksybf' ...\n",
      "\u001b[0m\u001b[0m2021-06-17T08:51:14Z [119573] INFO [5239e] {dump} # Dumping collection 'run_models'...\n",
      "\u001b[0m\u001b[0m2021-06-17T08:51:14Z [119573] INFO [a27be] {dump} # Dumping shard 's639484645' from DBserver 'PRMR-6vaksybf' ...\n",
      "\u001b[0m\u001b[0m2021-06-17T08:51:14Z [119573] INFO [5239e] {dump} # Dumping collection 'deployment_modelparams'...\n",
      "\u001b[0m\u001b[0m2021-06-17T08:51:14Z [119573] INFO [a27be] {dump} # Dumping shard 's639484625' from DBserver 'PRMR-6vaksybf' ...\n",
      "\u001b[0m\u001b[0m2021-06-17T08:51:14Z [119573] INFO [5239e] {dump} # Dumping collection 'datasets'...\n",
      "\u001b[0m\u001b[0m2021-06-17T08:51:14Z [119573] INFO [a27be] {dump} # Dumping shard 's639484599' from DBserver 'PRMR-6vaksybf' ...\n",
      "\u001b[0m\u001b[0m2021-06-17T08:51:15Z [119573] INFO [5239e] {dump} # Dumping collection 'Customers'...\n",
      "\u001b[0m\u001b[0m2021-06-17T08:51:15Z [119573] INFO [a27be] {dump} # Dumping shard 's639484597' from DBserver 'PRMR-6vaksybf' ...\n",
      "\u001b[0m\u001b[0m2021-06-17T08:51:15Z [119573] INFO [5239e] {dump} # Dumping collection 'devperf'...\n",
      "\u001b[0m\u001b[0m2021-06-17T08:51:15Z [119573] INFO [a27be] {dump} # Dumping shard 's639484605' from DBserver 'PRMR-6vaksybf' ...\n",
      "\u001b[0m\u001b[0m2021-06-17T08:51:16Z [119573] INFO [5239e] {dump} # Dumping collection 'project'...\n",
      "\u001b[0m\u001b[0m2021-06-17T08:51:16Z [119573] INFO [5239e] {dump} # Dumping collection 'deployment'...\n",
      "\u001b[0m\u001b[0m2021-06-17T08:51:16Z [119573] INFO [a27be] {dump} # Dumping shard 's639484615' from DBserver 'PRMR-6vaksybf' ...\n",
      "\u001b[0m\u001b[0m2021-06-17T08:51:16Z [119573] INFO [a27be] {dump} # Dumping shard 's639484603' from DBserver 'PRMR-6vaksybf' ...\n",
      "\u001b[0m\u001b[0m2021-06-17T08:51:17Z [119573] INFO [5239e] {dump} # Dumping collection 'featuresets'...\n",
      "\u001b[0m\u001b[0m2021-06-17T08:51:17Z [119573] INFO [5239e] {dump} # Dumping collection 'project_models'...\n",
      "\u001b[0m\u001b[0m2021-06-17T08:51:17Z [119573] INFO [a27be] {dump} # Dumping shard 's639484607' from DBserver 'PRMR-6vaksybf' ...\n",
      "\u001b[0m\u001b[0m2021-06-17T08:51:17Z [119573] INFO [a27be] {dump} # Dumping shard 's639484633' from DBserver 'PRMR-6vaksybf' ...\n",
      "\u001b[0m\u001b[0m2021-06-17T08:51:17Z [119573] INFO [5239e] {dump} # Dumping collection 'run_devperf'...\n",
      "\u001b[0m\u001b[0m2021-06-17T08:51:17Z [119573] INFO [5239e] {dump} # Dumping collection 'modelparams'...\n",
      "\u001b[0m\u001b[0m2021-06-17T08:51:17Z [119573] INFO [a27be] {dump} # Dumping shard 's639484639' from DBserver 'PRMR-6vaksybf' ...\n",
      "\u001b[0m\u001b[0m2021-06-17T08:51:17Z [119573] INFO [a27be] {dump} # Dumping shard 's639484611' from DBserver 'PRMR-6vaksybf' ...\n",
      "\u001b[0m\u001b[0m2021-06-17T08:51:18Z [119573] INFO [5239e] {dump} # Dumping collection 'deployment_servingperf'...\n",
      "\u001b[0m\u001b[0m2021-06-17T08:51:18Z [119573] INFO [5239e] {dump} # Dumping collection 'run_modelparams'...\n",
      "\u001b[0m\u001b[0m2021-06-17T08:51:18Z [119573] INFO [a27be] {dump} # Dumping shard 's639484643' from DBserver 'PRMR-6vaksybf' ...\n",
      "\u001b[0m\u001b[0m2021-06-17T08:51:18Z [119573] INFO [a27be] {dump} # Dumping shard 's639484629' from DBserver 'PRMR-6vaksybf' ...\n",
      "\u001b[0m\u001b[0m2021-06-17T08:51:19Z [119573] INFO [5239e] {dump} # Dumping collection 'run_datasets'...\n",
      "\u001b[0m\u001b[0m2021-06-17T08:51:19Z [119573] INFO [5239e] {dump} # Dumping collection 'Items'...\n",
      "\u001b[0m\u001b[0m2021-06-17T08:51:19Z [119573] INFO [a27be] {dump} # Dumping shard 's639484609' from DBserver 'PRMR-6vaksybf' ...\n",
      "\u001b[0m\u001b[0m2021-06-17T08:51:19Z [119573] INFO [a27be] {dump} # Dumping shard 's639484637' from DBserver 'PRMR-6vaksybf' ...\n",
      "\u001b[0m\u001b[0m2021-06-17T08:51:19Z [119573] INFO [5239e] {dump} # Dumping collection 'featureset_dataset'...\n",
      "\u001b[0m\u001b[0m2021-06-17T08:51:19Z [119573] INFO [a27be] {dump} # Dumping shard 's639484631' from DBserver 'PRMR-6vaksybf' ...\n",
      "\u001b[0m\u001b[0m2021-06-17T08:51:19Z [119573] INFO [5239e] {dump} # Dumping collection 'deployment_model'...\n",
      "\u001b[0m\u001b[0m2021-06-17T08:51:19Z [119573] INFO [a27be] {dump} # Dumping shard 's639484623' from DBserver 'PRMR-6vaksybf' ...\n",
      "\u001b[0m\u001b[0m2021-06-17T08:51:20Z [119573] INFO [5239e] {dump} # Dumping collection 'run_featuresets'...\n",
      "\u001b[0m\u001b[0m2021-06-17T08:51:20Z [119573] INFO [a27be] {dump} # Dumping shard 's639484641' from DBserver 'PRMR-6vaksybf' ...\n",
      "\u001b[0m\u001b[0m2021-06-17T08:51:20Z [119573] INFO [5239e] {dump} # Dumping collection 'Purchases'...\n",
      "\u001b[0m\u001b[0m2021-06-17T08:51:20Z [119573] INFO [a27be] {dump} # Dumping shard 's639484635' from DBserver 'PRMR-6vaksybf' ...\n",
      "\u001b[0m\u001b[0m2021-06-17T08:51:22Z [119573] INFO [66c0e] {dump} Processed 23 collection(s) in 12.537436 s, wrote 1013715 byte(s) into datafiles, sent 23 batch(es)\n",
      "\u001b[0m"
     ]
    }
   ],
   "source": [
    "!./tools/arangodump  -c none --server.endpoint http+ssl://{login[\"DB_service_host\"]}:{login[\"DB_service_port\"]} --server.username {login[\"username\"]} --server.database {login[\"dbName\"]} --server.password {login[\"password\"]} --overwrite true --output-directory \"data/retail_freq_cust_data_dump_eonb3\""
   ]
  }
 ],
 "metadata": {
  "colab": {
   "collapsed_sections": [],
   "name": "Graph_Retail_Descriptive_Analytics.ipynb",
   "provenance": []
  },
  "kernelspec": {
   "display_name": "Python 3",
   "language": "python",
   "name": "python3"
  },
  "language_info": {
   "codemirror_mode": {
    "name": "ipython",
    "version": 3
   },
   "file_extension": ".py",
   "mimetype": "text/x-python",
   "name": "python",
   "nbconvert_exporter": "python",
   "pygments_lexer": "ipython3",
   "version": "3.7.6"
  }
 },
 "nbformat": 4,
 "nbformat_minor": 1
}
