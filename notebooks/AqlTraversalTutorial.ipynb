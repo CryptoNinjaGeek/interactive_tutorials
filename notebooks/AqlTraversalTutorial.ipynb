{
 "cells": [
  {
   "cell_type": "markdown",
   "metadata": {},
   "source": [
    "![arangodb](https://github.com/arangodb/interactive_tutorials/blob/master/notebooks/img/ArangoDB_logo.png?raw=1)"
   ]
  },
  {
   "cell_type": "markdown",
   "metadata": {},
   "source": [
    "# AQL Graph Traversal Tutorial"
   ]
  },
  {
   "cell_type": "markdown",
   "metadata": {},
   "source": [
    "<a href=\"https://colab.research.google.com/github/arangodb/interactive_tutorials/blob/master/notebooks/AqlTraversalTutorial.ipynb\" target=\"_parent\"><img src=\"https://colab.research.google.com/assets/colab-badge.svg\" alt=\"Open In Colab\"/></a>"
   ]
  },
  {
   "cell_type": "markdown",
   "metadata": {},
   "source": [
    "In the previous parts of this AQL tutorial series, we have already covered a number of topics:\n",
    "* [Part 1: CRUD](https://colab.research.google.com/github/joerg84/ArangoDBUniversity/blob/master/AqlCrudTutorial.ipynb) \n",
    "* [Part 2: Limit, Sort, Filter](https://colab.research.google.com/github/joerg84/ArangoDBUniversity/blob/master/AqlPart2Tutorial.ipynb)\n",
    "* [Part 3: Join](https://colab.research.google.com/github/joerg84/ArangoDBUniversity/blob/master/AqlJoinTutorial.ipynb)\n",
    "\n",
    "In this part we move from a document data model to graphs und learn how AQL combines different data model in one query language.\n",
    "Please also note that there is an excellen [free Graph Course](https://www.arangodb.com/arangodb-graph-course) which goes into more detail!\n",
    "\n",
    "Recall, that in addition to the python interface, you can interact with ArangoDB using its web interface to manage collections and execute the queries."
   ]
  },
  {
   "cell_type": "markdown",
   "metadata": {},
   "source": [
    "# Setup "
   ]
  },
  {
   "cell_type": "markdown",
   "metadata": {},
   "source": [
    "Before getting started with ArangoDB we need to prepare our environment and create a temporary database on ArangoDB's managed Service Oasis."
   ]
  },
  {
   "cell_type": "code",
   "execution_count": null,
   "metadata": {},
   "outputs": [],
   "source": [
    "%%capture\r\n",
    "!git clone -b oasis_connector --single-branch https://github.com/arangodb/interactive_tutorials.git\r\n",
    "!rsync -av interactive_tutorials/ ./ --exclude=.git\r\n",
    "!pip3 install pyarango\r\n",
    "!pip3 install \"python-arango>=5.0\""
   ]
  },
  {
   "cell_type": "code",
   "execution_count": null,
   "metadata": {},
   "outputs": [],
   "source": [
    "import json\r\n",
    "import requests\r\n",
    "import sys\r\n",
    "import oasis\r\n",
    "import time\r\n",
    "from IPython.display import JSON\r\n",
    "\r\n",
    "from pyArango.connection import *\r\n",
    "from arango import ArangoClient"
   ]
  },
  {
   "cell_type": "markdown",
   "metadata": {},
   "source": [
    "Create the temporary database:"
   ]
  },
  {
   "cell_type": "code",
   "execution_count": null,
   "metadata": {},
   "outputs": [],
   "source": [
    "# Retrieve tmp credentials from ArangoDB Tutorial Service\r\n",
    "login = oasis.getTempCredentials(tutorialName=\"AqlTraversalTutorial\", credentialProvider='https://tutorials.arangodb.cloud:8529/_db/_system/tutorialDB/tutorialDB')\r\n",
    "\r\n",
    "# Connect to the temp database\r\n",
    "conn = oasis.connect(login)\r\n",
    "db = conn[login[\"dbName\"]] "
   ]
  },
  {
   "cell_type": "code",
   "execution_count": null,
   "metadata": {},
   "outputs": [],
   "source": [
    "print(\"https://{}:{}\".format(login[\"hostname\"], login[\"port\"]))\r\n",
    "print(\"Username: \" + login[\"username\"])\r\n",
    "print(\"Password: \" + login[\"password\"])\r\n",
    "print(\"Database: \" + login[\"dbName\"])"
   ]
  },
  {
   "cell_type": "markdown",
   "metadata": {},
   "source": [
    "Feel free to use to above URL to checkout the UI!"
   ]
  },
  {
   "cell_type": "markdown",
   "metadata": {},
   "source": [
    "##  Import Data"
   ]
  },
  {
   "cell_type": "markdown",
   "metadata": {},
   "source": [
    "We will work with the same dataset as in the [first part of this tutorial](https://colab.research.google.com/github/joerg84/ArangoDBUniversity/blob/master/AqlCrudTutorial.ipynb). So let us quickly import that into our temporary database. "
   ]
  },
  {
   "cell_type": "code",
   "execution_count": null,
   "metadata": {},
   "outputs": [],
   "source": [
    "# Create the Characters Collection \r\n",
    "db.createCollection(name=\"Characters\")"
   ]
  },
  {
   "cell_type": "code",
   "execution_count": null,
   "metadata": {},
   "outputs": [],
   "source": [
    "insert_query = \"\"\"\r\n",
    "LET data = [\r\n",
    "    { \"name\": \"Ned\", \"surname\": \"Stark\", \"alive\": true, \"age\": 41, \"traits\": [\"A\",\"H\",\"C\",\"N\",\"P\"] },\r\n",
    "    { \"name\": \"Robert\", \"surname\": \"Baratheon\", \"alive\": false, \"traits\": [\"A\",\"H\",\"C\"] },\r\n",
    "    { \"name\": \"Jaime\", \"surname\": \"Lannister\", \"alive\": true, \"age\": 36, \"traits\": [\"A\",\"F\",\"B\"] },\r\n",
    "    { \"name\": \"Catelyn\", \"surname\": \"Stark\", \"alive\": false, \"age\": 40, \"traits\": [\"D\",\"H\",\"C\"] },\r\n",
    "    { \"name\": \"Cersei\", \"surname\": \"Lannister\", \"alive\": true, \"age\": 36, \"traits\": [\"H\",\"E\",\"F\"] },\r\n",
    "    { \"name\": \"Daenerys\", \"surname\": \"Targaryen\", \"alive\": true, \"age\": 16, \"traits\": [\"D\",\"H\",\"C\"] },\r\n",
    "    { \"name\": \"Jorah\", \"surname\": \"Mormont\", \"alive\": false, \"traits\": [\"A\",\"B\",\"C\",\"F\"] },\r\n",
    "    { \"name\": \"Petyr\", \"surname\": \"Baelish\", \"alive\": false, \"traits\": [\"E\",\"G\",\"F\"] },\r\n",
    "    { \"name\": \"Viserys\", \"surname\": \"Targaryen\", \"alive\": false, \"traits\": [\"O\",\"L\",\"N\"] },\r\n",
    "    { \"name\": \"Jon\", \"surname\": \"Snow\", \"alive\": true, \"age\": 16, \"traits\": [\"A\",\"B\",\"C\",\"F\"] },\r\n",
    "    { \"name\": \"Sansa\", \"surname\": \"Stark\", \"alive\": true, \"age\": 13, \"traits\": [\"D\",\"I\",\"J\"] },\r\n",
    "    { \"name\": \"Arya\", \"surname\": \"Stark\", \"alive\": true, \"age\": 11, \"traits\": [\"C\",\"K\",\"L\"] },\r\n",
    "    { \"name\": \"Robb\", \"surname\": \"Stark\", \"alive\": false, \"traits\": [\"A\",\"B\",\"C\",\"K\"] },\r\n",
    "    { \"name\": \"Theon\", \"surname\": \"Greyjoy\", \"alive\": true, \"age\": 16, \"traits\": [\"E\",\"R\",\"K\"] },\r\n",
    "    { \"name\": \"Bran\", \"surname\": \"Stark\", \"alive\": true, \"age\": 10, \"traits\": [\"L\",\"J\"] },\r\n",
    "    { \"name\": \"Joffrey\", \"surname\": \"Baratheon\", \"alive\": false, \"age\": 19, \"traits\": [\"I\",\"L\",\"O\"] },\r\n",
    "    { \"name\": \"Sandor\", \"surname\": \"Clegane\", \"alive\": true, \"traits\": [\"A\",\"P\",\"K\",\"F\"] },\r\n",
    "    { \"name\": \"Tyrion\", \"surname\": \"Lannister\", \"alive\": true, \"age\": 32, \"traits\": [\"F\",\"K\",\"M\",\"N\"] },\r\n",
    "    { \"name\": \"Khal\", \"surname\": \"Drogo\", \"alive\": false, \"traits\": [\"A\",\"C\",\"O\",\"P\"] },\r\n",
    "    { \"name\": \"Tywin\", \"surname\": \"Lannister\", \"alive\": false, \"traits\": [\"O\",\"M\",\"H\",\"F\"] },\r\n",
    "    { \"name\": \"Davos\", \"surname\": \"Seaworth\", \"alive\": true, \"age\": 49, \"traits\": [\"C\",\"K\",\"P\",\"F\"] },\r\n",
    "    { \"name\": \"Samwell\", \"surname\": \"Tarly\", \"alive\": true, \"age\": 17, \"traits\": [\"C\",\"L\",\"I\"] },\r\n",
    "    { \"name\": \"Stannis\", \"surname\": \"Baratheon\", \"alive\": false, \"traits\": [\"H\",\"O\",\"P\",\"M\"] },\r\n",
    "    { \"name\": \"Melisandre\", \"alive\": true, \"traits\": [\"G\",\"E\",\"H\"] },\r\n",
    "    { \"name\": \"Margaery\", \"surname\": \"Tyrell\", \"alive\": false, \"traits\": [\"M\",\"D\",\"B\"] },\r\n",
    "    { \"name\": \"Jeor\", \"surname\": \"Mormont\", \"alive\": false, \"traits\": [\"C\",\"H\",\"M\",\"P\"] },\r\n",
    "    { \"name\": \"Bronn\", \"alive\": true, \"traits\": [\"K\",\"E\",\"C\"] },\r\n",
    "    { \"name\": \"Varys\", \"alive\": true, \"traits\": [\"M\",\"F\",\"N\",\"E\"] },\r\n",
    "    { \"name\": \"Shae\", \"alive\": false, \"traits\": [\"M\",\"D\",\"G\"] },\r\n",
    "    { \"name\": \"Talisa\", \"surname\": \"Maegyr\", \"alive\": false, \"traits\": [\"D\",\"C\",\"B\"] },\r\n",
    "    { \"name\": \"Gendry\", \"alive\": false, \"traits\": [\"K\",\"C\",\"A\"] },\r\n",
    "    { \"name\": \"Ygritte\", \"alive\": false, \"traits\": [\"A\",\"P\",\"K\"] },\r\n",
    "    { \"name\": \"Tormund\", \"surname\": \"Giantsbane\", \"alive\": true, \"traits\": [\"C\",\"P\",\"A\",\"I\"] },\r\n",
    "    { \"name\": \"Gilly\", \"alive\": true, \"traits\": [\"L\",\"J\"] },\r\n",
    "    { \"name\": \"Brienne\", \"surname\": \"Tarth\", \"alive\": true, \"age\": 32, \"traits\": [\"P\",\"C\",\"A\",\"K\"] },\r\n",
    "    { \"name\": \"Ramsay\", \"surname\": \"Bolton\", \"alive\": true, \"traits\": [\"E\",\"O\",\"G\",\"A\"] },\r\n",
    "    { \"name\": \"Ellaria\", \"surname\": \"Sand\", \"alive\": true, \"traits\": [\"P\",\"O\",\"A\",\"E\"] },\r\n",
    "    { \"name\": \"Daario\", \"surname\": \"Naharis\", \"alive\": true, \"traits\": [\"K\",\"P\",\"A\"] },\r\n",
    "    { \"name\": \"Missandei\", \"alive\": true, \"traits\": [\"D\",\"L\",\"C\",\"M\"] },\r\n",
    "    { \"name\": \"Tommen\", \"surname\": \"Baratheon\", \"alive\": true, \"traits\": [\"I\",\"L\",\"B\"] },\r\n",
    "    { \"name\": \"Jaqen\", \"surname\": \"H'ghar\", \"alive\": true, \"traits\": [\"H\",\"F\",\"K\"] },\r\n",
    "    { \"name\": \"Roose\", \"surname\": \"Bolton\", \"alive\": true, \"traits\": [\"H\",\"E\",\"F\",\"A\"] },\r\n",
    "    { \"name\": \"The High Sparrow\", \"alive\": true, \"traits\": [\"H\",\"M\",\"F\",\"O\"] }\r\n",
    "]\r\n",
    "\r\n",
    "FOR d IN data\r\n",
    "    INSERT d INTO Characters\r\n",
    "\"\"\"\r\n",
    "\r\n",
    "db.AQLQuery(insert_query)"
   ]
  },
  {
   "cell_type": "markdown",
   "metadata": {},
   "source": [
    "As before let us check the `Characters` collection:"
   ]
  },
  {
   "cell_type": "code",
   "execution_count": null,
   "metadata": {},
   "outputs": [],
   "source": [
    "all_characters_names = \"\"\"\r\n",
    "FOR c IN Characters\r\n",
    "    RETURN c.name\r\n",
    "\"\"\"\r\n",
    "\r\n",
    "query_result = db.AQLQuery(all_characters_names, rawResults=True)\r\n",
    "for doc in  query_result:\r\n",
    "    print(doc)\r\n",
    "    print()"
   ]
  },
  {
   "cell_type": "markdown",
   "metadata": {},
   "source": [
    "# Graph Traversals"
   ]
  },
  {
   "cell_type": "markdown",
   "metadata": {},
   "source": [
    "Relations such as between parents and children can be modeled as graph. In ArangoDB, two documents (a parent and a child character document) can be linked by an edge document. Edge documents are stored in edge collections and have two additional attributes: `_from` and `_to`. They reference any two documents by their document IDs (`_id`)."
   ]
  },
  {
   "cell_type": "markdown",
   "metadata": {},
   "source": [
    "Our characters have the following relations between parents and children (first names only for a better overview):"
   ]
  },
  {
   "cell_type": "markdown",
   "metadata": {},
   "source": [
    "|Child   | Parent  |\n",
    "|---|---|\n",
    "| Robb  | Ned  |\n",
    "| Sansa  |  Ned |\n",
    "| Arya  |  Ned |\n",
    "| Bran  |  Ned |\n",
    "| Jon  |  Ned |\n",
    "| Robb  |  Catelyn |\n",
    "| Sansa  | Catelyn  |\n",
    "| Arya  |  Catelyn |\n",
    "| Bran  |  Catelyn |\n",
    "| Jaime  | Tywin  |\n",
    "| Cersei  | Tywin  |\n",
    "| Tyrion  |  Tywin |\n",
    "| Joffrey  |  Jaime |\n",
    "| Joffrey  | Cersei  |\n"
   ]
  },
  {
   "cell_type": "markdown",
   "metadata": {},
   "source": [
    "We can visualize the same information in a graph, which often is easier to comprehend."
   ]
  },
  {
   "cell_type": "markdown",
   "metadata": {},
   "source": [
    "![child_of](https://github.com/arangodb/interactive_tutorials/blob/master/notebooks/img/ChildOf_Graph.png?raw=1)"
   ]
  },
  {
   "cell_type": "markdown",
   "metadata": {},
   "source": [
    "# Creating Edges"
   ]
  },
  {
   "cell_type": "markdown",
   "metadata": {},
   "source": [
    "To create the required edge documents to store these relations in the database, we can run a query that combines joining and filtering to match up the right character documents, then use their `_id` attribute to insert an edge into an edge collection ChildOf."
   ]
  },
  {
   "cell_type": "code",
   "execution_count": null,
   "metadata": {},
   "outputs": [],
   "source": [
    "# Create the Characters Collection \r\n",
    "db.createCollection(name=\"ChildOf\", className = 'Edges')"
   ]
  },
  {
   "cell_type": "markdown",
   "metadata": {},
   "source": [
    "For creating the edges we face one challenge: The character documents don’t have user-defined keys. If they had, it would allow us to create the edges more easily like:\n",
    "\n",
    "```INSERT { _from: \"Characters/robb\", _to: \"Characters/ned\" } INTO ChildOf```\n",
    "\n",
    "\n",
    "However, creating the edges programmatically based on character names is a good exercise. Breakdown of the query:\n"
   ]
  },
  {
   "cell_type": "code",
   "execution_count": null,
   "metadata": {},
   "outputs": [],
   "source": [
    "create_edges_query = \"\"\"\r\n",
    "LET data = [\r\n",
    "    {\r\n",
    "        \"parent\": { \"name\": \"Ned\", \"surname\": \"Stark\" },\r\n",
    "        \"child\": { \"name\": \"Robb\", \"surname\": \"Stark\" }\r\n",
    "    }, {\r\n",
    "        \"parent\": { \"name\": \"Ned\", \"surname\": \"Stark\" },\r\n",
    "        \"child\": { \"name\": \"Sansa\", \"surname\": \"Stark\" }\r\n",
    "    }, {\r\n",
    "        \"parent\": { \"name\": \"Ned\", \"surname\": \"Stark\" },\r\n",
    "        \"child\": { \"name\": \"Arya\", \"surname\": \"Stark\" }\r\n",
    "    }, {\r\n",
    "        \"parent\": { \"name\": \"Ned\", \"surname\": \"Stark\" },\r\n",
    "        \"child\": { \"name\": \"Bran\", \"surname\": \"Stark\" }\r\n",
    "    }, {\r\n",
    "        \"parent\": { \"name\": \"Catelyn\", \"surname\": \"Stark\" },\r\n",
    "        \"child\": { \"name\": \"Robb\", \"surname\": \"Stark\" }\r\n",
    "    }, {\r\n",
    "        \"parent\": { \"name\": \"Catelyn\", \"surname\": \"Stark\" },\r\n",
    "        \"child\": { \"name\": \"Sansa\", \"surname\": \"Stark\" }\r\n",
    "    }, {\r\n",
    "        \"parent\": { \"name\": \"Catelyn\", \"surname\": \"Stark\" },\r\n",
    "        \"child\": { \"name\": \"Arya\", \"surname\": \"Stark\" }\r\n",
    "    }, {\r\n",
    "        \"parent\": { \"name\": \"Catelyn\", \"surname\": \"Stark\" },\r\n",
    "        \"child\": { \"name\": \"Bran\", \"surname\": \"Stark\" }\r\n",
    "    }, {\r\n",
    "        \"parent\": { \"name\": \"Ned\", \"surname\": \"Stark\" },\r\n",
    "        \"child\": { \"name\": \"Jon\", \"surname\": \"Snow\" }\r\n",
    "    }, {\r\n",
    "        \"parent\": { \"name\": \"Tywin\", \"surname\": \"Lannister\" },\r\n",
    "        \"child\": { \"name\": \"Jaime\", \"surname\": \"Lannister\" }\r\n",
    "    }, {\r\n",
    "        \"parent\": { \"name\": \"Tywin\", \"surname\": \"Lannister\" },\r\n",
    "        \"child\": { \"name\": \"Cersei\", \"surname\": \"Lannister\" }\r\n",
    "    }, {\r\n",
    "        \"parent\": { \"name\": \"Tywin\", \"surname\": \"Lannister\" },\r\n",
    "        \"child\": { \"name\": \"Tyrion\", \"surname\": \"Lannister\" }\r\n",
    "    }, {\r\n",
    "        \"parent\": { \"name\": \"Cersei\", \"surname\": \"Lannister\" },\r\n",
    "        \"child\": { \"name\": \"Joffrey\", \"surname\": \"Baratheon\" }\r\n",
    "    }, {\r\n",
    "        \"parent\": { \"name\": \"Jaime\", \"surname\": \"Lannister\" },\r\n",
    "        \"child\": { \"name\": \"Joffrey\", \"surname\": \"Baratheon\" }\r\n",
    "    }\r\n",
    "]\r\n",
    "\r\n",
    "FOR rel in data\r\n",
    "    LET parentId = FIRST(\r\n",
    "        FOR c IN Characters\r\n",
    "            FILTER c.name == rel.parent.name\r\n",
    "            FILTER c.surname == rel.parent.surname\r\n",
    "            LIMIT 1\r\n",
    "            RETURN c._id\r\n",
    "    )\r\n",
    "    LET childId = FIRST(\r\n",
    "        FOR c IN Characters\r\n",
    "            FILTER c.name == rel.child.name\r\n",
    "            FILTER c.surname == rel.child.surname\r\n",
    "            LIMIT 1\r\n",
    "            RETURN c._id\r\n",
    "    )\r\n",
    "    FILTER parentId != null AND childId != null\r\n",
    "    INSERT { _from: childId, _to: parentId } INTO ChildOf\r\n",
    "    RETURN NEW\r\n",
    "\"\"\"\r\n",
    "\r\n",
    "query_result = db.AQLQuery(create_edges_query)"
   ]
  },
  {
   "cell_type": "markdown",
   "metadata": {},
   "source": [
    "# Graph Traversal"
   ]
  },
  {
   "cell_type": "markdown",
   "metadata": {},
   "source": [
    "Now that edges link character documents (vertices), we have a graph we can query to find out who the parents are of another character – or in graph terms, we want to start at a vertex and follow the edges to other vertices in an [AQL graph traversal](https://www.arangodb.com/docs/stable/aql/graphs-traversals.html):"
   ]
  },
  {
   "cell_type": "code",
   "execution_count": null,
   "metadata": {},
   "outputs": [],
   "source": [
    "sansa_parents_query = \"\"\"\n",
    "// First find the start node, i.e., sansa\n",
    "FOR c IN Characters\n",
    "    FILTER c.name == \"Sansa\"\n",
    "    // Then start a Graph traversal from that start node\n",
    "    FOR v IN 1..1 OUTBOUND c ChildOf\n",
    "    RETURN v.name\n",
    "\"\"\"\n",
    "\n",
    "query_result = db.AQLQuery(sansa_parents_query, rawResults=True)\n",
    "for doc in  query_result:\n",
    "    print(doc)\n",
    "    print()"
   ]
  },
  {
   "cell_type": "markdown",
   "metadata": {},
   "source": [
    "We can traverse the Graph also in the reverse direction (i.e., `INBOUND`) to find someones children:"
   ]
  },
  {
   "cell_type": "code",
   "execution_count": null,
   "metadata": {},
   "outputs": [],
   "source": [
    "ned_children_query = \"\"\"\n",
    "// First find the start node, i.e., ned\n",
    "FOR c IN Characters\n",
    "    FILTER c.name == \"Ned\"\n",
    "    // Then start a Graph traversal from that start node\n",
    "    FOR v IN 1..1 INBOUND c ChildOf\n",
    "    RETURN v.name\n",
    "\"\"\"\n",
    "\n",
    "query_result = db.AQLQuery(ned_children_query, rawResults=True)\n",
    "for doc in  query_result:\n",
    "    print(doc)\n",
    "    print()"
   ]
  },
  {
   "cell_type": "markdown",
   "metadata": {},
   "source": [
    "# Variable Length Traversals and Grandchildren "
   ]
  },
  {
   "cell_type": "markdown",
   "metadata": {},
   "source": [
    "You might have wondered about the `IN 1..1 ` specification. This part actually specifies how many hops should be considered for the Traversal.\n",
    "For the Lannister family, we have relations that span from parent to grandchild. Let’s change the traversal depth to return grandchildren, which means to go exactly two steps:"
   ]
  },
  {
   "cell_type": "code",
   "execution_count": null,
   "metadata": {},
   "outputs": [],
   "source": [
    "tywin_grandchildren_query = \"\"\"\n",
    "// First find the start node, i.e., ned\n",
    "FOR c IN Characters\n",
    "    FILTER c.name == \"Tywin\"\n",
    "    // Then start a Graph traversal from that start node\n",
    "    FOR v IN 2..2 INBOUND c ChildOf\n",
    "    RETURN v.name\n",
    "\"\"\"\n",
    "\n",
    "query_result = db.AQLQuery(tywin_grandchildren_query, rawResults=True)\n",
    "for doc in  query_result:\n",
    "    print(doc)\n",
    "    print()"
   ]
  },
  {
   "cell_type": "markdown",
   "metadata": {},
   "source": [
    "It might be a bit unexpected, that Joffrey is returned twice. However, if you look at the graph visualization, you can see that multiple paths lead from Joffrey (bottom right) to Tywin:"
   ]
  },
  {
   "cell_type": "markdown",
   "metadata": {},
   "source": [
    "![child_of](img/ChildOf_Graph.png)"
   ]
  },
  {
   "cell_type": "markdown",
   "metadata": {},
   "source": [
    "As a quick fix, change the last line of the query to RETURN DISTINCT v.name to return each value only once. Keep in mind though, that there are [traversal options](https://www.arangodb.com/docs/stable/aql/graphs-traversals.html#syntax) to suppress duplicate vertices early on."
   ]
  },
  {
   "cell_type": "code",
   "execution_count": null,
   "metadata": {},
   "outputs": [],
   "source": [
    "tywin_grandchildren_query = \"\"\"\n",
    "// First find the start node, i.e., ned\n",
    "FOR c IN Characters\n",
    "    FILTER c.name == \"Tywin\"\n",
    "    // Then start a Graph traversal from that start node\n",
    "    FOR v IN 2..2 INBOUND c ChildOf\n",
    "    RETURN DISTINCT v.name\n",
    "\"\"\"\n",
    "\n",
    "query_result = db.AQLQuery(tywin_grandchildren_query, rawResults=True)\n",
    "for doc in  query_result:\n",
    "    print(doc)\n",
    "    print()"
   ]
  },
  {
   "cell_type": "markdown",
   "metadata": {},
   "source": [
    "To return the parents and grandparents of Joffrey, we can walk edges in OUTBOUND direction and adjust the traversal depth to go at least 1 step, and 2 at most (i.e., `IN 1..2`):"
   ]
  },
  {
   "cell_type": "code",
   "execution_count": null,
   "metadata": {},
   "outputs": [],
   "source": [
    "joffrey_ancestors_query = \"\"\"\n",
    "FOR c IN Characters\n",
    "    FILTER c.name == \"Joffrey\"\n",
    "    FOR v IN 1..2 OUTBOUND c ChildOf\n",
    "        RETURN DISTINCT v.name\n",
    "\"\"\"\n",
    "\n",
    "query_result = db.AQLQuery(joffrey_ancestors_query, rawResults=True)\n",
    "for doc in  query_result:\n",
    "    print(doc)\n",
    "    print()"
   ]
  },
  {
   "cell_type": "markdown",
   "metadata": {},
   "source": [
    "With deeper family trees, it is only be a matter of changing the depth values to query for great-grandchildren and similar relations."
   ]
  },
  {
   "cell_type": "markdown",
   "metadata": {},
   "source": [
    "# Next Steps"
   ]
  },
  {
   "cell_type": "markdown",
   "metadata": {},
   "source": [
    "To continue playing and working with ArangoDB beyond the temporary database, you can:\n",
    "\n",
    "* [Get a 2 week free Trial with the ArangoDB Cloud](https://cloud.arangodb.com/home?utm_source=AQLJoin&utm_medium=Github&utm_campaign=ArangoDB%20University)\n",
    "* Take the [free Graph Course](https://www.arangodb.com/arangodb-graph-course)  \n",
    "* [Download ArangoDB](https://www.arangodb.com/download-major/)\n",
    "* Keep Learning at https://www.arangodb.com/arangodb-training-center/"
   ]
  },
  {
   "cell_type": "markdown",
   "metadata": {},
   "source": [
    "# Further Links"
   ]
  },
  {
   "cell_type": "markdown",
   "metadata": {},
   "source": [
    "* https://www.arangodb.com/docs/stable/aql/tutorial.html"
   ]
  }
 ],
 "metadata": {
  "kernelspec": {
   "display_name": "Python 3",
   "language": "python",
   "name": "python3"
  },
  "language_info": {
   "codemirror_mode": {
    "name": "ipython",
    "version": 3
   },
   "file_extension": ".py",
   "mimetype": "text/x-python",
   "name": "python",
   "nbconvert_exporter": "python",
   "pygments_lexer": "ipython3",
   "version": "3.7.7"
  }
 },
 "nbformat": 4,
 "nbformat_minor": 4
}
