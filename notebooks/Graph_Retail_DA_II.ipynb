{
  "nbformat": 4,
  "nbformat_minor": 0,
  "metadata": {
    "colab": {
      "name": "Graph_Retail_DA_II.ipynb",
      "provenance": [],
      "collapsed_sections": []
    },
    "kernelspec": {
      "display_name": "Python 3",
      "language": "python",
      "name": "python3"
    },
    "language_info": {
      "codemirror_mode": {
        "name": "ipython",
        "version": 3
      },
      "file_extension": ".py",
      "mimetype": "text/x-python",
      "name": "python",
      "nbconvert_exporter": "python",
      "pygments_lexer": "ipython3",
      "version": "3.7.6"
    },
    "widgets": {
      "application/vnd.jupyter.widget-state+json": {
        "78bac1b3072a4d488c0c41dd3079d812": {
          "model_module": "@jupyter-widgets/controls",
          "model_name": "HBoxModel",
          "state": {
            "_view_name": "HBoxView",
            "_dom_classes": [],
            "_model_name": "HBoxModel",
            "_view_module": "@jupyter-widgets/controls",
            "_model_module_version": "1.5.0",
            "_view_count": null,
            "_view_module_version": "1.5.0",
            "box_style": "",
            "layout": "IPY_MODEL_dd8650beb4504ce6a677a35b10f5e0a3",
            "_model_module": "@jupyter-widgets/controls",
            "children": [
              "IPY_MODEL_7de3d6b6ca4a4a5ba0f4f6cda91324d2",
              "IPY_MODEL_3b680664fff749e9bdb9bc869edae347"
            ]
          }
        },
        "dd8650beb4504ce6a677a35b10f5e0a3": {
          "model_module": "@jupyter-widgets/base",
          "model_name": "LayoutModel",
          "state": {
            "_view_name": "LayoutView",
            "grid_template_rows": null,
            "right": null,
            "justify_content": null,
            "_view_module": "@jupyter-widgets/base",
            "overflow": null,
            "_model_module_version": "1.2.0",
            "_view_count": null,
            "flex_flow": null,
            "width": null,
            "min_width": null,
            "border": null,
            "align_items": null,
            "bottom": null,
            "_model_module": "@jupyter-widgets/base",
            "top": null,
            "grid_column": null,
            "overflow_y": null,
            "overflow_x": null,
            "grid_auto_flow": null,
            "grid_area": null,
            "grid_template_columns": null,
            "flex": null,
            "_model_name": "LayoutModel",
            "justify_items": null,
            "grid_row": null,
            "max_height": null,
            "align_content": null,
            "visibility": null,
            "align_self": null,
            "height": null,
            "min_height": null,
            "padding": null,
            "grid_auto_rows": null,
            "grid_gap": null,
            "max_width": null,
            "order": null,
            "_view_module_version": "1.2.0",
            "grid_template_areas": null,
            "object_position": null,
            "object_fit": null,
            "grid_auto_columns": null,
            "margin": null,
            "display": null,
            "left": null
          }
        },
        "7de3d6b6ca4a4a5ba0f4f6cda91324d2": {
          "model_module": "@jupyter-widgets/controls",
          "model_name": "FloatProgressModel",
          "state": {
            "_view_name": "ProgressView",
            "style": "IPY_MODEL_690168386de6421eb27706666f441617",
            "_dom_classes": [],
            "description": "Computing transition probabilities: 100%",
            "_model_name": "FloatProgressModel",
            "bar_style": "success",
            "max": 437,
            "_view_module": "@jupyter-widgets/controls",
            "_model_module_version": "1.5.0",
            "value": 437,
            "_view_count": null,
            "_view_module_version": "1.5.0",
            "orientation": "horizontal",
            "min": 0,
            "description_tooltip": null,
            "_model_module": "@jupyter-widgets/controls",
            "layout": "IPY_MODEL_1379a87e2d604e549467acef8a7c5095"
          }
        },
        "3b680664fff749e9bdb9bc869edae347": {
          "model_module": "@jupyter-widgets/controls",
          "model_name": "HTMLModel",
          "state": {
            "_view_name": "HTMLView",
            "style": "IPY_MODEL_fa49187ed81c403dac1f57e43f50bacb",
            "_dom_classes": [],
            "description": "",
            "_model_name": "HTMLModel",
            "placeholder": "​",
            "_view_module": "@jupyter-widgets/controls",
            "_model_module_version": "1.5.0",
            "value": " 437/437 [02:43&lt;00:00,  2.67it/s]",
            "_view_count": null,
            "_view_module_version": "1.5.0",
            "description_tooltip": null,
            "_model_module": "@jupyter-widgets/controls",
            "layout": "IPY_MODEL_b964e1089b424ce3a064ebb720887fed"
          }
        },
        "690168386de6421eb27706666f441617": {
          "model_module": "@jupyter-widgets/controls",
          "model_name": "ProgressStyleModel",
          "state": {
            "_view_name": "StyleView",
            "_model_name": "ProgressStyleModel",
            "description_width": "initial",
            "_view_module": "@jupyter-widgets/base",
            "_model_module_version": "1.5.0",
            "_view_count": null,
            "_view_module_version": "1.2.0",
            "bar_color": null,
            "_model_module": "@jupyter-widgets/controls"
          }
        },
        "1379a87e2d604e549467acef8a7c5095": {
          "model_module": "@jupyter-widgets/base",
          "model_name": "LayoutModel",
          "state": {
            "_view_name": "LayoutView",
            "grid_template_rows": null,
            "right": null,
            "justify_content": null,
            "_view_module": "@jupyter-widgets/base",
            "overflow": null,
            "_model_module_version": "1.2.0",
            "_view_count": null,
            "flex_flow": null,
            "width": null,
            "min_width": null,
            "border": null,
            "align_items": null,
            "bottom": null,
            "_model_module": "@jupyter-widgets/base",
            "top": null,
            "grid_column": null,
            "overflow_y": null,
            "overflow_x": null,
            "grid_auto_flow": null,
            "grid_area": null,
            "grid_template_columns": null,
            "flex": null,
            "_model_name": "LayoutModel",
            "justify_items": null,
            "grid_row": null,
            "max_height": null,
            "align_content": null,
            "visibility": null,
            "align_self": null,
            "height": null,
            "min_height": null,
            "padding": null,
            "grid_auto_rows": null,
            "grid_gap": null,
            "max_width": null,
            "order": null,
            "_view_module_version": "1.2.0",
            "grid_template_areas": null,
            "object_position": null,
            "object_fit": null,
            "grid_auto_columns": null,
            "margin": null,
            "display": null,
            "left": null
          }
        },
        "fa49187ed81c403dac1f57e43f50bacb": {
          "model_module": "@jupyter-widgets/controls",
          "model_name": "DescriptionStyleModel",
          "state": {
            "_view_name": "StyleView",
            "_model_name": "DescriptionStyleModel",
            "description_width": "",
            "_view_module": "@jupyter-widgets/base",
            "_model_module_version": "1.5.0",
            "_view_count": null,
            "_view_module_version": "1.2.0",
            "_model_module": "@jupyter-widgets/controls"
          }
        },
        "b964e1089b424ce3a064ebb720887fed": {
          "model_module": "@jupyter-widgets/base",
          "model_name": "LayoutModel",
          "state": {
            "_view_name": "LayoutView",
            "grid_template_rows": null,
            "right": null,
            "justify_content": null,
            "_view_module": "@jupyter-widgets/base",
            "overflow": null,
            "_model_module_version": "1.2.0",
            "_view_count": null,
            "flex_flow": null,
            "width": null,
            "min_width": null,
            "border": null,
            "align_items": null,
            "bottom": null,
            "_model_module": "@jupyter-widgets/base",
            "top": null,
            "grid_column": null,
            "overflow_y": null,
            "overflow_x": null,
            "grid_auto_flow": null,
            "grid_area": null,
            "grid_template_columns": null,
            "flex": null,
            "_model_name": "LayoutModel",
            "justify_items": null,
            "grid_row": null,
            "max_height": null,
            "align_content": null,
            "visibility": null,
            "align_self": null,
            "height": null,
            "min_height": null,
            "padding": null,
            "grid_auto_rows": null,
            "grid_gap": null,
            "max_width": null,
            "order": null,
            "_view_module_version": "1.2.0",
            "grid_template_areas": null,
            "object_position": null,
            "object_fit": null,
            "grid_auto_columns": null,
            "margin": null,
            "display": null,
            "left": null
          }
        },
        "a978f8739a9b4ec196f83418079f00a6": {
          "model_module": "@jupyter-widgets/controls",
          "model_name": "HBoxModel",
          "state": {
            "_view_name": "HBoxView",
            "_dom_classes": [],
            "_model_name": "HBoxModel",
            "_view_module": "@jupyter-widgets/controls",
            "_model_module_version": "1.5.0",
            "_view_count": null,
            "_view_module_version": "1.5.0",
            "box_style": "",
            "layout": "IPY_MODEL_c16e10f8d09049c6a96aacdadcd4cd57",
            "_model_module": "@jupyter-widgets/controls",
            "children": [
              "IPY_MODEL_50aebae4bb994c9b8533d592615dc755",
              "IPY_MODEL_fcbf584d99b2459a9b4018d9beba539f"
            ]
          }
        },
        "c16e10f8d09049c6a96aacdadcd4cd57": {
          "model_module": "@jupyter-widgets/base",
          "model_name": "LayoutModel",
          "state": {
            "_view_name": "LayoutView",
            "grid_template_rows": null,
            "right": null,
            "justify_content": null,
            "_view_module": "@jupyter-widgets/base",
            "overflow": null,
            "_model_module_version": "1.2.0",
            "_view_count": null,
            "flex_flow": null,
            "width": null,
            "min_width": null,
            "border": null,
            "align_items": null,
            "bottom": null,
            "_model_module": "@jupyter-widgets/base",
            "top": null,
            "grid_column": null,
            "overflow_y": null,
            "overflow_x": null,
            "grid_auto_flow": null,
            "grid_area": null,
            "grid_template_columns": null,
            "flex": null,
            "_model_name": "LayoutModel",
            "justify_items": null,
            "grid_row": null,
            "max_height": null,
            "align_content": null,
            "visibility": null,
            "align_self": null,
            "height": null,
            "min_height": null,
            "padding": null,
            "grid_auto_rows": null,
            "grid_gap": null,
            "max_width": null,
            "order": null,
            "_view_module_version": "1.2.0",
            "grid_template_areas": null,
            "object_position": null,
            "object_fit": null,
            "grid_auto_columns": null,
            "margin": null,
            "display": null,
            "left": null
          }
        },
        "50aebae4bb994c9b8533d592615dc755": {
          "model_module": "@jupyter-widgets/controls",
          "model_name": "FloatProgressModel",
          "state": {
            "_view_name": "ProgressView",
            "style": "IPY_MODEL_65479d6441be40e18589a10bb3d0c784",
            "_dom_classes": [],
            "description": "Computing transition probabilities: 100%",
            "_model_name": "FloatProgressModel",
            "bar_style": "success",
            "max": 75,
            "_view_module": "@jupyter-widgets/controls",
            "_model_module_version": "1.5.0",
            "value": 75,
            "_view_count": null,
            "_view_module_version": "1.5.0",
            "orientation": "horizontal",
            "min": 0,
            "description_tooltip": null,
            "_model_module": "@jupyter-widgets/controls",
            "layout": "IPY_MODEL_d94817a299014cfe9f7b40c8591506f3"
          }
        },
        "fcbf584d99b2459a9b4018d9beba539f": {
          "model_module": "@jupyter-widgets/controls",
          "model_name": "HTMLModel",
          "state": {
            "_view_name": "HTMLView",
            "style": "IPY_MODEL_97a6ee19acb0446484e8440c964a19b7",
            "_dom_classes": [],
            "description": "",
            "_model_name": "HTMLModel",
            "placeholder": "​",
            "_view_module": "@jupyter-widgets/controls",
            "_model_module_version": "1.5.0",
            "value": " 75/75 [00:02&lt;00:00, 36.71it/s]",
            "_view_count": null,
            "_view_module_version": "1.5.0",
            "description_tooltip": null,
            "_model_module": "@jupyter-widgets/controls",
            "layout": "IPY_MODEL_f375bba6956c41da93f05d112c62275d"
          }
        },
        "65479d6441be40e18589a10bb3d0c784": {
          "model_module": "@jupyter-widgets/controls",
          "model_name": "ProgressStyleModel",
          "state": {
            "_view_name": "StyleView",
            "_model_name": "ProgressStyleModel",
            "description_width": "initial",
            "_view_module": "@jupyter-widgets/base",
            "_model_module_version": "1.5.0",
            "_view_count": null,
            "_view_module_version": "1.2.0",
            "bar_color": null,
            "_model_module": "@jupyter-widgets/controls"
          }
        },
        "d94817a299014cfe9f7b40c8591506f3": {
          "model_module": "@jupyter-widgets/base",
          "model_name": "LayoutModel",
          "state": {
            "_view_name": "LayoutView",
            "grid_template_rows": null,
            "right": null,
            "justify_content": null,
            "_view_module": "@jupyter-widgets/base",
            "overflow": null,
            "_model_module_version": "1.2.0",
            "_view_count": null,
            "flex_flow": null,
            "width": null,
            "min_width": null,
            "border": null,
            "align_items": null,
            "bottom": null,
            "_model_module": "@jupyter-widgets/base",
            "top": null,
            "grid_column": null,
            "overflow_y": null,
            "overflow_x": null,
            "grid_auto_flow": null,
            "grid_area": null,
            "grid_template_columns": null,
            "flex": null,
            "_model_name": "LayoutModel",
            "justify_items": null,
            "grid_row": null,
            "max_height": null,
            "align_content": null,
            "visibility": null,
            "align_self": null,
            "height": null,
            "min_height": null,
            "padding": null,
            "grid_auto_rows": null,
            "grid_gap": null,
            "max_width": null,
            "order": null,
            "_view_module_version": "1.2.0",
            "grid_template_areas": null,
            "object_position": null,
            "object_fit": null,
            "grid_auto_columns": null,
            "margin": null,
            "display": null,
            "left": null
          }
        },
        "97a6ee19acb0446484e8440c964a19b7": {
          "model_module": "@jupyter-widgets/controls",
          "model_name": "DescriptionStyleModel",
          "state": {
            "_view_name": "StyleView",
            "_model_name": "DescriptionStyleModel",
            "description_width": "",
            "_view_module": "@jupyter-widgets/base",
            "_model_module_version": "1.5.0",
            "_view_count": null,
            "_view_module_version": "1.2.0",
            "_model_module": "@jupyter-widgets/controls"
          }
        },
        "f375bba6956c41da93f05d112c62275d": {
          "model_module": "@jupyter-widgets/base",
          "model_name": "LayoutModel",
          "state": {
            "_view_name": "LayoutView",
            "grid_template_rows": null,
            "right": null,
            "justify_content": null,
            "_view_module": "@jupyter-widgets/base",
            "overflow": null,
            "_model_module_version": "1.2.0",
            "_view_count": null,
            "flex_flow": null,
            "width": null,
            "min_width": null,
            "border": null,
            "align_items": null,
            "bottom": null,
            "_model_module": "@jupyter-widgets/base",
            "top": null,
            "grid_column": null,
            "overflow_y": null,
            "overflow_x": null,
            "grid_auto_flow": null,
            "grid_area": null,
            "grid_template_columns": null,
            "flex": null,
            "_model_name": "LayoutModel",
            "justify_items": null,
            "grid_row": null,
            "max_height": null,
            "align_content": null,
            "visibility": null,
            "align_self": null,
            "height": null,
            "min_height": null,
            "padding": null,
            "grid_auto_rows": null,
            "grid_gap": null,
            "max_width": null,
            "order": null,
            "_view_module_version": "1.2.0",
            "grid_template_areas": null,
            "object_position": null,
            "object_fit": null,
            "grid_auto_columns": null,
            "margin": null,
            "display": null,
            "left": null
          }
        }
      }
    }
  },
  "cells": [
    {
      "cell_type": "markdown",
      "metadata": {
        "id": "qStcba13duQl"
      },
      "source": [
        "<a href=\"https://colab.research.google.com/github/arangodb/interactive_tutorials/blob/master/notebooks/Graph_Retail_Descriptive_Analytics.ipynb\" target=\"_parent\"><img src=\"https://colab.research.google.com/assets/colab-badge.svg\" alt=\"Open In Colab\"/></a>"
      ]
    },
    {
      "cell_type": "code",
      "metadata": {
        "id": "NHiPYjvmjnZT"
      },
      "source": [
        "%%capture\n",
        "!git clone -b retail_data_branch --single-branch https://github.com/arangodb/interactive_tutorials.git\n",
        "!rsync -av  interactive_tutorials/notebooks/data  rsync -av interactive_tutorials/notebooks/tools interactive_tutorials/notebooks/img ./ --exclude=.git\n",
        "!pip install python-arango\n",
        "!pip install arangopipe==0.0.6.9.5\n",
        "!pip install pandas PyYAML==5.1.1 sklearn2\n",
        "!pip install jsonpickle\n",
        "!pip3 install networkx\n",
        "!pip3 install matplotlib\n",
        "!pip3 install adbnx-adapter\n",
        "!pip install seaborn\n",
        "!pip install node2vec\n",
        "!pip install hdbscan\n",
        "!pip install pyclustertend\n",
        "!chmod a+x tools/* "
      ],
      "execution_count": 1,
      "outputs": []
    },
    {
      "cell_type": "markdown",
      "metadata": {
        "id": "aJzmd0jzryRL"
      },
      "source": [
        "# Overview\n",
        "In the previous notebook, characteristic features of the frequent shopper group were identified using ideas used to characterize bi-partitite graphs, and, networks in general. In particular, we are able to identify the customer and the item projection graphs as _small world networks_. _Small world networks_ have higher clustering coefficients than _Erdos Renyi_ random graphs. In _small world networks_ , (Watts-Strogatz) most nodes have similar degrees. A small set of nodes have high degrees. A small set of nodes have low degrees. Such a distribution of degrees has a familiar bell-shaped structure. This was what we observed when the degree distributions of the graphs were plotted. Small world networks have _cliques_. This was also observed and identified in the previous notebook. Unlike _scale free_ networks, _small world_ networks do not have _hubs_. _Hubs_ refer to nodes with very high degrees. As a very high degree would imply, _hub_ nodes are attached to many other nodes. In a small world network, most nodes have a similar range of degrees. In contrast, in _scale free_ networks have a small set of nodes with very high degrees with most nodes having low degrees. Such a structure when plotted shows a lot of clustering around the hubs. In contrast, a _small world_ network would have a similar range of nodes connecting to most nodes in the network. _Graph embedding_ methods can be used to determine a _Euclidean_ representation of graph nodes. This permits us to apply a body of machine learning methods to perform machine learning tasks as well as data analysis tasks. For example, we can apply a visualization technique, such as the _t Stochastic Neighborhood Embedding (tSNE)_ to visualize the nodes in the graph. In a _scale free network_ hubs would manifest as nodes with a very high density of neighbors. In contrast, nodes in a _small world_ network have a similar range of neighbors. When visualized, we will note that most nodes are _close_, in a distance sense of the word, to a similar number of nodes. In this notebook, we will show that the _frequent shopper network_ has the characteristics associated with a _small world network_. Applications or tasks we need to perform on the network, for example, diffusion of information through the network, depend on the _type_ (small world, scale-free etc.). Therefore, characterizing the network and identifying its type can be very important for tasks that we want to perform on it. In this case, for example, we may be interested in how best we can get customers to purchase products they have not purchased before. Compaines have finite budgets for advertisement and marketing. The type of network topology influences the most effective strategy for a task (see [this paper](http://citeseerx.ist.psu.edu/viewdoc/summary?doi=10.1.1.92.6410), for example). We will also illustrate that _cliques_ are pervasive in the _frequent shopper_ group by visualizng the adjacency matrix associated with customer and item purchase graph. As mentioned earlier, in a small world network, most nodes have similar degrees. The nodes with very high and very low degrees are therefore unusual. We will use an anomaly detection method to identify these nodes."
      ]
    },
    {
      "cell_type": "markdown",
      "metadata": {
        "id": "IFps0hxc6TSv"
      },
      "source": [
        "## Load Data from Previous Analysis"
      ]
    },
    {
      "cell_type": "code",
      "metadata": {
        "colab": {
          "base_uri": "https://localhost:8080/"
        },
        "id": "d2thBMSe5rGB",
        "outputId": "2b24e6ac-cfc0-4e92-aff0-3bc9795833b2"
      },
      "source": [
        "from arangopipe.arangopipe_storage.arangopipe_api import ArangoPipe\n",
        "from arangopipe.arangopipe_storage.arangopipe_admin_api import ArangoPipeAdmin\n",
        "from arangopipe.arangopipe_storage.arangopipe_config import ArangoPipeConfig\n",
        "from arangopipe.arangopipe_storage.managed_service_conn_parameters import ManagedServiceConnParam\n",
        "mdb_config = ArangoPipeConfig()\n",
        "msc = ManagedServiceConnParam()\n",
        "conn_params = { msc.DB_SERVICE_HOST : \"arangoml.arangodb.cloud\", \\\n",
        "                        msc.DB_SERVICE_END_POINT : \"createDB\",\\\n",
        "                        msc.DB_SERVICE_NAME : \"createDB\",\\\n",
        "                        msc.DB_SERVICE_PORT : 8529,\\\n",
        "                        msc.DB_CONN_PROTOCOL : 'https',\\\n",
        "                        msc.DB_REPLICATION_FACTOR: 3}\n",
        "        \n",
        "mdb_config = mdb_config.create_connection_config(conn_params)\n",
        "admin = ArangoPipeAdmin(reuse_connection = False, config = mdb_config)\n",
        "ap_config = admin.get_config()\n",
        "ap = ArangoPipe(config = ap_config)\n",
        "proj_info = {\"name\": \"Retail_Graph_Analytics\"}\n",
        "proj_reg = admin.register_project(proj_info)\n",
        "mdb_config.get_cfg()"
      ],
      "execution_count": 2,
      "outputs": [
        {
          "output_type": "stream",
          "text": [
            "/usr/local/lib/python3.7/dist-packages/requests/__init__.py:91: RequestsDependencyWarning: urllib3 (1.26.6) or chardet (3.0.4) doesn't match a supported version!\n",
            "  RequestsDependencyWarning)\n"
          ],
          "name": "stderr"
        },
        {
          "output_type": "stream",
          "text": [
            "API endpoint: https://arangoml.arangodb.cloud:8529/_db/_system/createDB/createDB\n"
          ],
          "name": "stdout"
        },
        {
          "output_type": "stream",
          "text": [
            "/usr/local/lib/python3.7/dist-packages/urllib3/connectionpool.py:1020: InsecureRequestWarning: Unverified HTTPS request is being made to host 'arangoml.arangodb.cloud'. Adding certificate verification is strongly advised. See: https://urllib3.readthedocs.io/en/1.26.x/advanced-usage.html#ssl-warnings\n",
            "  InsecureRequestWarning,\n"
          ],
          "name": "stderr"
        },
        {
          "output_type": "stream",
          "text": [
            "Host Connection: https://arangoml.arangodb.cloud:8529\n"
          ],
          "name": "stdout"
        },
        {
          "output_type": "execute_result",
          "data": {
            "text/plain": [
              "{'arangodb': {'DB_end_point': 'createDB',\n",
              "  'DB_service_host': 'arangoml.arangodb.cloud',\n",
              "  'DB_service_name': 'createDB',\n",
              "  'DB_service_port': 8529,\n",
              "  'arangodb_replication_factor': 3,\n",
              "  'conn_protocol': 'https',\n",
              "  'dbName': 'ML6pj6prg7m7hmvi0ld4z46',\n",
              "  'password': 'MLqtielnr2cfiqup55om8zp9',\n",
              "  'username': 'MLcjlg9y2vhj4ja9s4joq1gm'},\n",
              " 'mlgraph': {'graphname': 'enterprise_ml_graph'}}"
            ]
          },
          "metadata": {
            "tags": []
          },
          "execution_count": 2
        }
      ]
    },
    {
      "cell_type": "code",
      "metadata": {
        "id": "4JTETOMT57Zq"
      },
      "source": [
        "conn = mdb_config.get_cfg()\n",
        "login = conn['arangodb']"
      ],
      "execution_count": 3,
      "outputs": []
    },
    {
      "cell_type": "code",
      "metadata": {
        "colab": {
          "base_uri": "https://localhost:8080/"
        },
        "id": "9CQmssQz6EtW",
        "outputId": "f9719747-e858-4825-9cb2-17eb0d5d51db"
      },
      "source": [
        "login"
      ],
      "execution_count": 4,
      "outputs": [
        {
          "output_type": "execute_result",
          "data": {
            "text/plain": [
              "{'DB_end_point': 'createDB',\n",
              " 'DB_service_host': 'arangoml.arangodb.cloud',\n",
              " 'DB_service_name': 'createDB',\n",
              " 'DB_service_port': 8529,\n",
              " 'arangodb_replication_factor': 3,\n",
              " 'conn_protocol': 'https',\n",
              " 'dbName': 'ML6pj6prg7m7hmvi0ld4z46',\n",
              " 'password': 'MLqtielnr2cfiqup55om8zp9',\n",
              " 'username': 'MLcjlg9y2vhj4ja9s4joq1gm'}"
            ]
          },
          "metadata": {
            "tags": []
          },
          "execution_count": 4
        }
      ]
    },
    {
      "cell_type": "code",
      "metadata": {
        "id": "TC-fSOh2sh7E"
      },
      "source": [
        "!chmod -R 755 ./tools/*"
      ],
      "execution_count": 5,
      "outputs": []
    },
    {
      "cell_type": "code",
      "metadata": {
        "colab": {
          "base_uri": "https://localhost:8080/"
        },
        "id": "8B_UyOPFmnhA",
        "outputId": "e0a284d6-fa31-40ca-efae-8a3467abaeba"
      },
      "source": [
        "# Restore an ArangoDB dump into the database.\n",
        "!./tools/arangorestore  -c none --server.endpoint  http+ssl://{login[\"DB_service_host\"]}:{login[\"DB_service_port\"]} --server.username {login[\"username\"]} \\\n",
        "--server.database {login[\"dbName\"]} \\\n",
        "--server.password {login[\"password\"]} \\\n",
        "--replication-factor 3  \\\n",
        "--input-directory \"data/retail_freq_cust_data_dump_eonb3\""
      ],
      "execution_count": 6,
      "outputs": [
        {
          "output_type": "stream",
          "text": [
            "\u001b[0m2021-07-09T03:20:09Z [312] INFO [05c30] {restore} Connected to ArangoDB 'http+ssl://arangoml.arangodb.cloud:8529'\n",
            "\u001b[0m\u001b[0m2021-07-09T03:20:09Z [312] INFO [abeb4] {restore} Database name in source dump is 'MLnwgtri2tuneobbqf0hw4b'\n",
            "\u001b[0m\u001b[0m2021-07-09T03:20:09Z [312] INFO [9b414] {restore} # Re-creating document collection 'Customers'...\n",
            "\u001b[0m\u001b[0m2021-07-09T03:20:10Z [312] INFO [9b414] {restore} # Re-creating document collection 'datasets'...\n",
            "\u001b[0m\u001b[0m2021-07-09T03:20:10Z [312] INFO [9b414] {restore} # Re-creating document collection 'deployment'...\n",
            "\u001b[0m\u001b[0m2021-07-09T03:20:11Z [312] INFO [9b414] {restore} # Re-creating document collection 'devperf'...\n",
            "\u001b[0m\u001b[0m2021-07-09T03:20:12Z [312] INFO [9b414] {restore} # Re-creating document collection 'featuresets'...\n",
            "\u001b[0m\u001b[0m2021-07-09T03:20:12Z [312] INFO [9b414] {restore} # Re-creating document collection 'Items'...\n",
            "\u001b[0m\u001b[0m2021-07-09T03:20:13Z [312] INFO [9b414] {restore} # Re-creating document collection 'modelparams'...\n",
            "\u001b[0m\u001b[0m2021-07-09T03:20:13Z [312] INFO [9b414] {restore} # Re-creating document collection 'models'...\n",
            "\u001b[0m\u001b[0m2021-07-09T03:20:14Z [312] INFO [9b414] {restore} # Re-creating document collection 'project'...\n",
            "\u001b[0m\u001b[0m2021-07-09T03:20:14Z [312] INFO [9b414] {restore} # Re-creating document collection 'run'...\n",
            "\u001b[0m\u001b[0m2021-07-09T03:20:15Z [312] INFO [9b414] {restore} # Re-creating document collection 'servingperf'...\n",
            "\u001b[0m\u001b[0m2021-07-09T03:20:15Z [312] INFO [9b414] {restore} # Re-creating edge collection 'deployment_featureset'...\n",
            "\u001b[0m\u001b[0m2021-07-09T03:20:16Z [312] INFO [9b414] {restore} # Re-creating edge collection 'deployment_model'...\n",
            "\u001b[0m\u001b[0m2021-07-09T03:20:16Z [312] INFO [9b414] {restore} # Re-creating edge collection 'deployment_modelparams'...\n",
            "\u001b[0m\u001b[0m2021-07-09T03:20:17Z [312] INFO [9b414] {restore} # Re-creating edge collection 'deployment_servingperf'...\n",
            "\u001b[0m\u001b[0m2021-07-09T03:20:17Z [312] INFO [9b414] {restore} # Re-creating edge collection 'featureset_dataset'...\n",
            "\u001b[0m\u001b[0m2021-07-09T03:20:18Z [312] INFO [9b414] {restore} # Re-creating edge collection 'project_models'...\n",
            "\u001b[0m\u001b[0m2021-07-09T03:20:19Z [312] INFO [9b414] {restore} # Re-creating edge collection 'Purchases'...\n",
            "\u001b[0m\u001b[0m2021-07-09T03:20:19Z [312] INFO [9b414] {restore} # Re-creating edge collection 'run_datasets'...\n",
            "\u001b[0m\u001b[0m2021-07-09T03:20:20Z [312] INFO [9b414] {restore} # Re-creating edge collection 'run_devperf'...\n",
            "\u001b[0m\u001b[0m2021-07-09T03:20:20Z [312] INFO [9b414] {restore} # Re-creating edge collection 'run_featuresets'...\n",
            "\u001b[0m\u001b[0m2021-07-09T03:20:21Z [312] INFO [9b414] {restore} # Re-creating edge collection 'run_modelparams'...\n",
            "\u001b[0m\u001b[0m2021-07-09T03:20:21Z [312] INFO [9b414] {restore} # Re-creating edge collection 'run_models'...\n",
            "\u001b[0m\u001b[0m2021-07-09T03:20:22Z [312] INFO [6d69f] {restore} # Dispatched 23 job(s), using 2 worker(s)\n",
            "\u001b[0m\u001b[0m2021-07-09T03:20:22Z [312] INFO [94913] {restore} # Loading data into document collection 'Customers', data size: 4300 byte(s)\n",
            "\u001b[0m\u001b[0m2021-07-09T03:20:22Z [312] INFO [94913] {restore} # Loading data into document collection 'datasets', data size: 304 byte(s)\n",
            "\u001b[0m\u001b[0m2021-07-09T03:20:22Z [312] INFO [6ae09] {restore} # Successfully restored document collection 'datasets'\n",
            "\u001b[0m\u001b[0m2021-07-09T03:20:22Z [312] INFO [94913] {restore} # Loading data into document collection 'deployment', data size: 20 byte(s)\n",
            "\u001b[0m\u001b[0m2021-07-09T03:20:22Z [312] INFO [6ae09] {restore} # Successfully restored document collection 'deployment'\n",
            "\u001b[0m\u001b[0m2021-07-09T03:20:22Z [312] INFO [94913] {restore} # Loading data into document collection 'devperf', data size: 578 byte(s)\n",
            "\u001b[0m\u001b[0m2021-07-09T03:20:22Z [312] INFO [6ae09] {restore} # Successfully restored document collection 'Customers'\n",
            "\u001b[0m\u001b[0m2021-07-09T03:20:22Z [312] INFO [94913] {restore} # Loading data into document collection 'featuresets', data size: 272 byte(s)\n",
            "\u001b[0m\u001b[0m2021-07-09T03:20:22Z [312] INFO [6ae09] {restore} # Successfully restored document collection 'devperf'\n",
            "\u001b[0m\u001b[0m2021-07-09T03:20:22Z [312] INFO [94913] {restore} # Loading data into document collection 'Items', data size: 821 byte(s)\n",
            "\u001b[0m\u001b[0m2021-07-09T03:20:22Z [312] INFO [6ae09] {restore} # Successfully restored document collection 'featuresets'\n",
            "\u001b[0m\u001b[0m2021-07-09T03:20:22Z [312] INFO [94913] {restore} # Loading data into document collection 'modelparams', data size: 271 byte(s)\n",
            "\u001b[0m\u001b[0m2021-07-09T03:20:22Z [312] INFO [6ae09] {restore} # Successfully restored document collection 'Items'\n",
            "\u001b[0m\u001b[0m2021-07-09T03:20:22Z [312] INFO [94913] {restore} # Loading data into document collection 'models', data size: 162786 byte(s)\n",
            "\u001b[0m\u001b[0m2021-07-09T03:20:22Z [312] INFO [6ae09] {restore} # Successfully restored document collection 'modelparams'\n",
            "\u001b[0m\u001b[0m2021-07-09T03:20:22Z [312] INFO [94913] {restore} # Loading data into document collection 'project', data size: 125 byte(s)\n",
            "\u001b[0m\u001b[0m2021-07-09T03:20:22Z [312] INFO [6ae09] {restore} # Successfully restored document collection 'project'\n",
            "\u001b[0m\u001b[0m2021-07-09T03:20:22Z [312] INFO [94913] {restore} # Loading data into document collection 'run', data size: 302 byte(s)\n",
            "\u001b[0m\u001b[0m2021-07-09T03:20:22Z [312] INFO [6ae09] {restore} # Successfully restored document collection 'run'\n",
            "\u001b[0m\u001b[0m2021-07-09T03:20:22Z [312] INFO [94913] {restore} # Loading data into document collection 'servingperf', data size: 20 byte(s)\n",
            "\u001b[0m\u001b[0m2021-07-09T03:20:22Z [312] INFO [6ae09] {restore} # Successfully restored document collection 'servingperf'\n",
            "\u001b[0m\u001b[0m2021-07-09T03:20:22Z [312] INFO [94913] {restore} # Loading data into edge collection 'deployment_featureset', data size: 20 byte(s)\n",
            "\u001b[0m\u001b[0m2021-07-09T03:20:22Z [312] INFO [6ae09] {restore} # Successfully restored edge collection 'deployment_featureset'\n",
            "\u001b[0m\u001b[0m2021-07-09T03:20:22Z [312] INFO [94913] {restore} # Loading data into edge collection 'deployment_model', data size: 20 byte(s)\n",
            "\u001b[0m\u001b[0m2021-07-09T03:20:22Z [312] INFO [6ae09] {restore} # Successfully restored edge collection 'deployment_model'\n",
            "\u001b[0m\u001b[0m2021-07-09T03:20:22Z [312] INFO [94913] {restore} # Loading data into edge collection 'deployment_modelparams', data size: 20 byte(s)\n",
            "\u001b[0m\u001b[0m2021-07-09T03:20:22Z [312] INFO [6ae09] {restore} # Successfully restored edge collection 'deployment_modelparams'\n",
            "\u001b[0m\u001b[0m2021-07-09T03:20:22Z [312] INFO [94913] {restore} # Loading data into edge collection 'deployment_servingperf', data size: 20 byte(s)\n",
            "\u001b[0m\u001b[0m2021-07-09T03:20:22Z [312] INFO [6ae09] {restore} # Successfully restored edge collection 'deployment_servingperf'\n",
            "\u001b[0m\u001b[0m2021-07-09T03:20:22Z [312] INFO [94913] {restore} # Loading data into edge collection 'featureset_dataset', data size: 165 byte(s)\n",
            "\u001b[0m\u001b[0m2021-07-09T03:20:22Z [312] INFO [6ae09] {restore} # Successfully restored edge collection 'featureset_dataset'\n",
            "\u001b[0m\u001b[0m2021-07-09T03:20:22Z [312] INFO [94913] {restore} # Loading data into edge collection 'project_models', data size: 172 byte(s)\n",
            "\u001b[0m\u001b[0m2021-07-09T03:20:22Z [312] INFO [6ae09] {restore} # Successfully restored document collection 'models'\n",
            "\u001b[0m\u001b[0m2021-07-09T03:20:22Z [312] INFO [94913] {restore} # Loading data into edge collection 'Purchases', data size: 80960 byte(s)\n",
            "\u001b[0m\u001b[0m2021-07-09T03:20:22Z [312] INFO [6ae09] {restore} # Successfully restored edge collection 'project_models'\n",
            "\u001b[0m\u001b[0m2021-07-09T03:20:22Z [312] INFO [94913] {restore} # Loading data into edge collection 'run_datasets', data size: 251 byte(s)\n",
            "\u001b[0m\u001b[0m2021-07-09T03:20:23Z [312] INFO [6ae09] {restore} # Successfully restored edge collection 'run_datasets'\n",
            "\u001b[0m\u001b[0m2021-07-09T03:20:23Z [312] INFO [94913] {restore} # Loading data into edge collection 'run_devperf', data size: 253 byte(s)\n",
            "\u001b[0m\u001b[0m2021-07-09T03:20:23Z [312] INFO [6ae09] {restore} # Successfully restored edge collection 'run_devperf'\n",
            "\u001b[0m\u001b[0m2021-07-09T03:20:23Z [312] INFO [94913] {restore} # Loading data into edge collection 'run_featuresets', data size: 252 byte(s)\n",
            "\u001b[0m\u001b[0m2021-07-09T03:20:23Z [312] INFO [6ae09] {restore} # Successfully restored edge collection 'run_featuresets'\n",
            "\u001b[0m\u001b[0m2021-07-09T03:20:23Z [312] INFO [94913] {restore} # Loading data into edge collection 'run_modelparams', data size: 257 byte(s)\n",
            "\u001b[0m\u001b[0m2021-07-09T03:20:23Z [312] INFO [6ae09] {restore} # Successfully restored edge collection 'run_modelparams'\n",
            "\u001b[0m\u001b[0m2021-07-09T03:20:23Z [312] INFO [94913] {restore} # Loading data into edge collection 'run_models', data size: 253 byte(s)\n",
            "\u001b[0m\u001b[0m2021-07-09T03:20:23Z [312] INFO [6ae09] {restore} # Successfully restored edge collection 'run_models'\n",
            "\u001b[0m\u001b[0m2021-07-09T03:20:23Z [312] INFO [6ae09] {restore} # Successfully restored edge collection 'Purchases'\n",
            "\u001b[0m\u001b[0m2021-07-09T03:20:23Z [312] INFO [a66e1] {restore} Processed 23 collection(s) in 14.888668 s, read 1022942 byte(s) from datafiles, sent 17 data batch(es) of 1022925 byte(s) total size\n",
            "\u001b[0m"
          ],
          "name": "stdout"
        }
      ]
    },
    {
      "cell_type": "markdown",
      "metadata": {
        "id": "OJ8cVuae6TSz"
      },
      "source": [
        "## Create the Customer Projected Graph in Networkx"
      ]
    },
    {
      "cell_type": "code",
      "metadata": {
        "id": "y6DZwUz9pMo5"
      },
      "source": [
        "import networkx as nx\n",
        "import pandas as pd\n",
        "fp = \"data/customer_projected_graph.csv\"\n",
        "df = pd.read_csv(fp)"
      ],
      "execution_count": 7,
      "outputs": []
    },
    {
      "cell_type": "code",
      "metadata": {
        "id": "LAxO4DmEpk6K"
      },
      "source": [
        "cpg = nx.from_pandas_edgelist(df)"
      ],
      "execution_count": 8,
      "outputs": []
    },
    {
      "cell_type": "code",
      "metadata": {
        "colab": {
          "base_uri": "https://localhost:8080/"
        },
        "id": "MMOP591SrNBo",
        "outputId": "7fb2f399-b2e9-4422-8134-b157354413a9"
      },
      "source": [
        "cpg.number_of_nodes()"
      ],
      "execution_count": 9,
      "outputs": [
        {
          "output_type": "execute_result",
          "data": {
            "text/plain": [
              "437"
            ]
          },
          "metadata": {
            "tags": []
          },
          "execution_count": 9
        }
      ]
    },
    {
      "cell_type": "markdown",
      "metadata": {
        "id": "DcoyKeT96TS0"
      },
      "source": [
        "## Generate the Embedding for the Customer Projection Graph with Node2Vec"
      ]
    },
    {
      "cell_type": "code",
      "metadata": {
        "colab": {
          "base_uri": "https://localhost:8080/",
          "height": 66,
          "referenced_widgets": [
            "78bac1b3072a4d488c0c41dd3079d812",
            "dd8650beb4504ce6a677a35b10f5e0a3",
            "7de3d6b6ca4a4a5ba0f4f6cda91324d2",
            "3b680664fff749e9bdb9bc869edae347",
            "690168386de6421eb27706666f441617",
            "1379a87e2d604e549467acef8a7c5095",
            "fa49187ed81c403dac1f57e43f50bacb",
            "b964e1089b424ce3a064ebb720887fed"
          ]
        },
        "id": "75KE93voJwVx",
        "outputId": "48f079ee-5d7a-4062-e648-cdd392625903"
      },
      "source": [
        "from node2vec import Node2Vec\n",
        "node2vec = Node2Vec(cpg, dimensions=32, walk_length=10, num_walks=100, workers=4)"
      ],
      "execution_count": 10,
      "outputs": [
        {
          "output_type": "display_data",
          "data": {
            "application/vnd.jupyter.widget-view+json": {
              "model_id": "78bac1b3072a4d488c0c41dd3079d812",
              "version_minor": 0,
              "version_major": 2
            },
            "text/plain": [
              "HBox(children=(FloatProgress(value=0.0, description='Computing transition probabilities', max=437.0, style=Pro…"
            ]
          },
          "metadata": {
            "tags": []
          }
        },
        {
          "output_type": "stream",
          "text": [
            "\n"
          ],
          "name": "stdout"
        }
      ]
    },
    {
      "cell_type": "code",
      "metadata": {
        "id": "EpkQQLCZKuEC"
      },
      "source": [
        "model = node2vec.fit(window=10, min_count=1, batch_words=4)"
      ],
      "execution_count": 11,
      "outputs": []
    },
    {
      "cell_type": "code",
      "metadata": {
        "id": "qdXkqqgyLS0P"
      },
      "source": [
        "customer_emb = { n: list(model.wv.get_vector(n)) for n in cpg.nodes()}"
      ],
      "execution_count": 12,
      "outputs": []
    },
    {
      "cell_type": "markdown",
      "metadata": {
        "id": "2G1d2Nvz6TS1"
      },
      "source": [
        "## Visualize the Customer Projection Graph with tSNE"
      ]
    },
    {
      "cell_type": "code",
      "metadata": {
        "colab": {
          "base_uri": "https://localhost:8080/",
          "height": 599
        },
        "id": "FZKBEXQKLmQ2",
        "outputId": "fe2aabd0-826f-48d0-bc0a-3db61013e0fd"
      },
      "source": [
        "import numpy as np\n",
        "import matplotlib.pyplot as plt\n",
        "from matplotlib  import cm\n",
        "from sklearn.manifold import TSNE\n",
        "import seaborn as sns\n",
        "fig = plt.figure(figsize=(11.7,8.27))\n",
        "plt.grid(True)\n",
        "plt.xlabel(\"Comp 1\")\n",
        "plt.ylabel(\"Comp 2\")\n",
        "plt.title(\"tSNE plot of customer embedddings\")\n",
        "cust_embedded = TSNE(n_components=2).fit_transform(list(customer_emb.values()))\n",
        "sns.scatterplot(cust_embedded[:,0], cust_embedded[:,1])"
      ],
      "execution_count": 13,
      "outputs": [
        {
          "output_type": "stream",
          "text": [
            "/usr/local/lib/python3.7/dist-packages/seaborn/_decorators.py:43: FutureWarning: Pass the following variables as keyword args: x, y. From version 0.12, the only valid positional argument will be `data`, and passing other arguments without an explicit keyword will result in an error or misinterpretation.\n",
            "  FutureWarning\n"
          ],
          "name": "stderr"
        },
        {
          "output_type": "execute_result",
          "data": {
            "text/plain": [
              "<matplotlib.axes._subplots.AxesSubplot at 0x7fc72acd0fd0>"
            ]
          },
          "metadata": {
            "tags": []
          },
          "execution_count": 13
        },
        {
          "output_type": "display_data",
          "data": {
            "image/png": "[encoded data removed]",
            "text/plain": [
              "<Figure size 842.4x595.44 with 1 Axes>"
            ]
          },
          "metadata": {
            "tags": [],
            "needs_background": "light"
          }
        }
      ]
    },
    {
      "cell_type": "markdown",
      "metadata": {
        "id": "ka0og6DJ6TS2"
      },
      "source": [
        "## Load the Item Projected Graph"
      ]
    },
    {
      "cell_type": "code",
      "metadata": {
        "id": "KSmGEZGYMr3A"
      },
      "source": [
        "fp = \"data/item_projected_graph.csv\"\n",
        "df = pd.read_csv(fp)"
      ],
      "execution_count": 14,
      "outputs": []
    },
    {
      "cell_type": "code",
      "metadata": {
        "id": "9_U73Rw3M-fl"
      },
      "source": [
        "ipg = nx.from_pandas_edgelist(df)"
      ],
      "execution_count": 15,
      "outputs": []
    },
    {
      "cell_type": "code",
      "metadata": {
        "colab": {
          "base_uri": "https://localhost:8080/"
        },
        "id": "dE-uIeOTNEAG",
        "outputId": "398bb84a-e715-4964-abee-9993cbcd8d52"
      },
      "source": [
        "ipg.number_of_nodes()"
      ],
      "execution_count": 16,
      "outputs": [
        {
          "output_type": "execute_result",
          "data": {
            "text/plain": [
              "75"
            ]
          },
          "metadata": {
            "tags": []
          },
          "execution_count": 16
        }
      ]
    },
    {
      "cell_type": "markdown",
      "metadata": {
        "id": "ohb9aBHc6TS3"
      },
      "source": [
        "## Generate the Embedding for the Item Projection Graph with Node2Vec"
      ]
    },
    {
      "cell_type": "code",
      "metadata": {
        "colab": {
          "base_uri": "https://localhost:8080/",
          "height": 66,
          "referenced_widgets": [
            "a978f8739a9b4ec196f83418079f00a6",
            "c16e10f8d09049c6a96aacdadcd4cd57",
            "50aebae4bb994c9b8533d592615dc755",
            "fcbf584d99b2459a9b4018d9beba539f",
            "65479d6441be40e18589a10bb3d0c784",
            "d94817a299014cfe9f7b40c8591506f3",
            "97a6ee19acb0446484e8440c964a19b7",
            "f375bba6956c41da93f05d112c62275d"
          ]
        },
        "id": "3DK_db0eNJN-",
        "outputId": "39de5f6b-af93-472b-da56-69cf59fc837f"
      },
      "source": [
        "node2vec = Node2Vec(ipg, dimensions=32, walk_length=10, num_walks=100, workers=4)"
      ],
      "execution_count": 17,
      "outputs": [
        {
          "output_type": "display_data",
          "data": {
            "application/vnd.jupyter.widget-view+json": {
              "model_id": "a978f8739a9b4ec196f83418079f00a6",
              "version_minor": 0,
              "version_major": 2
            },
            "text/plain": [
              "HBox(children=(FloatProgress(value=0.0, description='Computing transition probabilities', max=75.0, style=Prog…"
            ]
          },
          "metadata": {
            "tags": []
          }
        },
        {
          "output_type": "stream",
          "text": [
            "\n"
          ],
          "name": "stdout"
        }
      ]
    },
    {
      "cell_type": "code",
      "metadata": {
        "id": "8MPxzr8COC1w"
      },
      "source": [
        "model = node2vec.fit(window=10, min_count=1, batch_words=4)"
      ],
      "execution_count": 18,
      "outputs": []
    },
    {
      "cell_type": "code",
      "metadata": {
        "id": "qzWYmHztOVoY"
      },
      "source": [
        "item_embedding = { n: list(model.wv.get_vector(n)) for n in ipg.nodes()}"
      ],
      "execution_count": 19,
      "outputs": []
    },
    {
      "cell_type": "code",
      "metadata": {
        "colab": {
          "base_uri": "https://localhost:8080/",
          "height": 599
        },
        "id": "UbHE_yFBO4S8",
        "outputId": "e89848c6-a1f6-426c-d997-124cf4ac8b08"
      },
      "source": [
        "fig = plt.figure(figsize=(11.7,8.27))\n",
        "plt.grid(True)\n",
        "plt.xlabel(\"Comp 1\")\n",
        "plt.ylabel(\"Comp 2\")\n",
        "plt.title(\"tSNE plot of item embedddings\")\n",
        "item_embedded = TSNE(n_components=2).fit_transform(list(item_embedding.values()))\n",
        "sns.scatterplot(item_embedded[:,0], item_embedded[:,1])"
      ],
      "execution_count": 20,
      "outputs": [
        {
          "output_type": "stream",
          "text": [
            "/usr/local/lib/python3.7/dist-packages/seaborn/_decorators.py:43: FutureWarning: Pass the following variables as keyword args: x, y. From version 0.12, the only valid positional argument will be `data`, and passing other arguments without an explicit keyword will result in an error or misinterpretation.\n",
            "  FutureWarning\n"
          ],
          "name": "stderr"
        },
        {
          "output_type": "execute_result",
          "data": {
            "text/plain": [
              "<matplotlib.axes._subplots.AxesSubplot at 0x7fc72a712ad0>"
            ]
          },
          "metadata": {
            "tags": []
          },
          "execution_count": 20
        },
        {
          "output_type": "display_data",
          "data": {
            "image/png": "[encoded data removed]",
            "text/plain": [
              "<Figure size 842.4x595.44 with 1 Axes>"
            ]
          },
          "metadata": {
            "tags": [],
            "needs_background": "light"
          }
        }
      ]
    },
    {
      "cell_type": "markdown",
      "metadata": {
        "id": "dSctGvJS6TS4"
      },
      "source": [
        "## Plot the Customer Adjacency Matrix"
      ]
    },
    {
      "cell_type": "code",
      "metadata": {
        "id": "pBpfxAXeiLPk"
      },
      "source": [
        "# http://sociograph.blogspot.com/2012/11/visualizing-adjacency-matrices-in-python.html"
      ],
      "execution_count": 21,
      "outputs": []
    },
    {
      "cell_type": "code",
      "metadata": {
        "id": "fc7-7Dl1hdIZ"
      },
      "source": [
        "from matplotlib import pyplot, patches\n",
        "\n",
        "def draw_adjacency_matrix(G, node_order=None, partitions=[], colors=[]):\n",
        "    \"\"\"\n",
        "    - G is a netorkx graph\n",
        "    - node_order (optional) is a list of nodes, where each node in G\n",
        "          appears exactly once\n",
        "    - partitions is a list of node lists, where each node in G appears\n",
        "          in exactly one node list\n",
        "    - colors is a list of strings indicating what color each\n",
        "          partition should be\n",
        "    If partitions is specified, the same number of colors needs to be\n",
        "    specified.\n",
        "    \"\"\"\n",
        "    adjacency_matrix = nx.to_numpy_matrix(G, dtype=np.bool, nodelist=node_order)\n",
        "\n",
        "    #Plot adjacency matrix in toned-down black and white\n",
        "    fig = pyplot.figure(figsize=(11.7,8.27)) # in inches\n",
        "    pyplot.imshow(adjacency_matrix,\n",
        "                  cmap=\"Greys\",\n",
        "                  interpolation=\"none\")\n",
        "    \n",
        "    # The rest is just if you have sorted nodes by a partition and want to\n",
        "    # highlight the module boundaries\n",
        "    assert len(partitions) == len(colors)\n",
        "    ax = pyplot.gca()\n",
        "    for partition, color in zip(partitions, colors):\n",
        "        current_idx = 0\n",
        "        for module in partition:\n",
        "            ax.add_patch(patches.Rectangle((current_idx, current_idx),\n",
        "                                          len(module), # Width\n",
        "                                          len(module), # Height\n",
        "                                          facecolor=\"none\",\n",
        "                                          edgecolor=color,\n",
        "                                          linewidth=\"1\"))\n",
        "            current_idx += len(module)"
      ],
      "execution_count": 22,
      "outputs": []
    },
    {
      "cell_type": "code",
      "metadata": {
        "colab": {
          "base_uri": "https://localhost:8080/",
          "height": 501
        },
        "id": "-TtXVtBtiQl_",
        "outputId": "a594eef3-14f8-4346-ce6f-312f20dfca12"
      },
      "source": [
        "\n",
        "draw_adjacency_matrix(cpg)"
      ],
      "execution_count": 23,
      "outputs": [
        {
          "output_type": "display_data",
          "data": {
            "image/png": "[encoded data removed]",
            "text/plain": [
              "<Figure size 842.4x595.44 with 1 Axes>"
            ]
          },
          "metadata": {
            "tags": [],
            "needs_background": "light"
          }
        }
      ]
    },
    {
      "cell_type": "markdown",
      "metadata": {
        "id": "esLfi6IH6TS5"
      },
      "source": [
        "## Plot the Item Adjacency Matrix"
      ]
    },
    {
      "cell_type": "code",
      "metadata": {
        "colab": {
          "base_uri": "https://localhost:8080/",
          "height": 498
        },
        "id": "JDUxNSZeinrj",
        "outputId": "87c420f4-e1df-413f-e454-e1abdb72a7f6"
      },
      "source": [
        "draw_adjacency_matrix(ipg)"
      ],
      "execution_count": 24,
      "outputs": [
        {
          "output_type": "display_data",
          "data": {
            "image/png": "[encoded data removed]",
            "text/plain": [
              "<Figure size 842.4x595.44 with 1 Axes>"
            ]
          },
          "metadata": {
            "tags": [],
            "needs_background": "light"
          }
        }
      ]
    },
    {
      "cell_type": "markdown",
      "metadata": {
        "id": "_IABnSS96TS5"
      },
      "source": [
        "## Cluster with HDB Scan - Investigate Clustering Tendency"
      ]
    },
    {
      "cell_type": "code",
      "metadata": {
        "id": "hrdFuE8WtLDY"
      },
      "source": [
        "cna = np.zeros((cpg.number_of_nodes(), 32))\n",
        "index = 0\n",
        "for k,v in customer_emb.items():\n",
        "  cna[index,:] = v\n",
        "  index += 1"
      ],
      "execution_count": 25,
      "outputs": []
    },
    {
      "cell_type": "code",
      "metadata": {
        "id": "FqFiA2WoiLiu"
      },
      "source": [
        "ina = np.zeros((ipg.number_of_nodes(), 32))\n",
        "index = 0\n",
        "for k,v in item_embedding.items():\n",
        "  ina[index,:] = v\n",
        "  index += 1"
      ],
      "execution_count": 26,
      "outputs": []
    },
    {
      "cell_type": "code",
      "metadata": {
        "colab": {
          "base_uri": "https://localhost:8080/"
        },
        "id": "ek1BQSb0tE5i",
        "outputId": "5a6c9f43-6b0b-44bf-9e0c-bad5ebac3d35"
      },
      "source": [
        "import hdbscan\n",
        "clusterer = hdbscan.HDBSCAN(min_samples=5)\n",
        "clusterer.fit(cna)"
      ],
      "execution_count": 27,
      "outputs": [
        {
          "output_type": "execute_result",
          "data": {
            "text/plain": [
              "HDBSCAN(algorithm='best', allow_single_cluster=False, alpha=1.0,\n",
              "        approx_min_span_tree=True, cluster_selection_epsilon=0.0,\n",
              "        cluster_selection_method='eom', core_dist_n_jobs=4,\n",
              "        gen_min_span_tree=False, leaf_size=40,\n",
              "        match_reference_implementation=False, memory=Memory(location=None),\n",
              "        metric='euclidean', min_cluster_size=5, min_samples=5, p=None,\n",
              "        prediction_data=False)"
            ]
          },
          "metadata": {
            "tags": []
          },
          "execution_count": 27
        }
      ]
    },
    {
      "cell_type": "code",
      "metadata": {
        "colab": {
          "base_uri": "https://localhost:8080/"
        },
        "id": "O4blZ4yuv6Wf",
        "outputId": "5d939ccb-1183-4367-e5d1-39a718b17b06"
      },
      "source": [
        "np.unique(clusterer.labels_)"
      ],
      "execution_count": 28,
      "outputs": [
        {
          "output_type": "execute_result",
          "data": {
            "text/plain": [
              "array([-1])"
            ]
          },
          "metadata": {
            "tags": []
          },
          "execution_count": 28
        }
      ]
    },
    {
      "cell_type": "markdown",
      "metadata": {
        "id": "lmDC-BLk6TS7"
      },
      "source": [
        "## Verify Lack of Clustering with Hopkins Test"
      ]
    },
    {
      "cell_type": "code",
      "metadata": {
        "colab": {
          "base_uri": "https://localhost:8080/"
        },
        "id": "qEYvR5cGaYsP",
        "outputId": "ca419d69-6e82-475f-ce88-6f2212eb6268"
      },
      "source": [
        "from pyclustertend import hopkins\n",
        "hopkins(cna,cpg.number_of_nodes())"
      ],
      "execution_count": 29,
      "outputs": [
        {
          "output_type": "execute_result",
          "data": {
            "text/plain": [
              "0.31153188393154363"
            ]
          },
          "metadata": {
            "tags": []
          },
          "execution_count": 29
        }
      ]
    },
    {
      "cell_type": "code",
      "metadata": {
        "colab": {
          "base_uri": "https://localhost:8080/"
        },
        "id": "2eZuT8Y9iaue",
        "outputId": "209caf58-7530-47db-b231-c181ab3edc98"
      },
      "source": [
        "hopkins(cna,ipg.number_of_nodes())"
      ],
      "execution_count": 30,
      "outputs": [
        {
          "output_type": "execute_result",
          "data": {
            "text/plain": [
              "0.31813534418730943"
            ]
          },
          "metadata": {
            "tags": []
          },
          "execution_count": 30
        }
      ]
    },
    {
      "cell_type": "markdown",
      "metadata": {
        "id": "tBE4eY9h6TS8"
      },
      "source": [
        "## Identify Outliers with Isolation Forest"
      ]
    },
    {
      "cell_type": "code",
      "metadata": {
        "id": "0mJnt82k3ide"
      },
      "source": [
        "fp = \"data/feature_selected_freq_shoppers.csv\"\n",
        "df = pd.read_csv(fp)\n",
        "colsraw = df.columns.tolist()\n",
        "cols_to_keep = [c for c in colsraw if c not in ['Customer_ID', 'RFM_score']]\n",
        "df = df[cols_to_keep]"
      ],
      "execution_count": 31,
      "outputs": []
    },
    {
      "cell_type": "code",
      "metadata": {
        "id": "SHq9vNOA3n8k"
      },
      "source": [
        "from sklearn.ensemble import IsolationForest"
      ],
      "execution_count": 32,
      "outputs": []
    },
    {
      "cell_type": "code",
      "metadata": {
        "id": "srQJfUJ455vg"
      },
      "source": [
        "X = df.values"
      ],
      "execution_count": 33,
      "outputs": []
    },
    {
      "cell_type": "code",
      "metadata": {
        "id": "7CHxlJNr8070"
      },
      "source": [
        "clf =IsolationForest(random_state=0, contamination=0.1).fit(X)\n"
      ],
      "execution_count": 34,
      "outputs": []
    },
    {
      "cell_type": "code",
      "metadata": {
        "colab": {
          "base_uri": "https://localhost:8080/"
        },
        "id": "VMms0HXr85xD",
        "outputId": "bd044a64-59c7-4a4f-b47c-ff987d80de39"
      },
      "source": [
        "clf.predict(X)"
      ],
      "execution_count": 35,
      "outputs": [
        {
          "output_type": "execute_result",
          "data": {
            "text/plain": [
              "array([ 1, -1,  1,  1,  1,  1, -1,  1,  1,  1,  1,  1,  1,  1, -1,  1,  1,\n",
              "       -1,  1,  1, -1,  1,  1,  1,  1,  1,  1,  1,  1,  1,  1,  1,  1,  1,\n",
              "        1,  1, -1,  1,  1,  1,  1,  1,  1,  1,  1,  1,  1, -1,  1,  1,  1,\n",
              "        1,  1,  1,  1,  1,  1,  1,  1,  1,  1,  1,  1,  1,  1,  1,  1,  1,\n",
              "        1,  1,  1,  1,  1,  1,  1, -1,  1,  1,  1,  1,  1,  1,  1,  1,  1,\n",
              "        1,  1,  1, -1,  1,  1,  1, -1, -1,  1, -1,  1,  1, -1,  1,  1,  1,\n",
              "        1,  1,  1,  1,  1,  1,  1,  1,  1,  1,  1,  1,  1,  1,  1,  1,  1,\n",
              "        1,  1,  1,  1,  1,  1,  1,  1,  1,  1,  1, -1, -1,  1,  1,  1,  1,\n",
              "        1,  1,  1,  1,  1,  1,  1,  1,  1,  1,  1,  1,  1,  1,  1,  1,  1,\n",
              "        1,  1,  1,  1,  1,  1,  1, -1,  1,  1,  1,  1,  1,  1,  1,  1,  1,\n",
              "        1,  1,  1,  1,  1,  1,  1,  1,  1, -1,  1,  1,  1,  1,  1,  1,  1,\n",
              "        1,  1,  1,  1,  1,  1,  1,  1, -1,  1,  1,  1,  1, -1,  1,  1,  1,\n",
              "        1,  1,  1,  1,  1,  1,  1, -1, -1,  1,  1,  1, -1,  1,  1,  1,  1,\n",
              "        1,  1,  1,  1, -1,  1,  1, -1,  1,  1,  1,  1,  1, -1,  1,  1,  1,\n",
              "        1,  1,  1,  1,  1,  1, -1,  1,  1,  1,  1,  1,  1,  1,  1, -1,  1,\n",
              "        1,  1,  1,  1,  1,  1,  1,  1,  1,  1,  1,  1,  1,  1,  1,  1,  1,\n",
              "        1,  1,  1,  1,  1,  1,  1,  1,  1,  1, -1,  1,  1,  1,  1,  1,  1,\n",
              "        1, -1,  1,  1,  1, -1,  1,  1,  1,  1,  1,  1,  1,  1,  1,  1,  1,\n",
              "        1,  1,  1,  1,  1,  1,  1,  1,  1,  1,  1,  1,  1,  1,  1,  1,  1,\n",
              "        1,  1,  1,  1,  1,  1,  1, -1,  1, -1,  1,  1,  1,  1,  1,  1,  1,\n",
              "        1,  1,  1,  1,  1, -1,  1,  1,  1,  1,  1,  1,  1, -1,  1,  1,  1,\n",
              "       -1,  1,  1,  1,  1,  1, -1,  1,  1,  1,  1,  1,  1,  1,  1,  1,  1,\n",
              "        1,  1,  1,  1,  1, -1,  1,  1,  1,  1,  1,  1,  1,  1,  1,  1,  1,\n",
              "        1,  1, -1,  1,  1,  1,  1,  1, -1,  1, -1, -1,  1,  1,  1,  1,  1,\n",
              "        1,  1,  1,  1,  1,  1,  1,  1,  1,  1, -1,  1,  1,  1,  1,  1,  1,\n",
              "        1,  1, -1,  1,  1,  1,  1, -1,  1,  1,  1,  1,  1,  1,  1,  1,  1,\n",
              "        1,  1,  1,  1, -1])"
            ]
          },
          "metadata": {
            "tags": []
          },
          "execution_count": 35
        }
      ]
    },
    {
      "cell_type": "markdown",
      "metadata": {
        "id": "MqQLri5S6our"
      },
      "source": [
        "## Log the Modeling Activity in Arangopipe"
      ]
    },
    {
      "cell_type": "code",
      "metadata": {
        "id": "z0jZTY_hQJRG"
      },
      "source": [
        "ds_info = ap.lookup_dataset(\"Frequent_Customer_Graph\")"
      ],
      "execution_count": 36,
      "outputs": []
    },
    {
      "cell_type": "code",
      "metadata": {
        "id": "6XWkjGxDQR1E"
      },
      "source": [
        "fs_info = ap.lookup_featureset(\"Features are attributes of the nodes\")"
      ],
      "execution_count": 37,
      "outputs": []
    },
    {
      "cell_type": "code",
      "metadata": {
        "id": "Xgk7np5mY1_E"
      },
      "source": [
        "import io\n",
        "import requests\n",
        "url = ('https://raw.githubusercontent.com/rajivsam/interactive_tutorials/master/notebooks/Graph_Retail_DA_II.ipynb')\n",
        "nbjson = requests.get(url).text"
      ],
      "execution_count": 38,
      "outputs": []
    },
    {
      "cell_type": "code",
      "metadata": {
        "id": "qp2QFmL_ZNcQ"
      },
      "source": [
        "\n",
        "model_info = {\"name\": \"DA_II_Analysis\",  \"task\": \"Exploratory Data Analysis\", 'notebook': nbjson}\n",
        "model_reg = ap.register_model(model_info, project = \"Retail_Graph_Analytics\")"
      ],
      "execution_count": 39,
      "outputs": []
    },
    {
      "cell_type": "code",
      "metadata": {
        "id": "2SqQmvicWe2T"
      },
      "source": [
        "import uuid\n",
        "import datetime\n",
        "#import jsonpickle\n",
        "\n",
        "ruuid = str(uuid.uuid4().int)\n",
        "model_perf = {'run_id': ruuid, \"timestamp\": str(datetime.datetime.now())}\n",
        "\n",
        "#mp = jsonpickle.encode(mp)\n",
        "model_params = {'run_id': ruuid, 'model_params': 'Not Applicable'}\n",
        "\n",
        "run_info = {\"dataset\" : ds_info[\"_key\"],\\\n",
        "                    \"featureset\": fs_info[\"_key\"],\\\n",
        "                    \"run_id\": ruuid,\\\n",
        "                    \"model\": model_reg[\"_key\"],\\\n",
        "                    \"model-params\": model_params,\\\n",
        "                    \"model-perf\": model_perf,\\\n",
        "                    \"tag\": \"Retail Descriptive Analytics Part II\",\\\n",
        "                    \"project\": \"Retail_Graph_Analytics\"}\n",
        "ap.log_run(run_info)"
      ],
      "execution_count": 40,
      "outputs": []
    }
  ]
}