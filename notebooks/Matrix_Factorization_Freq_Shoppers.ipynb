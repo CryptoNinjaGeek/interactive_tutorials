{
  "nbformat": 4,
  "nbformat_minor": 0,
  "metadata": {
    "kernelspec": {
      "display_name": "Python 3",
      "language": "python",
      "name": "python3"
    },
    "language_info": {
      "codemirror_mode": {
        "name": "ipython",
        "version": 3
      },
      "file_extension": ".py",
      "mimetype": "text/x-python",
      "name": "python",
      "nbconvert_exporter": "python",
      "pygments_lexer": "ipython3",
      "version": "3.7.6"
    },
    "colab": {
      "name": "Matrix_Factorization_Freq_Shoppers.ipynb",
      "provenance": [],
      "collapsed_sections": []
    }
  },
  "cells": [
    {
      "cell_type": "markdown",
      "metadata": {
        "id": "MS35R2PjsNrA"
      },
      "source": [
        "# Graph Embeddings Using Matrix Factorization\n",
        "\n",
        "This notebook provides an overview of developing embeddings for the retail example using $\\textbf{Non-Negative Matrix Factorization}$. The perspective in this exercise is data analysis rather a specific machine learning task. The approach illustrated in this notebook provides both insights as well as embeddings. Developing the embeddings also requires fewer hyper-parameter choices than approaches such as $\\textbf{node2vec}$. The data for this exercise is the feature selected set of customer purchases of the frequent shopper group developed in [notebook2](https://github.com/arangodb/interactive_tutorials/blob/master/notebooks/Graph_Retail_EDA_II.ipynb) of the retail data analysis with ArangoDB series. The details of the anaysis are provided below.\n",
        "\n",
        "This note book produces a _knowledge graph_ that captures the preferences and shopping behavior of frequent shoppers. This _knowledge graph_ is stored in ArangoDB. This notebook develops _embeddings_ of the customers and store items. These embeddings are stored as _node properties_ of the _knowledge graph_ . The _embeddings_ can be used for similarity search and in _adhoc_ queries. Examples of performing this in _AQL_ are provided. "
      ]
    },
    {
      "cell_type": "code",
      "metadata": {
        "id": "BuWM8TIBg4C_"
      },
      "source": [
        "%%capture\n",
        "get_ipython().__class__.__name__ = \"ZMQInteractiveShell\"\n",
        "!git clone https://github.com/rajivsam/interactive_tutorials.git\n",
        "!rsync -av  interactive_tutorials/notebooks/data  rsync -av interactive_tutorials/notebooks/tools interactive_tutorials/notebooks/img ./ --exclude=.git\n",
        "!pip install python-arango\n",
        "!pip install arangopipe==0.0.6.9.5\n",
        "!pip install pandas PyYAML==5.1.1 sklearn2\n",
        "!pip install jsonpickle\n",
        "!pip3 install networkx\n",
        "!pip3 install matplotlib\n",
        "!pip3 install adbnx-adapter\n",
        "!pip install hdbscan\n",
        "!pip install seaborn\n",
        "!chmod a+x tools/*"
      ],
      "execution_count": 1,
      "outputs": []
    },
    {
      "cell_type": "markdown",
      "metadata": {
        "id": "sUir_z0noZ08"
      },
      "source": [
        "![](/content/img/retail_freq_customer_purchases.png)"
      ]
    },
    {
      "cell_type": "markdown",
      "metadata": {
        "id": "KvV9CalUpwcY"
      },
      "source": [
        "## Read Feature Selected Frequent Shoppers\n",
        "This dataset captures the feature selected frequent shoppers after feature selection using the LASSO (see [retail data series, exploratory data analysis](https://github.com/arangodb/interactive_tutorials/blob/master/notebooks/Graph_Retail_EDA_II.ipynb) for details)."
      ]
    },
    {
      "cell_type": "code",
      "metadata": {
        "colab": {
          "base_uri": "https://localhost:8080/",
          "height": 224
        },
        "id": "gjdumhTTgkHj",
        "outputId": "ba2eeab4-14e8-4c86-f169-13abfbfc4d6e"
      },
      "source": [
        "import pandas as pd\n",
        "fp = \"data/feature_selected_freq_shoppers.csv\"\n",
        "df = pd.read_csv(fp)\n",
        "df.head()"
      ],
      "execution_count": 2,
      "outputs": [
        {
          "output_type": "execute_result",
          "data": {
            "text/html": [
              "<div>\n",
              "<style scoped>\n",
              "    .dataframe tbody tr th:only-of-type {\n",
              "        vertical-align: middle;\n",
              "    }\n",
              "\n",
              "    .dataframe tbody tr th {\n",
              "        vertical-align: top;\n",
              "    }\n",
              "\n",
              "    .dataframe thead th {\n",
              "        text-align: right;\n",
              "    }\n",
              "</style>\n",
              "<table border=\"1\" class=\"dataframe\">\n",
              "  <thead>\n",
              "    <tr style=\"text-align: right;\">\n",
              "      <th></th>\n",
              "      <th>Customer_ID</th>\n",
              "      <th>22045</th>\n",
              "      <th>82600</th>\n",
              "      <th>23322</th>\n",
              "      <th>22910</th>\n",
              "      <th>21671</th>\n",
              "      <th>20676</th>\n",
              "      <th>22970</th>\n",
              "      <th>22621</th>\n",
              "      <th>22113</th>\n",
              "      <th>22551</th>\n",
              "      <th>22297</th>\n",
              "      <th>22749</th>\n",
              "      <th>84375</th>\n",
              "      <th>85175</th>\n",
              "      <th>23245</th>\n",
              "      <th>15036</th>\n",
              "      <th>21731</th>\n",
              "      <th>22158</th>\n",
              "      <th>23126</th>\n",
              "      <th>23103</th>\n",
              "      <th>23207</th>\n",
              "      <th>23355</th>\n",
              "      <th>48185</th>\n",
              "      <th>22197</th>\n",
              "      <th>48173C</th>\n",
              "      <th>22193</th>\n",
              "      <th>22077</th>\n",
              "      <th>22386</th>\n",
              "      <th>21524</th>\n",
              "      <th>22501</th>\n",
              "      <th>23313</th>\n",
              "      <th>22457</th>\n",
              "      <th>22569</th>\n",
              "      <th>22961</th>\n",
              "      <th>23328</th>\n",
              "      <th>22151</th>\n",
              "      <th>17003</th>\n",
              "      <th>22192</th>\n",
              "      <th>22766</th>\n",
              "      <th>23344</th>\n",
              "      <th>22554</th>\n",
              "      <th>23208</th>\n",
              "      <th>20728</th>\n",
              "      <th>22558</th>\n",
              "      <th>23202</th>\n",
              "      <th>20749</th>\n",
              "      <th>23078</th>\n",
              "      <th>21843</th>\n",
              "      <th>82486</th>\n",
              "      <th>22730</th>\n",
              "      <th>22952</th>\n",
              "      <th>23077</th>\n",
              "      <th>22866</th>\n",
              "      <th>22333</th>\n",
              "      <th>22623</th>\n",
              "      <th>22367</th>\n",
              "      <th>22844</th>\n",
              "      <th>48111</th>\n",
              "      <th>22139</th>\n",
              "      <th>23407</th>\n",
              "      <th>22720</th>\n",
              "      <th>23298</th>\n",
              "      <th>22427</th>\n",
              "      <th>23068</th>\n",
              "      <th>22570</th>\n",
              "      <th>84879</th>\n",
              "      <th>21754</th>\n",
              "      <th>21165</th>\n",
              "      <th>22649</th>\n",
              "      <th>22418</th>\n",
              "      <th>23351</th>\n",
              "      <th>21175</th>\n",
              "      <th>22771</th>\n",
              "      <th>22138</th>\n",
              "      <th>85049E</th>\n",
              "      <th>RFM_score</th>\n",
              "    </tr>\n",
              "  </thead>\n",
              "  <tbody>\n",
              "    <tr>\n",
              "      <th>0</th>\n",
              "      <td>12748</td>\n",
              "      <td>10.5</td>\n",
              "      <td>0.0</td>\n",
              "      <td>0.0</td>\n",
              "      <td>35.40</td>\n",
              "      <td>0.0</td>\n",
              "      <td>0.0</td>\n",
              "      <td>0.0</td>\n",
              "      <td>0.0</td>\n",
              "      <td>0.0</td>\n",
              "      <td>0.0</td>\n",
              "      <td>0.0</td>\n",
              "      <td>0.0</td>\n",
              "      <td>0.0</td>\n",
              "      <td>0.0</td>\n",
              "      <td>0.0</td>\n",
              "      <td>0.0</td>\n",
              "      <td>0.0</td>\n",
              "      <td>0.0</td>\n",
              "      <td>0.0</td>\n",
              "      <td>0.0</td>\n",
              "      <td>0.0</td>\n",
              "      <td>0.0</td>\n",
              "      <td>0.0</td>\n",
              "      <td>0.00</td>\n",
              "      <td>0.0</td>\n",
              "      <td>0.0</td>\n",
              "      <td>0.0</td>\n",
              "      <td>0.0</td>\n",
              "      <td>0.0</td>\n",
              "      <td>0.0</td>\n",
              "      <td>0.0</td>\n",
              "      <td>0.0</td>\n",
              "      <td>0.0</td>\n",
              "      <td>0.0</td>\n",
              "      <td>0.0</td>\n",
              "      <td>0.0</td>\n",
              "      <td>0.0</td>\n",
              "      <td>0.0</td>\n",
              "      <td>0.0</td>\n",
              "      <td>41.6</td>\n",
              "      <td>19.80</td>\n",
              "      <td>0.00</td>\n",
              "      <td>16.50</td>\n",
              "      <td>0.0</td>\n",
              "      <td>0.0</td>\n",
              "      <td>0.0</td>\n",
              "      <td>0.0</td>\n",
              "      <td>0.0</td>\n",
              "      <td>0.0</td>\n",
              "      <td>0.0</td>\n",
              "      <td>0.0</td>\n",
              "      <td>0.0</td>\n",
              "      <td>0.0</td>\n",
              "      <td>13.2</td>\n",
              "      <td>0.0</td>\n",
              "      <td>0.0</td>\n",
              "      <td>0.0</td>\n",
              "      <td>0.0</td>\n",
              "      <td>0.0</td>\n",
              "      <td>0.0</td>\n",
              "      <td>0.00</td>\n",
              "      <td>0.00</td>\n",
              "      <td>0.00</td>\n",
              "      <td>0.00</td>\n",
              "      <td>0.0</td>\n",
              "      <td>0.00</td>\n",
              "      <td>0.0</td>\n",
              "      <td>0.0</td>\n",
              "      <td>0.0</td>\n",
              "      <td>0.0</td>\n",
              "      <td>0.0</td>\n",
              "      <td>0.0</td>\n",
              "      <td>0.0</td>\n",
              "      <td>0.00</td>\n",
              "      <td>0.0</td>\n",
              "      <td>6.761799</td>\n",
              "    </tr>\n",
              "    <tr>\n",
              "      <th>1</th>\n",
              "      <td>12826</td>\n",
              "      <td>10.5</td>\n",
              "      <td>0.0</td>\n",
              "      <td>0.0</td>\n",
              "      <td>0.00</td>\n",
              "      <td>0.0</td>\n",
              "      <td>0.0</td>\n",
              "      <td>0.0</td>\n",
              "      <td>0.0</td>\n",
              "      <td>0.0</td>\n",
              "      <td>0.0</td>\n",
              "      <td>0.0</td>\n",
              "      <td>0.0</td>\n",
              "      <td>0.0</td>\n",
              "      <td>0.0</td>\n",
              "      <td>0.0</td>\n",
              "      <td>0.0</td>\n",
              "      <td>0.0</td>\n",
              "      <td>0.0</td>\n",
              "      <td>0.0</td>\n",
              "      <td>0.0</td>\n",
              "      <td>0.0</td>\n",
              "      <td>0.0</td>\n",
              "      <td>0.0</td>\n",
              "      <td>122.40</td>\n",
              "      <td>0.0</td>\n",
              "      <td>0.0</td>\n",
              "      <td>0.0</td>\n",
              "      <td>0.0</td>\n",
              "      <td>15.9</td>\n",
              "      <td>0.0</td>\n",
              "      <td>0.0</td>\n",
              "      <td>88.5</td>\n",
              "      <td>0.0</td>\n",
              "      <td>0.0</td>\n",
              "      <td>0.0</td>\n",
              "      <td>0.0</td>\n",
              "      <td>0.0</td>\n",
              "      <td>0.0</td>\n",
              "      <td>0.0</td>\n",
              "      <td>41.6</td>\n",
              "      <td>0.00</td>\n",
              "      <td>0.00</td>\n",
              "      <td>0.00</td>\n",
              "      <td>0.0</td>\n",
              "      <td>62.4</td>\n",
              "      <td>0.0</td>\n",
              "      <td>90.0</td>\n",
              "      <td>0.0</td>\n",
              "      <td>17.9</td>\n",
              "      <td>0.0</td>\n",
              "      <td>0.0</td>\n",
              "      <td>100.0</td>\n",
              "      <td>0.0</td>\n",
              "      <td>0.0</td>\n",
              "      <td>0.0</td>\n",
              "      <td>0.0</td>\n",
              "      <td>0.0</td>\n",
              "      <td>0.0</td>\n",
              "      <td>0.0</td>\n",
              "      <td>0.0</td>\n",
              "      <td>0.00</td>\n",
              "      <td>0.00</td>\n",
              "      <td>0.00</td>\n",
              "      <td>0.00</td>\n",
              "      <td>0.0</td>\n",
              "      <td>0.00</td>\n",
              "      <td>0.0</td>\n",
              "      <td>0.0</td>\n",
              "      <td>0.0</td>\n",
              "      <td>0.0</td>\n",
              "      <td>0.0</td>\n",
              "      <td>0.0</td>\n",
              "      <td>0.0</td>\n",
              "      <td>0.00</td>\n",
              "      <td>0.0</td>\n",
              "      <td>8.471403</td>\n",
              "    </tr>\n",
              "    <tr>\n",
              "      <th>2</th>\n",
              "      <td>12839</td>\n",
              "      <td>0.0</td>\n",
              "      <td>0.0</td>\n",
              "      <td>0.0</td>\n",
              "      <td>0.00</td>\n",
              "      <td>0.0</td>\n",
              "      <td>0.0</td>\n",
              "      <td>0.0</td>\n",
              "      <td>0.0</td>\n",
              "      <td>0.0</td>\n",
              "      <td>0.0</td>\n",
              "      <td>0.0</td>\n",
              "      <td>0.0</td>\n",
              "      <td>0.0</td>\n",
              "      <td>0.0</td>\n",
              "      <td>0.0</td>\n",
              "      <td>0.0</td>\n",
              "      <td>0.0</td>\n",
              "      <td>0.0</td>\n",
              "      <td>0.0</td>\n",
              "      <td>0.0</td>\n",
              "      <td>0.0</td>\n",
              "      <td>0.0</td>\n",
              "      <td>0.0</td>\n",
              "      <td>0.00</td>\n",
              "      <td>0.0</td>\n",
              "      <td>0.0</td>\n",
              "      <td>0.0</td>\n",
              "      <td>0.0</td>\n",
              "      <td>0.0</td>\n",
              "      <td>0.0</td>\n",
              "      <td>0.0</td>\n",
              "      <td>0.0</td>\n",
              "      <td>0.0</td>\n",
              "      <td>0.0</td>\n",
              "      <td>0.0</td>\n",
              "      <td>0.0</td>\n",
              "      <td>0.0</td>\n",
              "      <td>0.0</td>\n",
              "      <td>0.0</td>\n",
              "      <td>0.0</td>\n",
              "      <td>0.00</td>\n",
              "      <td>0.00</td>\n",
              "      <td>0.00</td>\n",
              "      <td>0.0</td>\n",
              "      <td>0.0</td>\n",
              "      <td>0.0</td>\n",
              "      <td>0.0</td>\n",
              "      <td>0.0</td>\n",
              "      <td>0.0</td>\n",
              "      <td>0.0</td>\n",
              "      <td>0.0</td>\n",
              "      <td>0.0</td>\n",
              "      <td>0.0</td>\n",
              "      <td>0.0</td>\n",
              "      <td>0.0</td>\n",
              "      <td>0.0</td>\n",
              "      <td>0.0</td>\n",
              "      <td>0.0</td>\n",
              "      <td>0.0</td>\n",
              "      <td>0.0</td>\n",
              "      <td>0.00</td>\n",
              "      <td>19.80</td>\n",
              "      <td>5.95</td>\n",
              "      <td>9.96</td>\n",
              "      <td>0.0</td>\n",
              "      <td>0.00</td>\n",
              "      <td>0.0</td>\n",
              "      <td>0.0</td>\n",
              "      <td>0.0</td>\n",
              "      <td>0.0</td>\n",
              "      <td>0.0</td>\n",
              "      <td>0.0</td>\n",
              "      <td>0.0</td>\n",
              "      <td>0.00</td>\n",
              "      <td>0.0</td>\n",
              "      <td>5.792954</td>\n",
              "    </tr>\n",
              "    <tr>\n",
              "      <th>3</th>\n",
              "      <td>12841</td>\n",
              "      <td>0.0</td>\n",
              "      <td>0.0</td>\n",
              "      <td>23.6</td>\n",
              "      <td>26.55</td>\n",
              "      <td>0.0</td>\n",
              "      <td>0.0</td>\n",
              "      <td>0.0</td>\n",
              "      <td>0.0</td>\n",
              "      <td>0.0</td>\n",
              "      <td>16.5</td>\n",
              "      <td>0.0</td>\n",
              "      <td>0.0</td>\n",
              "      <td>0.0</td>\n",
              "      <td>0.0</td>\n",
              "      <td>0.0</td>\n",
              "      <td>0.0</td>\n",
              "      <td>0.0</td>\n",
              "      <td>0.0</td>\n",
              "      <td>0.0</td>\n",
              "      <td>0.0</td>\n",
              "      <td>0.0</td>\n",
              "      <td>0.0</td>\n",
              "      <td>0.0</td>\n",
              "      <td>2.55</td>\n",
              "      <td>0.0</td>\n",
              "      <td>0.0</td>\n",
              "      <td>0.0</td>\n",
              "      <td>0.0</td>\n",
              "      <td>0.0</td>\n",
              "      <td>0.0</td>\n",
              "      <td>0.0</td>\n",
              "      <td>5.9</td>\n",
              "      <td>0.0</td>\n",
              "      <td>0.0</td>\n",
              "      <td>22.5</td>\n",
              "      <td>0.0</td>\n",
              "      <td>0.0</td>\n",
              "      <td>0.0</td>\n",
              "      <td>0.0</td>\n",
              "      <td>0.0</td>\n",
              "      <td>11.55</td>\n",
              "      <td>4.95</td>\n",
              "      <td>4.95</td>\n",
              "      <td>0.0</td>\n",
              "      <td>10.4</td>\n",
              "      <td>0.0</td>\n",
              "      <td>0.0</td>\n",
              "      <td>0.0</td>\n",
              "      <td>0.0</td>\n",
              "      <td>0.0</td>\n",
              "      <td>0.0</td>\n",
              "      <td>0.0</td>\n",
              "      <td>0.0</td>\n",
              "      <td>0.0</td>\n",
              "      <td>0.0</td>\n",
              "      <td>7.8</td>\n",
              "      <td>0.0</td>\n",
              "      <td>0.0</td>\n",
              "      <td>0.0</td>\n",
              "      <td>39.8</td>\n",
              "      <td>0.00</td>\n",
              "      <td>14.85</td>\n",
              "      <td>11.90</td>\n",
              "      <td>0.00</td>\n",
              "      <td>0.0</td>\n",
              "      <td>0.00</td>\n",
              "      <td>0.0</td>\n",
              "      <td>0.0</td>\n",
              "      <td>0.0</td>\n",
              "      <td>40.8</td>\n",
              "      <td>0.0</td>\n",
              "      <td>0.0</td>\n",
              "      <td>0.0</td>\n",
              "      <td>4.95</td>\n",
              "      <td>0.0</td>\n",
              "      <td>7.293497</td>\n",
              "    </tr>\n",
              "    <tr>\n",
              "      <th>4</th>\n",
              "      <td>12843</td>\n",
              "      <td>0.0</td>\n",
              "      <td>0.0</td>\n",
              "      <td>0.0</td>\n",
              "      <td>0.00</td>\n",
              "      <td>0.0</td>\n",
              "      <td>0.0</td>\n",
              "      <td>0.0</td>\n",
              "      <td>0.0</td>\n",
              "      <td>0.0</td>\n",
              "      <td>0.0</td>\n",
              "      <td>0.0</td>\n",
              "      <td>0.0</td>\n",
              "      <td>0.0</td>\n",
              "      <td>0.0</td>\n",
              "      <td>0.0</td>\n",
              "      <td>0.0</td>\n",
              "      <td>0.0</td>\n",
              "      <td>0.0</td>\n",
              "      <td>0.0</td>\n",
              "      <td>0.0</td>\n",
              "      <td>0.0</td>\n",
              "      <td>0.0</td>\n",
              "      <td>0.0</td>\n",
              "      <td>0.00</td>\n",
              "      <td>0.0</td>\n",
              "      <td>0.0</td>\n",
              "      <td>0.0</td>\n",
              "      <td>0.0</td>\n",
              "      <td>0.0</td>\n",
              "      <td>0.0</td>\n",
              "      <td>0.0</td>\n",
              "      <td>35.4</td>\n",
              "      <td>0.0</td>\n",
              "      <td>0.0</td>\n",
              "      <td>0.0</td>\n",
              "      <td>0.0</td>\n",
              "      <td>0.0</td>\n",
              "      <td>0.0</td>\n",
              "      <td>0.0</td>\n",
              "      <td>0.0</td>\n",
              "      <td>0.00</td>\n",
              "      <td>0.00</td>\n",
              "      <td>0.00</td>\n",
              "      <td>0.0</td>\n",
              "      <td>0.0</td>\n",
              "      <td>0.0</td>\n",
              "      <td>0.0</td>\n",
              "      <td>0.0</td>\n",
              "      <td>0.0</td>\n",
              "      <td>0.0</td>\n",
              "      <td>0.0</td>\n",
              "      <td>50.0</td>\n",
              "      <td>0.0</td>\n",
              "      <td>0.0</td>\n",
              "      <td>0.0</td>\n",
              "      <td>0.0</td>\n",
              "      <td>0.0</td>\n",
              "      <td>0.0</td>\n",
              "      <td>0.0</td>\n",
              "      <td>0.0</td>\n",
              "      <td>44.55</td>\n",
              "      <td>0.00</td>\n",
              "      <td>0.00</td>\n",
              "      <td>0.00</td>\n",
              "      <td>0.0</td>\n",
              "      <td>54.08</td>\n",
              "      <td>0.0</td>\n",
              "      <td>0.0</td>\n",
              "      <td>0.0</td>\n",
              "      <td>0.0</td>\n",
              "      <td>0.0</td>\n",
              "      <td>0.0</td>\n",
              "      <td>0.0</td>\n",
              "      <td>0.00</td>\n",
              "      <td>0.0</td>\n",
              "      <td>7.332634</td>\n",
              "    </tr>\n",
              "  </tbody>\n",
              "</table>\n",
              "</div>"
            ],
            "text/plain": [
              "   Customer_ID  22045  82600  23322  ...  22771  22138  85049E  RFM_score\n",
              "0        12748   10.5    0.0    0.0  ...    0.0   0.00     0.0   6.761799\n",
              "1        12826   10.5    0.0    0.0  ...    0.0   0.00     0.0   8.471403\n",
              "2        12839    0.0    0.0    0.0  ...    0.0   0.00     0.0   5.792954\n",
              "3        12841    0.0    0.0   23.6  ...    0.0   4.95     0.0   7.293497\n",
              "4        12843    0.0    0.0    0.0  ...    0.0   0.00     0.0   7.332634\n",
              "\n",
              "[5 rows x 77 columns]"
            ]
          },
          "metadata": {},
          "execution_count": 2
        }
      ]
    },
    {
      "cell_type": "markdown",
      "metadata": {
        "id": "vdxTOFqErjAU"
      },
      "source": [
        "## Bipartite Graph Representation\n",
        "This feature selected set of purchases of the frequent customers can be viewed as a bi-partite graph with the customers and the store inventory items constituting the disjoint vertex sets.\n",
        "\n",
        "![](https://github.com/rajivsam/interactive_tutorials/blob/master/notebooks/img/retail_freq_customer_purchases.png?raw=1)\n",
        "\n",
        "\n",
        "## Overview of Embeddings from Matrix Factorization\n",
        "\n",
        "An embedding of this graph will be developed using matrix factorization. The feature selected set of purchases, $\\mathbf{P}$, is the matrix we want to factorize. This is factorized into a tall skinny matrix, $\\mathbf{W}$, and a shallow wide matrix, $\\mathbf{H}$, as shown below.\n",
        "\n",
        "![](https://github.com/rajivsam/interactive_tutorials/blob/master/notebooks/img/matrix_factorization_algorithm_schematic.png?raw=1)\n",
        "\n",
        "The store inventory of $m$ items is grouped into $k$ purchase groups. The purchases of the $i^{th}$ customer, a vector of size $m$, is expressed as a product of the purchase groups and the customers affinities towards the purchase groups as follows:\n",
        "\n",
        "\n",
        "$$\\boxed{p_i = u_{(i,k)}. pg_{(k, m)}}$$\n",
        "\n",
        "\n",
        "\n",
        "The critical aspect of this factorization process is the determination of the latent dimension, $k$. Regularization can be factored into the matrix factorization process as discussed in the [sklearn non negative matrix factorization implementation](https://scikit-learn.org/stable/modules/generated/sklearn.decomposition.NMF.html). However, since we have explicitly used the LASSO with the notion of RFM score to select the features, the regularization parameters are set to zero in the matrix factorization objective function. To determine the latent dimension, $k$, a test set of purchases is held out. A range of possible values for $k$, from $2$ to $20$, were used. The mean square error for each value of $k$ is recorded. The value of $k$ that produced the lowest MSE is selected as the best value of $k$. The flowchart for the process is shown below.\n",
        "\n",
        "![](https://github.com/rajivsam/interactive_tutorials/blob/master/notebooks/img/matrix_factorization_flowchart.png?raw=1)\n",
        "\n",
        "\n",
        "\n"
      ]
    },
    {
      "cell_type": "code",
      "metadata": {
        "id": "xfhs0p1bgkHm"
      },
      "source": [
        "cust_ids = df[\"Customer_ID\"]\n",
        "rfm_scores = df[\"RFM_score\"]\n",
        "to_del = [\"Customer_ID\", \"RFM_score\"]\n",
        "cols = df.columns.tolist()\n",
        "req_cols = [c for c in cols if c not in to_del]\n",
        "df = df[req_cols]"
      ],
      "execution_count": 3,
      "outputs": []
    },
    {
      "cell_type": "markdown",
      "metadata": {
        "id": "yMyLCRbXwYpo"
      },
      "source": [
        "### Hold out $\\frac{1}{3}$ of the matrix of purchases as the test set."
      ]
    },
    {
      "cell_type": "code",
      "metadata": {
        "id": "j953tW8KgkHn"
      },
      "source": [
        "TEST_PROP = 0.33\n",
        "NUM_TEST_CELLS = int(df.shape[0] * df.shape[1]* TEST_PROP)"
      ],
      "execution_count": 4,
      "outputs": []
    },
    {
      "cell_type": "code",
      "metadata": {
        "id": "Bd6Hg5m-gkHn"
      },
      "source": [
        "import random\n",
        "import numpy as np\n",
        "dict_test = dict()\n",
        "num_test_samples = 0\n",
        "random.seed(1234)\n",
        "while num_test_samples <= NUM_TEST_CELLS:\n",
        "    row = random.randint(0, (df.shape[0] -1))\n",
        "    col = random.randint(0, (df.shape[1] - 1))\n",
        "    dict_test[(row, col)] = df.iloc[row, col]\n",
        "    df.iloc[row, col] = 0.0\n",
        "    num_test_samples += 1\n",
        "    "
      ],
      "execution_count": 5,
      "outputs": []
    },
    {
      "cell_type": "code",
      "metadata": {
        "id": "jlHebRZEgkHn"
      },
      "source": [
        "X = df.values"
      ],
      "execution_count": 6,
      "outputs": []
    },
    {
      "cell_type": "code",
      "metadata": {
        "colab": {
          "base_uri": "https://localhost:8080/"
        },
        "id": "X6NbjA1egkHo",
        "outputId": "52c847c9-987a-47ad-b806-2ef4a94a72f4"
      },
      "source": [
        "X.shape"
      ],
      "execution_count": 7,
      "outputs": [
        {
          "output_type": "execute_result",
          "data": {
            "text/plain": [
              "(447, 75)"
            ]
          },
          "metadata": {},
          "execution_count": 7
        }
      ]
    },
    {
      "cell_type": "markdown",
      "metadata": {
        "id": "vqs6aMuKwtp6"
      },
      "source": [
        "### Try a range of factors, $2$ to $20$, as possible latent dimensions and compute the mean square error.\n"
      ]
    },
    {
      "cell_type": "code",
      "metadata": {
        "colab": {
          "base_uri": "https://localhost:8080/"
        },
        "id": "MmCfqXnGgkHo",
        "outputId": "ec4233f8-611a-4bfa-f952-c3a91a8e17d7"
      },
      "source": [
        "from sklearn.decomposition import NMF\n",
        "\n",
        "#np.random.seed(42)\n",
        "exp_factors = np.arange(2,21)\n",
        "recon_err = dict()\n",
        "for fac in exp_factors:\n",
        "    print(\"Computing factor %d\" % (fac))\n",
        "    model = NMF(n_components=fac, init='random', random_state=1234)\n",
        "    W = model.fit_transform(X)\n",
        "    H = model.components_\n",
        "    se = []\n",
        "    lrm = W.dot(H)\n",
        "    for k, v in dict_test.items():\n",
        "        sqerr = (lrm[k[0], k[1]] - v)**2\n",
        "        se.append(sqerr)\n",
        "    recon_err[fac] = np.sum(se)/NUM_TEST_CELLS\n",
        "\n",
        "    "
      ],
      "execution_count": 8,
      "outputs": [
        {
          "output_type": "stream",
          "text": [
            "Computing factor 2\n",
            "Computing factor 3\n",
            "Computing factor 4\n",
            "Computing factor 5\n",
            "Computing factor 6\n",
            "Computing factor 7\n",
            "Computing factor 8\n",
            "Computing factor 9\n",
            "Computing factor 10\n",
            "Computing factor 11\n",
            "Computing factor 12\n",
            "Computing factor 13\n",
            "Computing factor 14\n",
            "Computing factor 15\n",
            "Computing factor 16\n",
            "Computing factor 17\n",
            "Computing factor 18\n",
            "Computing factor 19\n",
            "Computing factor 20\n"
          ],
          "name": "stdout"
        }
      ]
    },
    {
      "cell_type": "markdown",
      "metadata": {
        "id": "CLz85dHhw6uf"
      },
      "source": [
        "### Plot latent dimension versus mean square error."
      ]
    },
    {
      "cell_type": "code",
      "metadata": {
        "colab": {
          "base_uri": "https://localhost:8080/",
          "height": 556
        },
        "id": "EBiAR0AdgkHp",
        "outputId": "441578f2-25a9-42ea-9c24-0e4fca466221"
      },
      "source": [
        "import seaborn as sns\n",
        "import matplotlib.pyplot as plt\n",
        "plt.rcParams['figure.figsize'] = [11, 8]\n",
        "sns.set(color_codes=True)\n",
        "keys = np.fromiter(recon_err.keys(), dtype=int)\n",
        "vals = np.fromiter(recon_err.values(), dtype=float)\n",
        "plt.xticks(range(1,20))\n",
        "sns.lineplot(keys, vals, marker = 'o')"
      ],
      "execution_count": 9,
      "outputs": [
        {
          "output_type": "stream",
          "text": [
            "/usr/local/lib/python3.7/dist-packages/seaborn/_decorators.py:43: FutureWarning: Pass the following variables as keyword args: x, y. From version 0.12, the only valid positional argument will be `data`, and passing other arguments without an explicit keyword will result in an error or misinterpretation.\n",
            "  FutureWarning\n"
          ],
          "name": "stderr"
        },
        {
          "output_type": "execute_result",
          "data": {
            "text/plain": [
              "<matplotlib.axes._subplots.AxesSubplot at 0x7f9fb8a62b90>"
            ]
          },
          "metadata": {},
          "execution_count": 9
        },
        {
          "output_type": "display_data",
          "data": {
            "image/png": "[encoded data removed]",
            "text/plain": [
              "<Figure size 792x576 with 1 Axes>"
            ]
          },
          "metadata": {}
        }
      ]
    },
    {
      "cell_type": "markdown",
      "metadata": {
        "id": "3V3J15lnxNyz"
      },
      "source": [
        "### Determine the optimal latent dimension"
      ]
    },
    {
      "cell_type": "code",
      "metadata": {
        "id": "Ey_lPN9qgkHp"
      },
      "source": [
        "OPTIMAL_EMBEDDING_SIZE = 5\n",
        "n_top_words = 10\n",
        "model = NMF(n_components= OPTIMAL_EMBEDDING_SIZE, init='random', random_state=1234)\n",
        "W = model.fit_transform(X)\n",
        "H = model.components_\n",
        "topic_features = dict()"
      ],
      "execution_count": 10,
      "outputs": []
    },
    {
      "cell_type": "markdown",
      "metadata": {
        "id": "v5vfMUqnxW1L"
      },
      "source": [
        "## Matrix Factorization\n",
        "Once the optimal latent dimension, $k$, has been identified, we can compute the matrix factorization of the purchases, $\\mathbf{P}$. This factorization provides the following approximation\n",
        "\n",
        "$$\\mathbf{P} \\approx \\mathbf{W}. \\mathbf{H}$$\n",
        "\n",
        "where:\n",
        "\n",
        "$\\mathbf{H}$: Represents the dictionary matrix. This can be interpretted as $k$ groups of store inventory items. Each of these groups is of size, $m$, the number of items in the store inventory ($75$). A single purchase group is a vector of size $m$. The magnitude of the vector elements provides an indication of the store inventory items that dominate a purchase group. As will be observed subsequently, each of these purchase groups are dominated by a small number of items. The magnitude of most of the elements of the purchase group vector are small. \n",
        "\n",
        "$\\mathbf{W}$: Represents the affinity matrix. This can be interpretted as a matrix that captures the affinities customers have towards each of the $k$ purchase groups. \n",
        "\n",
        "The elements of $\\mathbf{W}$ are the representation of the customers in the $k$ dimensional latent space. The elements of $\\mathbf{H}$ are the representations of the items in the $k$ dimensional latent space. Therefore, Matrix Factorization provides the following:\n",
        "\n",
        "\n",
        "1.   Vector representations of the customers and store inventory in a $k$ dimensional space.\n",
        "2.   An interpretation of customer purchases in terms of dictionary learning. Store inventory can be grouped into $k$ purchase groups. The purchases of custormers can be viewed in terms of their affinities towards item groups.\n",
        "\n",
        "Since $k$ is smaller than $m$, we are able to group the store inventory into a small number of groups and view customer preferences in terms of their affinities towards these groups. Therefore matrix factorization provides embeddings as well as insights into the tastes of the frequent shopper group. \n",
        "\n",
        "When embeddings for the frequent customer purchase group are developed using techniques such as node2vec, we have to specify a few more hyper-parameters to develop the embedding. For example, with node2vec, we have to specify the parameters of the random-walk, the number of walks and the length of the walk as well as the embedding size (the latent dimension $k$ in this example). Usually these are determined through a hyper-parameter optimization procedure, for example, Bayesian Optimization. In this example, we have only one hyper-parameter, the latent dimension, $k$ and this was determined through a principled experiment.\n",
        "\n",
        "\n"
      ]
    },
    {
      "cell_type": "code",
      "metadata": {
        "id": "rmI5bGZ7gkHq"
      },
      "source": [
        "fp = \"data/stock_code_description.csv\"\n",
        "dfsclu = pd.read_csv(fp)\n",
        "lusc = dict()\n",
        "for index, row in dfsclu.iterrows():\n",
        "    lusc[row['StockCode']] = row[\"Description\"]\n",
        "del dfsclu"
      ],
      "execution_count": 11,
      "outputs": []
    },
    {
      "cell_type": "markdown",
      "metadata": {
        "id": "anpbSt3XzuVI"
      },
      "source": [
        "## Dictionary Profile\n",
        "The top $10$ components of each of the $5$ dictionary vectors are plotted"
      ]
    },
    {
      "cell_type": "code",
      "metadata": {
        "id": "v6tML1hFgkHq"
      },
      "source": [
        "def plot_top_words(model, feature_names, n_top_words, title):\n",
        "    \n",
        "    fig, axes = plt.subplots(1, 5, figsize=(30, 15), sharex=True)\n",
        "    axes = axes.flatten()\n",
        "    for topic_idx, topic in enumerate(model.components_):\n",
        "        top_features_ind = topic.argsort()[:-n_top_words - 1:-1]\n",
        "        top_features = [feature_names[i] for i in top_features_ind]\n",
        "        weights = topic[top_features_ind]\n",
        "        topic_features[topic_idx] = top_features\n",
        "\n",
        "        ax = axes[topic_idx]\n",
        "        ax.barh(top_features, weights, height=0.7)\n",
        "        ax.set_title(f'Item Group {topic_idx +1}',\n",
        "                     fontdict={'fontsize': 30})\n",
        "        ax.invert_yaxis()\n",
        "        ax.tick_params(axis='both', which='major', labelsize=20)\n",
        "        for i in 'top right left'.split():\n",
        "            ax.spines[i].set_visible(False)\n",
        "        fig.suptitle(title, fontsize=40)\n",
        "\n",
        "    plt.subplots_adjust(top=0.90, bottom=0.05, wspace=0.90, hspace=0.3)\n",
        "    plt.show()\n",
        "    "
      ],
      "execution_count": 12,
      "outputs": []
    },
    {
      "cell_type": "code",
      "metadata": {
        "colab": {
          "base_uri": "https://localhost:8080/",
          "height": 1000
        },
        "id": "xDQMiAkWgkHq",
        "outputId": "92e7a2c2-c6fb-4aa5-e95b-210b0911690d"
      },
      "source": [
        "plot_top_words(model, req_cols, n_top_words, \"MF Based Embedding of Frequent Customers\")"
      ],
      "execution_count": 13,
      "outputs": [
        {
          "output_type": "display_data",
          "data": {
            "image/png": "[encoded data removed]",
            "text/plain": [
              "<Figure size 2160x1080 with 5 Axes>"
            ]
          },
          "metadata": {}
        }
      ]
    },
    {
      "cell_type": "markdown",
      "metadata": {
        "id": "8dEEq_dQ0Kif"
      },
      "source": [
        "### Determine the description of the dominant components of the dictionary elements"
      ]
    },
    {
      "cell_type": "code",
      "metadata": {
        "colab": {
          "base_uri": "https://localhost:8080/"
        },
        "id": "E3ToNbWogkHr",
        "outputId": "11bea8cf-d670-443b-fbf0-1228a06a7f29"
      },
      "source": [
        "for k,v in topic_features.items():\n",
        "    item_desc = [lusc[i] for i in v]\n",
        "    print(\"Item Group %d, elements:\" %(k+1))\n",
        "    for i, desc in enumerate(item_desc):\n",
        "        print(desc)\n",
        "        if i >=4:\n",
        "            break\n",
        "    print()\n",
        "        \n",
        "    "
      ],
      "execution_count": 14,
      "outputs": [
        {
          "output_type": "stream",
          "text": [
            "Item Group 1, elements:\n",
            "ASSORTED COLOUR BIRD ORNAMENT\n",
            "3 DRAWER ANTIQUE WHITE WOOD CABINET\n",
            "HOME BUILDING BLOCK WORD\n",
            "SET OF 3 CAKE TINS PANTRY DESIGN \n",
            "LUNCH BAG VINTAGE LEAF DESIGN\n",
            "\n",
            "Item Group 2, elements:\n",
            "POPCORN HOLDER\n",
            "RED DINER WALL CLOCK\n",
            "ENAMEL FLOWER JUG CREAM\n",
            "PAPER CHAIN KIT VINTAGE CHRISTMAS\n",
            "NATURAL SLATE HEART CHALKBOARD \n",
            "\n",
            "Item Group 3, elements:\n",
            "GIN AND TONIC DIET METAL SIGN\n",
            "6 RIBBONS RUSTIC CHARM\n",
            "HOT WATER BOTTLE KEEP CALM\n",
            "DOUGHNUT LIP GLOSS \n",
            "N0 SINGING METAL SIGN\n",
            "\n",
            "Item Group 4, elements:\n",
            "JUMBO BAG VINTAGE LEAF\n",
            "LUNCH BAG CARS BLUE\n",
            "JUMBO BAG PINK POLKADOT\n",
            "LUNCH BAG VINTAGE LEAF DESIGN\n",
            "LUNCH BAG ALPHABET DESIGN\n",
            "\n",
            "Item Group 5, elements:\n",
            "BUNTING , SPOTTY \n",
            "SET OF 3 CAKE TINS PANTRY DESIGN \n",
            "6 RIBBONS RUSTIC CHARM\n",
            "HOME BUILDING BLOCK WORD\n",
            "CLEAR DRAWER KNOB ACRYLIC EDWARDIAN\n",
            "\n"
          ],
          "name": "stdout"
        }
      ]
    },
    {
      "cell_type": "code",
      "metadata": {
        "colab": {
          "base_uri": "https://localhost:8080/"
        },
        "id": "F-GCl7y8gkHr",
        "outputId": "5fa6352e-3ced-4cb3-aeee-03a73e68bcdf"
      },
      "source": [
        "W.shape"
      ],
      "execution_count": 15,
      "outputs": [
        {
          "output_type": "execute_result",
          "data": {
            "text/plain": [
              "(447, 5)"
            ]
          },
          "metadata": {},
          "execution_count": 15
        }
      ]
    },
    {
      "cell_type": "markdown",
      "metadata": {
        "id": "lrKO-q8k5zsD"
      },
      "source": [
        "## Customer Profile\n",
        "\n",
        "To develop the customer profile, the interpretation of the customer representation as his or her affinity towards the $k$ latent groups is utilized. The set $k$ dimensional customer representations are clustered using a density clustering algorithm $\\textbf{hdbscan}$. This algorithm can discriminate between points that genuinely cluster together versus noise. Many real world datasets present with background noise. Removing this background noise helps us identify the actual clusters in the dataset. It turns out that this dataset has a large noise cluster."
      ]
    },
    {
      "cell_type": "code",
      "metadata": {
        "colab": {
          "base_uri": "https://localhost:8080/"
        },
        "id": "Q9n2uF5ZgkHr",
        "outputId": "79f5eb45-db91-47a0-b5c5-93c8ea184add"
      },
      "source": [
        "import hdbscan\n",
        "clusterer = hdbscan.HDBSCAN(min_samples=5)\n",
        "clusterer.fit(W)"
      ],
      "execution_count": 16,
      "outputs": [
        {
          "output_type": "execute_result",
          "data": {
            "text/plain": [
              "HDBSCAN(algorithm='best', allow_single_cluster=False, alpha=1.0,\n",
              "        approx_min_span_tree=True, cluster_selection_epsilon=0.0,\n",
              "        cluster_selection_method='eom', core_dist_n_jobs=4,\n",
              "        gen_min_span_tree=False, leaf_size=40,\n",
              "        match_reference_implementation=False, memory=Memory(location=None),\n",
              "        metric='euclidean', min_cluster_size=5, min_samples=5, p=None,\n",
              "        prediction_data=False)"
            ]
          },
          "metadata": {},
          "execution_count": 16
        }
      ]
    },
    {
      "cell_type": "markdown",
      "metadata": {
        "id": "NiyqCxcd6mMu"
      },
      "source": [
        "### There are $6$ clusters in data apart from the noise cluster"
      ]
    },
    {
      "cell_type": "code",
      "metadata": {
        "colab": {
          "base_uri": "https://localhost:8080/"
        },
        "id": "4aOhW1I1gkHs",
        "outputId": "6102cb7c-7105-40f0-df1b-38e6d4b33614"
      },
      "source": [
        "np.unique(clusterer.labels_)"
      ],
      "execution_count": 17,
      "outputs": [
        {
          "output_type": "execute_result",
          "data": {
            "text/plain": [
              "array([-1,  0,  1,  2,  3,  4,  5])"
            ]
          },
          "metadata": {},
          "execution_count": 17
        }
      ]
    },
    {
      "cell_type": "code",
      "metadata": {
        "colab": {
          "base_uri": "https://localhost:8080/"
        },
        "id": "PwNJesFwe7IT",
        "outputId": "abf58a4f-5011-4aac-c104-c71204c78c72"
      },
      "source": [
        "clusterer.labels_.shape"
      ],
      "execution_count": 18,
      "outputs": [
        {
          "output_type": "execute_result",
          "data": {
            "text/plain": [
              "(447,)"
            ]
          },
          "metadata": {},
          "execution_count": 18
        }
      ]
    },
    {
      "cell_type": "code",
      "metadata": {
        "colab": {
          "base_uri": "https://localhost:8080/"
        },
        "id": "WPTzfAm-gkHs",
        "outputId": "a0c5863e-584c-4270-b667-44569ff148a4"
      },
      "source": [
        "W.shape"
      ],
      "execution_count": 19,
      "outputs": [
        {
          "output_type": "execute_result",
          "data": {
            "text/plain": [
              "(447, 5)"
            ]
          },
          "metadata": {},
          "execution_count": 19
        }
      ]
    },
    {
      "cell_type": "code",
      "metadata": {
        "id": "L8egSL2AgkHs"
      },
      "source": [
        "from sklearn.manifold import TSNE\n",
        "model = TSNE(n_components=2, random_state=1234)\n",
        "Xt = model.fit_transform(X) \n"
      ],
      "execution_count": 20,
      "outputs": []
    },
    {
      "cell_type": "code",
      "metadata": {
        "id": "yBQ2-5wzgkHt"
      },
      "source": [
        "dft = pd.DataFrame(Xt)"
      ],
      "execution_count": 21,
      "outputs": []
    },
    {
      "cell_type": "code",
      "metadata": {
        "id": "EbJtIluIgkHt"
      },
      "source": [
        "dft[\"cluster\"] = clusterer.labels_"
      ],
      "execution_count": 22,
      "outputs": []
    },
    {
      "cell_type": "markdown",
      "metadata": {
        "id": "ZHbrs63U6upE"
      },
      "source": [
        "## Profile of the clusters\n",
        "* There is a large noise cluster\n",
        "* There is a large cluster (cluster label $4$) and $5$ smaller clusters. The cluster sizes are shown below."
      ]
    },
    {
      "cell_type": "code",
      "metadata": {
        "colab": {
          "base_uri": "https://localhost:8080/",
          "height": 502
        },
        "id": "4M8ufspxgkHt",
        "outputId": "5e6be679-82e3-4cb2-ae42-77a41c060099"
      },
      "source": [
        "cluster_counts = dft[\"cluster\"].value_counts()\n",
        "cluster_counts.plot.barh()"
      ],
      "execution_count": 23,
      "outputs": [
        {
          "output_type": "execute_result",
          "data": {
            "text/plain": [
              "<matplotlib.axes._subplots.AxesSubplot at 0x7f9f9a88cd10>"
            ]
          },
          "metadata": {},
          "execution_count": 23
        },
        {
          "output_type": "display_data",
          "data": {
            "image/png": "[encoded data removed]",
            "text/plain": [
              "<Figure size 792x576 with 1 Axes>"
            ]
          },
          "metadata": {}
        }
      ]
    },
    {
      "cell_type": "code",
      "metadata": {
        "id": "UiSk8Kj3gkHt"
      },
      "source": [
        "dfnf = dft.query(\"cluster != -1\")\n",
        "dfnf.columns = [\"X\", \"Y\", \"cluster\"]"
      ],
      "execution_count": 24,
      "outputs": []
    },
    {
      "cell_type": "code",
      "metadata": {
        "id": "P5KXQL43yNi-"
      },
      "source": [
        "dfW = pd.DataFrame(W)\n",
        "dfW.columns = [\"AIG_\"+ str(i) for i in range(5)]\n",
        "dfW[\"cluster\"] = clusterer.labels_\n",
        "dfW = dfW.query(\"cluster != -1\")\n",
        "dfWc = dfW.groupby(by = [\"cluster\"]).mean()"
      ],
      "execution_count": 25,
      "outputs": []
    },
    {
      "cell_type": "code",
      "metadata": {
        "colab": {
          "base_uri": "https://localhost:8080/",
          "height": 266
        },
        "id": "4zYpWZUk7TOJ",
        "outputId": "f3e93a71-d84b-455b-e044-574eb8dbe398"
      },
      "source": [
        "colsneeded = [\"AIG_\"+ str(i) for i in range(5)]\n",
        "dfWc = dfWc[colsneeded]\n",
        "dfWc"
      ],
      "execution_count": 26,
      "outputs": [
        {
          "output_type": "execute_result",
          "data": {
            "text/html": [
              "<div>\n",
              "<style scoped>\n",
              "    .dataframe tbody tr th:only-of-type {\n",
              "        vertical-align: middle;\n",
              "    }\n",
              "\n",
              "    .dataframe tbody tr th {\n",
              "        vertical-align: top;\n",
              "    }\n",
              "\n",
              "    .dataframe thead th {\n",
              "        text-align: right;\n",
              "    }\n",
              "</style>\n",
              "<table border=\"1\" class=\"dataframe\">\n",
              "  <thead>\n",
              "    <tr style=\"text-align: right;\">\n",
              "      <th></th>\n",
              "      <th>AIG_0</th>\n",
              "      <th>AIG_1</th>\n",
              "      <th>AIG_2</th>\n",
              "      <th>AIG_3</th>\n",
              "      <th>AIG_4</th>\n",
              "    </tr>\n",
              "    <tr>\n",
              "      <th>cluster</th>\n",
              "      <th></th>\n",
              "      <th></th>\n",
              "      <th></th>\n",
              "      <th></th>\n",
              "      <th></th>\n",
              "    </tr>\n",
              "  </thead>\n",
              "  <tbody>\n",
              "    <tr>\n",
              "      <th>0</th>\n",
              "      <td>0.051228</td>\n",
              "      <td>7.843398</td>\n",
              "      <td>0.127219</td>\n",
              "      <td>0.208796</td>\n",
              "      <td>0.532096</td>\n",
              "    </tr>\n",
              "    <tr>\n",
              "      <th>1</th>\n",
              "      <td>8.520121</td>\n",
              "      <td>0.206215</td>\n",
              "      <td>0.423853</td>\n",
              "      <td>0.107697</td>\n",
              "      <td>0.181472</td>\n",
              "    </tr>\n",
              "    <tr>\n",
              "      <th>2</th>\n",
              "      <td>4.369464</td>\n",
              "      <td>0.074409</td>\n",
              "      <td>0.257134</td>\n",
              "      <td>0.136220</td>\n",
              "      <td>0.300537</td>\n",
              "    </tr>\n",
              "    <tr>\n",
              "      <th>3</th>\n",
              "      <td>2.073323</td>\n",
              "      <td>0.211595</td>\n",
              "      <td>0.193327</td>\n",
              "      <td>0.124457</td>\n",
              "      <td>0.141364</td>\n",
              "    </tr>\n",
              "    <tr>\n",
              "      <th>4</th>\n",
              "      <td>0.035674</td>\n",
              "      <td>0.066009</td>\n",
              "      <td>0.040014</td>\n",
              "      <td>0.120454</td>\n",
              "      <td>0.125376</td>\n",
              "    </tr>\n",
              "    <tr>\n",
              "      <th>5</th>\n",
              "      <td>0.022142</td>\n",
              "      <td>0.006698</td>\n",
              "      <td>0.000000</td>\n",
              "      <td>0.032356</td>\n",
              "      <td>0.993428</td>\n",
              "    </tr>\n",
              "  </tbody>\n",
              "</table>\n",
              "</div>"
            ],
            "text/plain": [
              "            AIG_0     AIG_1     AIG_2     AIG_3     AIG_4\n",
              "cluster                                                  \n",
              "0        0.051228  7.843398  0.127219  0.208796  0.532096\n",
              "1        8.520121  0.206215  0.423853  0.107697  0.181472\n",
              "2        4.369464  0.074409  0.257134  0.136220  0.300537\n",
              "3        2.073323  0.211595  0.193327  0.124457  0.141364\n",
              "4        0.035674  0.066009  0.040014  0.120454  0.125376\n",
              "5        0.022142  0.006698  0.000000  0.032356  0.993428"
            ]
          },
          "metadata": {},
          "execution_count": 26
        }
      ]
    },
    {
      "cell_type": "code",
      "metadata": {
        "colab": {
          "base_uri": "https://localhost:8080/",
          "height": 235
        },
        "id": "7_BcGoK64xLE",
        "outputId": "66a1f507-c44d-4162-8b21-43d80852a066"
      },
      "source": [
        "from sklearn import preprocessing\n",
        "Xc = preprocessing.normalize(dfWc.values)\n",
        "dfWcn = pd.DataFrame(Xc)\n",
        "dfWcn.columns = colsneeded\n",
        "dfWcn"
      ],
      "execution_count": 27,
      "outputs": [
        {
          "output_type": "execute_result",
          "data": {
            "text/html": [
              "<div>\n",
              "<style scoped>\n",
              "    .dataframe tbody tr th:only-of-type {\n",
              "        vertical-align: middle;\n",
              "    }\n",
              "\n",
              "    .dataframe tbody tr th {\n",
              "        vertical-align: top;\n",
              "    }\n",
              "\n",
              "    .dataframe thead th {\n",
              "        text-align: right;\n",
              "    }\n",
              "</style>\n",
              "<table border=\"1\" class=\"dataframe\">\n",
              "  <thead>\n",
              "    <tr style=\"text-align: right;\">\n",
              "      <th></th>\n",
              "      <th>AIG_0</th>\n",
              "      <th>AIG_1</th>\n",
              "      <th>AIG_2</th>\n",
              "      <th>AIG_3</th>\n",
              "      <th>AIG_4</th>\n",
              "    </tr>\n",
              "  </thead>\n",
              "  <tbody>\n",
              "    <tr>\n",
              "      <th>0</th>\n",
              "      <td>0.006513</td>\n",
              "      <td>0.997203</td>\n",
              "      <td>0.016174</td>\n",
              "      <td>0.026546</td>\n",
              "      <td>0.067650</td>\n",
              "    </tr>\n",
              "    <tr>\n",
              "      <th>1</th>\n",
              "      <td>0.998168</td>\n",
              "      <td>0.024159</td>\n",
              "      <td>0.049656</td>\n",
              "      <td>0.012617</td>\n",
              "      <td>0.021260</td>\n",
              "    </tr>\n",
              "    <tr>\n",
              "      <th>2</th>\n",
              "      <td>0.995305</td>\n",
              "      <td>0.016949</td>\n",
              "      <td>0.058572</td>\n",
              "      <td>0.031029</td>\n",
              "      <td>0.068458</td>\n",
              "    </tr>\n",
              "    <tr>\n",
              "      <th>3</th>\n",
              "      <td>0.986593</td>\n",
              "      <td>0.100688</td>\n",
              "      <td>0.091995</td>\n",
              "      <td>0.059223</td>\n",
              "      <td>0.067268</td>\n",
              "    </tr>\n",
              "    <tr>\n",
              "      <th>4</th>\n",
              "      <td>0.184319</td>\n",
              "      <td>0.341055</td>\n",
              "      <td>0.206742</td>\n",
              "      <td>0.622359</td>\n",
              "      <td>0.647792</td>\n",
              "    </tr>\n",
              "    <tr>\n",
              "      <th>5</th>\n",
              "      <td>0.022270</td>\n",
              "      <td>0.006737</td>\n",
              "      <td>0.000000</td>\n",
              "      <td>0.032544</td>\n",
              "      <td>0.999199</td>\n",
              "    </tr>\n",
              "  </tbody>\n",
              "</table>\n",
              "</div>"
            ],
            "text/plain": [
              "      AIG_0     AIG_1     AIG_2     AIG_3     AIG_4\n",
              "0  0.006513  0.997203  0.016174  0.026546  0.067650\n",
              "1  0.998168  0.024159  0.049656  0.012617  0.021260\n",
              "2  0.995305  0.016949  0.058572  0.031029  0.068458\n",
              "3  0.986593  0.100688  0.091995  0.059223  0.067268\n",
              "4  0.184319  0.341055  0.206742  0.622359  0.647792\n",
              "5  0.022270  0.006737  0.000000  0.032544  0.999199"
            ]
          },
          "metadata": {},
          "execution_count": 27
        }
      ]
    },
    {
      "cell_type": "code",
      "metadata": {
        "colab": {
          "base_uri": "https://localhost:8080/",
          "height": 503
        },
        "id": "OCalzY0qcwyx",
        "outputId": "3597408e-b4b7-46e8-83e5-72d6b041970e"
      },
      "source": [
        "import seaborn as sns\n",
        "plt.rcParams['figure.figsize'] = [11, 8]\n",
        "sns.set(color_codes=True)\n",
        "sns.heatmap(dfWcn)\n"
      ],
      "execution_count": 28,
      "outputs": [
        {
          "output_type": "execute_result",
          "data": {
            "text/plain": [
              "<matplotlib.axes._subplots.AxesSubplot at 0x7f9f99462110>"
            ]
          },
          "metadata": {},
          "execution_count": 28
        },
        {
          "output_type": "display_data",
          "data": {
            "image/png": "[encoded data removed]",
            "text/plain": [
              "<Figure size 792x576 with 2 Axes>"
            ]
          },
          "metadata": {}
        }
      ]
    },
    {
      "cell_type": "markdown",
      "metadata": {
        "id": "6uAqq8vQ_TJN"
      },
      "source": [
        "## Plot the Customer Clusters using tSNE"
      ]
    },
    {
      "cell_type": "code",
      "metadata": {
        "colab": {
          "base_uri": "https://localhost:8080/",
          "height": 556
        },
        "id": "mB9Pe3CJgkHt",
        "outputId": "a0596278-a6fe-43ff-fd43-f8eeda733317"
      },
      "source": [
        "plt.rcParams['figure.figsize'] = [11, 8]\n",
        "sns.set(color_codes=True)\n",
        "Xnf= dfnf[\"X\"].values\n",
        "Ynf = dfnf[\"Y\"].values\n",
        "sns.scatterplot(Xnf, Ynf, hue = dfnf[\"cluster\"])"
      ],
      "execution_count": 29,
      "outputs": [
        {
          "output_type": "stream",
          "text": [
            "/usr/local/lib/python3.7/dist-packages/seaborn/_decorators.py:43: FutureWarning: Pass the following variables as keyword args: x, y. From version 0.12, the only valid positional argument will be `data`, and passing other arguments without an explicit keyword will result in an error or misinterpretation.\n",
            "  FutureWarning\n"
          ],
          "name": "stderr"
        },
        {
          "output_type": "execute_result",
          "data": {
            "text/plain": [
              "<matplotlib.axes._subplots.AxesSubplot at 0x7f9f9886a510>"
            ]
          },
          "metadata": {},
          "execution_count": 29
        },
        {
          "output_type": "display_data",
          "data": {
            "image/png": "[encoded data removed]",
            "text/plain": [
              "<Figure size 792x576 with 1 Axes>"
            ]
          },
          "metadata": {}
        }
      ]
    },
    {
      "cell_type": "markdown",
      "metadata": {
        "id": "Ny3wQgHC_aSu"
      },
      "source": [
        "## Frequent Customer Graph\n",
        "The graph that captures frequent store customers and their purchasing activity are represented as a graph. This graph and the embeddings of the customers as well as items are stored in ArangoDB. The details of doing so are provided below."
      ]
    },
    {
      "cell_type": "code",
      "metadata": {
        "colab": {
          "base_uri": "https://localhost:8080/"
        },
        "id": "m0Lo8WDsgkHt",
        "outputId": "f111f549-c96d-4dac-9578-9f21261fe361"
      },
      "source": [
        "\n",
        "from arangopipe.arangopipe_storage.arangopipe_api import ArangoPipe\n",
        "from arangopipe.arangopipe_storage.arangopipe_admin_api import ArangoPipeAdmin\n",
        "from arangopipe.arangopipe_storage.arangopipe_config import ArangoPipeConfig\n",
        "from arangopipe.arangopipe_storage.managed_service_conn_parameters import ManagedServiceConnParam\n",
        "mdb_config = ArangoPipeConfig()\n",
        "msc = ManagedServiceConnParam()\n",
        "conn_params = { msc.DB_SERVICE_HOST : \"arangoml.arangodb.cloud\", \\\n",
        "                        msc.DB_SERVICE_END_POINT : \"createDB\",\\\n",
        "                        msc.DB_SERVICE_NAME : \"createDB\",\\\n",
        "                        msc.DB_SERVICE_PORT : 8529,\\\n",
        "                        msc.DB_CONN_PROTOCOL : 'https',\\\n",
        "                        msc.DB_REPLICATION_FACTOR: 3}\n",
        "        \n",
        "mdb_config = mdb_config.create_connection_config(conn_params)\n",
        "admin = ArangoPipeAdmin(reuse_connection = False, config = mdb_config)\n",
        "ap_config = admin.get_config()\n",
        "ap = ArangoPipe(config = ap_config)\n",
        "proj_info = {\"name\": \"Retail_Graph_Analytics\"}\n",
        "proj_reg = admin.register_project(proj_info)\n",
        "mdb_config.get_cfg()"
      ],
      "execution_count": 30,
      "outputs": [
        {
          "output_type": "stream",
          "text": [
            "API endpoint: https://arangoml.arangodb.cloud:8529/_db/_system/createDB/createDB\n"
          ],
          "name": "stdout"
        },
        {
          "output_type": "stream",
          "text": [
            "/usr/local/lib/python3.7/dist-packages/urllib3/connectionpool.py:1020: InsecureRequestWarning: Unverified HTTPS request is being made to host 'arangoml.arangodb.cloud'. Adding certificate verification is strongly advised. See: https://urllib3.readthedocs.io/en/1.26.x/advanced-usage.html#ssl-warnings\n",
            "  InsecureRequestWarning,\n"
          ],
          "name": "stderr"
        },
        {
          "output_type": "stream",
          "text": [
            "Host Connection: https://arangoml.arangodb.cloud:8529\n"
          ],
          "name": "stdout"
        },
        {
          "output_type": "execute_result",
          "data": {
            "text/plain": [
              "{'arangodb': {'DB_end_point': 'createDB',\n",
              "  'DB_service_host': 'arangoml.arangodb.cloud',\n",
              "  'DB_service_name': 'createDB',\n",
              "  'DB_service_port': 8529,\n",
              "  'arangodb_replication_factor': 3,\n",
              "  'conn_protocol': 'https',\n",
              "  'dbName': 'MLnhbcqq5p2uffy78m792gw',\n",
              "  'password': 'MLutpuycscsnr9srnluavgco',\n",
              "  'username': 'MLqxvued4g83cfrg0jck23'},\n",
              " 'mlgraph': {'graphname': 'enterprise_ml_graph'}}"
            ]
          },
          "metadata": {},
          "execution_count": 30
        }
      ]
    },
    {
      "cell_type": "code",
      "metadata": {
        "id": "941K7uLOr264"
      },
      "source": [
        "\n",
        "ds_info = {\"name\" : \"Frequent_Customer_Graph\",\\\n",
        "            \"description\": \"Frequent Customer Graph of Retail Dataset\",\\\n",
        "           \"source\": \"ArangoDB dump of Retail from Notebook II\" }\n",
        "ds_reg = ap.register_dataset(ds_info)"
      ],
      "execution_count": 31,
      "outputs": []
    },
    {
      "cell_type": "code",
      "metadata": {
        "id": "3bGoynZ7sed8"
      },
      "source": [
        "featureset = {\"name\": \"FC_NO_FS\"}\n",
        "fs_reg = ap.register_featureset(featureset, ds_reg[\"_key\"])"
      ],
      "execution_count": 32,
      "outputs": []
    },
    {
      "cell_type": "code",
      "metadata": {
        "id": "goI1AxcPsxyu"
      },
      "source": [
        "import io\n",
        "import requests\n",
        "url = ('https://raw.githubusercontent.com/rajivsam/interactive_tutorials/master/notebooks/Matrix_Factorization_Freq_Shoppers.ipynb')\n",
        "nbjson = requests.get(url).text"
      ],
      "execution_count": 33,
      "outputs": []
    },
    {
      "cell_type": "code",
      "metadata": {
        "id": "tq7QJ7ZdtPRj"
      },
      "source": [
        "model_info = {\"name\": \"MF for Frequent Customers\",  \"task\": \"Develop Embeddings\", 'notebook': nbjson}\n",
        "model_reg = ap.register_model(model_info, project = \"Retail_Graph_Analytics\")"
      ],
      "execution_count": 34,
      "outputs": []
    },
    {
      "cell_type": "code",
      "metadata": {
        "id": "9JEosKvntajR"
      },
      "source": [
        "import uuid\n",
        "import datetime\n",
        "#import jsonpickle\n",
        "\n",
        "ruuid = str(uuid.uuid4().int)\n",
        "model_perf = {'run_id': ruuid, \"timestamp\": str(datetime.datetime.now())}\n",
        "\n",
        "#mp = jsonpickle.encode(mp)\n",
        "model_params = {'run_id': ruuid, 'model_params': 'Not Applicable'}\n",
        "\n",
        "run_info = {\"dataset\" : ds_reg[\"_key\"],\\\n",
        "                    \"featureset\": fs_reg[\"_key\"],\\\n",
        "                    \"run_id\": ruuid,\\\n",
        "                    \"model\": model_reg[\"_key\"],\\\n",
        "                    \"model-params\": model_params,\\\n",
        "                    \"model-perf\": model_perf,\\\n",
        "                    \"tag\": \"Retail Descriptive Analytics Notebook\",\\\n",
        "                    \"project\": \"Retail_Graph_Analytics\"}\n",
        "ap.log_run(run_info)"
      ],
      "execution_count": 35,
      "outputs": []
    },
    {
      "cell_type": "code",
      "metadata": {
        "id": "eDwSfvHsIS6S"
      },
      "source": [
        "kg_db = admin.db"
      ],
      "execution_count": 36,
      "outputs": []
    },
    {
      "cell_type": "markdown",
      "metadata": {
        "id": "7ik13Jkc_3Xl"
      },
      "source": [
        "## Create the collections to store the frequent customer graph"
      ]
    },
    {
      "cell_type": "code",
      "metadata": {
        "id": "oPPif9BFIqkn"
      },
      "source": [
        "\n",
        "# create a new graph called freq_cust_graph in the temp database if it does not already exist.\n",
        "if not kg_db.has_graph(\"freq_cust_graph\"):\n",
        "    kg_db.create_graph('freq_cust_graph', smart=True)\n",
        "\n",
        "# # create a new graph called user_user_graph in the temp database if it does not already exist.\n",
        "# if not kg_db.has_graph(\"user_user_graph\"):\n",
        "#     kg_db.create_graph(\"user_user_graph\", smart=True)\n",
        "\n",
        "# # This returns and API wrapper for the above created graphs\n",
        "freq_cust_graph = kg_db.graph(\"freq_cust_graph\")\n",
        "# user_user_graph = kg_db.graph(\"user_user_graph\")\n",
        "\n",
        "# create a new collection named \"Customers\" if it does not exist.\n",
        "# This returns an API wrapper for \"Customers\" collection.\n",
        "if not kg_db.has_collection(\"Customers\"):\n",
        "    kg_db.create_collection(\"Customers\", replication_factor=3)\n",
        "\n",
        "# Create a new vertex collection named \"Customers\" if it does not exist.\n",
        "if not freq_cust_graph.has_vertex_collection(\"Customers\"):\n",
        "    freq_cust_graph.vertex_collection(\"Customers\")\n",
        "\n",
        "# create a new collection named \"Items\" if it does not exist.\n",
        "# This returns an API wrapper for \"Items\" collection.\n",
        "if not kg_db.has_collection(\"Items\"):\n",
        "    kg_db.create_collection(\"Items\", replication_factor=3)\n",
        "\n",
        "# Create a new vertex collection named \"Items\" if it does not exist.\n",
        "if not freq_cust_graph.has_vertex_collection(\"Items\"):\n",
        "    freq_cust_graph.vertex_collection(\"Items\")\n",
        "\n",
        "# create a new collection named \"Purchases\" if it does not exist.\n",
        "# This returns an API wrapper for \"Purchases\" collection.\n",
        "if not kg_db.has_collection(\"Purchases\"):\n",
        "    kg_db.create_collection(\"Purchases\", edge=True, replication_factor=3)\n",
        "\n",
        "# creating edge definitions named \"Purchases\". This creates any missing\n",
        "# collections and returns an API wrapper for \"Purchases\" edge collection.\n",
        "if not freq_cust_graph.has_edge_definition(\"Purchases\"):\n",
        "    Purchases = freq_cust_graph.create_edge_definition(\n",
        "        edge_collection='Purchases',\n",
        "        from_vertex_collections=['Customers'],\n",
        "        to_vertex_collections=['Items']\n",
        "    )\n"
      ],
      "execution_count": 37,
      "outputs": []
    },
    {
      "cell_type": "code",
      "metadata": {
        "colab": {
          "base_uri": "https://localhost:8080/"
        },
        "id": "NDFgef8T6Z3O",
        "outputId": "4229c829-d0c9-445f-e4aa-b120eefac0ae"
      },
      "source": [
        "df.shape[0]"
      ],
      "execution_count": 38,
      "outputs": [
        {
          "output_type": "execute_result",
          "data": {
            "text/plain": [
              "447"
            ]
          },
          "metadata": {},
          "execution_count": 38
        }
      ]
    },
    {
      "cell_type": "markdown",
      "metadata": {
        "id": "BEjPZKoGAAGu"
      },
      "source": [
        "### Store the customers and their embeddings"
      ]
    },
    {
      "cell_type": "code",
      "metadata": {
        "colab": {
          "base_uri": "https://localhost:8080/"
        },
        "id": "Daz665EvCU3H",
        "outputId": "56697884-5aea-415e-df15-a56c35826593"
      },
      "source": [
        "import json\n",
        "%time\n",
        "from json import encoder\n",
        "encoder.FLOAT_REPR = lambda o: format(o, '.2f')\n",
        "doc_index = 0\n",
        "\n",
        "batch = []\n",
        "BATCH_SIZE = 100\n",
        "batch_idx = 1\n",
        "collection =kg_db[\"Customers\"]\n",
        "cust_cluster = clusterer.labels_\n",
        "\n",
        "for count, value in enumerate(cust_ids):\n",
        "  insert_doc = {}\n",
        "  user_id = \"Customers/\" + str(value)\n",
        "  insert_doc[\"_id\"] = user_id\n",
        "  insert_doc[\"mf_emb\"] = np.asarray(W[count], dtype = np.float32).tolist()\n",
        "  insert_doc[\"RFM_score\"] = str(rfm_scores[count])\n",
        "  insert_doc[\"cluster\"] = str(cust_cluster[count])\n",
        "  batch.append(insert_doc)\n",
        "  doc_index += 1\n",
        "  last_record = (count == (df.shape[0] - 1)) \n",
        "  if doc_index % BATCH_SIZE == 0:\n",
        "      print(\"Inserting batch %d\" % (batch_idx))\n",
        "      batch_idx += 1\n",
        "      collection.import_bulk(batch)\n",
        "      batch = []\n",
        "  if last_record and len(batch) > 0:\n",
        "      print(\"Inserting batch the last batch!\")\n",
        "      collection.import_bulk(batch)"
      ],
      "execution_count": 39,
      "outputs": [
        {
          "output_type": "stream",
          "text": [
            "CPU times: user 3 µs, sys: 0 ns, total: 3 µs\n",
            "Wall time: 5.96 µs\n",
            "Inserting batch 1\n",
            "Inserting batch 2\n",
            "Inserting batch 3\n",
            "Inserting batch 4\n",
            "Inserting batch the last batch!\n"
          ],
          "name": "stdout"
        }
      ]
    },
    {
      "cell_type": "markdown",
      "metadata": {
        "id": "RKrSsHTRAFOL"
      },
      "source": [
        ""
      ]
    },
    {
      "cell_type": "markdown",
      "metadata": {
        "id": "oSy42IOBAFV6"
      },
      "source": [
        "### Stoe the store inventory items and their embeddings"
      ]
    },
    {
      "cell_type": "code",
      "metadata": {
        "colab": {
          "base_uri": "https://localhost:8080/"
        },
        "id": "OOapu6CQL41p",
        "outputId": "61b4cd24-8448-43ca-8115-a8445945a375"
      },
      "source": [
        "import json\n",
        "%time\n",
        "\n",
        "doc_index = 0\n",
        "\n",
        "batch = []\n",
        "BATCH_SIZE = 30\n",
        "batch_idx = 1\n",
        "collection =kg_db[\"Items\"]\n",
        "Ht = H.T\n",
        "for count, value in enumerate(req_cols):\n",
        "  insert_doc = {}\n",
        "  item_id = \"Items/\" + str(value)\n",
        "  insert_doc[\"_id\"] = item_id\n",
        "  insert_doc[\"mf_emb\"] = np.asarray(Ht[count], dtype = np.float32).tolist()\n",
        "  insert_doc[\"desc\"] = lusc[value]\n",
        "  batch.append(insert_doc)\n",
        "  doc_index += 1\n",
        "  last_record = (count == (len(req_cols) - 1)) \n",
        "  if doc_index % BATCH_SIZE == 0:\n",
        "      print(\"Inserting batch %d\" % (batch_idx))\n",
        "      batch_idx += 1\n",
        "      collection.import_bulk(batch)\n",
        "      batch = []\n",
        "  if last_record and len(batch) > 0:\n",
        "      print(\"Inserting batch the last batch!\")\n",
        "      collection.import_bulk(batch)"
      ],
      "execution_count": 40,
      "outputs": [
        {
          "output_type": "stream",
          "text": [
            "CPU times: user 3 µs, sys: 1 µs, total: 4 µs\n",
            "Wall time: 6.68 µs\n",
            "Inserting batch 1\n",
            "Inserting batch 2\n",
            "Inserting batch the last batch!\n"
          ],
          "name": "stdout"
        }
      ]
    },
    {
      "cell_type": "markdown",
      "metadata": {
        "id": "vRHsVLD3ALTf"
      },
      "source": [
        "### Store purchasing activity (captured as an edge)"
      ]
    },
    {
      "cell_type": "code",
      "metadata": {
        "colab": {
          "base_uri": "https://localhost:8080/"
        },
        "id": "X_17W43u59kq",
        "outputId": "2c098d75-3918-41a5-dd6e-0322ef299cec"
      },
      "source": [
        "import json\n",
        "%time\n",
        "\n",
        "doc_index = 0\n",
        "\n",
        "batch = []\n",
        "BATCH_SIZE = 500\n",
        "batch_idx = 1\n",
        "collection =kg_db[\"Purchases\"]\n",
        "# returns all the edges from t10cu nodes to the nodes which are at 1-hop distance \n",
        "\n",
        "for index, row in df.iterrows():\n",
        "  for col in req_cols:\n",
        "    if row[col] > 0:\n",
        "      user_id = \"Customers/\" + str(cust_ids[index])\n",
        "      item_id = \"Items/\" + str(col)\n",
        "      insert_doc = {\"_from\": user_id, \"_to\": item_id}\n",
        "      batch.append(insert_doc)\n",
        "      doc_index += 1\n",
        "  last_record = (index == (df.shape[0] - 1)) \n",
        "  if doc_index % BATCH_SIZE == 0:\n",
        "      print(\"Inserting batch %d\" % (batch_idx))\n",
        "      batch_idx += 1\n",
        "      collection.import_bulk(batch)\n",
        "      batch = []\n",
        "  if last_record and len(batch) > 0:\n",
        "      print(\"Inserting batch the last batch!\")\n",
        "      collection.import_bulk(batch)"
      ],
      "execution_count": 41,
      "outputs": [
        {
          "output_type": "stream",
          "text": [
            "CPU times: user 0 ns, sys: 2 µs, total: 2 µs\n",
            "Wall time: 4.53 µs\n",
            "Inserting batch the last batch!\n"
          ],
          "name": "stdout"
        }
      ]
    },
    {
      "cell_type": "markdown",
      "metadata": {
        "id": "iyrR2icdt3Th"
      },
      "source": [
        "## Query to find customers similar to a customer"
      ]
    },
    {
      "cell_type": "markdown",
      "metadata": {
        "id": "Hom5rs5pr5aU"
      },
      "source": [
        "![](https://github.com/rajivsam/interactive_tutorials/blob/master/notebooks/img/mf_cust_similarity_query.png?raw=1)"
      ]
    },
    {
      "cell_type": "markdown",
      "metadata": {
        "id": "LCS6POAauAIE"
      },
      "source": [
        "## Query to find items similar to an item"
      ]
    },
    {
      "cell_type": "markdown",
      "metadata": {
        "id": "-kZToxa5sm1l"
      },
      "source": [
        "![](https://github.com/rajivsam/interactive_tutorials/blob/master/notebooks/img/mf_item_similarity_query.png?raw=1)"
      ]
    },
    {
      "cell_type": "markdown",
      "metadata": {
        "id": "FCPJHoaquEP3"
      },
      "source": [
        "## Query to find customers in a cluster"
      ]
    },
    {
      "cell_type": "markdown",
      "metadata": {
        "id": "VYqPICJzsuH_"
      },
      "source": [
        "![](https://github.com/rajivsam/interactive_tutorials/blob/master/notebooks/img/mf_emb_cluster4_cust.png?raw=1)"
      ]
    },
    {
      "cell_type": "code",
      "metadata": {
        "id": "2yS33IqtsRD5"
      },
      "source": [
        ""
      ],
      "execution_count": 41,
      "outputs": []
    }
  ]
}