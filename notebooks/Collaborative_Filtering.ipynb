{
 "cells": [
  {
   "cell_type": "markdown",
   "source": [
    "# Graph Analytics - Collaborative Filtering"
   ],
   "metadata": {}
  },
  {
   "cell_type": "markdown",
   "source": [
    "<a href=\"https://colab.research.google.com/github/arangodb/interactive_tutorials/blob/master/notebooks/Collaborative_Filtering.ipynb\" target=\"_parent\"><img src=\"https://colab.research.google.com/assets/colab-badge.svg\" alt=\"Open In Colab\"/></a>"
   ],
   "metadata": {}
  },
  {
   "cell_type": "markdown",
   "source": [
    "We have all seen product recommandations like \"People who have looked that item x, also bought item y.\"\n",
    "In this notebook we develop a similar system for an even better cause: Figuring out which movie to watch next.\n",
    "For this we consider a simple dataset with user ratings for movies and then use a technique called [Collaborative Filtering](https://en.wikipedia.org/wiki/Collaborative_filtering) to identify which new movies might be worth watching based on other movies we liked."
   ],
   "metadata": {}
  },
  {
   "cell_type": "markdown",
   "source": [
    "![ratings](https://github.com/arangodb/interactive_tutorials/blob/master/notebooks/img/user_movie_rating.png?raw=1)"
   ],
   "metadata": {}
  },
  {
   "cell_type": "markdown",
   "source": [
    "First, setting up our environment."
   ],
   "metadata": {}
  },
  {
   "cell_type": "code",
   "execution_count": null,
   "source": [
    "%%capture\r\n",
    "!git clone -b oasis_connector --single-branch https://github.com/arangodb/interactive_tutorials.git\r\n",
    "!rsync -av interactive_tutorials/ ./ --exclude=.git\r\n",
    "!chmod -R 755 ./tools\r\n",
    "!git clone -b imdb_csv --single-branch https://github.com/arangodb/interactive_tutorials.git imdb_csv\r\n",
    "!rsync -av imdb_csv/ ./data\r\n",
    "\r\n",
    "!pip3 install pyarango\r\n",
    "!pip3 install python-arango"
   ],
   "outputs": [],
   "metadata": {}
  },
  {
   "cell_type": "code",
   "execution_count": null,
   "source": [
    "import csv\n",
    "import json\n",
    "import requests\n",
    "import sys\n",
    "import oasis\n",
    "\n",
    "\n",
    "from pyArango.connection import *\n",
    "from pyArango.collection import Collection, Edges, Field\n",
    "from pyArango.graph import Graph, EdgeDefinition\n",
    "from pyArango.collection import BulkOperation as BulkOperation"
   ],
   "outputs": [],
   "metadata": {}
  },
  {
   "cell_type": "markdown",
   "source": [
    "Next, create a temporary database instance backed by ArangoDB's Managed Cloud Service Oasis:"
   ],
   "metadata": {}
  },
  {
   "cell_type": "code",
   "execution_count": null,
   "source": [
    "# Retrieve tmp credentials from ArangoDB Tutorial Service\n",
    "login = oasis.getTempCredentials(tutorialName=\"CollaborativeFiltering\", credentialProvider=\"https://tutorials.arangodb.cloud:8529/_db/_system/tutorialDB/tutorialDB\")\n",
    "\n",
    "# Connect to the temp database\n",
    "conn = oasis.connect(login)\n",
    "db = conn[login[\"dbName\"]] "
   ],
   "outputs": [],
   "metadata": {}
  },
  {
   "cell_type": "code",
   "execution_count": null,
   "source": [
    "print(\"https://\"+login[\"hostname\"]+\":\"+str(login[\"port\"]))\n",
    "print(\"Username: \" + login[\"username\"])\n",
    "print(\"Password: \" + login[\"password\"])\n",
    "print(\"Database: \" + login[\"dbName\"])"
   ],
   "outputs": [],
   "metadata": {}
  },
  {
   "cell_type": "markdown",
   "source": [
    "Lets define a structure for a simple train network."
   ],
   "metadata": {}
  },
  {
   "cell_type": "markdown",
   "source": [
    "Let us take a short look at our dataset which–as often in realworld scenarios– comes in csv format. "
   ],
   "metadata": {}
  },
  {
   "cell_type": "code",
   "execution_count": null,
   "source": [
    "print(\"User Data\")\n",
    "!head -n 3 data/users.csv \n",
    "print()\n",
    "print(\"Movies Data\")\n",
    "!head -n 3 data/movies.csv \n",
    "print()\n",
    "print(\"Rating Data\")\n",
    "!head -n 3 data/ratings.csv \n"
   ],
   "outputs": [],
   "metadata": {}
  },
  {
   "cell_type": "markdown",
   "source": [
    "Create a graph with Users and Movies as Vertices, and Ratings as edges between."
   ],
   "metadata": {}
  },
  {
   "cell_type": "code",
   "execution_count": null,
   "source": [
    "from pyArango.collection import Collection, Field\n",
    "from pyArango.graph import Graph, EdgeDefinition\n",
    "\n",
    "\n",
    "class Users(Collection):\n",
    "    _fields = {\n",
    "        \"user_id\": Field(),\n",
    "        \"age\": Field(),\n",
    "        \"gender\": Field()\n",
    "    }\n",
    "    \n",
    "class Movies(Collection):\n",
    "    _fields = {\n",
    "        \"movie_id\": Field(),\n",
    "        \"movie_title\": Field(),\n",
    "        \"release_data\": Field()\n",
    "    }\n",
    "\n",
    "class Ratings(Edges): \n",
    "    _fields = {\n",
    "        #user_id and item_id are encoded by _from, _to \n",
    "        \"rating\": Field(),\n",
    "        \"timestamp\": Field()\n",
    "    }\n",
    "\n",
    "class IMDBGraph(Graph) :\n",
    "    _edgeDefinitions = [EdgeDefinition(\"Ratings\", fromCollections=[\"Users\"], toCollections=[\"Movies\"])]\n",
    "    _orphanedCollections = []\n",
    "\n",
    "db.createCollection(\"Users\")\n",
    "db.createCollection(\"Movies\")\n",
    "db.createCollection(\"Ratings\")\n",
    "iMDBGraph = db.createGraph(\"IMDBGraph\", replicationFactor=3)\n",
    "\n",
    "print(\"Collection/Graph Setup done.\")"
   ],
   "outputs": [],
   "metadata": {}
  },
  {
   "cell_type": "code",
   "execution_count": null,
   "source": [
    "collection = db[\"Users\"]\n",
    "with BulkOperation(collection, batchSize=100) as col:\n",
    "    with open('data/users.csv', newline='') as csvfile:\n",
    "        reader = csv.reader(csvfile, delimiter=',', quotechar='|')\n",
    "        #Skip header\n",
    "        next(reader)\n",
    "        for row in reader:\n",
    "            user_id,age,gender,occupation,zip = tuple(row)\n",
    "            doc = col.createDocument()\n",
    "            doc[\"_key\"] = user_id\n",
    "            doc[\"age\"] = age\n",
    "            doc[\"gender\"] = gender\n",
    "            doc.save()\n",
    "\n",
    "collection = db[\"Movies\"]\n",
    "with BulkOperation(collection, batchSize=100) as col:\n",
    "    with open('data/movies.csv', newline='') as csvfile:\n",
    "        reader = csv.reader(csvfile, delimiter=',', quotechar='|')\n",
    "        #Skip header\n",
    "        next(reader)\n",
    "        for row in reader:\n",
    "            movie_id, movie_title , release_date , video_release_date , url , unknown , action , adventure , animation , childrens , comedy , crime , documentary , drama , fantasy , noir , horror , musical , mystery , romance , scifi , thriller , war , western = tuple(row)\n",
    "            doc = col.createDocument()\n",
    "            doc[\"_key\"] = movie_id\n",
    "            doc[\"movie_title\"] = movie_title\n",
    "            doc[\"release_date\"] = release_date\n",
    "            doc.save()\n",
    "\n",
    "collection = db[\"Ratings\"]\n",
    "with BulkOperation(collection, batchSize=1000) as col:\n",
    "    with open('data/ratings.csv', newline='') as csvfile:\n",
    "        reader = csv.reader(csvfile, delimiter=',', quotechar='|')\n",
    "        #Skip header\n",
    "        next(reader)\n",
    "        for row in reader:\n",
    "            user_id,movie_id,rating,timestamp = tuple(row)\n",
    "            doc = col.createDocument()\n",
    "            doc[\"_from\"] = \"Users/\"+user_id\n",
    "            doc[\"_to\"] = \"Movies/\"+movie_id\n",
    "            doc[\"ratings\"] = rating\n",
    "            doc[\"timestamp\"] = timestamp\n",
    "            doc.save()\n",
    "        \n",
    "print(\"Import Done\")"
   ],
   "outputs": [],
   "metadata": {}
  },
  {
   "cell_type": "markdown",
   "source": [
    "Let us build the Collaborative Filtering step by step;\n",
    "\n",
    "1. Find movies I rated with 5 stars\n",
    "2. Find users who also rated these movies also with 5 stars\n",
    "3. Find additional movies also rated 5 stars by those users\n"
   ],
   "metadata": {}
  },
  {
   "cell_type": "code",
   "execution_count": null,
   "source": [
    "my_ratings = \"\"\"\n",
    "WITH Movies, Users, Ratings\n",
    "FOR movie, edge IN 1..1 \n",
    "  OUTBOUND 'Users/1'\n",
    "  GRAPH 'IMDBGraph'\n",
    "  FILTER TO_NUMBER(edge.ratings) == 5\n",
    "  LIMIT 10\n",
    "  RETURN {\n",
    "        \"movie\" : movie.movie_title,\n",
    "        \"rating\" : edge.ratings\n",
    "    }\n",
    "\"\"\"\n",
    "\n",
    "queryResult = db.AQLQuery(my_ratings, rawResults=True)\n",
    "for result in queryResult:\n",
    "    print(\"Movie: \" + result[\"movie\"])\n",
    "    print(\"Rating: \" + result[\"rating\"])\n",
    "    print()"
   ],
   "outputs": [],
   "metadata": {}
  },
  {
   "cell_type": "code",
   "execution_count": null,
   "source": [
    "alike_users = \"\"\"\n",
    "WITH Movies, Users, Ratings\n",
    "FOR movie, edge IN 1..1 \n",
    "  OUTBOUND 'Users/1'\n",
    "  GRAPH 'IMDBGraph'\n",
    "  FILTER TO_NUMBER(edge.ratings) == 5\n",
    "  \n",
    "      FOR user, edge2 IN ANY movie Ratings\n",
    "            FILTER TO_NUMBER(edge2.ratings) == 5\n",
    "            LIMIT 10\n",
    "            RETURN DISTINCT {\n",
    "                \"user\" : user._key,\n",
    "                \"age\" : user.age\n",
    "            }\n",
    "\"\"\"\n",
    "\n",
    "queryResult = db.AQLQuery(alike_users, rawResults=True)\n",
    "for result in queryResult:\n",
    "    print(\"User: \" + result[\"user\"])\n",
    "    print(\"Age: \" + result[\"age\"])\n",
    "    print()"
   ],
   "outputs": [],
   "metadata": {}
  },
  {
   "cell_type": "code",
   "execution_count": null,
   "source": [
    "new_movies = \"\"\"\n",
    "WITH Movies, Users, Ratings\n",
    "FOR movie, edge IN 1..1 \n",
    "  OUTBOUND 'Users/1'\n",
    "  GRAPH 'IMDBGraph'\n",
    "  FILTER TO_NUMBER(edge.ratings) == 5\n",
    "  \n",
    "      FOR user, edge2 IN ANY movie Ratings\n",
    "            FILTER TO_NUMBER(edge2.ratings) == 5\n",
    "           // All users who have also rated that movie with 5 stars\n",
    "          FOR movie2, edge3 IN ANY user Ratings\n",
    "              FILTER TO_NUMBER(edge3.ratings) == 5\n",
    "              LIMIT 10\n",
    "              RETURN DISTINCT {\n",
    "                 \"title\" : movie2.movie_title\n",
    "              }\n",
    "\"\"\"\n",
    "\n",
    "queryResult = db.AQLQuery(new_movies, rawResults=True)\n",
    "for result in queryResult:\n",
    "    print(\"Movie: \" + result[\"title\"])\n",
    "    print()"
   ],
   "outputs": [],
   "metadata": {}
  },
  {
   "cell_type": "code",
   "execution_count": null,
   "source": [
    "# Delete collections\n",
    "db.dropAllCollections() \n",
    "db.reload()"
   ],
   "outputs": [],
   "metadata": {}
  }
 ],
 "metadata": {
  "colab": {
   "collapsed_sections": [],
   "name": "Collaborative_Filtering.ipynb",
   "provenance": []
  },
  "kernelspec": {
   "display_name": "Python 3",
   "language": "python",
   "name": "python3"
  },
  "language_info": {
   "codemirror_mode": {
    "name": "ipython"
   },
   "file_extension": ".py",
   "mimetype": "text/x-python",
   "name": "python",
   "nbconvert_exporter": "python"
  }
 },
 "nbformat": 4,
 "nbformat_minor": 2
}