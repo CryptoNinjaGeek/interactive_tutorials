{
  "nbformat": 4,
  "nbformat_minor": 2,
  "metadata": {
    "colab": {
      "name": "Collaborative_Filtering.ipynb",
      "provenance": [],
      "collapsed_sections": []
    },
    "kernelspec": {
      "display_name": "Python 3",
      "language": "python",
      "name": "python3"
    },
    "language_info": {
      "codemirror_mode": {
        "name": "ipython"
      },
      "file_extension": ".py",
      "mimetype": "text/x-python",
      "name": "python",
      "nbconvert_exporter": "python"
    }
  },
  "cells": [
    {
      "cell_type": "markdown",
      "source": [
        "# Graph Analytics - Collaborative Filtering"
      ],
      "metadata": {
        "id": "vgMdUAzdza_a"
      }
    },
    {
      "cell_type": "markdown",
      "source": [
        "<a href=\"https://colab.research.google.com/github/arangodb/interactive_tutorials/blob/master/notebooks/Collaborative_Filtering.ipynb\" target=\"_parent\"><img src=\"https://colab.research.google.com/assets/colab-badge.svg\" alt=\"Open In Colab\"/></a>"
      ],
      "metadata": {
        "id": "QEXBjbs9za_c"
      }
    },
    {
      "cell_type": "markdown",
      "source": [
        "We have all seen product recommandations like \"People who have looked that item x, also bought item y.\"\n",
        "In this notebook we develop a similar system for an even better cause: Figuring out which movie to watch next.\n",
        "For this we consider a simple dataset with user ratings for movies and then use a technique called [Collaborative Filtering](https://en.wikipedia.org/wiki/Collaborative_filtering) to identify which new movies might be worth watching based on other movies we liked."
      ],
      "metadata": {
        "id": "rVtv0vGIza_c"
      }
    },
    {
      "cell_type": "markdown",
      "source": [
        "![ratings](https://github.com/arangodb/interactive_tutorials/blob/master/notebook/img/user_movie_rating.png?raw=1)"
      ],
      "metadata": {
        "id": "rq67fUl5za_d"
      }
    },
    {
      "cell_type": "markdown",
      "source": [
        "First, setting up our environment."
      ],
      "metadata": {
        "id": "EwjvpUwlza_d"
      }
    },
    {
      "cell_type": "code",
      "execution_count": null,
      "source": [
        "%%capture\r\n",
        "!git clone -b oasis_connector --single-branch https://github.com/arangodb/interactive_tutorials.git\r\n",
        "!rsync -av interactive_tutorials/ ./ --exclude=.git\r\n",
        "!chmod -R 755 ./tools\r\n",
        "!git clone -b imdb_csv --single-branch https://github.com/arangodb/interactive_tutorials.git imdb_csv\r\n",
        "!rsync -av imdb_csv/ ./data\r\n",
        "\r\n",
        "!pip3 install pyarango\r\n",
        "!pip3 install python-arango"
      ],
      "outputs": [],
      "metadata": {
        "id": "i16x9lF1za_d"
      }
    },
    {
      "cell_type": "code",
      "execution_count": null,
      "source": [
        "import csv\r\n",
        "import json\r\n",
        "import requests\r\n",
        "import sys\r\n",
        "import oasis\r\n",
        "\r\n",
        "\r\n",
        "from pyArango.connection import *\r\n",
        "from pyArango.collection import Collection, Edges, Field\r\n",
        "from pyArango.graph import Graph, EdgeDefinition\r\n",
        "from pyArango.collection import BulkOperation as BulkOperation"
      ],
      "outputs": [
        {
          "output_type": "stream",
          "name": "stderr",
          "text": [
            "/usr/local/lib/python3.7/dist-packages/requests/__init__.py:91: RequestsDependencyWarning: urllib3 (1.26.6) or chardet (3.0.4) doesn't match a supported version!\n",
            "  RequestsDependencyWarning)\n"
          ]
        }
      ],
      "metadata": {
        "id": "AAWaXDM_za_e",
        "colab": {
          "base_uri": "https://localhost:8080/"
        },
        "outputId": "7c7ce0c6-ca7b-49e8-db1b-31ea7cffae13"
      }
    },
    {
      "cell_type": "markdown",
      "source": [
        "Next, create a temporary database instance backed by ArangoDB's Managed Cloud Service Oasis:"
      ],
      "metadata": {
        "id": "vBI1BZF_za_e"
      }
    },
    {
      "cell_type": "code",
      "execution_count": null,
      "source": [
        "# Retrieve tmp credentials from ArangoDB Tutorial Service\n",
        "login = oasis.getTempCredentials(tutorialName=\"ArangoSearchOnGraphs\", credentialProvider=\"https://tutorials.arangodb.cloud:8529/_db/_system/tutorialDB/tutorialDB\")\n",
        "\n",
        "# Connect to the temp database\n",
        "conn = oasis.connect(login)\n",
        "db = conn[login[\"dbName\"]] "
      ],
      "outputs": [
        {
          "output_type": "stream",
          "name": "stdout",
          "text": [
            "Requesting new temp credentials.\n",
            "Temp database ready to use.\n"
          ]
        }
      ],
      "metadata": {
        "id": "NrNgdDKvza_e",
        "colab": {
          "base_uri": "https://localhost:8080/"
        },
        "outputId": "7c2b826e-8e6a-4fba-971a-d4c181319801"
      }
    },
    {
      "cell_type": "code",
      "execution_count": null,
      "source": [
        "print(\"https://\"+login[\"hostname\"]+\":\"+str(login[\"port\"]))\n",
        "print(\"Username: \" + login[\"username\"])\n",
        "print(\"Password: \" + login[\"password\"])\n",
        "print(\"Database: \" + login[\"dbName\"])"
      ],
      "outputs": [
        {
          "output_type": "stream",
          "name": "stdout",
          "text": [
            "https://tutorials.arangodb.cloud:8529\n",
            "Username: TUT9o6ie7m9x0s9ilzeciq2y\n",
            "Password: TUTw5qtabaibbtfnlpshk3obm\n",
            "Database: TUTilxb1oz9atozq68w8eawb\n"
          ]
        }
      ],
      "metadata": {
        "id": "_U6eHwXmza_f",
        "colab": {
          "base_uri": "https://localhost:8080/"
        },
        "outputId": "ca86254b-a138-4101-cd09-8330949691ca"
      }
    },
    {
      "cell_type": "markdown",
      "source": [
        "Lets define a structure for a simple train network."
      ],
      "metadata": {
        "id": "gTuc5MNrza_f"
      }
    },
    {
      "cell_type": "markdown",
      "source": [
        "Let us take a short look at our dataset which–as often in realworld scenarios– comes in csv format. "
      ],
      "metadata": {
        "id": "fgqn0VvTza_f"
      }
    },
    {
      "cell_type": "code",
      "execution_count": null,
      "source": [
        "print(\"User Data\")\n",
        "!head -n 3 data/users.csv \n",
        "print()\n",
        "print(\"Movies Data\")\n",
        "!head -n 3 data/movies.csv \n",
        "print()\n",
        "print(\"Rating Data\")\n",
        "!head -n 3 data/ratings.csv \n"
      ],
      "outputs": [
        {
          "output_type": "stream",
          "name": "stdout",
          "text": [
            "User Data\n",
            "user_id,Age,Gender,occupation,zip_code\n",
            "1,35,M,engineer,94117\n",
            "2,53,F,other,94043\n",
            "\n",
            "Movies Data\n",
            "movie_id, movie title , release date , video release date , IMDb URL , unknown , Action , Adventure , Animation , Children's , Comedy , Crime , Documentary , Drama , Fantasy , Film-Noir , Horror , Musical , Mystery , Romance , Sci-Fi , Thriller , War , Western \n",
            "1,Toy Story (1995),01-Jan-1995,,http://us.imdb.com/M/title-exact?Toy%20Story%20(1995),0,0,0,1,1,1,0,0,0,0,0,0,0,0,0,0,0,0,0\n",
            "2,GoldenEye (1995),01-Jan-1995,,http://us.imdb.com/M/title-exact?GoldenEye%20(1995),0,1,1,0,0,0,0,0,0,0,0,0,0,0,0,0,1,0,0\n",
            "\n",
            "Rating Data\n",
            "user_id,item_id,Rating,Timestamp\n",
            "186,302,3,891717742\n",
            "22,377,1,878887116\n"
          ]
        }
      ],
      "metadata": {
        "id": "_eS7IHImza_f",
        "colab": {
          "base_uri": "https://localhost:8080/"
        },
        "outputId": "bf9021c8-cfd4-4eee-dca6-1db0c2a95f9a"
      }
    },
    {
      "cell_type": "markdown",
      "source": [
        "Create a graph with Users and Movies as Vertices, and Ratings as edges between."
      ],
      "metadata": {
        "id": "s90uh_qzza_g"
      }
    },
    {
      "cell_type": "code",
      "execution_count": null,
      "source": [
        "from pyArango.collection import Collection, Field\n",
        "from pyArango.graph import Graph, EdgeDefinition\n",
        "\n",
        "\n",
        "class Users(Collection):\n",
        "    _fields = {\n",
        "        \"user_id\": Field(),\n",
        "        \"age\": Field(),\n",
        "        \"gender\": Field()\n",
        "    }\n",
        "    \n",
        "class Movies(Collection):\n",
        "    _fields = {\n",
        "        \"movie_id\": Field(),\n",
        "        \"movie_title\": Field(),\n",
        "        \"release_data\": Field()\n",
        "    }\n",
        "\n",
        "class Ratings(Edges): \n",
        "    _fields = {\n",
        "        #user_id and item_id are encoded by _from, _to \n",
        "        \"rating\": Field(),\n",
        "        \"timestamp\": Field()\n",
        "    }\n",
        "\n",
        "class IMDBGraph(Graph) :\n",
        "    _edgeDefinitions = [EdgeDefinition(\"Ratings\", fromCollections=[\"Users\"], toCollections=[\"Movies\"])]\n",
        "    _orphanedCollections = []\n",
        "\n",
        "db.createCollection(\"Users\")\n",
        "db.createCollection(\"Movies\")\n",
        "db.createCollection(\"Ratings\")\n",
        "iMDBGraph = db.createGraph(\"IMDBGraph\", replicationFactor=3)\n",
        "\n",
        "print(\"Collection/Graph Setup done.\")"
      ],
      "outputs": [
        {
          "output_type": "stream",
          "name": "stdout",
          "text": [
            "Collection/Graph Setup done.\n"
          ]
        }
      ],
      "metadata": {
        "id": "sdk6FXYjza_h",
        "colab": {
          "base_uri": "https://localhost:8080/"
        },
        "outputId": "4a4cf9f2-ab6d-4787-8201-7b4fd4ed59e9"
      }
    },
    {
      "cell_type": "code",
      "execution_count": null,
      "source": [
        "collection = db[\"Users\"]\n",
        "with BulkOperation(collection, batchSize=100) as col:\n",
        "    with open('data/users.csv', newline='') as csvfile:\n",
        "        reader = csv.reader(csvfile, delimiter=',', quotechar='|')\n",
        "        #Skip header\n",
        "        next(reader)\n",
        "        for row in reader:\n",
        "            user_id,age,gender,occupation,zip = tuple(row)\n",
        "            doc = col.createDocument()\n",
        "            doc[\"_key\"] = user_id\n",
        "            doc[\"age\"] = age\n",
        "            doc[\"gender\"] = gender\n",
        "            doc.save()\n",
        "\n",
        "collection = db[\"Movies\"]\n",
        "with BulkOperation(collection, batchSize=100) as col:\n",
        "    with open('data/movies.csv', newline='') as csvfile:\n",
        "        reader = csv.reader(csvfile, delimiter=',', quotechar='|')\n",
        "        #Skip header\n",
        "        next(reader)\n",
        "        for row in reader:\n",
        "            movie_id, movie_title , release_date , video_release_date , url , unknown , action , adventure , animation , childrens , comedy , crime , documentary , drama , fantasy , noir , horror , musical , mystery , romance , scifi , thriller , war , western = tuple(row)\n",
        "            doc = col.createDocument()\n",
        "            doc[\"_key\"] = movie_id\n",
        "            doc[\"movie_title\"] = movie_title\n",
        "            doc[\"release_date\"] = release_date\n",
        "            doc.save()\n",
        "\n",
        "collection = db[\"Ratings\"]\n",
        "with BulkOperation(collection, batchSize=1000) as col:\n",
        "    with open('data/ratings.csv', newline='') as csvfile:\n",
        "        reader = csv.reader(csvfile, delimiter=',', quotechar='|')\n",
        "        #Skip header\n",
        "        next(reader)\n",
        "        for row in reader:\n",
        "            user_id,movie_id,rating,timestamp = tuple(row)\n",
        "            doc = col.createDocument()\n",
        "            doc[\"_from\"] = \"Users/\"+user_id\n",
        "            doc[\"_to\"] = \"Movies/\"+movie_id\n",
        "            doc[\"ratings\"] = rating\n",
        "            doc[\"timestamp\"] = timestamp\n",
        "            doc.save()\n",
        "        \n",
        "print(\"Import Done\")"
      ],
      "outputs": [
        {
          "output_type": "stream",
          "name": "stdout",
          "text": [
            "Import Done\n"
          ]
        }
      ],
      "metadata": {
        "id": "_b4wFQInza_i",
        "colab": {
          "base_uri": "https://localhost:8080/"
        },
        "outputId": "65d8149c-6493-40de-d474-7a4474b8ffc9"
      }
    },
    {
      "cell_type": "markdown",
      "source": [
        "Let us build the Collaborative Filtering step by step;\n",
        "\n",
        "1. Find movies I rated with 5 stars\n",
        "2. Find users who also rated these movies also with 5 stars\n",
        "3. Find additional movies also rated 5 stars by those users\n"
      ],
      "metadata": {
        "id": "yydXowONza_i"
      }
    },
    {
      "cell_type": "code",
      "execution_count": null,
      "source": [
        "my_ratings = \"\"\"\n",
        "WITH Movies, Users, Ratings\n",
        "FOR movie, edge IN 1..1 \n",
        "  OUTBOUND 'Users/1'\n",
        "  GRAPH 'IMDBGraph'\n",
        "  FILTER TO_NUMBER(edge.ratings) == 5\n",
        "  LIMIT 10\n",
        "  RETURN {\n",
        "        \"movie\" : movie.movie_title,\n",
        "        \"rating\" : edge.ratings\n",
        "    }\n",
        "\"\"\"\n",
        "\n",
        "queryResult = db.AQLQuery(my_ratings, rawResults=True)\n",
        "for result in queryResult:\n",
        "    print(\"Movie: \" + result[\"movie\"])\n",
        "    print(\"Rating: \" + result[\"rating\"])\n",
        "    print()"
      ],
      "outputs": [
        {
          "output_type": "stream",
          "name": "stdout",
          "text": [
            "Movie: Groundhog Day (1993)\n",
            "Rating: 5\n",
            "\n",
            "Movie: Delicatessen (1991)\n",
            "Rating: 5\n",
            "\n",
            "Movie: Pillow Book- The (1995)\n",
            "Rating: 5\n",
            "\n",
            "Movie: Horseman on the Roof- The (Hussard sur le toit- Le) (1995)\n",
            "Rating: 5\n",
            "\n",
            "Movie: Shawshank Redemption- The (1994)\n",
            "Rating: 5\n",
            "\n",
            "Movie: Star Trek: The Wrath of Khan (1982)\n",
            "Rating: 5\n",
            "\n",
            "Movie: Wallace & Gromit: The Best of Aardman Animation (1996)\n",
            "Rating: 5\n",
            "\n",
            "Movie: Breaking the Waves (1996)\n",
            "Rating: 5\n",
            "\n",
            "Movie: Three Colors: Blue (1993)\n",
            "Rating: 5\n",
            "\n",
            "Movie: Good- The Bad and The Ugly- The (1966)\n",
            "Rating: 5\n",
            "\n"
          ]
        }
      ],
      "metadata": {
        "id": "aPu9jx1Rza_j",
        "colab": {
          "base_uri": "https://localhost:8080/"
        },
        "outputId": "42a0cabe-9122-44ab-8ec6-e49d0a2d3267"
      }
    },
    {
      "cell_type": "code",
      "execution_count": null,
      "source": [
        "alike_users = \"\"\"\n",
        "WITH Movies, Users, Ratings\n",
        "FOR movie, edge IN 1..1 \n",
        "  OUTBOUND 'Users/1'\n",
        "  GRAPH 'IMDBGraph'\n",
        "  FILTER TO_NUMBER(edge.ratings) == 5\n",
        "  \n",
        "      FOR user, edge2 IN ANY movie Ratings\n",
        "            FILTER TO_NUMBER(edge2.ratings) == 5\n",
        "            LIMIT 10\n",
        "            RETURN DISTINCT {\n",
        "                \"user\" : user._key,\n",
        "                \"age\" : user.age\n",
        "            }\n",
        "\"\"\"\n",
        "\n",
        "queryResult = db.AQLQuery(alike_users, rawResults=True)\n",
        "for result in queryResult:\n",
        "    print(\"User: \" + result[\"user\"])\n",
        "    print(\"Age: \" + result[\"age\"])\n",
        "    print()"
      ],
      "outputs": [
        {
          "output_type": "stream",
          "name": "stdout",
          "text": [
            "User: 161\n",
            "Age: 50\n",
            "\n",
            "User: 233\n",
            "Age: 38\n",
            "\n",
            "User: 1\n",
            "Age: 35\n",
            "\n",
            "User: 301\n",
            "Age: 24\n",
            "\n",
            "User: 303\n",
            "Age: 19\n",
            "\n",
            "User: 288\n",
            "Age: 34\n",
            "\n",
            "User: 210\n",
            "Age: 39\n",
            "\n",
            "User: 379\n",
            "Age: 44\n",
            "\n",
            "User: 130\n",
            "Age: 20\n",
            "\n",
            "User: 97\n",
            "Age: 43\n",
            "\n"
          ]
        }
      ],
      "metadata": {
        "id": "MMEzHu_Nza_j",
        "colab": {
          "base_uri": "https://localhost:8080/"
        },
        "outputId": "54f71686-d387-416e-818d-ae709d2d520e"
      }
    },
    {
      "cell_type": "code",
      "execution_count": null,
      "source": [
        "new_movies = \"\"\"\n",
        "WITH Movies, Users, Ratings\n",
        "FOR movie, edge IN 1..1 \n",
        "  OUTBOUND 'Users/1'\n",
        "  GRAPH 'IMDBGraph'\n",
        "  FILTER TO_NUMBER(edge.ratings) == 5\n",
        "  \n",
        "      FOR user, edge2 IN ANY movie Ratings\n",
        "            FILTER TO_NUMBER(edge2.ratings) == 5\n",
        "           // All users who have also rated that movie with 5 stars\n",
        "          FOR movie2, edge3 IN ANY user Ratings\n",
        "              FILTER TO_NUMBER(edge3.ratings) == 5\n",
        "              LIMIT 10\n",
        "              RETURN DISTINCT {\n",
        "                 \"title\" : movie2.movie_title\n",
        "              }\n",
        "\"\"\"\n",
        "\n",
        "queryResult = db.AQLQuery(new_movies, rawResults=True)\n",
        "for result in queryResult:\n",
        "    print(\"Movie: \" + result[\"title\"])\n",
        "    print()"
      ],
      "outputs": [
        {
          "output_type": "stream",
          "name": "stdout",
          "text": [
            "Movie: Groundhog Day (1993)\n",
            "\n",
            "Movie: Leaving Las Vegas (1995)\n",
            "\n",
            "Movie: Good Will Hunting (1997)\n",
            "\n",
            "Movie: As Good As It Gets (1997)\n",
            "\n",
            "Movie: Apt Pupil (1998)\n",
            "\n",
            "Movie: One Flew Over the Cuckoo's Nest (1975)\n",
            "\n",
            "Movie: To Live (Huozhe) (1994)\n",
            "\n",
            "Movie: Hoop Dreams (1994)\n",
            "\n",
            "Movie: Raiders of the Lost Ark (1981)\n",
            "\n"
          ]
        }
      ],
      "metadata": {
        "id": "V0dDANaVza_j",
        "colab": {
          "base_uri": "https://localhost:8080/"
        },
        "outputId": "c5ed50c5-285f-459b-a68e-1898084ec1ab"
      }
    },
    {
      "cell_type": "code",
      "execution_count": null,
      "source": [
        "# Delete collections\n",
        "db.dropAllCollections() \n",
        "db.reload()"
      ],
      "outputs": [],
      "metadata": {
        "id": "LIHOGIeBza_k"
      }
    }
  ]
}