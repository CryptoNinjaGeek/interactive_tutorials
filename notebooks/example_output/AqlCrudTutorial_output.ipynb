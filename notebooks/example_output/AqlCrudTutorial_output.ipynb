{
  "nbformat": 4,
  "nbformat_minor": 2,
  "metadata": {
    "kernelspec": {
      "name": "python3",
      "display_name": "Python 3.8.8 64-bit ('base': conda)"
    },
    "language_info": {
      "codemirror_mode": {
        "name": "ipython",
        "version": 3
      },
      "file_extension": ".py",
      "mimetype": "text/x-python",
      "name": "python",
      "nbconvert_exporter": "python",
      "pygments_lexer": "ipython3",
      "version": "3.8.8"
    },
    "colab": {
      "name": "AqlCrudTutorial.ipynb",
      "provenance": []
    },
    "interpreter": {
      "hash": "d30407bbe891b7f843345a9a4c271cb86b4a87dd0a6f0c259e0e843cc575520f"
    }
  },
  "cells": [
    {
      "cell_type": "markdown",
      "source": [
        "![arangodb](https://github.com/arangodb/interactive_tutorials/blob/master/notebooks/img/ArangoDB_logo.png?raw=1)"
      ],
      "metadata": {
        "id": "n0rkeLIblL3v",
        "colab_type": "text"
      }
    },
    {
      "cell_type": "markdown",
      "source": [
        "# AQL CRUD Tutorial"
      ],
      "metadata": {
        "id": "RIEOVT_clL3w",
        "colab_type": "text"
      }
    },
    {
      "cell_type": "markdown",
      "source": [
        "<a href=\"https://colab.research.google.com/github/arangodb/interactive_tutorials/blob/master/notebooks/AqlCrudTutorial.ipynb\" target=\"_parent\"><img src=\"https://colab.research.google.com/assets/colab-badge.svg\" alt=\"Open In Colab\"/></a>"
      ],
      "metadata": {
        "id": "523AuFiDlL3w",
        "colab_type": "text"
      }
    },
    {
      "cell_type": "markdown",
      "source": [
        "This is an introduction to ArangoDB’s query language AQL, built around a small dataset of characters from the novel and fantasy drama television series Game of Thrones (as of season 1). It includes character traits in two languages, some family relations, and last but not least a small set of filming locations, which makes for an interesting mix of data to work with.\n",
        "\n",
        "In addition to the python interface, you can interact with ArangoDB using its web interface to manage collections and execute the queries."
      ],
      "metadata": {
        "id": "YirEqF2plL3x",
        "colab_type": "text"
      }
    },
    {
      "cell_type": "markdown",
      "source": [
        "# Setup "
      ],
      "metadata": {
        "id": "egh6bipalL3x",
        "colab_type": "text"
      }
    },
    {
      "cell_type": "markdown",
      "source": [
        "Before getting started with ArangoDB we need to prepare our environment and create a temporary database on ArangoDB's managed Service Oasis."
      ],
      "metadata": {
        "id": "caxGwfdolL3y",
        "colab_type": "text"
      }
    },
    {
      "cell_type": "code",
      "execution_count": null,
      "source": [
        "%%capture\r\n",
        "!git clone -b oasis_connector --single-branch https://github.com/arangodb/interactive_tutorials.git\r\n",
        "!rsync -av interactive_tutorials/ ./ --exclude=.git\r\n",
        "!pip3 install pyarango\r\n",
        "!pip3 install \"python-arango>=5.0\""
      ],
      "outputs": [],
      "metadata": {
        "id": "b71OolRVlL3y",
        "colab_type": "code",
        "colab": {}
      }
    },
    {
      "cell_type": "code",
      "execution_count": null,
      "source": [
        "import json\r\n",
        "import requests\r\n",
        "import sys\r\n",
        "import oasis\r\n",
        "import time\r\n",
        "\r\n",
        "from pyArango.connection import *\r\n",
        "from arango import ArangoClient"
      ],
      "outputs": [],
      "metadata": {
        "id": "GxUifnWFlL32",
        "colab_type": "code",
        "colab": {}
      }
    },
    {
      "cell_type": "markdown",
      "source": [
        "Create the temporary database:"
      ],
      "metadata": {
        "id": "JqQ7ykO8lL34",
        "colab_type": "text"
      }
    },
    {
      "cell_type": "code",
      "execution_count": 3,
      "source": [
        "# Retrieve tmp credentials from ArangoDB Tutorial Service\r\n",
        "login = oasis.getTempCredentials(tutorialName=\"AQLCrudTutorial\", credentialProvider='https://tutorials.arangodb.cloud:8529/_db/_system/tutorialDB/tutorialDB')\r\n",
        "\r\n",
        "# Connect to the temp database\r\n",
        "conn = oasis.connect(login)\r\n",
        "db = conn[login[\"dbName\"]] "
      ],
      "outputs": [
        {
          "output_type": "stream",
          "name": "stdout",
          "text": [
            "Requesting new temp credentials.\n",
            "Temp database ready to use.\n"
          ]
        }
      ],
      "metadata": {
        "id": "xwZmVgSQlL34",
        "colab_type": "code",
        "colab": {
          "base_uri": "https://localhost:8080/",
          "height": 51
        },
        "outputId": "4fb9a08c-887b-4f1f-b980-58cf10b46ecf"
      }
    },
    {
      "cell_type": "code",
      "execution_count": 4,
      "source": [
        "print(\"https://{}:{}\".format(login[\"hostname\"], login[\"port\"]))\r\n",
        "print(\"Username: \" + login[\"username\"])\r\n",
        "print(\"Password: \" + login[\"password\"])\r\n",
        "print(\"Database: \" + login[\"dbName\"])"
      ],
      "outputs": [
        {
          "output_type": "stream",
          "name": "stdout",
          "text": [
            "https://tutorials.arangodb.cloud:8529\n",
            "Username: TUT677r5rs67wqorrr3mhgye\n",
            "Password: TUTjemn0tt7g48prxzwveweh8\n",
            "Database: TUT15bh8ysi60h9bn5a2ysvpf\n"
          ]
        }
      ],
      "metadata": {
        "id": "9bbQK2DxlL36",
        "colab_type": "code",
        "colab": {
          "base_uri": "https://localhost:8080/",
          "height": 85
        },
        "outputId": "af33b76d-8c2f-40d0-9425-3842c91978f7"
      }
    },
    {
      "cell_type": "markdown",
      "source": [
        "Feel free to use to above URL to checkout the UI!"
      ],
      "metadata": {
        "id": "-ob7hZjXlL38",
        "colab_type": "text"
      }
    },
    {
      "cell_type": "markdown",
      "source": [
        "##  Creating Collections"
      ],
      "metadata": {
        "id": "Mpu-5IImlL39",
        "colab_type": "text"
      }
    },
    {
      "cell_type": "markdown",
      "source": [
        "Before we can insert documents with AQL, we need a place to put them in – a collection. Collections can be managed via the web interface, arangosh or a driver. It is not possible to do so with AQL however."
      ],
      "metadata": {
        "id": "2wG7jliSlL39",
        "colab_type": "text"
      }
    },
    {
      "cell_type": "code",
      "execution_count": 5,
      "source": [
        "db.createCollection(name=\"Characters\")"
      ],
      "outputs": [
        {
          "output_type": "execute_result",
          "data": {
            "text/plain": [
              "ArangoDB collection name: Characters, id: 14020870, type: document, status: loaded"
            ]
          },
          "metadata": {
            "tags": []
          },
          "execution_count": 5
        }
      ],
      "metadata": {
        "id": "xN0PWKCplL39",
        "colab_type": "code",
        "colab": {
          "base_uri": "https://localhost:8080/",
          "height": 34
        },
        "outputId": "be0c71c7-e700-48d0-e8f1-ff188885a827"
      }
    },
    {
      "cell_type": "markdown",
      "source": [
        "##  Creating and Reading Documents"
      ],
      "metadata": {
        "id": "a7LBdDAWlL4A",
        "colab_type": "text"
      }
    },
    {
      "cell_type": "markdown",
      "source": [
        "The syntax for creating a new document is `INSERT document INTO collectionName`. The document is an object like you may know it from JavaScript or JSON, which is comprised of attribute key and value pairs. The quotes around the attribute keys are optional in AQL. Keys are always character sequences (strings), whereas attribute values can have different types:\n",
        "\n",
        "* null\n",
        "* boolean (true, false)\n",
        "* number (integer and floating point)\n",
        "* string\n",
        "* array\n",
        "* object\n",
        "\n",
        "Name and surname of the character document we inserted are both string values. The alive state uses a boolean. Age is a numeric value. The traits are an array of strings. The entire document is an object."
      ],
      "metadata": {
        "id": "yVd0NihHlL4A",
        "colab_type": "text"
      }
    },
    {
      "cell_type": "code",
      "execution_count": 6,
      "source": [
        "insert_query = \"\"\"\n",
        "INSERT {\n",
        "    \"name\": \"Ned\",\n",
        "    \"surname\": \"Stark\",\n",
        "    \"alive\": true,\n",
        "    \"age\": 41,\n",
        "    \"traits\": [\"A\",\"H\",\"C\",\"N\",\"P\"]\n",
        "} INTO Characters\n",
        "\"\"\"\n",
        "\n",
        "db.AQLQuery(insert_query)"
      ],
      "outputs": [
        {
          "output_type": "execute_result",
          "data": {
            "text/plain": [
              "<pyArango.query.AQLQuery at 0x7f84ee241278>"
            ]
          },
          "metadata": {
            "tags": []
          },
          "execution_count": 6
        }
      ],
      "metadata": {
        "id": "vwUYHf9RlL4B",
        "colab_type": "code",
        "colab": {
          "base_uri": "https://localhost:8080/",
          "height": 34
        },
        "outputId": "6ac72b3c-59ab-4e93-e23a-0360a009c910"
      }
    },
    {
      "cell_type": "markdown",
      "source": [
        "*Note: You can also execute all the queries from the ArangoDB Web UI which you can access using the link and login information above.*"
      ],
      "metadata": {
        "id": "0aj4w_e9lL4D",
        "colab_type": "text"
      }
    },
    {
      "cell_type": "markdown",
      "source": [
        "![ui](https://github.com/joerg84/ArangoDBUniversity/blob/master/img/query_ui.png?raw=1)"
      ],
      "metadata": {
        "id": "CeYIsvQslL4D",
        "colab_type": "text"
      }
    },
    {
      "cell_type": "markdown",
      "source": [
        "Let us check whether the insert was sucessfull querying the `Characters` collections. The syntax of the loop is `FOR variableName IN collectionName`. For each document in the collection, c is assigned a document, which is then returned as per the loop body."
      ],
      "metadata": {
        "id": "cGXpzK2LlL4D",
        "colab_type": "text"
      }
    },
    {
      "cell_type": "code",
      "execution_count": 7,
      "source": [
        "all_characters = \"\"\"\n",
        "FOR c IN Characters\n",
        "    RETURN c\n",
        "\"\"\"\n",
        "\n",
        "query_result = db.AQLQuery(all_characters, rawResults=True)\n",
        "for doc in  query_result:\n",
        "    print(doc)\n",
        "    print()"
      ],
      "outputs": [
        {
          "output_type": "stream",
          "name": "stdout",
          "text": [
            "{'_key': '18020800', '_id': 'Characters/18020800', '_rev': '_apkT3FC---', 'age': 41, 'alive': True, 'name': 'Ned', 'surname': 'Stark', 'traits': ['A', 'H', 'C', 'N', 'P']}\n",
            "\n"
          ]
        }
      ],
      "metadata": {
        "id": "BOyLnyV8lL4E",
        "colab_type": "code",
        "colab": {
          "base_uri": "https://localhost:8080/",
          "height": 51
        },
        "outputId": "d8ac0341-f0ea-4e5d-9ea4-2a0227fb7aab"
      }
    },
    {
      "cell_type": "markdown",
      "source": [
        "The document features the four attributes we stored, plus three more added by the database system. Each document needs a unique `_key`, which identifies it within a collection. The `_id` is a computed property, a concatenation of the collection name, a forward slash `/` and the document key. It uniquely identies a document within a database. `_rev` is a revision ID managed by the system. Older revisions of a document cannot be accessed.\n",
        "Document keys can be provided by the user upon document creation, or a unique value is assigned automatically. It can not be changed later. All three system attributes starting with an underscore `_` are read-only."
      ],
      "metadata": {
        "id": "_v0o8EE0lL4G",
        "colab_type": "text"
      }
    },
    {
      "cell_type": "markdown",
      "source": [
        "Next, let us add some more characters. The `LET` keyword defines a variable with name data and an array of objects as value, so `LET variableName = valueExpression` and the expression being a literal array definition like `[ {...}, {...}, ... ]`.\n",
        "\n",
        "`FOR variableName IN expression` is used to iterate over each element of the data array. In each loop, one element is assigned to the variable `d`. This variable is then used in the `INSERT` statement instead of a literal object definition. What is does is basically:"
      ],
      "metadata": {
        "id": "-2cL1kaClL4G",
        "colab_type": "text"
      }
    },
    {
      "cell_type": "code",
      "execution_count": 8,
      "source": [
        "insert_query = \"\"\"\n",
        "LET data = [\n",
        "    { \"name\": \"Robert\", \"surname\": \"Baratheon\", \"alive\": false, \"traits\": [\"A\",\"H\",\"C\"] },\n",
        "    { \"name\": \"Jaime\", \"surname\": \"Lannister\", \"alive\": true, \"age\": 36, \"traits\": [\"A\",\"F\",\"B\"] },\n",
        "    { \"name\": \"Catelyn\", \"surname\": \"Stark\", \"alive\": false, \"age\": 40, \"traits\": [\"D\",\"H\",\"C\"] },\n",
        "    { \"name\": \"Cersei\", \"surname\": \"Lannister\", \"alive\": true, \"age\": 36, \"traits\": [\"H\",\"E\",\"F\"] },\n",
        "    { \"name\": \"Daenerys\", \"surname\": \"Targaryen\", \"alive\": true, \"age\": 16, \"traits\": [\"D\",\"H\",\"C\"] },\n",
        "    { \"name\": \"Jorah\", \"surname\": \"Mormont\", \"alive\": false, \"traits\": [\"A\",\"B\",\"C\",\"F\"] },\n",
        "    { \"name\": \"Petyr\", \"surname\": \"Baelish\", \"alive\": false, \"traits\": [\"E\",\"G\",\"F\"] },\n",
        "    { \"name\": \"Viserys\", \"surname\": \"Targaryen\", \"alive\": false, \"traits\": [\"O\",\"L\",\"N\"] },\n",
        "    { \"name\": \"Jon\", \"surname\": \"Snow\", \"alive\": true, \"age\": 16, \"traits\": [\"A\",\"B\",\"C\",\"F\"] },\n",
        "    { \"name\": \"Sansa\", \"surname\": \"Stark\", \"alive\": true, \"age\": 13, \"traits\": [\"D\",\"I\",\"J\"] },\n",
        "    { \"name\": \"Arya\", \"surname\": \"Stark\", \"alive\": true, \"age\": 11, \"traits\": [\"C\",\"K\",\"L\"] },\n",
        "    { \"name\": \"Robb\", \"surname\": \"Stark\", \"alive\": false, \"traits\": [\"A\",\"B\",\"C\",\"K\"] },\n",
        "    { \"name\": \"Theon\", \"surname\": \"Greyjoy\", \"alive\": true, \"age\": 16, \"traits\": [\"E\",\"R\",\"K\"] },\n",
        "    { \"name\": \"Bran\", \"surname\": \"Stark\", \"alive\": true, \"age\": 10, \"traits\": [\"L\",\"J\"] },\n",
        "    { \"name\": \"Joffrey\", \"surname\": \"Baratheon\", \"alive\": false, \"age\": 19, \"traits\": [\"I\",\"L\",\"O\"] },\n",
        "    { \"name\": \"Sandor\", \"surname\": \"Clegane\", \"alive\": true, \"traits\": [\"A\",\"P\",\"K\",\"F\"] },\n",
        "    { \"name\": \"Tyrion\", \"surname\": \"Lannister\", \"alive\": true, \"age\": 32, \"traits\": [\"F\",\"K\",\"M\",\"N\"] },\n",
        "    { \"name\": \"Khal\", \"surname\": \"Drogo\", \"alive\": false, \"traits\": [\"A\",\"C\",\"O\",\"P\"] },\n",
        "    { \"name\": \"Tywin\", \"surname\": \"Lannister\", \"alive\": false, \"traits\": [\"O\",\"M\",\"H\",\"F\"] },\n",
        "    { \"name\": \"Davos\", \"surname\": \"Seaworth\", \"alive\": true, \"age\": 49, \"traits\": [\"C\",\"K\",\"P\",\"F\"] },\n",
        "    { \"name\": \"Samwell\", \"surname\": \"Tarly\", \"alive\": true, \"age\": 17, \"traits\": [\"C\",\"L\",\"I\"] },\n",
        "    { \"name\": \"Stannis\", \"surname\": \"Baratheon\", \"alive\": false, \"traits\": [\"H\",\"O\",\"P\",\"M\"] },\n",
        "    { \"name\": \"Melisandre\", \"alive\": true, \"traits\": [\"G\",\"E\",\"H\"] },\n",
        "    { \"name\": \"Margaery\", \"surname\": \"Tyrell\", \"alive\": false, \"traits\": [\"M\",\"D\",\"B\"] },\n",
        "    { \"name\": \"Jeor\", \"surname\": \"Mormont\", \"alive\": false, \"traits\": [\"C\",\"H\",\"M\",\"P\"] },\n",
        "    { \"name\": \"Bronn\", \"alive\": true, \"traits\": [\"K\",\"E\",\"C\"] },\n",
        "    { \"name\": \"Varys\", \"alive\": true, \"traits\": [\"M\",\"F\",\"N\",\"E\"] },\n",
        "    { \"name\": \"Shae\", \"alive\": false, \"traits\": [\"M\",\"D\",\"G\"] },\n",
        "    { \"name\": \"Talisa\", \"surname\": \"Maegyr\", \"alive\": false, \"traits\": [\"D\",\"C\",\"B\"] },\n",
        "    { \"name\": \"Gendry\", \"alive\": false, \"traits\": [\"K\",\"C\",\"A\"] },\n",
        "    { \"name\": \"Ygritte\", \"alive\": false, \"traits\": [\"A\",\"P\",\"K\"] },\n",
        "    { \"name\": \"Tormund\", \"surname\": \"Giantsbane\", \"alive\": true, \"traits\": [\"C\",\"P\",\"A\",\"I\"] },\n",
        "    { \"name\": \"Gilly\", \"alive\": true, \"traits\": [\"L\",\"J\"] },\n",
        "    { \"name\": \"Brienne\", \"surname\": \"Tarth\", \"alive\": true, \"age\": 32, \"traits\": [\"P\",\"C\",\"A\",\"K\"] },\n",
        "    { \"name\": \"Ramsay\", \"surname\": \"Bolton\", \"alive\": true, \"traits\": [\"E\",\"O\",\"G\",\"A\"] },\n",
        "    { \"name\": \"Ellaria\", \"surname\": \"Sand\", \"alive\": true, \"traits\": [\"P\",\"O\",\"A\",\"E\"] },\n",
        "    { \"name\": \"Daario\", \"surname\": \"Naharis\", \"alive\": true, \"traits\": [\"K\",\"P\",\"A\"] },\n",
        "    { \"name\": \"Missandei\", \"alive\": true, \"traits\": [\"D\",\"L\",\"C\",\"M\"] },\n",
        "    { \"name\": \"Tommen\", \"surname\": \"Baratheon\", \"alive\": true, \"traits\": [\"I\",\"L\",\"B\"] },\n",
        "    { \"name\": \"Jaqen\", \"surname\": \"H'ghar\", \"alive\": true, \"traits\": [\"H\",\"F\",\"K\"] },\n",
        "    { \"name\": \"Roose\", \"surname\": \"Bolton\", \"alive\": true, \"traits\": [\"H\",\"E\",\"F\",\"A\"] },\n",
        "    { \"name\": \"The High Sparrow\", \"alive\": true, \"traits\": [\"H\",\"M\",\"F\",\"O\"] }\n",
        "]\n",
        "\n",
        "FOR d IN data\n",
        "    INSERT d INTO Characters\n",
        "\"\"\"\n",
        "\n",
        "db.AQLQuery(insert_query)"
      ],
      "outputs": [
        {
          "output_type": "execute_result",
          "data": {
            "text/plain": [
              "<pyArango.query.AQLQuery at 0x7f84ed060c50>"
            ]
          },
          "metadata": {
            "tags": []
          },
          "execution_count": 8
        }
      ],
      "metadata": {
        "id": "UEK8-A55lL4G",
        "colab_type": "code",
        "colab": {
          "base_uri": "https://localhost:8080/",
          "height": 34
        },
        "outputId": "18dcb744-c049-4b18-9d9b-d1920011bc8a"
      }
    },
    {
      "cell_type": "markdown",
      "source": [
        "As before let us check the `Characters` collection, but this time only return each characters name:"
      ],
      "metadata": {
        "id": "BLJDV1CClL4I",
        "colab_type": "text"
      }
    },
    {
      "cell_type": "code",
      "execution_count": 9,
      "source": [
        "all_characters_names = \"\"\"\n",
        "FOR c IN Characters\n",
        "    RETURN c.name\n",
        "\"\"\"\n",
        "\n",
        "query_result = db.AQLQuery(all_characters_names, rawResults=True)\n",
        "for doc in  query_result:\n",
        "    print(doc)\n",
        "    print()"
      ],
      "outputs": [
        {
          "output_type": "stream",
          "name": "stdout",
          "text": [
            "Ned\n",
            "\n",
            "Robert\n",
            "\n",
            "Jaime\n",
            "\n",
            "Catelyn\n",
            "\n",
            "Cersei\n",
            "\n",
            "Daenerys\n",
            "\n",
            "Jorah\n",
            "\n",
            "Petyr\n",
            "\n",
            "Viserys\n",
            "\n",
            "Jon\n",
            "\n",
            "Sansa\n",
            "\n",
            "Arya\n",
            "\n",
            "Robb\n",
            "\n",
            "Theon\n",
            "\n",
            "Bran\n",
            "\n",
            "Joffrey\n",
            "\n",
            "Sandor\n",
            "\n",
            "Tyrion\n",
            "\n",
            "Khal\n",
            "\n",
            "Tywin\n",
            "\n",
            "Davos\n",
            "\n",
            "Samwell\n",
            "\n",
            "Stannis\n",
            "\n",
            "Melisandre\n",
            "\n",
            "Margaery\n",
            "\n",
            "Jeor\n",
            "\n",
            "Bronn\n",
            "\n",
            "Varys\n",
            "\n",
            "Shae\n",
            "\n",
            "Talisa\n",
            "\n",
            "Gendry\n",
            "\n",
            "Ygritte\n",
            "\n",
            "Tormund\n",
            "\n",
            "Gilly\n",
            "\n",
            "Brienne\n",
            "\n",
            "Ramsay\n",
            "\n",
            "Ellaria\n",
            "\n",
            "Daario\n",
            "\n",
            "Missandei\n",
            "\n",
            "Tommen\n",
            "\n",
            "Jaqen\n",
            "\n",
            "Roose\n",
            "\n",
            "The High Sparrow\n",
            "\n"
          ]
        }
      ],
      "metadata": {
        "id": "-UdMs7djlL4J",
        "colab_type": "code",
        "colab": {
          "base_uri": "https://localhost:8080/",
          "height": 1000
        },
        "outputId": "ee156e88-002a-4f54-ec94-a7bea2b2e328"
      }
    },
    {
      "cell_type": "markdown",
      "source": [
        "# Updating Documents"
      ],
      "metadata": {
        "id": "7ommuB3_lL4M",
        "colab_type": "text"
      }
    },
    {
      "cell_type": "markdown",
      "source": [
        "**Spoiler Warning!**\n",
        "\n",
        "According to our Ned Stark document, he is alive. When we get to know that he died, we need to change the alive attribute. Let us modify the existing document. For this we first identify the above `_key` attribute."
      ],
      "metadata": {
        "id": "xV_SQnJzlL4M",
        "colab_type": "text"
      }
    },
    {
      "cell_type": "code",
      "execution_count": 10,
      "source": [
        "find_ned_query = \"\"\"\n",
        "FOR c IN Characters\n",
        "    FILTER c.name == \"Ned\"\n",
        "    RETURN c._key\n",
        "\"\"\"\n",
        "\n",
        "neds_document_key = None\n",
        "query_result = db.AQLQuery(find_ned_query, rawResults=True)\n",
        "for doc in  query_result:\n",
        "    print(\"_key: \" + str(doc))\n",
        "    neds_document_key = doc\n",
        "    print()"
      ],
      "outputs": [
        {
          "output_type": "stream",
          "name": "stdout",
          "text": [
            "_key: 18020800\n",
            "\n"
          ]
        }
      ],
      "metadata": {
        "id": "0PNkLb2flL4M",
        "colab_type": "code",
        "colab": {
          "base_uri": "https://localhost:8080/",
          "height": 51
        },
        "outputId": "49bc2b14-d5ac-4cd6-fe67-44b7923bb02f"
      }
    },
    {
      "cell_type": "markdown",
      "source": [
        "Using `key` we can update an existing document:"
      ],
      "metadata": {
        "id": "G6bL3wk8lL4O",
        "colab_type": "text"
      }
    },
    {
      "cell_type": "code",
      "execution_count": 11,
      "source": [
        "kill_ned = \"\"\"\n",
        "UPDATE @key \n",
        "WITH { alive: false} \n",
        "IN Characters\n",
        "\"\"\"\n",
        "bindVars = {'key': neds_document_key}\n",
        "db.AQLQuery(kill_ned, rawResults=False, batchSize=1, bindVars=bindVars)\n",
        "\n",
        "\n",
        "find_ned_query = \"\"\"\n",
        "FOR c IN Characters\n",
        "    FILTER c.name == \"Ned\"\n",
        "    RETURN c\n",
        "\"\"\"\n",
        "query_result = db.AQLQuery(find_ned_query, rawResults=True)\n",
        "for doc in  query_result:\n",
        "    print(doc)\n",
        "    print()"
      ],
      "outputs": [
        {
          "output_type": "stream",
          "name": "stdout",
          "text": [
            "{'_key': '18020800', '_id': 'Characters/18020800', '_rev': '_apkT4Kq--_', 'age': 41, 'alive': False, 'name': 'Ned', 'surname': 'Stark', 'traits': ['A', 'H', 'C', 'N', 'P']}\n",
            "\n"
          ]
        }
      ],
      "metadata": {
        "id": "USmQGORelL4O",
        "colab_type": "code",
        "colab": {
          "base_uri": "https://localhost:8080/",
          "height": 51
        },
        "outputId": "4b3211ea-29c1-47fc-f5b4-ba6213fc3019"
      }
    },
    {
      "cell_type": "markdown",
      "source": [
        "We could have also replaced the entire document content, using `REPLACE` instead of `UPDATE`:"
      ],
      "metadata": {
        "id": "9X56i5gqlL4Q",
        "colab_type": "text"
      }
    },
    {
      "cell_type": "code",
      "execution_count": 12,
      "source": [
        "kill_ned = \"\"\"\n",
        "REPLACE @key WITH {\n",
        "    name: \"Ned\",\n",
        "    surname: \"Stark\",\n",
        "    alive: false,\n",
        "    age: 41,\n",
        "    traits: [\"A\",\"H\",\"C\",\"N\",\"P\"]\n",
        "} IN Characters\n",
        "\"\"\"\n",
        "bindVars = {'key': neds_document_key}\n",
        "db.AQLQuery(kill_ned, rawResults=False, batchSize=1, bindVars=bindVars)\n",
        "\n",
        "# Check the updated Ned document \n",
        "find_ned_query = \"\"\"\n",
        "FOR c IN Characters\n",
        "    FILTER c.name == \"Ned\"\n",
        "    RETURN c\n",
        "\"\"\"\n",
        "query_result = db.AQLQuery(find_ned_query, rawResults=True)\n",
        "for doc in  query_result:\n",
        "    print(doc)\n",
        "    print()"
      ],
      "outputs": [
        {
          "output_type": "stream",
          "name": "stdout",
          "text": [
            "{'_key': '18020800', '_id': 'Characters/18020800', '_rev': '_apkT4lq--_', 'age': 41, 'alive': False, 'name': 'Ned', 'surname': 'Stark', 'traits': ['A', 'H', 'C', 'N', 'P']}\n",
            "\n"
          ]
        }
      ],
      "metadata": {
        "id": "KA6UPZcClL4Q",
        "colab_type": "code",
        "colab": {
          "base_uri": "https://localhost:8080/",
          "height": 51
        },
        "outputId": "d6ef4e70-3604-4dbf-c697-7b8436361931"
      }
    },
    {
      "cell_type": "markdown",
      "source": [
        "We could again use the `FOR` loop construct from before to update all characters:"
      ],
      "metadata": {
        "id": "fRKM3pNylL4R",
        "colab_type": "text"
      }
    },
    {
      "cell_type": "code",
      "execution_count": 13,
      "source": [
        "season_query = \"\"\"\n",
        "FOR c IN Characters\n",
        "    UPDATE c WITH { season: 1 } IN Characters\n",
        "\"\"\"\n",
        "db.AQLQuery(season_query, rawResults=False)\n",
        "    \n",
        "# Retrieve all characters and season they appeared    \n",
        "all_characters_names_season = \"\"\"\n",
        "FOR c IN Characters\n",
        "    RETURN {\"Name\" : c.name, \"Season\" : c.season}\n",
        "\"\"\"\n",
        "\n",
        "query_result = db.AQLQuery(all_characters_names_season, rawResults=True)\n",
        "for doc in  query_result:\n",
        "    print(doc)\n",
        "    print()"
      ],
      "outputs": [
        {
          "output_type": "stream",
          "name": "stdout",
          "text": [
            "{'Name': 'Robert', 'Season': 1}\n",
            "\n",
            "{'Name': 'Jaime', 'Season': 1}\n",
            "\n",
            "{'Name': 'Catelyn', 'Season': 1}\n",
            "\n",
            "{'Name': 'Cersei', 'Season': 1}\n",
            "\n",
            "{'Name': 'Daenerys', 'Season': 1}\n",
            "\n",
            "{'Name': 'Jorah', 'Season': 1}\n",
            "\n",
            "{'Name': 'Petyr', 'Season': 1}\n",
            "\n",
            "{'Name': 'Viserys', 'Season': 1}\n",
            "\n",
            "{'Name': 'Jon', 'Season': 1}\n",
            "\n",
            "{'Name': 'Sansa', 'Season': 1}\n",
            "\n",
            "{'Name': 'Arya', 'Season': 1}\n",
            "\n",
            "{'Name': 'Robb', 'Season': 1}\n",
            "\n",
            "{'Name': 'Theon', 'Season': 1}\n",
            "\n",
            "{'Name': 'Bran', 'Season': 1}\n",
            "\n",
            "{'Name': 'Joffrey', 'Season': 1}\n",
            "\n",
            "{'Name': 'Sandor', 'Season': 1}\n",
            "\n",
            "{'Name': 'Tyrion', 'Season': 1}\n",
            "\n",
            "{'Name': 'Khal', 'Season': 1}\n",
            "\n",
            "{'Name': 'Tywin', 'Season': 1}\n",
            "\n",
            "{'Name': 'Davos', 'Season': 1}\n",
            "\n",
            "{'Name': 'Samwell', 'Season': 1}\n",
            "\n",
            "{'Name': 'Stannis', 'Season': 1}\n",
            "\n",
            "{'Name': 'Melisandre', 'Season': 1}\n",
            "\n",
            "{'Name': 'Margaery', 'Season': 1}\n",
            "\n",
            "{'Name': 'Jeor', 'Season': 1}\n",
            "\n",
            "{'Name': 'Bronn', 'Season': 1}\n",
            "\n",
            "{'Name': 'Varys', 'Season': 1}\n",
            "\n",
            "{'Name': 'Shae', 'Season': 1}\n",
            "\n",
            "{'Name': 'Talisa', 'Season': 1}\n",
            "\n",
            "{'Name': 'Gendry', 'Season': 1}\n",
            "\n",
            "{'Name': 'Ygritte', 'Season': 1}\n",
            "\n",
            "{'Name': 'Tormund', 'Season': 1}\n",
            "\n",
            "{'Name': 'Gilly', 'Season': 1}\n",
            "\n",
            "{'Name': 'Brienne', 'Season': 1}\n",
            "\n",
            "{'Name': 'Ramsay', 'Season': 1}\n",
            "\n",
            "{'Name': 'Ellaria', 'Season': 1}\n",
            "\n",
            "{'Name': 'Daario', 'Season': 1}\n",
            "\n",
            "{'Name': 'Missandei', 'Season': 1}\n",
            "\n",
            "{'Name': 'Tommen', 'Season': 1}\n",
            "\n",
            "{'Name': 'Jaqen', 'Season': 1}\n",
            "\n",
            "{'Name': 'Roose', 'Season': 1}\n",
            "\n",
            "{'Name': 'The High Sparrow', 'Season': 1}\n",
            "\n",
            "{'Name': 'Ned', 'Season': 1}\n",
            "\n"
          ]
        }
      ],
      "metadata": {
        "id": "_Hklh30BlL4S",
        "colab_type": "code",
        "colab": {
          "base_uri": "https://localhost:8080/",
          "height": 1000
        },
        "outputId": "2882c76d-9fda-49e9-a11e-80918d755df7"
      }
    },
    {
      "cell_type": "markdown",
      "source": [
        "Note, that here we customized the `RETURN` to return a json document consisting of name and season."
      ],
      "metadata": {
        "id": "sQ2QYUYhlL4T",
        "colab_type": "text"
      }
    },
    {
      "cell_type": "markdown",
      "source": [
        "# Delete Documents"
      ],
      "metadata": {
        "id": "WvBLQCDolL4U",
        "colab_type": "text"
      }
    },
    {
      "cell_type": "markdown",
      "source": [
        "To fully remove documents from a collection, there is the `REMOVE` operation. It works similar to the other modification operations, yet without a WITH clause:"
      ],
      "metadata": {
        "id": "cGXcqHVTlL4U",
        "colab_type": "text"
      }
    },
    {
      "cell_type": "code",
      "execution_count": 14,
      "source": [
        "remove_ned = \"\"\"\n",
        "REMOVE @key IN Characters\n",
        "\"\"\"\n",
        "bindVars = {'key': neds_document_key}\n",
        "try:\n",
        "    db.AQLQuery(remove_ned, rawResults=False, batchSize=1, bindVars=bindVars)\n",
        "except:\n",
        "    print(\"Ned already removed.\")\n",
        "\n",
        "# Check the updated Ned document, should be empty\n",
        "find_ned_query = \"\"\"\n",
        "FOR c IN Characters\n",
        "    FILTER c.name == \"Ned\"\n",
        "    RETURN c\n",
        "\"\"\"\n",
        "query_result = db.AQLQuery(find_ned_query, rawResults=True)\n",
        "if len(query_result) == 0 :\n",
        "    print(\"Ned not found.\")"
      ],
      "outputs": [
        {
          "output_type": "stream",
          "name": "stdout",
          "text": [
            "Ned not found.\n"
          ]
        }
      ],
      "metadata": {
        "id": "tdB8_K63lL4V",
        "colab_type": "code",
        "colab": {
          "base_uri": "https://localhost:8080/",
          "height": 34
        },
        "outputId": "1a0f522b-ae56-40c9-ed42-3becc4716f59"
      }
    },
    {
      "cell_type": "markdown",
      "source": [
        "As you might have already guessed we can again use a `FOR` loop if we want to perform this operation for the entire collection:"
      ],
      "metadata": {
        "id": "KeibHaJolL4W",
        "colab_type": "text"
      }
    },
    {
      "cell_type": "code",
      "execution_count": 15,
      "source": [
        "remove_all = \"\"\"\n",
        "FOR c IN Characters\n",
        "    REMOVE c IN Characters\n",
        "\"\"\"\n",
        "db.AQLQuery(remove_all, rawResults=False)\n",
        "    \n",
        "all_characters_names = \"\"\"\n",
        "FOR c IN Characters\n",
        "    RETURN c\n",
        "\"\"\"\n",
        "\n",
        "query_result = db.AQLQuery(all_characters_names, rawResults=True)\n",
        "if len(query_result) == 0 :\n",
        "    print(\"No characters left.\")"
      ],
      "outputs": [
        {
          "output_type": "stream",
          "name": "stdout",
          "text": [
            "No characters left.\n"
          ]
        }
      ],
      "metadata": {
        "id": "kuCs5hrllL4W",
        "colab_type": "code",
        "colab": {
          "base_uri": "https://localhost:8080/",
          "height": 34
        },
        "outputId": "39a76438-3e49-46a9-dc75-06bab1fd5f84"
      }
    },
    {
      "cell_type": "markdown",
      "source": [
        "# Next Steps"
      ],
      "metadata": {
        "id": "mDRvNWWzlL4X",
        "colab_type": "text"
      }
    },
    {
      "cell_type": "markdown",
      "source": [
        "To continue playing and learning with ArangoDB, you can:\n",
        "\n",
        "* [Get a 2 week free Trial with the ArangoDB Cloud](https://cloud.arangodb.com/home?utm_source=Basic%20AQL%20CRUD&utm_medium=Github&utm_campaign=ArangoDB%20University)\n",
        "* [Download ArangoDB](https://www.arangodb.com/download-major/)\n",
        "* Keep Learning at the ArangoDB [Training Center](https://www.arangodb.com/arangodb-training-center/)\n",
        "\n",
        "*Note: Recall that this notebook uses a temporary instance which will be autodeleted!*"
      ],
      "metadata": {
        "id": "y1SWks-VlL4Y",
        "colab_type": "text"
      }
    },
    {
      "cell_type": "markdown",
      "source": [
        "# Further Links"
      ],
      "metadata": {
        "id": "84e90_KElL4Y",
        "colab_type": "text"
      }
    },
    {
      "cell_type": "markdown",
      "source": [
        "* https://www.arangodb.com/docs/stable/aql/tutorial.html"
      ],
      "metadata": {
        "id": "ZGiUaabslL4Y",
        "colab_type": "text"
      }
    }
  ]
}