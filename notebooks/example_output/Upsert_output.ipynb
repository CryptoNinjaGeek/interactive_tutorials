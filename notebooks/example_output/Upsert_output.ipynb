{
  "nbformat": 4,
  "nbformat_minor": 2,
  "metadata": {
    "kernelspec": {
      "display_name": "Python 3",
      "language": "python",
      "name": "python3"
    },
    "language_info": {
      "codemirror_mode": {
        "name": "ipython",
        "version": 3
      },
      "file_extension": ".py",
      "mimetype": "text/x-python",
      "name": "python",
      "nbconvert_exporter": "python",
      "pygments_lexer": "ipython3",
      "version": "3.7.7"
    },
    "colab": {
      "name": "Upsert.ipynb",
      "provenance": []
    }
  },
  "cells": [
    {
      "cell_type": "markdown",
      "source": [
        "![arangodb](https://github.com/arangodb/interactive_tutorials/blob/master/notebooks/img/ArangoDB_logo.png?raw=1)"
      ],
      "metadata": {
        "id": "C7LbUI2MDKLO",
        "colab_type": "text"
      }
    },
    {
      "cell_type": "markdown",
      "source": [
        "# Insert, Replace, Upsert"
      ],
      "metadata": {
        "id": "qEW8J_QXDKLP",
        "colab_type": "text"
      }
    },
    {
      "cell_type": "markdown",
      "source": [
        "<a href=\"https://colab.research.google.com/github/arangodb/interactive_tutorials/blob/master/notebooks/Upsert.ipynb\" target=\"_parent\"><img src=\"https://colab.research.google.com/assets/colab-badge.svg\" alt=\"Open In Colab\"/></a>"
      ],
      "metadata": {
        "id": "EZpy2Po6DKLP",
        "colab_type": "text"
      }
    },
    {
      "cell_type": "markdown",
      "source": [
        "With a database one sometimes wants to insert data which might be stored already. Instead of re-inserting the data again in case it is already present, we would like to update it.\n",
        "In this tutorial we want to take a look at the different options to achieve this with ArangoDB."
      ],
      "metadata": {
        "id": "huIphZIVDKLQ",
        "colab_type": "text"
      }
    },
    {
      "cell_type": "code",
      "execution_count": null,
      "source": [
        "%%capture\r\n",
        "!git clone -b oasisConnector --single-branch https://github.com/cw00dw0rd/ArangoNotebooks.git\r\n",
        "!rsync -av ArangoNotebooks/ ./ --exclude=.git\r\n",
        "!pip3 install pyarango\r\n",
        "!pip3 install \"python-arango>=5.0\""
      ],
      "outputs": [],
      "metadata": {
        "id": "mx6uGTxcDKLQ",
        "colab_type": "code",
        "colab": {}
      }
    },
    {
      "cell_type": "code",
      "execution_count": null,
      "source": [
        "import json\r\n",
        "import requests\r\n",
        "import sys\r\n",
        "import pprint\r\n",
        "import oasis\r\n",
        "import time\r\n",
        "\r\n",
        "from pyArango.connection import *\r\n",
        "from pyArango.collection import Collection, Edges, Field\r\n",
        "from pyArango.collection import BulkOperation as BulkOperation"
      ],
      "outputs": [],
      "metadata": {
        "id": "bVk_rF_PDKLT",
        "colab_type": "code",
        "colab": {}
      }
    },
    {
      "cell_type": "markdown",
      "source": [
        "First, create a temporary database:"
      ],
      "metadata": {
        "id": "m_kNC6KADKLV",
        "colab_type": "text"
      }
    },
    {
      "cell_type": "code",
      "execution_count": 7,
      "source": [
        "pp = pprint.PrettyPrinter()\r\n",
        "\r\n",
        "## Retrieve tmp credentials from ArangoDB Tutorial Service\r\n",
        "login = oasis.getTempCredentials(tutorialName='Upsert37', tempURL='https://11d01f3948fe.arangodb.cloud:8529/_db/_system/tutorialDB/tutorialDB')\r\n",
        "\r\n",
        "## Connect to the temp database\r\n",
        "conn = oasis.connect(login)\r\n",
        "db = conn[login[\"dbName\"]] \r\n",
        "pp.pprint(login)"
      ],
      "outputs": [
        {
          "output_type": "stream",
          "name": "stdout",
          "text": [
            "Requesting new temp credentials.\n",
            "Temp database ready to use.\n",
            "{'dbName': 'TUTtip23nnxf9830rq7wy8t32',\n",
            " 'hostname': '11d01f3948fe.arangodb.cloud',\n",
            " 'password': 'TUTu3fd01mi42tkmd5jbgr9i',\n",
            " 'port': 8529,\n",
            " 'username': 'TUTnmgn80jus0ctemspmx9elf'}\n"
          ]
        }
      ],
      "metadata": {
        "id": "hmMX5NUrDKLV",
        "colab_type": "code",
        "colab": {
          "base_uri": "https://localhost:8080/",
          "height": 136
        },
        "outputId": "c50a5100-6838-47e5-ce61-302a10bf3645"
      }
    },
    {
      "cell_type": "markdown",
      "source": [
        "## UPSERT"
      ],
      "metadata": {
        "id": "cYCAgKMiDKLZ",
        "colab_type": "text"
      }
    },
    {
      "cell_type": "markdown",
      "source": [
        "Let us create a sample collection and convenience print function: "
      ],
      "metadata": {
        "id": "sNnXErvaDKLZ",
        "colab_type": "text"
      }
    },
    {
      "cell_type": "code",
      "execution_count": null,
      "source": [
        "db.createCollection(name=\"Websites\")\r\n",
        "\r\n",
        "all_query = \"\"\"\r\n",
        "FOR doc in Websites\r\n",
        "RETURN doc\r\n",
        "\"\"\"\r\n",
        "\r\n",
        "def print_all():\r\n",
        "    query_result = db.AQLQuery(all_query, rawResults=True)\r\n",
        "    for doc in query_result:\r\n",
        "        print(doc)\r\n",
        "        print()\r\n",
        "        \r\n",
        "print_all()"
      ],
      "outputs": [],
      "metadata": {
        "id": "ytjna6bBDKLZ",
        "colab_type": "code",
        "colab": {}
      }
    },
    {
      "cell_type": "markdown",
      "source": [
        "Let us define and run an UPSERT query for the first time."
      ],
      "metadata": {
        "id": "LoYNJkKkDKLb",
        "colab_type": "text"
      }
    },
    {
      "cell_type": "code",
      "execution_count": 9,
      "source": [
        "upsert_query = \"\"\"\r\n",
        "UPSERT { page: \"index.html\" }\r\n",
        "    INSERT { page: \"index.html\", status: \"inserted\", value: 1 } \r\n",
        "    UPDATE { status: \"updated\" }\r\n",
        "IN Websites\r\n",
        "\"\"\"\r\n",
        "\r\n",
        "db.AQLQuery(upsert_query)\r\n",
        "\r\n",
        "print_all()"
      ],
      "outputs": [
        {
          "output_type": "stream",
          "name": "stdout",
          "text": [
            "{'_key': '28013326', '_id': 'Websites/28013326', '_rev': '_an3uUSS---', 'page': 'index.html', 'status': 'inserted', 'value': 1}\n",
            "\n"
          ]
        }
      ],
      "metadata": {
        "id": "ulFG_klTDKLc",
        "colab_type": "code",
        "colab": {
          "base_uri": "https://localhost:8080/",
          "height": 51
        },
        "outputId": "616a3adc-2f9c-49e4-979b-4e688e13ae12"
      }
    },
    {
      "cell_type": "markdown",
      "source": [
        "When running the query for the first time we should see `'status': 'inserted'`\n",
        "Let us run the same query again:"
      ],
      "metadata": {
        "id": "0F0En4s9DKLe",
        "colab_type": "text"
      }
    },
    {
      "cell_type": "code",
      "execution_count": 10,
      "source": [
        "db.AQLQuery(upsert_query)\r\n",
        "\r\n",
        "print_all()"
      ],
      "outputs": [
        {
          "output_type": "stream",
          "name": "stdout",
          "text": [
            "{'_key': '28013326', '_id': 'Websites/28013326', '_rev': '_an3uVHa---', 'page': 'index.html', 'status': 'updated', 'value': 1}\n",
            "\n"
          ]
        }
      ],
      "metadata": {
        "id": "-10j4Bs5DKLe",
        "colab_type": "code",
        "colab": {
          "base_uri": "https://localhost:8080/",
          "height": 51
        },
        "outputId": "a5e42858-dcec-4b2f-b025-4ee5eb63dde5"
      }
    },
    {
      "cell_type": "markdown",
      "source": [
        "This time we should see `'status': 'updated'` but all the other fields unchanged."
      ],
      "metadata": {
        "id": "JoMw0FRyDKLg",
        "colab_type": "text"
      }
    },
    {
      "cell_type": "markdown",
      "source": [
        "Let us examine the UPSERT statement a bit further:\n",
        "\n",
        "```\n",
        "UPSERT { page: \"index.html\" }\n",
        "    INSERT { page: \"index.html\", status: \"inserted\", value: 1 } \n",
        "    UPDATE { status: \"updated\" }\n",
        "IN Websites\n",
        "```\n",
        "\n",
        "The statement comes with three parts:\n",
        "* UPSERT specifying the search criteria\n",
        "* INSERT specifying the complete doc which should be inserted if target doc not present\n",
        "* UPDATE specifying the fields which should be updated in case the target doc is already present"
      ],
      "metadata": {
        "id": "ZsdTiWTBDKLg",
        "colab_type": "text"
      }
    },
    {
      "cell_type": "markdown",
      "source": [
        "`UPDATE` only adds/modifies the specified document attributes in the existing document.\n",
        "Instead of an `UPDATE` part one can also specify a `REPLACE` part, specifying the full document that is used as a replacement."
      ],
      "metadata": {
        "id": "RiM95ot6DKLh",
        "colab_type": "text"
      }
    },
    {
      "cell_type": "code",
      "execution_count": 11,
      "source": [
        "upsert_replace_query = \"\"\"\r\n",
        "UPSERT { page: \"index.html\" }\r\n",
        "    INSERT { page: \"index.html\", status: \"inserted\", value: 1 } \r\n",
        "    REPLACE { page: \"index.html\", status: \"replaced\", value: 1 } \r\n",
        "IN Websites\r\n",
        "\"\"\"\r\n",
        "\r\n",
        "db.AQLQuery(upsert_replace_query)\r\n",
        "\r\n",
        "print_all()"
      ],
      "outputs": [
        {
          "output_type": "stream",
          "name": "stdout",
          "text": [
            "{'_key': '28013326', '_id': 'Websites/28013326', '_rev': '_an3uV6y---', 'page': 'index.html', 'status': 'replaced', 'value': 1}\n",
            "\n"
          ]
        }
      ],
      "metadata": {
        "id": "uknf74BoDKLh",
        "colab_type": "code",
        "colab": {
          "base_uri": "https://localhost:8080/",
          "height": 51
        },
        "outputId": "516729f0-159d-47df-8eb7-ab009ce74fa1"
      }
    },
    {
      "cell_type": "markdown",
      "source": [
        "Now we should be seeing `'status': 'replaced'`."
      ],
      "metadata": {
        "id": "a60SFO54DKLj",
        "colab_type": "text"
      }
    },
    {
      "cell_type": "markdown",
      "source": [
        "We can also leverage the existing attribute values using the pseudovariable OLD."
      ],
      "metadata": {
        "id": "eJysEf8-DKLj",
        "colab_type": "text"
      }
    },
    {
      "cell_type": "code",
      "execution_count": 12,
      "source": [
        "upsert_old_query = \"\"\"\r\n",
        "UPSERT { page: \"index.html\" }\r\n",
        "    INSERT { page: \"index.html\", status: \"inserted\", value: 1 } \r\n",
        "    UPDATE { page: \"index.html\", status: \"updated\", prev_status: OLD.status, value: OLD.value + 1 } \r\n",
        "IN Websites\r\n",
        "\"\"\"\r\n",
        "\r\n",
        "db.AQLQuery(upsert_old_query)\r\n",
        "\r\n",
        "print_all()"
      ],
      "outputs": [
        {
          "output_type": "stream",
          "name": "stdout",
          "text": [
            "{'_key': '28013326', '_id': 'Websites/28013326', '_rev': '_an3uWti---', 'page': 'index.html', 'status': 'updated', 'value': 2, 'prev_status': 'replaced'}\n",
            "\n"
          ]
        }
      ],
      "metadata": {
        "id": "YhlwxTwKDKLj",
        "colab_type": "code",
        "colab": {
          "base_uri": "https://localhost:8080/",
          "height": 51
        },
        "outputId": "e5b15ae1-41c7-45fc-bd06-1ac9f77a317b"
      }
    },
    {
      "cell_type": "markdown",
      "source": [
        "This should return `'status': 'updated', 'prev_status': 'replaced'`"
      ],
      "metadata": {
        "id": "xIlq9-_ZDKLm",
        "colab_type": "text"
      }
    },
    {
      "cell_type": "markdown",
      "source": [
        "## UPSERT Performance and Caveats"
      ],
      "metadata": {
        "id": "qAQxYniwDKLm",
        "colab_type": "text"
      }
    },
    {
      "cell_type": "markdown",
      "source": [
        "The lookup attribute(s) from the search expression should be indexed in order to improve UPSERT performance\n",
        "Ideally, the search expression contains the shard key, as this allows the lookup to be restricted to a single shard"
      ],
      "metadata": {
        "id": "USHPLXRJDKLm",
        "colab_type": "text"
      }
    },
    {
      "cell_type": "markdown",
      "source": [
        "The lookup and the insert/update/replace parts are executed non- atomically.\n",
        "That means if multiple UPSERT queries run concurrently, they may all determine that the target document does not exist and then create it multiple times!!"
      ],
      "metadata": {
        "id": "Rty1RU3bDKLn",
        "colab_type": "text"
      }
    },
    {
      "cell_type": "markdown",
      "source": [
        "Note that due to the non-atomicity of the lookup and insert/update/replace, even with a unique index there may be duplicate key errors or conflicts.\n",
        "But if they occur, the application/client code can execute the same query again\n",
        "\n",
        "To prevent this from happening, one should a unique index to the lookup attribute(s). Note that in the cluster a unique index can only be created if it is equal to the shard key attribute of the collection or at least contains it as a part."
      ],
      "metadata": {
        "id": "vkEk3JG-DKLn",
        "colab_type": "text"
      }
    },
    {
      "cell_type": "markdown",
      "source": [
        "An alternative to making an UPSERT statement work atomically is\n",
        "to use the `exclusive` option to limit write concurrency for this collection to 1, which helps avoiding conflicts but is bad for throughput!\n"
      ],
      "metadata": {
        "id": "7MfsiyYtDKLn",
        "colab_type": "text"
      }
    },
    {
      "cell_type": "code",
      "execution_count": 13,
      "source": [
        "upsert_exclusive_query = \"\"\"\r\n",
        "UPSERT { page: \"index.html\" }\r\n",
        "    INSERT { page: \"index.html\", status: \"inserted\", value: 1 } \r\n",
        "    UPDATE { page: \"index.html\", status: \"updated\", prev_status: OLD.status, value: OLD.value + 1 } \r\n",
        "IN Websites\r\n",
        "OPTIONS { exclusive: true }\r\n",
        "\"\"\"\r\n",
        "\r\n",
        "db.AQLQuery(upsert_exclusive_query)\r\n",
        "\r\n",
        "print_all()"
      ],
      "outputs": [
        {
          "output_type": "stream",
          "name": "stdout",
          "text": [
            "{'_key': '28013326', '_id': 'Websites/28013326', '_rev': '_an3uXh6---', 'page': 'index.html', 'status': 'updated', 'value': 3, 'prev_status': 'updated'}\n",
            "\n"
          ]
        }
      ],
      "metadata": {
        "id": "76DrtpzGDKLo",
        "colab_type": "code",
        "colab": {
          "base_uri": "https://localhost:8080/",
          "height": 51
        },
        "outputId": "4c0e1b36-c9ab-40b6-ac19-6219ef43bd8f"
      }
    },
    {
      "cell_type": "markdown",
      "source": [
        "## REPSERT"
      ],
      "metadata": {
        "id": "bQfR0rJyDKLp",
        "colab_type": "text"
      }
    },
    {
      "cell_type": "markdown",
      "source": [
        "An alternative to UPSERT is to use a REPSERT, which is a special extension for the INSERT command\n",
        "It completely replaces a document, identified by _key, in case it already exists. Note, running the query for the first time will create a second document it has a new _key. Feel free to change the value and rerun!"
      ],
      "metadata": {
        "id": "-4L61DkzDKLq",
        "colab_type": "text"
      }
    },
    {
      "cell_type": "code",
      "execution_count": 14,
      "source": [
        "repsert_query = \"\"\"\r\n",
        "INSERT { _key: \"index.html\", value: 1 }\r\n",
        "IN Websites\r\n",
        "OPTIONS { overwrite: true }\r\n",
        "\"\"\"\r\n",
        "\r\n",
        "db.AQLQuery(repsert_query)\r\n",
        "\r\n",
        "print_all()"
      ],
      "outputs": [
        {
          "output_type": "stream",
          "name": "stdout",
          "text": [
            "{'_key': '28013326', '_id': 'Websites/28013326', '_rev': '_an3uXh6---', 'page': 'index.html', 'status': 'updated', 'value': 3, 'prev_status': 'updated'}\n",
            "\n",
            "{'_key': 'index.html', '_id': 'Websites/index.html', '_rev': '_an3uYVS--A', 'value': 1}\n",
            "\n"
          ]
        }
      ],
      "metadata": {
        "id": "W1_HvuM9DKLq",
        "colab_type": "code",
        "colab": {
          "base_uri": "https://localhost:8080/",
          "height": 85
        },
        "outputId": "41df9776-b344-44c5-b3ed-3720d790e853"
      }
    },
    {
      "cell_type": "markdown",
      "source": [
        "REPSERT is an atomic operation so it fixes both the atomicity/concurrency problem that exists with UPSERT.\n",
        "REPSERT is restricted to _key lookups and is thus very fast.\n",
        "\n",
        "A unique index on _key is always present, so REPSERT doesn't require setting up additional indexes."
      ],
      "metadata": {
        "id": "Os8qUK1LDKLs",
        "colab_type": "text"
      }
    },
    {
      "cell_type": "markdown",
      "source": [
        "REPSERTs can only be used when the `_key` attribute value is known or can be created in an unambiguous fashion by the application.\n",
        "\n",
        "Values for `_key` values have some character and length restrictions, but alphanumeric keys work well.\n",
        "The underlying collection must be sharded by `_key`."
      ],
      "metadata": {
        "id": "m2fgRmazDKLs",
        "colab_type": "text"
      }
    },
    {
      "cell_type": "markdown",
      "source": [
        "## Overwrite Modes"
      ],
      "metadata": {
        "id": "wb_MTe1uDKLt",
        "colab_type": "text"
      }
    },
    {
      "cell_type": "markdown",
      "source": [
        "To further control the behavior of INSERT on primary index unique constraint violations, `overwriteMode` can be specified as follows:\n",
        "\n",
        "* *replace*: full replacement of document\n",
        "* *ignore*: if a document with the specified _key value exists already, nothing will be done and no write operation will be carried out. The insert operation will return success in this case. \n",
        "* *update*: if a document with the specified _key value exists already, it will be patched (partially updated) with the specified document value.\n",
        "* *conflict*: if a document with the specified _key value exists already, return a unique constraint violation error so that the insert operation fails. This is also the default behavior in case the overwrite mode is not set, and the overwrite flag is false or not set either.\n",
        "\n",
        "*Note*: The `overwriteMode` option is only available from 3.7 upwards."
      ],
      "metadata": {
        "id": "bz5M-GXHDKLt",
        "colab_type": "text"
      }
    },
    {
      "cell_type": "code",
      "execution_count": 15,
      "source": [
        "repsert_ignore_query = \"\"\"\r\n",
        "INSERT { _key: \"index.html\", value: 1 }\r\n",
        "IN Websites\r\n",
        "OPTIONS { overwriteMode: \"ignore\" }\r\n",
        "\"\"\"\r\n",
        "\r\n",
        "db.AQLQuery(repsert_ignore_query)\r\n",
        "\r\n",
        "print_all()"
      ],
      "outputs": [
        {
          "output_type": "stream",
          "name": "stdout",
          "text": [
            "{'_key': '28013326', '_id': 'Websites/28013326', '_rev': '_an3uXh6---', 'page': 'index.html', 'status': 'updated', 'value': 3, 'prev_status': 'updated'}\n",
            "\n",
            "{'_key': 'index.html', '_id': 'Websites/index.html', '_rev': '_an3uYVS--A', 'value': 1}\n",
            "\n"
          ]
        }
      ],
      "metadata": {
        "id": "Wl16oR1wDKLt",
        "colab_type": "code",
        "colab": {
          "base_uri": "https://localhost:8080/",
          "height": 85
        },
        "outputId": "8535b01b-3a9e-47c3-c230-981f433475bb"
      }
    },
    {
      "cell_type": "markdown",
      "source": [
        "## Tradeoffs"
      ],
      "metadata": {
        "id": "B0z4oWUJDKLv",
        "colab_type": "text"
      }
    },
    {
      "cell_type": "markdown",
      "source": [
        "**UPSERT**\n",
        "\n",
        "   \\+ documents can be identified by any field (not just _key)\n",
        "\n",
        "− performance implications when using a non-indexed attributes for lookup and hence might require an addtional index\n",
        "\n",
        "**REPSERT**\n",
        "\n",
        "   \\+ as documents have to be identified by _key, there is already a primary index guaranteeing performance and uniqueness\n",
        "\n",
        "− documents have to be identified by _key\n",
        "\n",
        "− cannot refer to OLD document version"
      ],
      "metadata": {
        "id": "S-aMecdkDKLw",
        "colab_type": "text"
      }
    },
    {
      "cell_type": "markdown",
      "source": [
        "## Cleanup"
      ],
      "metadata": {
        "id": "rPX2Mt8YDKLw",
        "colab_type": "text"
      }
    },
    {
      "cell_type": "code",
      "execution_count": null,
      "source": [
        "### Delete collections\r\n",
        "db.dropAllCollections() \r\n",
        "db.reload()"
      ],
      "outputs": [],
      "metadata": {
        "id": "aoRnoNsODKLx",
        "colab_type": "code",
        "colab": {}
      }
    },
    {
      "cell_type": "markdown",
      "source": [
        "Please, keep in mind that the database used in this example is temporary and will be automatically deleted. If you would like to have a permanent deployment with ArangoDB Oasis, [sign up for free](https://cloud.arangodb.com/home)!\n",
        "\n",
        "If you would like to continue exploring ArangoDB and all of the new features of 3.7, you can [download the beta here](https://www.arangodb.com/download-technical-preview/)."
      ],
      "metadata": {
        "id": "xbP2AEl0bLrh",
        "colab_type": "text"
      }
    }
  ]
}