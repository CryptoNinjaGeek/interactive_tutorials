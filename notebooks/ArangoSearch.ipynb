{
 "cells": [
  {
   "cell_type": "markdown",
   "source": [
    "![arangodb](https://github.com/arangodb/interactive_tutorials/blob/master/notebooks/img/ArangoDB_logo.png?raw=1)"
   ],
   "metadata": {
    "id": "fKik2BSQ4IOJ"
   }
  },
  {
   "cell_type": "markdown",
   "source": [
    "# ArangoSearch"
   ],
   "metadata": {
    "id": "LBYhytTU4ION"
   }
  },
  {
   "cell_type": "markdown",
   "source": [
    "<a href=\"https://colab.research.google.com/github/arangodb/interactive_tutorials/blob/master/notebooks/ArangoSearch.ipynb\" target=\"_parent\"><img src=\"https://colab.research.google.com/assets/colab-badge.svg\" alt=\"Open In Colab\"/></a>"
   ],
   "metadata": {
    "id": "v2OCIE_74ION"
   }
  },
  {
   "cell_type": "markdown",
   "source": [
    "ArangoSearch provides information retrieval features, natively integrated into ArangoDB’s query language and with support for all data models. It is primarily a full-text search engine, a much more powerful alternative to the full-text index type.\n",
    "\n",
    "ArangoSearch introduces the concept of Views which can be seen as virtual collections. Each View represents an inverted index to provide fast full-text searching over one or multiple linked collections and holds the configuration for the search capabilities, such as the attributes to index. It can cover multiple or even all attributes of the documents in the linked collections. Search results can be sorted by their similarity ranking to return the best matches first using popular scoring algorithms.\n",
    "\n",
    "Configurable Analyzers are available for text processing, such as for tokenization, language-specific word stemming, case conversion, removal of diacritical marks (accents) from characters and more. Analyzers can be used standalone or in combination with Views for sophisticated searching."
   ],
   "metadata": {
    "id": "tTR5-HPo4ION"
   }
  },
  {
   "cell_type": "markdown",
   "source": [
    "# Setup "
   ],
   "metadata": {
    "id": "VDrE8grr4IOO"
   }
  },
  {
   "cell_type": "markdown",
   "source": [
    "Before getting started with ArangoSearch we need to prepare our environment and create a temporary database on ArangoDB's managed Service Oasis."
   ],
   "metadata": {
    "id": "NrPBC6CQ4IOO"
   }
  },
  {
   "cell_type": "code",
   "execution_count": null,
   "source": [
    "%%capture\r\n",
    "!git clone -b oasis_connector --single-branch https://github.com/arangodb/interactive_tutorials.git\r\n",
    "!rsync -av interactive_tutorials/ ./ --exclude=.git\r\n",
    "!chmod -R 755 ./tools\r\n",
    "!git clone -b imdb_complete --single-branch https://github.com/arangodb/interactive_tutorials.git imdb_complete\r\n",
    "!rsync -av imdb_complete/data/imdb_dump/ ./imdb_dump/\r\n",
    "!pip3 install pyarango\r\n",
    "!pip3 install \"python-arango>=5.0\""
   ],
   "outputs": [],
   "metadata": {
    "id": "7N1fi3ue4IOO"
   }
  },
  {
   "cell_type": "code",
   "execution_count": null,
   "source": [
    "import json\r\n",
    "import requests\r\n",
    "import sys\r\n",
    "import oasis\r\n",
    "import time\r\n",
    "\r\n",
    "from pyArango.connection import *\r\n",
    "from arango import ArangoClient"
   ],
   "outputs": [],
   "metadata": {
    "id": "EYy2Y43N4IOP"
   }
  },
  {
   "cell_type": "markdown",
   "source": [
    "Create the temporary database:"
   ],
   "metadata": {
    "id": "DS0bpCen4IOP"
   }
  },
  {
   "cell_type": "code",
   "execution_count": null,
   "source": [
    "# Retrieve tmp credentials from ArangoDB Tutorial Service\r\n",
    "login = oasis.getTempCredentials('ArangoSearchIMDBTutorial', credentialProvider='https://tutorials.arangodb.cloud:8529/_db/_system/tutorialDB/tutorialDB')\r\n",
    "\r\n",
    "# Connect to the temp database\r\n",
    "# Please note that we use the python-arango driver as it has better support for ArangoSearch \r\n",
    "database = oasis.connect_python_arango(login)"
   ],
   "outputs": [],
   "metadata": {
    "id": "JJlNlx014IOP"
   }
  },
  {
   "cell_type": "code",
   "execution_count": null,
   "source": [
    "print(\"https://\"+login[\"hostname\"]+\":\"+str(login[\"port\"]))\r\n",
    "print(\"Username: \" + login[\"username\"])\r\n",
    "print(\"Password: \" + login[\"password\"])\r\n",
    "print(\"Database: \" + login[\"dbName\"])"
   ],
   "outputs": [],
   "metadata": {
    "id": "vlnZ59Gg4IOP"
   }
  },
  {
   "cell_type": "markdown",
   "source": [
    "Feel free to use to above URL to checkout the WebUI!"
   ],
   "metadata": {
    "id": "jcOufSjI4IOP"
   }
  },
  {
   "cell_type": "markdown",
   "source": [
    "##  IMDB Example Dataset"
   ],
   "metadata": {
    "id": "RiWekvIk4IOQ"
   }
  },
  {
   "cell_type": "markdown",
   "source": [
    "![imdb](https://github.com/arangodb/interactive_tutorials/blob/master/notebooks/img/IMDB_graph.png?raw=1)"
   ],
   "metadata": {
    "id": "1LKuibSE4IOQ"
   }
  },
  {
   "cell_type": "markdown",
   "source": [
    "Last, but not least we will import the [IMBD Example Dataset](https://github.com/arangodb/example-datasets/tree/master/Graphs/IMDB) including information about various movies, actors, directors, ... as a graph. \n",
    "*Note the included arangorestore will only work on Linux or Windows systems, if you want to run this notebook on a different OS please consider using the appropriate arangorestore from the [Download area](https://www.arangodb.com/download-major/)."
   ],
   "metadata": {
    "id": "_DLSakpo4IOQ"
   }
  },
  {
   "cell_type": "markdown",
   "source": [
    "## Linux:"
   ],
   "metadata": {
    "id": "1tyBw8xh4IOQ"
   }
  },
  {
   "cell_type": "code",
   "execution_count": null,
   "source": [
    "!./tools/arangorestore -c none --server.endpoint http+ssl://{login[\"hostname\"]}:{login[\"port\"]} --server.username {login[\"username\"]} --server.database {login[\"dbName\"]} --server.password {login[\"password\"]} --default-replication-factor 3  --input-directory \"imdb_dump\""
   ],
   "outputs": [],
   "metadata": {
    "id": "6m6ol2w-4IOQ"
   }
  },
  {
   "cell_type": "markdown",
   "source": [
    "# Create First View"
   ],
   "metadata": {
    "id": "UkVrfGN64IOQ"
   }
  },
  {
   "cell_type": "markdown",
   "source": [
    "As discussed above, an ArangoSearch view contains references to documents stored in different collections. \n",
    "This makes it possible to perform complex federated searches, even over a complete graph including vertex and edge collections."
   ],
   "metadata": {
    "id": "EJ1quve04IOR"
   }
  },
  {
   "cell_type": "code",
   "execution_count": null,
   "source": [
    "# Create an ArangoSearch view.\r\n",
    "database.create_arangosearch_view(\r\n",
    "    name='v_imdb'\r\n",
    ")"
   ],
   "outputs": [],
   "metadata": {
    "id": "sxwCoscT4IOR"
   }
  },
  {
   "cell_type": "markdown",
   "source": [
    "Let us check it is actually there:"
   ],
   "metadata": {
    "id": "Ci0dGqDV4IOR"
   }
  },
  {
   "cell_type": "code",
   "execution_count": null,
   "source": [
    "print(database[\"v_imdb\"])"
   ],
   "outputs": [],
   "metadata": {
    "id": "IMG4B9y24IOR"
   }
  },
  {
   "cell_type": "markdown",
   "source": [
    "As of now this view is empty, so we need to link it to a collection (i.e., imdb_vertices)."
   ],
   "metadata": {
    "id": "tHODt42A4IOR"
   }
  },
  {
   "cell_type": "code",
   "execution_count": null,
   "source": [
    " link = { \r\n",
    "  \"includeAllFields\": True,\r\n",
    "  \"fields\" : { \"description\" : { \"analyzers\" : [ \"text_en\" ] } }\r\n",
    "}\r\n",
    "\r\n",
    "database.update_arangosearch_view(\r\n",
    "    name='v_imdb',\r\n",
    "    properties={'links': { 'imdb_vertices': link }}\r\n",
    ")"
   ],
   "outputs": [],
   "metadata": {
    "id": "PO3qIryj4IOR"
   }
  },
  {
   "cell_type": "markdown",
   "source": [
    "As the indexing might take a few seconds, let us have a brief look at what is actually going on."
   ],
   "metadata": {
    "id": "zAP3Hsf84IOR"
   }
  },
  {
   "cell_type": "markdown",
   "source": [
    "![ArangoSearch](https://github.com/arangodb/interactive_tutorials/blob/master/notebooks/img/ArangoSearch_Arch.jpg?raw=1)"
   ],
   "metadata": {
    "id": "BZUve-dM4IOS"
   }
  },
  {
   "cell_type": "markdown",
   "source": [
    "In order to fill the View using the specified analyzer, (`\"analyzers\" : [ \"text_en\" ]`) in our case, analyzers parse input values and transform them into sets of sub-values. For example, by breaking up text into words with language specific tokenization and stemming.\n",
    "Let us check how the `text_en` Analyzer tranforms an input into tokens:"
   ],
   "metadata": {
    "id": "VGAXWNT64IOS"
   }
  },
  {
   "cell_type": "code",
   "execution_count": null,
   "source": [
    "cursor = database.aql.execute(\r\n",
    "  'RETURN TOKENS(\"I like ArangoDB because it rocks!\", \"text_en\")'\r\n",
    ")\r\n",
    "# Iterate through the result cursor\r\n",
    "for doc in cursor:\r\n",
    "  print(doc)"
   ],
   "outputs": [],
   "metadata": {
    "id": "QtfMIakG4IOS"
   }
  },
  {
   "cell_type": "markdown",
   "source": [
    "By now our view should be ready, so let us issue the first query and look for short Drama Movies."
   ],
   "metadata": {
    "id": "T7VBLAcR4IOS"
   }
  },
  {
   "cell_type": "code",
   "execution_count": null,
   "source": [
    "cursor = database.aql.execute(\r\n",
    "  'FOR d IN v_imdb SEARCH d.type == \"Movie\" AND d.genre == \"Drama\" AND d.runtime IN 10..50 RETURN d.title'\r\n",
    ")\r\n",
    "# Iterate through the result cursor\r\n",
    "for doc in cursor:\r\n",
    "  print(doc)"
   ],
   "outputs": [],
   "metadata": {
    "id": "PV8RXHxB4IOS"
   }
  },
  {
   "cell_type": "markdown",
   "source": [
    "At this point you might wonder whether you could have achieved the same results with a simple AQL Filter"
   ],
   "metadata": {
    "id": "_65bSaqr4IOS"
   }
  },
  {
   "cell_type": "code",
   "execution_count": null,
   "source": [
    "cursor = database.aql.execute(\n",
    "  'FOR d IN v_imdb FILTER d.type == \"Movie\" AND d.genre == \"Drama\" AND d.runtime IN 10..50 RETURN d.title'\n",
    ")\n",
    "# Iterate through the result cursor\n",
    "for doc in cursor:\n",
    "  print(doc)"
   ],
   "outputs": [],
   "metadata": {
    "id": "J0-9y3664IOS"
   }
  },
  {
   "cell_type": "markdown",
   "source": [
    "The difference between both queries is that the `SEARCH` query is using the previosuly created view whereas the 'FILTER' query has to perform post-processing on the entire result set.\n",
    "Furthermore, `SEARCH` queries allow us to do other cool things, which we will explore next."
   ],
   "metadata": {
    "id": "NVlKd4MS4IOS"
   }
  },
  {
   "cell_type": "markdown",
   "source": [
    "In the next example we retrieve all movies mentioning “Star wars” in the description."
   ],
   "metadata": {
    "id": "o0VR1TdK4IOT"
   }
  },
  {
   "cell_type": "code",
   "execution_count": null,
   "source": [
    "cursor = database.aql.execute(\n",
    "\"\"\"FOR d IN v_imdb \n",
    "SEARCH PHRASE(d.description, \"Star wars\", \"text_en\") \n",
    "RETURN {title:d.title, description: d.description}\"\"\"\n",
    ")\n",
    "# Iterate through the result cursor\n",
    "for doc in cursor:\n",
    "  print(doc)"
   ],
   "outputs": [],
   "metadata": {
    "id": "-j1rD0ie4IOT"
   }
  },
  {
   "cell_type": "markdown",
   "source": [
    "## Proximity Search"
   ],
   "metadata": {
    "id": "I8PAgUCF4IOT"
   }
  },
  {
   "cell_type": "markdown",
   "source": [
    "Proximity searching is a way to search for two or more words that occur within a certain number of words from each other.\n",
    "In the next example, we are looking for the word sequence \"in <any word> galaxy\" in the description of a movie.\n",
    "Feel free to try other values!"
   ],
   "metadata": {
    "id": "uyuIqcya4IOT"
   }
  },
  {
   "cell_type": "code",
   "execution_count": null,
   "source": [
    "# Execute the query\n",
    "cursor = database.aql.execute(\n",
    "  'FOR d IN v_imdb SEARCH PHRASE(d.description, \"in\", 1, \"galaxy\", \"text_en\") RETURN {title:d.title, description: d.description}'\n",
    ")\n",
    "# Iterate through the result cursor\n",
    "for doc in cursor:\n",
    "  print(doc)"
   ],
   "outputs": [],
   "metadata": {
    "id": "QbMMzrKk4IOU"
   }
  },
  {
   "cell_type": "markdown",
   "source": [
    "## Ranking and Document Relevance"
   ],
   "metadata": {
    "id": "4L82-Qxx4IOU"
   }
  },
  {
   "cell_type": "markdown",
   "source": [
    "Great, now we can identify documents containing a specific phrase,\n",
    "but especially with large document bases we need to be able to rank documents based on the their relevance.\n",
    "ArangoSearch supports the following two schemes:\n",
    "\n",
    "* [Okapi BM25](https://en.wikipedia.org/wiki/Okapi_BM25)\n",
    "\n",
    "* [TFIDF](https://en.wikipedia.org/wiki/Tf%E2%80%93idf)\n",
    "\n",
    "You can learn more about ranking in the [documentation](https://www.arangodb.com/docs/3.6/aql/functions-arangosearch.html#scoring-functions)."
   ],
   "metadata": {
    "id": "j-GWVWUO4IOU"
   }
  },
  {
   "cell_type": "markdown",
   "source": [
    "So let us find movies with the following key-words: “amazing, action, world, alien, sci-fi, science, documental, galaxy”"
   ],
   "metadata": {
    "id": "kdmCNsPi4IOU"
   }
  },
  {
   "cell_type": "code",
   "execution_count": null,
   "source": [
    "cursor = database.aql.execute(\n",
    "  \"\"\"FOR d IN v_imdb \n",
    "  SEARCH ANALYZER(d.description IN TOKENS('amazing action world alien sci-fi science documental galaxy', 'text_en'), 'text_en') \n",
    "  SORT BM25(d) DESC \n",
    "  LIMIT 10 \n",
    "  RETURN {\"title\": d.title, \"description\" : d.description}\"\"\"\n",
    ")\n",
    "# Iterate through the result cursor\n",
    "for doc in cursor:\n",
    "  print(doc)"
   ],
   "outputs": [],
   "metadata": {
    "id": "KclPzCVa4IOU"
   }
  },
  {
   "cell_type": "markdown",
   "source": [
    "Another crucial point of ArangoSearch is the ability to fine-tune document scores evaluated by relevance models at query time. That functionality is exposed in AQL via the BOOST function.\n",
    "So let us tweak our previous query to prefer “galaxy” amongst the others keywords."
   ],
   "metadata": {
    "id": "0YMRVro34IOU"
   }
  },
  {
   "cell_type": "code",
   "execution_count": null,
   "source": [
    "cursor = database.aql.execute(\n",
    "\"\"\"FOR d IN v_imdb \n",
    "   SEARCH ANALYZER(d.description IN TOKENS('amazing action world alien sci-fi science documental', 'text_en') ||\n",
    "   BOOST(d.description IN TOKENS('galaxy', 'text_en'), 5), 'text_en') \n",
    "   SORT BM25(d) DESC \n",
    "   LIMIT 10 \n",
    "   RETURN {\"title\": d.title, \"description\" : d.description}\"\"\"\n",
    ")\n",
    "# Iterate through the result cursor\n",
    "for doc in cursor:\n",
    "  print(doc)"
   ],
   "outputs": [],
   "metadata": {
    "id": "e9v2CxoO4IOU"
   }
  },
  {
   "cell_type": "markdown",
   "source": [
    "## ArangoSearch Meets Graph"
   ],
   "metadata": {
    "id": "j4rqJFG-4IOV"
   }
  },
  {
   "cell_type": "markdown",
   "source": [
    "One of the coolest features of ArangoDB, being a multi-model database, is that we can combine different data-model and query capabilities.\n",
    "So, for example, we can easily combine ArangoSearch with a Graph traversal. Recall that our imdb dataset is a graph with edges connecting \n",
    "the movies we have been looking at to their respective actors, genres, or directors. Let us explore this and look up the director for each each of the Sci-fi movies above."
   ],
   "metadata": {
    "id": "0L0XR9dL4IOV"
   }
  },
  {
   "cell_type": "code",
   "execution_count": null,
   "source": [
    "cursor = database.aql.execute(\n",
    "\"\"\"\n",
    "FOR d IN v_imdb \n",
    "   SEARCH ANALYZER(d.description IN TOKENS('amazing action world alien sci-fi science documental', 'text_en') ||\n",
    "    BOOST(d.description IN TOKENS('galaxy', 'text_en'), 5), 'text_en') \n",
    "   SORT BM25(d) DESC \n",
    "   LIMIT 10 \n",
    "     FOR vertex, edge, path IN 1..1 INBOUND d imdb_edges\n",
    "     FILTER path.edges[0].$label == \"DIRECTED\"\n",
    "     RETURN DISTINCT {\"director\" : vertex.name, \"movie\" : d.title} \n",
    "\"\"\"\n",
    ")\n",
    "# Iterate through the result cursor\n",
    "for doc in cursor:\n",
    "  print(doc)"
   ],
   "outputs": [],
   "metadata": {
    "id": "J8G3g3ga4IOV"
   }
  },
  {
   "cell_type": "markdown",
   "source": [
    "# Further Links"
   ],
   "metadata": {
    "id": "zvVwi8914IOV"
   }
  },
  {
   "cell_type": "markdown",
   "source": [
    "* https://www.arangodb.com/docs/stable/arangosearch.html\n",
    "\n",
    "* https://www.arangodb.com/arangodb-training-center/search/arangosearch/"
   ],
   "metadata": {
    "id": "c3CoVeZd4IOV"
   }
  }
 ],
 "metadata": {
  "colab": {
   "include_colab_link": true,
   "name": "ArangoSearch.ipynb",
   "provenance": []
  },
  "kernelspec": {
   "display_name": "Python 3",
   "language": "python",
   "name": "python3"
  },
  "language_info": {
   "codemirror_mode": {
    "name": "ipython",
    "version": 3
   },
   "file_extension": ".py",
   "mimetype": "text/x-python",
   "name": "python",
   "nbconvert_exporter": "python",
   "pygments_lexer": "ipython3",
   "version": "3.7.7"
  }
 },
 "nbformat": 4,
 "nbformat_minor": 2
}