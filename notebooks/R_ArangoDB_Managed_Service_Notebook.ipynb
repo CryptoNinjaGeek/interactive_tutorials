{
 "cells": [
  {
   "cell_type": "markdown",
   "metadata": {
    "id": "yTp91wVSI9TE"
   },
   "source": [
    "# Using R with Arango DB"
   ]
  },
  {
   "cell_type": "markdown",
   "metadata": {
    "id": "ff2CpR4fIkvt"
   },
   "source": [
    "<a href=\"https://colab.research.google.com/github/arangodb/interactive_tutorials/blob/master/notebooks/R_ArangoDB_Managed_Service_Notebook.ipynb\" target=\"_parent\"><img src=\"https://colab.research.google.com/assets/colab-badge.svg\" alt=\"Open In Colab\"/></a>"
   ]
  },
  {
   "cell_type": "markdown",
   "metadata": {
    "id": "3_Hk2L_2Ve0b"
   },
   "source": [
    "This notebook will provide an overview of the steps involved in using [R](https://www.r-project.org/) and [ArangoDB](https://www.arangodb.com/) to work with Graph data. To do so, we will need the [ArangoDB R driver](https://gitlab.com/krpack/arango-driver). "
   ]
  },
  {
   "cell_type": "code",
   "execution_count": null,
   "metadata": {
    "colab": {
     "base_uri": "https://localhost:8080/"
    },
    "id": "TRWAOnZi3rb4",
    "outputId": "49e45c1d-cbbd-4ba0-b282-54cabbd4b8c5"
   },
   "outputs": [],
   "source": [
    "devtools::install_gitlab(\"krpack/arango-driver\")\n",
    "library(aRangodb)\n"
   ]
  },
  {
   "cell_type": "markdown",
   "metadata": {
    "id": "zvYy-6xJVmBv"
   },
   "source": [
    "## Connect to an OASIS Arango DB instance.\n",
    "You can use the R driver to connect to either a local or a managed service instance of Arango DB. To connect and work with a local instance, please see the example [here](https://gitlab.com/krpack/arango-driver/-/blob/master/examples/arango_basic_tutorial.R). To code segment below illustrates how we can obtain an ArangoDB OASIS database, called $\\texttt{sandboxArangoDb}$."
   ]
  },
  {
   "cell_type": "code",
   "execution_count": null,
   "metadata": {
    "colab": {
     "base_uri": "https://localhost:8080/"
    },
    "id": "GVqi6Qqg-Zbn",
    "outputId": "f34d0084-38ce-4ecb-81fd-74e794f32092"
   },
   "outputs": [],
   "source": [
    "resp <- POST(\"https://tutorials.arangodb.cloud:8529/_db/_system/tutorialDB/tutorialDB\",\n",
    "             body = '{}', encode = \"json\",verbose())\n",
    "parsed.resp <- content(resp)  \n",
    "db.name <- parsed.resp$dbName\n",
    "username <- parsed.resp$username\n",
    "password <- parsed.resp$password\n",
    "hostname <- parsed.resp$hostname\n",
    "port <- parsed.resp$port\n",
    "\n",
    "\n",
    "\n",
    "# Connect to an ArangoDB server up and running\n",
    "arangoConnection <- arango_connection(hostname, port,\n",
    "                                      username, password,\n",
    "                                      db.name, \"https\")\n",
    "\n",
    "#Create a sandbox database: if you already have one you can use it for this example\n",
    "tryCatch(\n",
    "  expr = {\n",
    "    sandboxArangoDb <- arangoConnection %>% arango_database(db.name, createOnFail = TRUE)\n",
    "    \n",
    "    message(\"Successfully obtained a connection to managed service database!\")\n",
    "  },\n",
    "  error = function(e){\n",
    "    message('Error connecting to managed service DB, trying again...')\n",
    "    sandboxArangoDb <- arangoConnection %>% arango_database(db.name, createOnFail = TRUE)\n",
    "    print(e)\n",
    "  }\n",
    ")\n"
   ]
  },
  {
   "cell_type": "markdown",
   "metadata": {
    "id": "G2yIjwFuW9JN"
   },
   "source": [
    "## Create the collections for storing the data and populate it with data"
   ]
  },
  {
   "cell_type": "code",
   "execution_count": null,
   "metadata": {
    "colab": {
     "base_uri": "https://localhost:8080/",
     "height": 1000
    },
    "id": "8WzYpVfu-c_3",
    "outputId": "f1db6c3a-63d8-4378-f366-72e7f910d8bb"
   },
   "outputs": [],
   "source": [
    "# From now on all the collections, documents and graphs will be manipulated within \"sandbox\"\n",
    "# (or the db you had choosen): this means that collections, documents, and graphs will be visible\n",
    "# and available from this DB.\n",
    "# Now create the \"person\" and \"city\" collections:\n",
    "persons <- sandboxArangoDb %>% arango_collection(\"person\", createOnFail = TRUE)\n",
    "cities <- sandboxArangoDb %>% arango_collection(\"city\", createOnFail = TRUE)\n",
    "\n",
    "# Now we have two different collections: we can populate with some fake data for subsequent examples\n",
    "persons %>% \n",
    "  document_insert(key = \"john.doe\") %>% \n",
    "  document_set(age=30, birthday=\"17/01/1989\") %>% \n",
    "  collection_update()\n",
    "\n",
    "persons %>% \n",
    "  document_insert(\"alice.foo\") %>% \n",
    "  document_set(age=36, birthday=\"07/02/1983\", graduated = TRUE) %>% \n",
    "  collection_update()\n",
    "\n",
    "persons %>% \n",
    "  document_insert(\"brandon.fee\") %>% \n",
    "  document_set(age=36, birthday=\"03/11/1983\", jobTitle=\"Software Developer\") %>% \n",
    "  collection_update()\n",
    "\n",
    "persons %>% \n",
    "  document_insert(\"charlie.foo\") %>% \n",
    "  document_set(age=34, birthday=\"03/02/1985\") %>% \n",
    "  collection_update()\n",
    "\n",
    "cities %>% \n",
    "  document_insert(\"London\") %>% \n",
    "  document_set(position=list(latitude=51.5098, longitude=-2.0122), capital=TRUE, country=\"UK\") %>% \n",
    "  collection_update()\n",
    "\n",
    "cities %>% \n",
    "  document_insert(\"Manchester\") %>% \n",
    "  document_set(position=list(latitude=53.4839, longitude=-2.2446), capital=FALSE, country=\"UK\") %>% \n",
    "  collection_update()\n",
    "\n",
    "# You can use the collection to access some useful information about the collection itself...\n",
    "print(paste(\"Persons registered:\", persons$getCount(), sep = \" \"))\n",
    "\n",
    "# ... or you can use it to retrieve documents within the collection. For example you can get ALL the\n",
    "# document from a given collection (BE CAREFUL, collections could contains hundred of results) and access\n",
    "# specific document using its key\n",
    "all.cities <- cities %>% all_documents()\n",
    "all.persons <- persons %>% all_documents()\n",
    "\n",
    "if(all.cities$London$getValues()$capital){\n",
    "  print(\"London is still the capital of UK\")\n",
    "} else {\n",
    "  print(\"What's happening there???\")\n",
    "}\n",
    "\n",
    "# Using a collection object you can filter out documents that match some conditions. To express values\n",
    "# greater or less than some condition to be matched use operators %lt%, %gt%, %leq%, %geq%.\n",
    "# Next lines will be translated as \"ehy, give me all cities of UK over latitude 52.0\"\n",
    "filtered.cities <- cities %>% collection_filter(country=\"UK\", position.latitude %gt% 52.0)\n",
    "\n",
    "if(is.null(filtered.cities$Manchester)){\n",
    "  print(\"Ehy, who moved away Manchester??\") # Could be very bad\n",
    "}\n",
    "\n",
    "if(!is.null(filtered.cities$London)){\n",
    "  print(\"Ehy, who moved away London??\") # Could be very bad\n",
    "}\n",
    "\n",
    "# If you are interested in custom queries you can use the native Arango Query Language (AQL). To do that\n",
    "# you need to specify the string containing the query using the @variable_name to indicate some binding\n",
    "# variables: the query will be parsed to check the syntax and then converted to an R function where binding\n",
    "# variables are the formal parameters of the function.\n",
    "# Do you want to get all the persons with age more than come threshold?\n",
    "searchByAgeGreaterThen <- sandboxArangoDb %>% aql(\"FOR p IN person FILTER p.age > @age RETURN p\")\n",
    "filtered.persons <- searchByAgeGreaterThen(age = 30)\n",
    "\n",
    "# Using an AQL-From function the results are in JSON (so in R in list) form:\n",
    "if(length(filtered.persons) != 3){\n",
    "  print(\"Did you change something?\")\n",
    "}\n",
    "\n"
   ]
  },
  {
   "cell_type": "markdown",
   "metadata": {
    "id": "lkzGSyB5XNGz"
   },
   "source": [
    "## Define an Graph and perform some operations on it."
   ]
  },
  {
   "cell_type": "code",
   "execution_count": null,
   "metadata": {
    "id": "PuL0Lzv4XKM4"
   },
   "outputs": [],
   "source": [
    "# Last but not least, you can define a graph structure in the same way you can define a collection.\n",
    "residenceGraph <- sandboxArangoDb %>% arango_graph(\"residence\", createOnFail = TRUE)\n",
    "\n",
    "# If you created the graph from scratch, as in this case, you can add the definitions of possible edges\n",
    "# that the graph can store. Adding an edge will automatically adds the collections to the graph as possible\n",
    "# sources of edges, and it will creates a collection for the edge relation\n",
    "livesInCollection <- sandboxArangoDb %>% arango_collection(\"lives_in\",\n",
    "                                                           createOnFail = TRUE,\n",
    "                                                           type = collection_type$EDGE)\n",
    "lovesCollection <- sandboxArangoDb %>% arango_collection(\"loves\",\n",
    "                                                         createOnFail = TRUE,\n",
    "                                                         type = collection_type$EDGE)\n",
    "residenceGraph <- \n",
    "  residenceGraph %>% \n",
    "  define_edge(\"person\", \"lives_in\", \"city\") %>%\n",
    "  define_edge(\"person\", \"loves\", \"city\")\n",
    "\n",
    "\n",
    "\n",
    "if(!(is.null(livesInCollection))){\n",
    "  print(paste0(\"'Voilà, I'm an edge collection, isn't it?' \", \n",
    "               \"'\",livesInCollection$getType() == collection_type$EDGE,\"'\"))\n",
    "}\n",
    "\n",
    "# Also collections will be automatically created if not in the collection set\n",
    "residenceGraph <- residenceGraph %>% define_edge(cities, \"had_weather\", \"weather\")\n",
    "weatherCollection <- sandboxArangoDb %>% arango_collection(\"weather\",\n",
    "                                                           createOnFail = TRUE,\n",
    "                                                           type = collection_type$EDGE)\n",
    "\n",
    "if(!(is.null(weatherCollection))){\n",
    "  print(paste0(\"'Voilà, I'm a document collection, isn't it?' \", \n",
    "               \"'\",weatherCollection$getType() == collection_type$DOCUMENT,\"'\"))\n",
    "}\n",
    "\n",
    "# But a graph isn't useful if you cannot populate with relations. Just use the add_edges method and\n",
    "# the relational operators!\n",
    "#add_edges(\"loves\" %owns% edge(all.persons$john.doe %->% all.cities$London)) %>%\n",
    "residenceGraph <- residenceGraph %>%\n",
    "  add_edges(\"lives_in\" %owns% edge(all.persons$john.doe %->% all.cities$London)) %>%\n",
    "  add_edges(\"loves\" %owns% edge(all.persons$john.doe %->% all.cities$London)) %>%\n",
    "  add_edges(\"lives_in\" %owns% edge(all.persons$brandon.fee %->% all.cities$Manchester, since=\"09/01/2016\"))\n",
    "\n",
    "# Now I want to remove some edge in a similar way I did for adding\n",
    "residenceGraph <- residenceGraph %>%\n",
    "  remove_edges(\"loves\" %owns% edge(all.persons$john.doe %->% all.cities$London))\n",
    "\n",
    "# # The edge is not more present in the graph\n",
    "# lovesCollection <- sandboxArangoDb %>% arango_collection(\"loves\")\n",
    "\n",
    "if(is.null(lovesCollection %>% find_edge(all.persons$john.doe, all.cities$London))){\n",
    "  print(\"Ok, the edge has been removed!\")\n",
    "} else {\n",
    "  print(\"Very very bad!\")\n",
    "}"
   ]
  }
 ],
 "metadata": {
  "colab": {
   "collapsed_sections": [],
   "name": "R_ArangoDB_Managed_Service_Notebook.ipynb",
   "provenance": []
  },
  "kernelspec": {
   "display_name": "R",
   "language": "R",
   "name": "ir"
  },
  "language_info": {
   "codemirror_mode": "r",
   "file_extension": ".r",
   "mimetype": "text/x-r-source",
   "name": "R",
   "pygments_lexer": "r",
   "version": "3.6.1"
  }
 },
 "nbformat": 4,
 "nbformat_minor": 0
}
