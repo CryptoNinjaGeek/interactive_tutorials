{
 "cells": [
  {
   "cell_type": "markdown",
   "metadata": {
    "id": "yUfwGMXs3JWx"
   },
   "source": [
    "![arangodb](https://github.com/arangodb/interactive_tutorials/blob/master/notebooks/img/ArangoDB_logo.png?raw=1)"
   ]
  },
  {
   "cell_type": "markdown",
   "metadata": {
    "id": "gafVPB_N3JW3"
   },
   "source": [
    "# Iterative, Distributed Graph Analytics with Pregel"
   ]
  },
  {
   "cell_type": "markdown",
   "metadata": {
    "id": "lu-8LTPO3JW4"
   },
   "source": [
    "<a href=\"https://colab.research.google.com/github/arangodb/interactive_tutorials/blob/master/notebooks/Pregel.ipynb\" target=\"_parent\"><img src=\"https://colab.research.google.com/assets/colab-badge.svg\" alt=\"Open In Colab\"/></a>"
   ]
  },
  {
   "cell_type": "markdown",
   "metadata": {
    "id": "frXF0GXe3JW4"
   },
   "source": [
    "\n",
    "*“Many practical computing problems concern large graphs.”*\n",
    "\n",
    "Distributed graph processing enables you to do online analytical processing directly on graphs stored in ArangoDB. This is intended to help you gain analytical insights on your data, without having to use external processing systems.\n",
    "[The processing system](https://www.arangodb.com/docs/stable/graphs-pregel.html) inside ArangoDB is based on Google's Pregel framework: [Pregel: A System for Large-Scale Graph Processing](http://www.dcs.bbk.ac.uk/~dell/teaching/cc/paper/sigmod10/p135-malewicz.pdf). This concept enables us to perform distributed graph processing, without the need for distributed global locking.\n",
    "\n",
    "Currently, ArangoDB support the [following algorithms out of box](https://www.arangodb.com/docs/stable/graphs-pregel.html#available-algorithms) (For custom algorithms see note about Custom Pregel below):\n",
    "*  Page Rank\n",
    "*  Seeded PageRank\n",
    "* Single-Source Shortest Path\n",
    "* Connected Components:\n",
    "   * WeaklyConnected\n",
    "   * StronglyConnected\n",
    "* Hyperlink-Induced Topic Search (HITS)\n",
    "* Vertex Centrality\n",
    "* Effective Closeness\n",
    "* LineRank\n",
    "* Label Propagation\n",
    "* Speaker-Listener Label Propagation\n",
    "\n",
    "\n",
    "Pregel is not useful for typical online queries, where you just work on a small set of vertices. These kind of tasks are better suited for AQL traversals.\n",
    "\n",
    "Furthermore, for best performance Pregel should be used in combination with [SMART Graphs (Enterprise feature)](https://www.arangodb.com/enterprise-server/smartgraphs/).\n"
   ]
  },
  {
   "cell_type": "markdown",
   "metadata": {
    "id": "2qfdO22s3JW4"
   },
   "source": [
    "# Setup "
   ]
  },
  {
   "cell_type": "markdown",
   "metadata": {
    "id": "tYODkDx33JW5"
   },
   "source": [
    "Before getting started with ArangoDB we need to prepare our environment and create a temporary database on ArangoDB's managed Service Oasis."
   ]
  },
  {
   "cell_type": "code",
   "execution_count": null,
   "metadata": {
    "id": "vsOFaPNJ3JW5"
   },
   "outputs": [],
   "source": [
    "%%capture\n",
    "!git clone https://github.com/joerg84/ArangoDBUniversity.git\n",
    "!rsync -av ArangoDBUniversity/ ./ --exclude=.git\n",
    "!!pip3 install pyarango\n",
    "!pip3 install \"python-arango>=5.0\""
   ]
  },
  {
   "cell_type": "code",
   "execution_count": null,
   "metadata": {
    "id": "fKfqjUrL3JW6"
   },
   "outputs": [],
   "source": [
    "import json\n",
    "import requests\n",
    "import sys\n",
    "import oasis\n",
    "import time\n",
    "from IPython.display import JSON\n",
    "\n",
    "from arango import ArangoClient"
   ]
  },
  {
   "cell_type": "markdown",
   "metadata": {
    "id": "jYk7qd3T3JW6"
   },
   "source": [
    "Create the temporary database:"
   ]
  },
  {
   "cell_type": "code",
   "execution_count": null,
   "metadata": {
    "id": "c_6RZVqu3JW6"
   },
   "outputs": [],
   "source": [
    "# Retrieve tmp credentials from ArangoDB Tutorial Service\n",
    "login = oasis.getTempCredentials(tutorialName=\"Pregel\", credentialProvider='https://tutorials.arangodb.cloud:8529/_db/_system/tutorialDB/tutorialDB')\n",
    "\n",
    "# Connect to the temp database\n",
    "db = oasis.connect_python_arango(login)"
   ]
  },
  {
   "cell_type": "code",
   "execution_count": null,
   "metadata": {
    "id": "uGptRNz93JW7"
   },
   "outputs": [],
   "source": [
    "print(\"https://{}:{}\".format(login[\"hostname\"], login[\"port\"]))\n",
    "print(\"Username: \" + login[\"username\"])\n",
    "print(\"Password: \" + login[\"password\"])\n",
    "print(\"Database: \" + login[\"dbName\"])"
   ]
  },
  {
   "cell_type": "markdown",
   "metadata": {
    "id": "CHh-4ED-3JW7"
   },
   "source": [
    "Feel free to use to above URL to checkout the UI!"
   ]
  },
  {
   "cell_type": "markdown",
   "metadata": {
    "id": "j2YJ88SJ3JW7"
   },
   "source": [
    "##  Import Data"
   ]
  },
  {
   "cell_type": "markdown",
   "metadata": {
    "id": "5q-sYHDqvMAu"
   },
   "source": [
    "Let us first start by creating an empty graph:"
   ]
  },
  {
   "cell_type": "code",
   "execution_count": null,
   "metadata": {
    "id": "FCTkPLNF9-vS"
   },
   "outputs": [],
   "source": [
    "if db.has_graph('school'):\n",
    "        school = db.graph('school')\n",
    "else:\n",
    "        school = db.create_graph('school')\n",
    "\n",
    "# Retrieve various graph properties.\n",
    "print(school.name)\n",
    "print(school.db_name)\n",
    "print(school.vertex_collections())\n",
    "print(school.edge_definitions())"
   ]
  },
  {
   "cell_type": "markdown",
   "metadata": {
    "id": "W5R-S4V7vR8z"
   },
   "source": [
    "Next, we create a Pregel job on a (empty) graph:"
   ]
  },
  {
   "cell_type": "code",
   "execution_count": null,
   "metadata": {
    "id": "siA4yJGd8HvE"
   },
   "outputs": [],
   "source": [
    "    pregel = db.pregel\n",
    "\n",
    "    # Start a new Pregel job in \"school\" graph.\n",
    "    job_id = db.pregel.create_job(\n",
    "        graph='school',\n",
    "        algorithm='pagerank',\n",
    "        store=False,\n",
    "        max_gss=100,\n",
    "        thread_count=1,\n",
    "        async_mode=False,\n",
    "        result_field='result',\n",
    "        algorithm_params={'threshold': 0.000001}\n",
    "    )"
   ]
  },
  {
   "cell_type": "code",
   "execution_count": null,
   "metadata": {
    "id": "hzZ7u3s2vfE-"
   },
   "outputs": [],
   "source": [
    "Furthermore, we can observe the status of a given Pregel job."
   ]
  },
  {
   "cell_type": "code",
   "execution_count": null,
   "metadata": {
    "id": "vZSY1jrv-y6w"
   },
   "outputs": [],
   "source": [
    "# Retrieve details of a Pregel job by ID.\n",
    "job = pregel.job(job_id)\n",
    "print(job['state']) \n",
    "\n",
    "print(job)"
   ]
  },
  {
   "cell_type": "markdown",
   "metadata": {
    "id": "AgSw2TWjvkZV"
   },
   "source": [
    "And even delete it:"
   ]
  },
  {
   "cell_type": "code",
   "execution_count": null,
   "metadata": {
    "id": "nygXo9HE-TOf"
   },
   "outputs": [],
   "source": [
    "    # Delete a Pregel job by ID.\n",
    "    pregel.delete_job(job_id)"
   ]
  },
  {
   "cell_type": "markdown",
   "metadata": {
    "id": "bhZ66A9dv5bR"
   },
   "source": [
    "# Custom Pregel\n",
    "\n",
    "So far we looked at predefined algorithms. ArangoDB is also offering an (at time of writing experimental) feature which allows users to add/modify their custom Pregel algorithms at runtime. Check out [this webinar](https://www.arangodb.com/events/arangodb-feature-preview-custom-pregel/) for more details."
   ]
  },
  {
   "cell_type": "markdown",
   "metadata": {
    "id": "eBD63hEf3JXD"
   },
   "source": [
    "# Next Steps"
   ]
  },
  {
   "cell_type": "markdown",
   "metadata": {
    "id": "fIF4PVuluT9m"
   },
   "source": [
    "Check out the [community detection tutorial](https://www.arangodb.com/learn/graphs/pregel-community-detection/) to explore further applications of pregel to social network analytics.\n"
   ]
  },
  {
   "cell_type": "markdown",
   "metadata": {
    "id": "y_ZcVyZf3JXD"
   },
   "source": [
    "To continue playing and working with ArangoDB beyond the temporary database, you can:\n",
    "\n",
    "* [Get a 2 week free Trial with the ArangoDB Cloud](https://cloud.arangodb.com/home?utm_source=AQLJoin&utm_medium=Github&utm_campaign=ArangoDB%20University)\n",
    "* Take the [free Graph Course](https://www.arangodb.com/arangodb-graph-course)  \n",
    "* [Download ArangoDB](https://www.arangodb.com/download-major/)\n",
    "* Keep Learning at https://www.arangodb.com/arangodb-training-center/"
   ]
  },
  {
   "cell_type": "markdown",
   "metadata": {
    "id": "9jFaZwbH3JXE"
   },
   "source": [
    "# Further Links"
   ]
  },
  {
   "cell_type": "markdown",
   "metadata": {
    "id": "0SaGzSwA3JXE"
   },
   "source": [
    "* https://www.arangodb.com/docs/stable/aql/tutorial.html"
   ]
  }
 ],
 "metadata": {
  "colab": {
   "name": "Pregel.ipynb",
   "provenance": []
  },
  "kernelspec": {
   "display_name": "Python 3",
   "language": "python",
   "name": "python3"
  },
  "language_info": {
   "codemirror_mode": {
    "name": "ipython",
    "version": 3
   },
   "file_extension": ".py",
   "mimetype": "text/x-python",
   "name": "python",
   "nbconvert_exporter": "python",
   "pygments_lexer": "ipython3",
   "version": "3.7.7"
  }
 },
 "nbformat": 4,
 "nbformat_minor": 0
}
