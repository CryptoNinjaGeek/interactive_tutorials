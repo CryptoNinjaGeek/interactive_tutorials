{
 "cells": [
  {
   "cell_type": "markdown",
   "metadata": {
    "id": "yUfwGMXs3JWx"
   },
   "source": [
    "![arangodb](https://github.com/arangodb/interactive_tutorials/blob/master/notebooks/img/ArangoDB_logo.png?raw=1)"
   ]
  },
  {
   "cell_type": "markdown",
   "metadata": {
    "id": "gafVPB_N3JW3"
   },
   "source": [
    "# Iterative, Distributed Graph Analytics with Pregel"
   ]
  },
  {
   "cell_type": "markdown",
   "metadata": {
    "id": "lu-8LTPO3JW4"
   },
   "source": [
    "<a href=\"https://colab.research.google.com/github/arangodb/interactive_tutorials/blob/master/notebooks/Pregel.ipynb\" target=\"_parent\"><img src=\"https://colab.research.google.com/assets/colab-badge.svg\" alt=\"Open In Colab\"/></a>"
   ]
  },
  {
   "cell_type": "markdown",
   "metadata": {
    "id": "frXF0GXe3JW4"
   },
   "source": [
    "\n",
    "*“Many practical computing problems concern large graphs.”*\n",
    "\n",
    "Distributed graph processing enables you to do online analytical processing directly on graphs stored in ArangoDB. This is intended to help you gain analytical insights on your data, without having to use external processing systems. Examples of algorithms to execute are PageRank, Vertex Centrality, Vertex Closeness, Connected Components, Community Detection.\n",
    "\n",
    "Check out the hands-on ArangoDB Pregel Tutorial to learn more.\n",
    "\n",
    "The processing system inside ArangoDB is based on: Pregel: A System for Large-Scale Graph Processing – Malewicz et al. (Google), 2010. This concept enables us to perform distributed graph processing, without the need for distributed global locking.\n",
    "\n",
    "This system is not useful for typical online queries, where you just work on a small set of vertices. These kind of tasks are better suited for AQL traversals.\n",
    "\n",
    "Pregel support since 2014\n",
    "Predefined algorithms\n",
    "Could be extended via C++\n",
    "\n",
    " https://www.arangodb.com/docs/stable/graphs-pregel.html\n",
    "\n",
    "https://www.arangodb.com/docs/stable/graphs-pregel.html#available-algorithms\n",
    "\n",
    "\n",
    "\n",
    "*  Page Rank\n",
    "*  Seeded PageRank\n",
    "* Single-Source Shortest Path\n",
    "* Connected Components:\n",
    "   * WeaklyConnected\n",
    "   * StronglyConnected\n",
    "*Hyperlink-Induced Topic Search (HITS)Permalink\n",
    "*Vertex Centrality\n",
    "* Effective Closeness\n",
    "* LineRank\n",
    "* Label Propagation\n",
    "* Speaker-Listener Label Propagation\n",
    "\n",
    "\n",
    "Best with SMART Graphs https://www.arangodb.com/enterprise-server/smartgraphs/\n"
   ]
  },
  {
   "cell_type": "markdown",
   "metadata": {
    "id": "2qfdO22s3JW4"
   },
   "source": [
    "# Setup "
   ]
  },
  {
   "cell_type": "markdown",
   "metadata": {
    "id": "tYODkDx33JW5"
   },
   "source": [
    "Before getting started with ArangoDB we need to prepare our environment and create a temporary database on ArangoDB's managed Service Oasis."
   ]
  },
  {
   "cell_type": "code",
   "execution_count": null,
   "metadata": {
    "id": "vsOFaPNJ3JW5"
   },
   "outputs": [],
   "source": [
    "%%capture\n",
    "!git clone https://github.com/joerg84/ArangoDBUniversity.git\n",
    "!rsync -av ArangoDBUniversity/ ./ --exclude=.git\n",
    "!!pip3 install pyarango\n",
    "!pip3 install \"python-arango>=5.0\""
   ]
  },
  {
   "cell_type": "code",
   "execution_count": null,
   "metadata": {
    "id": "fKfqjUrL3JW6"
   },
   "outputs": [],
   "source": [
    "import json\n",
    "import requests\n",
    "import sys\n",
    "import oasis\n",
    "import time\n",
    "from IPython.display import JSON\n",
    "\n",
    "from arango import ArangoClient"
   ]
  },
  {
   "cell_type": "markdown",
   "metadata": {
    "id": "jYk7qd3T3JW6"
   },
   "source": [
    "Create the temporary database:"
   ]
  },
  {
   "cell_type": "code",
   "execution_count": null,
   "metadata": {
    "colab": {
     "base_uri": "https://localhost:8080/"
    },
    "id": "c_6RZVqu3JW6",
    "outputId": "4b6b66d9-6f16-48e1-958e-fd4a425dbf1d"
   },
   "outputs": [],
   "source": [
    "# Retrieve tmp credentials from ArangoDB Tutorial Service\n",
    "login = oasis.getTempCredentials(tutorialName=\"Pregel\", credentialProvider='https://tutorials.arangodb.cloud:8529/_db/_system/tutorialDB/tutorialDB')\n",
    "\n",
    "# Connect to the temp database\n",
    "db = oasis.connect_python_arango(login)"
   ]
  },
  {
   "cell_type": "code",
   "execution_count": null,
   "metadata": {
    "colab": {
     "base_uri": "https://localhost:8080/"
    },
    "id": "uGptRNz93JW7",
    "outputId": "44b36e45-b5c0-429e-cf56-eef6e6d38d6e"
   },
   "outputs": [],
   "source": [
    "print(\"https://{}:{}\".format(login[\"hostname\"], login[\"port\"]))\n",
    "print(\"Username: \" + login[\"username\"])\n",
    "print(\"Password: \" + login[\"password\"])\n",
    "print(\"Database: \" + login[\"dbName\"])"
   ]
  },
  {
   "cell_type": "markdown",
   "metadata": {
    "id": "CHh-4ED-3JW7"
   },
   "source": [
    "Feel free to use to above URL to checkout the UI!"
   ]
  },
  {
   "cell_type": "markdown",
   "metadata": {
    "id": "j2YJ88SJ3JW7"
   },
   "source": [
    "##  Import Data"
   ]
  },
  {
   "cell_type": "code",
   "execution_count": null,
   "metadata": {
    "colab": {
     "base_uri": "https://localhost:8080/"
    },
    "id": "FCTkPLNF9-vS",
    "outputId": "57a5178c-16ee-48cb-946c-da4995fd71e8"
   },
   "outputs": [],
   "source": [
    "if db.has_graph('school'):\n",
    "        school = db.graph('school')\n",
    "else:\n",
    "        school = db.create_graph('school')\n",
    "\n",
    "# Retrieve various graph properties.\n",
    "print(school.name)\n",
    "print(school.db_name)\n",
    "print(school.vertex_collections())\n",
    "print(school.edge_definitions())"
   ]
  },
  {
   "cell_type": "code",
   "execution_count": null,
   "metadata": {
    "colab": {
     "base_uri": "https://localhost:8080/"
    },
    "id": "siA4yJGd8HvE",
    "outputId": "d6c88ce4-bf27-4728-da41-1ab4f1d33269"
   },
   "outputs": [],
   "source": [
    "    pregel = db.pregel\n",
    "\n",
    "    # Start a new Pregel job in \"school\" graph.\n",
    "    job_id = db.pregel.create_job(\n",
    "        graph='school',\n",
    "        algorithm='pagerank',\n",
    "        store=False,\n",
    "        max_gss=100,\n",
    "        thread_count=1,\n",
    "        async_mode=False,\n",
    "        result_field='result',\n",
    "        algorithm_params={'threshold': 0.000001}\n",
    "    )"
   ]
  },
  {
   "cell_type": "code",
   "execution_count": null,
   "metadata": {
    "colab": {
     "base_uri": "https://localhost:8080/"
    },
    "id": "vZSY1jrv-y6w",
    "outputId": "660efec7-2ab4-473c-c1b5-c51e302c0157"
   },
   "outputs": [],
   "source": [
    "# Retrieve details of a Pregel job by ID.\n",
    "job = pregel.job(job_id)\n",
    "print(job['state']) \n",
    "\n",
    "print(job)"
   ]
  },
  {
   "cell_type": "code",
   "execution_count": null,
   "metadata": {
    "colab": {
     "base_uri": "https://localhost:8080/"
    },
    "id": "nygXo9HE-TOf",
    "outputId": "b35580ea-483e-4ab7-9686-7fad25c3cabc"
   },
   "outputs": [],
   "source": [
    "    # Delete a Pregel job by ID.\n",
    "    pregel.delete_job(job_id)"
   ]
  },
  {
   "cell_type": "markdown",
   "metadata": {
    "id": "eBD63hEf3JXD"
   },
   "source": [
    "# Next Steps"
   ]
  },
  {
   "cell_type": "markdown",
   "metadata": {
    "id": "y_ZcVyZf3JXD"
   },
   "source": [
    "To continue playing and working with ArangoDB beyond the temporary database, you can:\n",
    "\n",
    "* [Get a 2 week free Trial with the ArangoDB Cloud](https://cloud.arangodb.com/home?utm_source=AQLJoin&utm_medium=Github&utm_campaign=ArangoDB%20University)\n",
    "* Take the [free Graph Course](https://www.arangodb.com/arangodb-graph-course)  \n",
    "* [Download ArangoDB](https://www.arangodb.com/download-major/)\n",
    "* Keep Learning at https://www.arangodb.com/arangodb-training-center/"
   ]
  },
  {
   "cell_type": "markdown",
   "metadata": {
    "id": "9jFaZwbH3JXE"
   },
   "source": [
    "# Further Links"
   ]
  },
  {
   "cell_type": "markdown",
   "metadata": {
    "id": "0SaGzSwA3JXE"
   },
   "source": [
    "* https://www.arangodb.com/docs/stable/aql/tutorial.html"
   ]
  }
 ],
 "metadata": {
  "colab": {
   "name": "Pregel.ipynb",
   "provenance": []
  },
  "kernelspec": {
   "display_name": "Python 3",
   "language": "python",
   "name": "python3"
  },
  "language_info": {
   "codemirror_mode": {
    "name": "ipython",
    "version": 3
   },
   "file_extension": ".py",
   "mimetype": "text/x-python",
   "name": "python",
   "nbconvert_exporter": "python",
   "pygments_lexer": "ipython3",
   "version": "3.7.7"
  }
 },
 "nbformat": 4,
 "nbformat_minor": 0
}
