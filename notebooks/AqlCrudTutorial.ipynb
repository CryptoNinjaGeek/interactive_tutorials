{
 "cells": [
  {
   "cell_type": "markdown",
   "source": [
    "![arangodb](img/ArangoDB_logo.png)"
   ],
   "metadata": {}
  },
  {
   "cell_type": "markdown",
   "source": [
    "# AQL CRUD Tutorial"
   ],
   "metadata": {}
  },
  {
   "cell_type": "markdown",
   "source": [
    "<a href=\"https://colab.research.google.com/github/arangodb/interactive_tutorials/blob/master/notebooks/AqlCrudTutorial.ipynb\" target=\"_parent\"><img src=\"https://colab.research.google.com/assets/colab-badge.svg\" alt=\"Open In Colab\"/></a>"
   ],
   "metadata": {}
  },
  {
   "cell_type": "markdown",
   "source": [
    "This is an introduction to ArangoDB’s query language AQL, built around a small dataset of characters from the novel and fantasy drama television series Game of Thrones (as of season 1). It includes character traits in two languages, some family relations, and last but not least a small set of filming locations, which makes for an interesting mix of data to work with.\n",
    "\n",
    "In addition to the python interface, you can interact with ArangoDB using its web interface to manage collections and execute the queries."
   ],
   "metadata": {}
  },
  {
   "cell_type": "markdown",
   "source": [
    "# Setup "
   ],
   "metadata": {}
  },
  {
   "cell_type": "markdown",
   "source": [
    "Before getting started with ArangoDB we need to prepare our environment and create a temporary database on ArangoDB's managed Service Oasis."
   ],
   "metadata": {}
  },
  {
   "cell_type": "code",
   "execution_count": null,
   "source": [
    "%%capture\r\n",
    "!git clone -b oasis_connector --single-branch https://github.com/arangodb/interactive_tutorials.git\r\n",
    "!rsync -av interactive_tutorials/ ./ --exclude=.git\r\n",
    "!pip3 install pyarango\r\n",
    "!pip3 install \"python-arango>=5.0\""
   ],
   "outputs": [],
   "metadata": {}
  },
  {
   "cell_type": "code",
   "execution_count": null,
   "source": [
    "import json\r\n",
    "import requests\r\n",
    "import sys\r\n",
    "import oasis\r\n",
    "import time\r\n",
    "\r\n",
    "from pyArango.connection import *\r\n",
    "from arango import ArangoClient"
   ],
   "outputs": [],
   "metadata": {}
  },
  {
   "cell_type": "markdown",
   "source": [
    "Create the temporary database:"
   ],
   "metadata": {}
  },
  {
   "cell_type": "code",
   "execution_count": null,
   "source": [
    "# Retrieve tmp credentials from ArangoDB Tutorial Service\r\n",
    "login = oasis.getTempCredentials(tutorialName=\"AQLCrudTutorial\", credentialProvider='https://tutorials.arangodb.cloud:8529/_db/_system/tutorialDB/tutorialDB')\r\n",
    "\r\n",
    "# Connect to the temp database\r\n",
    "conn = oasis.connect(login)\r\n",
    "db = conn[login[\"dbName\"]] "
   ],
   "outputs": [],
   "metadata": {}
  },
  {
   "cell_type": "code",
   "execution_count": null,
   "source": [
    "print(\"https://{}:{}\".format(login[\"hostname\"], login[\"port\"]))\r\n",
    "print(\"Username: \" + login[\"username\"])\r\n",
    "print(\"Password: \" + login[\"password\"])\r\n",
    "print(\"Database: \" + login[\"dbName\"])"
   ],
   "outputs": [],
   "metadata": {}
  },
  {
   "cell_type": "markdown",
   "source": [
    "Feel free to use to above URL to checkout the UI!"
   ],
   "metadata": {}
  },
  {
   "cell_type": "markdown",
   "source": [
    "##  Creating Collections"
   ],
   "metadata": {}
  },
  {
   "cell_type": "markdown",
   "source": [
    "Before we can insert documents with AQL, we need a place to put them in – a collection. Collections can be managed via the web interface, arangosh or a driver. It is not possible to do so with AQL however."
   ],
   "metadata": {}
  },
  {
   "cell_type": "code",
   "execution_count": null,
   "source": [
    "db.createCollection(name=\"Characters\")"
   ],
   "outputs": [],
   "metadata": {}
  },
  {
   "cell_type": "markdown",
   "source": [
    "##  Creating and Reading Documents"
   ],
   "metadata": {}
  },
  {
   "cell_type": "markdown",
   "source": [
    "The syntax for creating a new document is `INSERT document INTO collectionName`. The document is an object like you may know it from JavaScript or JSON, which is comprised of attribute key and value pairs. The quotes around the attribute keys are optional in AQL. Keys are always character sequences (strings), whereas attribute values can have different types:\n",
    "\n",
    "* null\n",
    "* boolean (true, false)\n",
    "* number (integer and floating point)\n",
    "* string\n",
    "* array\n",
    "* object\n",
    "\n",
    "Name and surname of the character document we inserted are both string values. The alive state uses a boolean. Age is a numeric value. The traits are an array of strings. The entire document is an object."
   ],
   "metadata": {}
  },
  {
   "cell_type": "code",
   "execution_count": null,
   "source": [
    "insert_query = \"\"\"\r\n",
    "INSERT {\r\n",
    "    \"name\": \"Ned\",\r\n",
    "    \"surname\": \"Stark\",\r\n",
    "    \"alive\": true,\r\n",
    "    \"age\": 41,\r\n",
    "    \"traits\": [\"A\",\"H\",\"C\",\"N\",\"P\"]\r\n",
    "} INTO Characters\r\n",
    "\"\"\"\r\n",
    "\r\n",
    "db.AQLQuery(insert_query)"
   ],
   "outputs": [],
   "metadata": {}
  },
  {
   "cell_type": "markdown",
   "source": [
    "*Note: You can also execute all the queries from the ArangoDB Web UI which you can access using the link and login information above.*"
   ],
   "metadata": {}
  },
  {
   "cell_type": "markdown",
   "source": [
    "![ui](img/query_ui.png)"
   ],
   "metadata": {}
  },
  {
   "cell_type": "markdown",
   "source": [
    "Let us check whether the insert was sucessfull querying the `Characters` collections. The syntax of the loop is `FOR variableName IN collectionName`. For each document in the collection, c is assigned a document, which is then returned as per the loop body."
   ],
   "metadata": {}
  },
  {
   "cell_type": "code",
   "execution_count": null,
   "source": [
    "all_characters = \"\"\"\r\n",
    "FOR c IN Characters\r\n",
    "    RETURN c\r\n",
    "\"\"\"\r\n",
    "\r\n",
    "query_result = db.AQLQuery(all_characters, rawResults=True)\r\n",
    "for doc in  query_result:\r\n",
    "    print(doc)\r\n",
    "    print()"
   ],
   "outputs": [],
   "metadata": {}
  },
  {
   "cell_type": "markdown",
   "source": [
    "The document features the four attributes we stored, plus three more added by the database system. Each document needs a unique `_key`, which identifies it within a collection. The `_id` is a computed property, a concatenation of the collection name, a forward slash `/` and the document key. It uniquely identies a document within a database. `_rev` is a revision ID managed by the system. Older revisions of a document cannot be accessed.\n",
    "Document keys can be provided by the user upon document creation, or a unique value is assigned automatically. It can not be changed later. All three system attributes starting with an underscore `_` are read-only."
   ],
   "metadata": {}
  },
  {
   "cell_type": "markdown",
   "source": [
    "Next, let us add some more characters. The `LET` keyword defines a variable with name data and an array of objects as value, so `LET variableName = valueExpression` and the expression being a literal array definition like `[ {...}, {...}, ... ]`.\n",
    "\n",
    "`FOR variableName IN expression` is used to iterate over each element of the data array. In each loop, one element is assigned to the variable `d`. This variable is then used in the `INSERT` statement instead of a literal object definition. What is does is basically:"
   ],
   "metadata": {}
  },
  {
   "cell_type": "code",
   "execution_count": null,
   "source": [
    "insert_query = \"\"\"\r\n",
    "LET data = [\r\n",
    "    { \"name\": \"Robert\", \"surname\": \"Baratheon\", \"alive\": false, \"traits\": [\"A\",\"H\",\"C\"] },\r\n",
    "    { \"name\": \"Jaime\", \"surname\": \"Lannister\", \"alive\": true, \"age\": 36, \"traits\": [\"A\",\"F\",\"B\"] },\r\n",
    "    { \"name\": \"Catelyn\", \"surname\": \"Stark\", \"alive\": false, \"age\": 40, \"traits\": [\"D\",\"H\",\"C\"] },\r\n",
    "    { \"name\": \"Cersei\", \"surname\": \"Lannister\", \"alive\": true, \"age\": 36, \"traits\": [\"H\",\"E\",\"F\"] },\r\n",
    "    { \"name\": \"Daenerys\", \"surname\": \"Targaryen\", \"alive\": true, \"age\": 16, \"traits\": [\"D\",\"H\",\"C\"] },\r\n",
    "    { \"name\": \"Jorah\", \"surname\": \"Mormont\", \"alive\": false, \"traits\": [\"A\",\"B\",\"C\",\"F\"] },\r\n",
    "    { \"name\": \"Petyr\", \"surname\": \"Baelish\", \"alive\": false, \"traits\": [\"E\",\"G\",\"F\"] },\r\n",
    "    { \"name\": \"Viserys\", \"surname\": \"Targaryen\", \"alive\": false, \"traits\": [\"O\",\"L\",\"N\"] },\r\n",
    "    { \"name\": \"Jon\", \"surname\": \"Snow\", \"alive\": true, \"age\": 16, \"traits\": [\"A\",\"B\",\"C\",\"F\"] },\r\n",
    "    { \"name\": \"Sansa\", \"surname\": \"Stark\", \"alive\": true, \"age\": 13, \"traits\": [\"D\",\"I\",\"J\"] },\r\n",
    "    { \"name\": \"Arya\", \"surname\": \"Stark\", \"alive\": true, \"age\": 11, \"traits\": [\"C\",\"K\",\"L\"] },\r\n",
    "    { \"name\": \"Robb\", \"surname\": \"Stark\", \"alive\": false, \"traits\": [\"A\",\"B\",\"C\",\"K\"] },\r\n",
    "    { \"name\": \"Theon\", \"surname\": \"Greyjoy\", \"alive\": true, \"age\": 16, \"traits\": [\"E\",\"R\",\"K\"] },\r\n",
    "    { \"name\": \"Bran\", \"surname\": \"Stark\", \"alive\": true, \"age\": 10, \"traits\": [\"L\",\"J\"] },\r\n",
    "    { \"name\": \"Joffrey\", \"surname\": \"Baratheon\", \"alive\": false, \"age\": 19, \"traits\": [\"I\",\"L\",\"O\"] },\r\n",
    "    { \"name\": \"Sandor\", \"surname\": \"Clegane\", \"alive\": true, \"traits\": [\"A\",\"P\",\"K\",\"F\"] },\r\n",
    "    { \"name\": \"Tyrion\", \"surname\": \"Lannister\", \"alive\": true, \"age\": 32, \"traits\": [\"F\",\"K\",\"M\",\"N\"] },\r\n",
    "    { \"name\": \"Khal\", \"surname\": \"Drogo\", \"alive\": false, \"traits\": [\"A\",\"C\",\"O\",\"P\"] },\r\n",
    "    { \"name\": \"Tywin\", \"surname\": \"Lannister\", \"alive\": false, \"traits\": [\"O\",\"M\",\"H\",\"F\"] },\r\n",
    "    { \"name\": \"Davos\", \"surname\": \"Seaworth\", \"alive\": true, \"age\": 49, \"traits\": [\"C\",\"K\",\"P\",\"F\"] },\r\n",
    "    { \"name\": \"Samwell\", \"surname\": \"Tarly\", \"alive\": true, \"age\": 17, \"traits\": [\"C\",\"L\",\"I\"] },\r\n",
    "    { \"name\": \"Stannis\", \"surname\": \"Baratheon\", \"alive\": false, \"traits\": [\"H\",\"O\",\"P\",\"M\"] },\r\n",
    "    { \"name\": \"Melisandre\", \"alive\": true, \"traits\": [\"G\",\"E\",\"H\"] },\r\n",
    "    { \"name\": \"Margaery\", \"surname\": \"Tyrell\", \"alive\": false, \"traits\": [\"M\",\"D\",\"B\"] },\r\n",
    "    { \"name\": \"Jeor\", \"surname\": \"Mormont\", \"alive\": false, \"traits\": [\"C\",\"H\",\"M\",\"P\"] },\r\n",
    "    { \"name\": \"Bronn\", \"alive\": true, \"traits\": [\"K\",\"E\",\"C\"] },\r\n",
    "    { \"name\": \"Varys\", \"alive\": true, \"traits\": [\"M\",\"F\",\"N\",\"E\"] },\r\n",
    "    { \"name\": \"Shae\", \"alive\": false, \"traits\": [\"M\",\"D\",\"G\"] },\r\n",
    "    { \"name\": \"Talisa\", \"surname\": \"Maegyr\", \"alive\": false, \"traits\": [\"D\",\"C\",\"B\"] },\r\n",
    "    { \"name\": \"Gendry\", \"alive\": false, \"traits\": [\"K\",\"C\",\"A\"] },\r\n",
    "    { \"name\": \"Ygritte\", \"alive\": false, \"traits\": [\"A\",\"P\",\"K\"] },\r\n",
    "    { \"name\": \"Tormund\", \"surname\": \"Giantsbane\", \"alive\": true, \"traits\": [\"C\",\"P\",\"A\",\"I\"] },\r\n",
    "    { \"name\": \"Gilly\", \"alive\": true, \"traits\": [\"L\",\"J\"] },\r\n",
    "    { \"name\": \"Brienne\", \"surname\": \"Tarth\", \"alive\": true, \"age\": 32, \"traits\": [\"P\",\"C\",\"A\",\"K\"] },\r\n",
    "    { \"name\": \"Ramsay\", \"surname\": \"Bolton\", \"alive\": true, \"traits\": [\"E\",\"O\",\"G\",\"A\"] },\r\n",
    "    { \"name\": \"Ellaria\", \"surname\": \"Sand\", \"alive\": true, \"traits\": [\"P\",\"O\",\"A\",\"E\"] },\r\n",
    "    { \"name\": \"Daario\", \"surname\": \"Naharis\", \"alive\": true, \"traits\": [\"K\",\"P\",\"A\"] },\r\n",
    "    { \"name\": \"Missandei\", \"alive\": true, \"traits\": [\"D\",\"L\",\"C\",\"M\"] },\r\n",
    "    { \"name\": \"Tommen\", \"surname\": \"Baratheon\", \"alive\": true, \"traits\": [\"I\",\"L\",\"B\"] },\r\n",
    "    { \"name\": \"Jaqen\", \"surname\": \"H'ghar\", \"alive\": true, \"traits\": [\"H\",\"F\",\"K\"] },\r\n",
    "    { \"name\": \"Roose\", \"surname\": \"Bolton\", \"alive\": true, \"traits\": [\"H\",\"E\",\"F\",\"A\"] },\r\n",
    "    { \"name\": \"The High Sparrow\", \"alive\": true, \"traits\": [\"H\",\"M\",\"F\",\"O\"] }\r\n",
    "]\r\n",
    "\r\n",
    "FOR d IN data\r\n",
    "    INSERT d INTO Characters\r\n",
    "\"\"\"\r\n",
    "\r\n",
    "db.AQLQuery(insert_query)"
   ],
   "outputs": [],
   "metadata": {}
  },
  {
   "cell_type": "markdown",
   "source": [
    "As before let us check the `Characters` collection, but this time only return each characters name:"
   ],
   "metadata": {}
  },
  {
   "cell_type": "code",
   "execution_count": null,
   "source": [
    "all_characters_names = \"\"\"\r\n",
    "FOR c IN Characters\r\n",
    "    RETURN c.name\r\n",
    "\"\"\"\r\n",
    "\r\n",
    "query_result = db.AQLQuery(all_characters_names, rawResults=True)\r\n",
    "for doc in  query_result:\r\n",
    "    print(doc)\r\n",
    "    print()"
   ],
   "outputs": [],
   "metadata": {}
  },
  {
   "cell_type": "markdown",
   "source": [
    "# Updating Documents"
   ],
   "metadata": {}
  },
  {
   "cell_type": "markdown",
   "source": [
    "**Spoiler Warning!**\n",
    "\n",
    "According to our Ned Stark document, he is alive. When we get to know that he died, we need to change the alive attribute. Let us modify the existing document. For this we first identify the above `_key` attribute."
   ],
   "metadata": {}
  },
  {
   "cell_type": "code",
   "execution_count": null,
   "source": [
    "find_ned_query = \"\"\"\r\n",
    "FOR c IN Characters\r\n",
    "    FILTER c.name == \"Ned\"\r\n",
    "    RETURN c._key\r\n",
    "\"\"\"\r\n",
    "\r\n",
    "neds_document_key = None\r\n",
    "query_result = db.AQLQuery(find_ned_query, rawResults=True)\r\n",
    "for doc in  query_result:\r\n",
    "    print(\"_key: \" + str(doc))\r\n",
    "    neds_document_key = doc\r\n",
    "    print()"
   ],
   "outputs": [],
   "metadata": {}
  },
  {
   "cell_type": "markdown",
   "source": [
    "Using `key` we can update an existing document:"
   ],
   "metadata": {}
  },
  {
   "cell_type": "code",
   "execution_count": null,
   "source": [
    "kill_ned = \"\"\"\r\n",
    "UPDATE @key \r\n",
    "WITH { alive: false} \r\n",
    "IN Characters\r\n",
    "\"\"\"\r\n",
    "bindVars = {'key': neds_document_key}\r\n",
    "db.AQLQuery(kill_ned, rawResults=False, batchSize=1, bindVars=bindVars)\r\n",
    "\r\n",
    "\r\n",
    "find_ned_query = \"\"\"\r\n",
    "FOR c IN Characters\r\n",
    "    FILTER c.name == \"Ned\"\r\n",
    "    RETURN c\r\n",
    "\"\"\"\r\n",
    "query_result = db.AQLQuery(find_ned_query, rawResults=True)\r\n",
    "for doc in  query_result:\r\n",
    "    print(doc)\r\n",
    "    print()"
   ],
   "outputs": [],
   "metadata": {}
  },
  {
   "cell_type": "markdown",
   "source": [
    "We could have also replaced the entire document content, using `REPLACE` instead of `UPDATE`:"
   ],
   "metadata": {}
  },
  {
   "cell_type": "code",
   "execution_count": null,
   "source": [
    "kill_ned = \"\"\"\r\n",
    "REPLACE @key WITH {\r\n",
    "    name: \"Ned\",\r\n",
    "    surname: \"Stark\",\r\n",
    "    alive: false,\r\n",
    "    age: 41,\r\n",
    "    traits: [\"A\",\"H\",\"C\",\"N\",\"P\"]\r\n",
    "} IN Characters\r\n",
    "\"\"\"\r\n",
    "bindVars = {'key': neds_document_key}\r\n",
    "db.AQLQuery(kill_ned, rawResults=False, batchSize=1, bindVars=bindVars)\r\n",
    "\r\n",
    "# Check the updated Ned document \r\n",
    "find_ned_query = \"\"\"\r\n",
    "FOR c IN Characters\r\n",
    "    FILTER c.name == \"Ned\"\r\n",
    "    RETURN c\r\n",
    "\"\"\"\r\n",
    "query_result = db.AQLQuery(find_ned_query, rawResults=True)\r\n",
    "for doc in  query_result:\r\n",
    "    print(doc)\r\n",
    "    print()"
   ],
   "outputs": [],
   "metadata": {}
  },
  {
   "cell_type": "markdown",
   "source": [
    "We could again use the `FOR` loop construct from before to update all characters:"
   ],
   "metadata": {}
  },
  {
   "cell_type": "code",
   "execution_count": null,
   "source": [
    "season_query = \"\"\"\n",
    "FOR c IN Characters\n",
    "    UPDATE c WITH { season: 1 } IN Characters\n",
    "\"\"\"\n",
    "db.AQLQuery(season_query, rawResults=False)\n",
    "    \n",
    "# Retrieve all characters and season they appeared    \n",
    "all_characters_names_season = \"\"\"\n",
    "FOR c IN Characters\n",
    "    RETURN {\"Name\" : c.name, \"Season\" : c.season}\n",
    "\"\"\"\n",
    "\n",
    "query_result = db.AQLQuery(all_characters_names_season, rawResults=True)\n",
    "for doc in  query_result:\n",
    "    print(doc)\n",
    "    print()"
   ],
   "outputs": [],
   "metadata": {}
  },
  {
   "cell_type": "markdown",
   "source": [
    "Note, that here we customized the `RETURN` to return a json document consisting of name and season."
   ],
   "metadata": {}
  },
  {
   "cell_type": "markdown",
   "source": [
    "# Delete Documents"
   ],
   "metadata": {}
  },
  {
   "cell_type": "markdown",
   "source": [
    "To fully remove documents from a collection, there is the `REMOVE` operation. It works similar to the other modification operations, yet without a WITH clause:"
   ],
   "metadata": {}
  },
  {
   "cell_type": "code",
   "execution_count": null,
   "source": [
    "remove_ned = \"\"\"\n",
    "REMOVE @key IN Characters\n",
    "\"\"\"\n",
    "bindVars = {'key': neds_document_key}\n",
    "try:\n",
    "    db.AQLQuery(remove_ned, rawResults=False, batchSize=1, bindVars=bindVars)\n",
    "except:\n",
    "    print(\"Ned already removed.\")\n",
    "\n",
    "# Check the updated Ned document, should be empty\n",
    "find_ned_query = \"\"\"\n",
    "FOR c IN Characters\n",
    "    FILTER c.name == \"Ned\"\n",
    "    RETURN c\n",
    "\"\"\"\n",
    "query_result = db.AQLQuery(find_ned_query, rawResults=True)\n",
    "if len(query_result) == 0 :\n",
    "    print(\"Ned not found.\")"
   ],
   "outputs": [],
   "metadata": {}
  },
  {
   "cell_type": "markdown",
   "source": [
    "As you might have already guessed we can again use a `FOR` loop if we want to perform this operation for the entire collection:"
   ],
   "metadata": {}
  },
  {
   "cell_type": "code",
   "execution_count": null,
   "source": [
    "remove_all = \"\"\"\n",
    "FOR c IN Characters\n",
    "    REMOVE c IN Characters\n",
    "\"\"\"\n",
    "db.AQLQuery(remove_all, rawResults=False)\n",
    "    \n",
    "all_characters_names = \"\"\"\n",
    "FOR c IN Characters\n",
    "    RETURN c\n",
    "\"\"\"\n",
    "\n",
    "query_result = db.AQLQuery(all_characters_names, rawResults=True)\n",
    "if len(query_result) == 0 :\n",
    "    print(\"No characters left.\")"
   ],
   "outputs": [],
   "metadata": {}
  },
  {
   "cell_type": "markdown",
   "source": [
    "# Next Steps"
   ],
   "metadata": {}
  },
  {
   "cell_type": "markdown",
   "source": [
    "To continue playing and learning with ArangoDB, you can:\n",
    "\n",
    "* [Get a 2 week free Trial with the ArangoDB Cloud](https://cloud.arangodb.com/home?utm_source=Basic%20AQL%20CRUD&utm_medium=Github&utm_campaign=ArangoDB%20University)\n",
    "* [Download ArangoDB](https://www.arangodb.com/download-major/)\n",
    "* Keep Learning at the ArangoDB [Training Center](https://www.arangodb.com/arangodb-training-center/)\n",
    "\n",
    "*Note: Recall that this notebook uses a temporary instance which will be autodeleted!*"
   ],
   "metadata": {}
  },
  {
   "cell_type": "markdown",
   "source": [
    "# Further Links"
   ],
   "metadata": {}
  },
  {
   "cell_type": "markdown",
   "source": [
    "* https://www.arangodb.com/docs/stable/aql/tutorial.html"
   ],
   "metadata": {}
  }
 ],
 "metadata": {
  "kernelspec": {
   "name": "python3",
   "display_name": "Python 3.8.8 64-bit ('base': conda)"
  },
  "language_info": {
   "codemirror_mode": {
    "name": "ipython",
    "version": 3
   },
   "file_extension": ".py",
   "mimetype": "text/x-python",
   "name": "python",
   "nbconvert_exporter": "python",
   "pygments_lexer": "ipython3",
   "version": "3.8.8"
  },
  "interpreter": {
   "hash": "d30407bbe891b7f843345a9a4c271cb86b4a87dd0a6f0c259e0e843cc575520f"
  }
 },
 "nbformat": 4,
 "nbformat_minor": 4
}