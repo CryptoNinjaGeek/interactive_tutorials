{
 "cells": [
  {
   "cell_type": "markdown",
   "metadata": {},
   "source": [
    "<a href=\\\"https://colab.research.google.com/github/arangodb/interactive_tutorials/blob/master/notebooks/R_ArangoDB_Managed_Service_Notebook.ipynb\\\" target=\\\"_parent\\\"><img src=\\\"https://colab.research.google.com/assets/colab-badge.svg\\\" alt=\\\"Open In Colab\\\"/></a>"
   ]
  },
  {
   "cell_type": "markdown",
   "metadata": {
    "id": "QqzOyoUyU4G7"
   },
   "source": [
    "# Using R with Arango DB"
   ]
  },
  {
   "cell_type": "markdown",
   "metadata": {
    "id": "3_Hk2L_2Ve0b"
   },
   "source": [
    "This notebook will provide an overview of the steps involved in using R and Arango DB to work with Graph data. To do so, we will need the aRangodb R driver. This can be installed as shown below."
   ]
  },
  {
   "cell_type": "code",
   "execution_count": 1,
   "metadata": {
    "colab": {
     "base_uri": "https://localhost:8080/"
    },
    "id": "TRWAOnZi3rb4",
    "outputId": "96fb5fc4-995a-4cc3-a0b9-60bcd89341ba"
   },
   "outputs": [
    {
     "name": "stderr",
     "output_type": "stream",
     "text": [
      "Downloading GitLab repo krpack/arango-driver@HEAD\n",
      "from URL https://gitlab.com/api/v4/projects/10506656/repository/archive.tar.gz?sha=HEAD\n",
      "\n"
     ]
    },
    {
     "name": "stdout",
     "output_type": "stream",
     "text": [
      "bitops     (NA -> 1.0-6   ) [CRAN]\n",
      "visNetwork (NA -> 2.0.9   ) [CRAN]\n",
      "RCurl      (NA -> 1.98-1.2) [CRAN]\n"
     ]
    },
    {
     "name": "stderr",
     "output_type": "stream",
     "text": [
      "Installing 3 packages: bitops, visNetwork, RCurl\n",
      "\n",
      "Installing packages into ‘/usr/local/lib/R/site-library’\n",
      "(as ‘lib’ is unspecified)\n",
      "\n"
     ]
    },
    {
     "name": "stdout",
     "output_type": "stream",
     "text": [
      "\u001b[32m✔\u001b[39m  \u001b[90mchecking for file ‘/tmp/RtmpUxFhSB/remotes5147ba046d/arango-driver-HEAD-840fa63a2fc447f2866b5f377a90cb30f7a79f26/DESCRIPTION’\u001b[39m\u001b[36m\u001b[39m\n",
      "\u001b[90m─\u001b[39m\u001b[90m  \u001b[39m\u001b[90mpreparing ‘aRangodb’:\u001b[39m\u001b[36m\u001b[39m\n",
      "\u001b[32m✔\u001b[39m  \u001b[90mchecking DESCRIPTION meta-information\u001b[39m\u001b[36m\u001b[39m\n",
      "\u001b[90m─\u001b[39m\u001b[90m  \u001b[39m\u001b[90mchecking for LF line-endings in source and make files and shell scripts\u001b[39m\u001b[36m\u001b[39m\n",
      "\u001b[90m─\u001b[39m\u001b[90m  \u001b[39m\u001b[90mchecking for empty or unneeded directories\u001b[39m\u001b[36m\u001b[39m\n",
      "\u001b[90m─\u001b[39m\u001b[90m  \u001b[39m\u001b[90mbuilding ‘aRangodb_0.0.1.tar.gz’\u001b[39m\u001b[36m\u001b[39m\n",
      "   Warning in utils::tar(filepath, pkgname, compression = compression, compression_level = 9L,  :\n",
      "     storing paths of more than 100 bytes is not portable:\n",
      "     ‘aRangodb/tests/testthat/localhost-1234/_db/testdb/_api/collection/non-existing-collection-141275.json’\n",
      "   \n"
     ]
    },
    {
     "name": "stderr",
     "output_type": "stream",
     "text": [
      "Installing package into ‘/usr/local/lib/R/site-library’\n",
      "(as ‘lib’ is unspecified)\n",
      "\n",
      "Loading required package: R6\n",
      "\n",
      "Loading required package: dplyr\n",
      "\n",
      "\n",
      "Attaching package: ‘dplyr’\n",
      "\n",
      "\n",
      "The following objects are masked from ‘package:stats’:\n",
      "\n",
      "    filter, lag\n",
      "\n",
      "\n",
      "The following objects are masked from ‘package:base’:\n",
      "\n",
      "    intersect, setdiff, setequal, union\n",
      "\n",
      "\n",
      "Loading required package: httr\n",
      "\n",
      "Loading required package: jsonlite\n",
      "\n",
      "Loading required package: magrittr\n",
      "\n",
      "Loading required package: purrr\n",
      "\n",
      "\n",
      "Attaching package: ‘purrr’\n",
      "\n",
      "\n",
      "The following object is masked from ‘package:magrittr’:\n",
      "\n",
      "    set_names\n",
      "\n",
      "\n",
      "The following object is masked from ‘package:jsonlite’:\n",
      "\n",
      "    flatten\n",
      "\n",
      "\n",
      "Loading required package: RColorBrewer\n",
      "\n",
      "Loading required package: RCurl\n",
      "\n",
      "Loading required package: visNetwork\n",
      "\n",
      "\n",
      "Attaching package: ‘aRangodb’\n",
      "\n",
      "\n",
      "The following object is masked from ‘package:base’:\n",
      "\n",
      "    drop\n",
      "\n",
      "\n"
     ]
    }
   ],
   "source": [
    "devtools::install_gitlab(\"krpack/arango-driver\")\n",
    "library(aRangodb)\n"
   ]
  },
  {
   "cell_type": "markdown",
   "metadata": {
    "id": "zvYy-6xJVmBv"
   },
   "source": [
    "## Connect to an OASIS Arango DB instance.\n",
    "You can use the R driver to connect to either a local or a managed service instance of Arango DB. To connect and work with a local instance, please see the example [here](https://gitlab.com/krpack/arango-driver/-/blob/master/examples/arango_basic_tutorial.R). To code segment below illustrates how we can obtain an ArangoDB OASIS database, called $\\texttt{sandboxArangoDb}$."
   ]
  },
  {
   "cell_type": "code",
   "execution_count": 2,
   "metadata": {
    "colab": {
     "base_uri": "https://localhost:8080/"
    },
    "id": "GVqi6Qqg-Zbn",
    "outputId": "9de52904-8d7e-4aec-f64f-7a908e88c52d"
   },
   "outputs": [
    {
     "name": "stdout",
     "output_type": "stream",
     "text": [
      "\n"
     ]
    },
    {
     "name": "stderr",
     "output_type": "stream",
     "text": [
      "Connecting to TUTyo1m5bfkn7c0qfudgy4mv7o using https\n",
      "\n",
      "Warning message in initialize(...):\n",
      "“Server didn't send the 'version' attribute”\n",
      "Successfully obtained a connection to managed service database!\n",
      "\n"
     ]
    }
   ],
   "source": [
    "resp <- POST(\"https://tutorials.arangodb.cloud:8529/_db/_system/tutorialDB/tutorialDB\",\n",
    "             body = '{}', encode = \"json\",verbose())\n",
    "parsed.resp <- content(resp)  \n",
    "db.name <- parsed.resp$dbName\n",
    "username <- parsed.resp$username\n",
    "password <- parsed.resp$password\n",
    "hostname <- parsed.resp$hostname\n",
    "port <- parsed.resp$port\n",
    "\n",
    "\n",
    "\n",
    "# Connect to an ArangoDB server up and running\n",
    "arangoConnection <- arango_connection(hostname, port,\n",
    "                                      username, password,\n",
    "                                      db.name, \"https\")\n",
    "\n",
    "#Create a sandbox database: if you already have one you can use it for this example\n",
    "tryCatch(\n",
    "  expr = {\n",
    "    sandboxArangoDb <- arangoConnection %>% arango_database(db.name, createOnFail = TRUE)\n",
    "    \n",
    "    message(\"Successfully obtained a connection to managed service database!\")\n",
    "  },\n",
    "  error = function(e){\n",
    "    message('Error connecting to managed service DB, trying again...')\n",
    "    sandboxArangoDb <- arangoConnection %>% arango_database(db.name, createOnFail = TRUE)\n",
    "    print(e)\n",
    "  }\n",
    ")\n"
   ]
  },
  {
   "cell_type": "markdown",
   "metadata": {
    "id": "G2yIjwFuW9JN"
   },
   "source": [
    "## Create the collections for storing the data and populate it with data"
   ]
  },
  {
   "cell_type": "code",
   "execution_count": 3,
   "metadata": {
    "colab": {
     "base_uri": "https://localhost:8080/",
     "height": 1000
    },
    "id": "8WzYpVfu-c_3",
    "outputId": "4c294c2a-e83e-4cc6-834f-0ec342fe68ab"
   },
   "outputs": [
    {
     "data": {
      "text/plain": [
       "<ArangoDocument>\n",
       "  Public:\n",
       "    clone: function (deep = FALSE) \n",
       "    getCollection: function () \n",
       "    getId: function () \n",
       "    getKey: function () \n",
       "    getKeys: function () \n",
       "    getRevision: function () \n",
       "    getValues: function () \n",
       "    initialize: function (document, connectionString, auth) \n",
       "  Private:\n",
       "    auth: Basic VFVUcjRjOXpoYXhsYWY3dTU0ZTNzMmU2OlRVVHBnZ3k5Mjhvan ...\n",
       "    connectionString: https://tutorials.arangodb.cloud:8529/_db/TUTyo1m5bfkn7c ...\n",
       "    currentRevision: _bm7cWOy--A\n",
       "    documentId: john.doe\n",
       "    documentValues: list\n",
       "    originalCollection: person"
      ]
     },
     "metadata": {
      "tags": []
     },
     "output_type": "display_data"
    },
    {
     "data": {
      "text/plain": [
       "<ArangoDocument>\n",
       "  Public:\n",
       "    clone: function (deep = FALSE) \n",
       "    getCollection: function () \n",
       "    getId: function () \n",
       "    getKey: function () \n",
       "    getKeys: function () \n",
       "    getRevision: function () \n",
       "    getValues: function () \n",
       "    initialize: function (document, connectionString, auth) \n",
       "  Private:\n",
       "    auth: Basic VFVUcjRjOXpoYXhsYWY3dTU0ZTNzMmU2OlRVVHBnZ3k5Mjhvan ...\n",
       "    connectionString: https://tutorials.arangodb.cloud:8529/_db/TUTyo1m5bfkn7c ...\n",
       "    currentRevision: _bm7cWS----\n",
       "    documentId: alice.foo\n",
       "    documentValues: list\n",
       "    originalCollection: person"
      ]
     },
     "metadata": {
      "tags": []
     },
     "output_type": "display_data"
    },
    {
     "data": {
      "text/plain": [
       "<ArangoDocument>\n",
       "  Public:\n",
       "    clone: function (deep = FALSE) \n",
       "    getCollection: function () \n",
       "    getId: function () \n",
       "    getKey: function () \n",
       "    getKeys: function () \n",
       "    getRevision: function () \n",
       "    getValues: function () \n",
       "    initialize: function (document, connectionString, auth) \n",
       "  Private:\n",
       "    auth: Basic VFVUcjRjOXpoYXhsYWY3dTU0ZTNzMmU2OlRVVHBnZ3k5Mjhvan ...\n",
       "    connectionString: https://tutorials.arangodb.cloud:8529/_db/TUTyo1m5bfkn7c ...\n",
       "    currentRevision: _bm7cWVW---\n",
       "    documentId: brandon.fee\n",
       "    documentValues: list\n",
       "    originalCollection: person"
      ]
     },
     "metadata": {
      "tags": []
     },
     "output_type": "display_data"
    },
    {
     "data": {
      "text/plain": [
       "<ArangoDocument>\n",
       "  Public:\n",
       "    clone: function (deep = FALSE) \n",
       "    getCollection: function () \n",
       "    getId: function () \n",
       "    getKey: function () \n",
       "    getKeys: function () \n",
       "    getRevision: function () \n",
       "    getValues: function () \n",
       "    initialize: function (document, connectionString, auth) \n",
       "  Private:\n",
       "    auth: Basic VFVUcjRjOXpoYXhsYWY3dTU0ZTNzMmU2OlRVVHBnZ3k5Mjhvan ...\n",
       "    connectionString: https://tutorials.arangodb.cloud:8529/_db/TUTyo1m5bfkn7c ...\n",
       "    currentRevision: _bm7cWZ---_\n",
       "    documentId: charlie.foo\n",
       "    documentValues: list\n",
       "    originalCollection: person"
      ]
     },
     "metadata": {
      "tags": []
     },
     "output_type": "display_data"
    },
    {
     "data": {
      "text/plain": [
       "<ArangoDocument>\n",
       "  Public:\n",
       "    clone: function (deep = FALSE) \n",
       "    getCollection: function () \n",
       "    getId: function () \n",
       "    getKey: function () \n",
       "    getKeys: function () \n",
       "    getRevision: function () \n",
       "    getValues: function () \n",
       "    initialize: function (document, connectionString, auth) \n",
       "  Private:\n",
       "    auth: Basic VFVUcjRjOXpoYXhsYWY3dTU0ZTNzMmU2OlRVVHBnZ3k5Mjhvan ...\n",
       "    connectionString: https://tutorials.arangodb.cloud:8529/_db/TUTyo1m5bfkn7c ...\n",
       "    currentRevision: _bm7cWcS---\n",
       "    documentId: London\n",
       "    documentValues: list\n",
       "    originalCollection: city"
      ]
     },
     "metadata": {
      "tags": []
     },
     "output_type": "display_data"
    },
    {
     "data": {
      "text/plain": [
       "<ArangoDocument>\n",
       "  Public:\n",
       "    clone: function (deep = FALSE) \n",
       "    getCollection: function () \n",
       "    getId: function () \n",
       "    getKey: function () \n",
       "    getKeys: function () \n",
       "    getRevision: function () \n",
       "    getValues: function () \n",
       "    initialize: function (document, connectionString, auth) \n",
       "  Private:\n",
       "    auth: Basic VFVUcjRjOXpoYXhsYWY3dTU0ZTNzMmU2OlRVVHBnZ3k5Mjhvan ...\n",
       "    connectionString: https://tutorials.arangodb.cloud:8529/_db/TUTyo1m5bfkn7c ...\n",
       "    currentRevision: _bm7cWfC--_\n",
       "    documentId: Manchester\n",
       "    documentValues: list\n",
       "    originalCollection: city"
      ]
     },
     "metadata": {
      "tags": []
     },
     "output_type": "display_data"
    },
    {
     "name": "stdout",
     "output_type": "stream",
     "text": [
      "[1] \"Persons registered: 4\"\n",
      "[1] \"London is still the capital of UK\"\n"
     ]
    }
   ],
   "source": [
    "# From now on all the collections, documents and graphs will be manipulated within \"sandbox\"\n",
    "# (or the db you had choosen): this means that collections, documents, and graphs will be visible\n",
    "# and available from this DB.\n",
    "# Now create the \"person\" and \"city\" collections:\n",
    "persons <- sandboxArangoDb %>% arango_collection(\"person\", createOnFail = TRUE)\n",
    "cities <- sandboxArangoDb %>% arango_collection(\"city\", createOnFail = TRUE)\n",
    "\n",
    "# Now we have two different collections: we can populate with some fake data for subsequent examples\n",
    "persons %>% \n",
    "  document_insert(key = \"john.doe\") %>% \n",
    "  document_set(age=30, birthday=\"17/01/1989\") %>% \n",
    "  collection_update()\n",
    "\n",
    "persons %>% \n",
    "  document_insert(\"alice.foo\") %>% \n",
    "  document_set(age=36, birthday=\"07/02/1983\", graduated = TRUE) %>% \n",
    "  collection_update()\n",
    "\n",
    "persons %>% \n",
    "  document_insert(\"brandon.fee\") %>% \n",
    "  document_set(age=36, birthday=\"03/11/1983\", jobTitle=\"Software Developer\") %>% \n",
    "  collection_update()\n",
    "\n",
    "persons %>% \n",
    "  document_insert(\"charlie.foo\") %>% \n",
    "  document_set(age=34, birthday=\"03/02/1985\") %>% \n",
    "  collection_update()\n",
    "\n",
    "cities %>% \n",
    "  document_insert(\"London\") %>% \n",
    "  document_set(position=list(latitude=51.5098, longitude=-2.0122), capital=TRUE, country=\"UK\") %>% \n",
    "  collection_update()\n",
    "\n",
    "cities %>% \n",
    "  document_insert(\"Manchester\") %>% \n",
    "  document_set(position=list(latitude=53.4839, longitude=-2.2446), capital=FALSE, country=\"UK\") %>% \n",
    "  collection_update()\n",
    "\n",
    "# You can use the collection to access some useful information about the collection itself...\n",
    "print(paste(\"Persons registered:\", persons$getCount(), sep = \" \"))\n",
    "\n",
    "# ... or you can use it to retrieve documents within the collection. For example you can get ALL the\n",
    "# document from a given collection (BE CAREFUL, collections could contains hundred of results) and access\n",
    "# specific document using its key\n",
    "all.cities <- cities %>% all_documents()\n",
    "all.persons <- persons %>% all_documents()\n",
    "\n",
    "if(all.cities$London$getValues()$capital){\n",
    "  print(\"London is still the capital of UK\")\n",
    "} else {\n",
    "  print(\"What's happening there???\")\n",
    "}\n",
    "\n",
    "# Using a collection object you can filter out documents that match some conditions. To express values\n",
    "# greater or less than some condition to be matched use operators %lt%, %gt%, %leq%, %geq%.\n",
    "# Next lines will be translated as \"ehy, give me all cities of UK over latitude 52.0\"\n",
    "filtered.cities <- cities %>% collection_filter(country=\"UK\", position.latitude %gt% 52.0)\n",
    "\n",
    "if(is.null(filtered.cities$Manchester)){\n",
    "  print(\"Ehy, who moved away Manchester??\") # Could be very bad\n",
    "}\n",
    "\n",
    "if(!is.null(filtered.cities$London)){\n",
    "  print(\"Ehy, who moved away London??\") # Could be very bad\n",
    "}\n",
    "\n",
    "# If you are interested in custom queries you can use the native Arango Query Language (AQL). To do that\n",
    "# you need to specify the string containing the query using the @variable_name to indicate some binding\n",
    "# variables: the query will be parsed to check the syntax and then converted to an R function where binding\n",
    "# variables are the formal parameters of the function.\n",
    "# Do you want to get all the persons with age more than come threshold?\n",
    "searchByAgeGreaterThen <- sandboxArangoDb %>% aql(\"FOR p IN person FILTER p.age > @age RETURN p\")\n",
    "filtered.persons <- searchByAgeGreaterThen(age = 30)\n",
    "\n",
    "# Using an AQL-From function the results are in JSON (so in R in list) form:\n",
    "if(length(filtered.persons) != 3){\n",
    "  print(\"Did you change something?\")\n",
    "}\n",
    "\n"
   ]
  },
  {
   "cell_type": "markdown",
   "metadata": {
    "id": "lkzGSyB5XNGz"
   },
   "source": [
    "## Define an Graph and perform some operations on it."
   ]
  },
  {
   "cell_type": "code",
   "execution_count": 4,
   "metadata": {
    "colab": {
     "base_uri": "https://localhost:8080/"
    },
    "id": "PuL0Lzv4XKM4",
    "outputId": "42e0c864-a0ed-47ee-b73f-4887940261b4"
   },
   "outputs": [
    {
     "name": "stdout",
     "output_type": "stream",
     "text": [
      "[1] \"'Voilà, I'm an edge collection, isn't it?' 'TRUE'\"\n",
      "[1] \"'Voilà, I'm a document collection, isn't it?' 'FALSE'\"\n",
      "[1] \"Ok, the edge has been removed!\"\n"
     ]
    }
   ],
   "source": [
    "# Last but not least, you can define a graph structure in the same way you can define a collection.\n",
    "residenceGraph <- sandboxArangoDb %>% arango_graph(\"residence\", createOnFail = TRUE)\n",
    "\n",
    "# If you created the graph from scratch, as in this case, you can add the definitions of possible edges\n",
    "# that the graph can store. Adding an edge will automatically adds the collections to the graph as possible\n",
    "# sources of edges, and it will creates a collection for the edge relation\n",
    "livesInCollection <- sandboxArangoDb %>% arango_collection(\"lives_in\",\n",
    "                                                           createOnFail = TRUE,\n",
    "                                                           type = collection_type$EDGE)\n",
    "lovesCollection <- sandboxArangoDb %>% arango_collection(\"loves\",\n",
    "                                                         createOnFail = TRUE,\n",
    "                                                         type = collection_type$EDGE)\n",
    "residenceGraph <- \n",
    "  residenceGraph %>% \n",
    "  define_edge(\"person\", \"lives_in\", \"city\") %>%\n",
    "  define_edge(\"person\", \"loves\", \"city\")\n",
    "\n",
    "\n",
    "\n",
    "if(!(is.null(livesInCollection))){\n",
    "  print(paste0(\"'Voilà, I'm an edge collection, isn't it?' \", \n",
    "               \"'\",livesInCollection$getType() == collection_type$EDGE,\"'\"))\n",
    "}\n",
    "\n",
    "# Also collections will be automatically created if not in the collection set\n",
    "residenceGraph <- residenceGraph %>% define_edge(cities, \"had_weather\", \"weather\")\n",
    "weatherCollection <- sandboxArangoDb %>% arango_collection(\"weather\",\n",
    "                                                           createOnFail = TRUE,\n",
    "                                                           type = collection_type$EDGE)\n",
    "\n",
    "if(!(is.null(weatherCollection))){\n",
    "  print(paste0(\"'Voilà, I'm a document collection, isn't it?' \", \n",
    "               \"'\",weatherCollection$getType() == collection_type$DOCUMENT,\"'\"))\n",
    "}\n",
    "\n",
    "# But a graph isn't useful if you cannot populate with relations. Just use the add_edges method and\n",
    "# the relational operators!\n",
    "#add_edges(\"loves\" %owns% edge(all.persons$john.doe %->% all.cities$London)) %>%\n",
    "residenceGraph <- residenceGraph %>%\n",
    "  add_edges(\"lives_in\" %owns% edge(all.persons$john.doe %->% all.cities$London)) %>%\n",
    "  add_edges(\"loves\" %owns% edge(all.persons$john.doe %->% all.cities$London)) %>%\n",
    "  add_edges(\"lives_in\" %owns% edge(all.persons$brandon.fee %->% all.cities$Manchester, since=\"09/01/2016\"))\n",
    "\n",
    "# Now I want to remove some edge in a similar way I did for adding\n",
    "residenceGraph <- residenceGraph %>%\n",
    "  remove_edges(\"loves\" %owns% edge(all.persons$john.doe %->% all.cities$London))\n",
    "\n",
    "# # The edge is not more present in the graph\n",
    "# lovesCollection <- sandboxArangoDb %>% arango_collection(\"loves\")\n",
    "\n",
    "if(is.null(lovesCollection %>% find_edge(all.persons$john.doe, all.cities$London))){\n",
    "  print(\"Ok, the edge has been removed!\")\n",
    "} else {\n",
    "  print(\"Very very bad!\")\n",
    "}"
   ]
  }
 ],
 "metadata": {
  "colab": {
   "collapsed_sections": [],
   "name": "R_ArangoDB_Managed_Service_Notebook.ipynb",
   "provenance": []
  },
  "kernelspec": {
   "display_name": "R",
   "language": "R",
   "name": "ir"
  },
  "language_info": {
   "codemirror_mode": "r",
   "file_extension": ".r",
   "mimetype": "text/x-r-source",
   "name": "R",
   "pygments_lexer": "r",
   "version": "3.6.1"
  }
 },
 "nbformat": 4,
 "nbformat_minor": 1
}
