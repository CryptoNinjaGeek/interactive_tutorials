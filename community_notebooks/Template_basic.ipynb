{
  "nbformat": 4,
  "nbformat_minor": 0,
  "metadata": {
    "colab": {
      "name": "Template_basic.ipynb",
      "provenance": [],
      "collapsed_sections": [],
      "toc_visible": true,
      "include_colab_link": true
    },
    "kernelspec": {
      "name": "python3",
      "display_name": "Python 3"
    }
  },
  "cells": [
    {
      "cell_type": "markdown",
      "metadata": {
        "id": "view-in-github",
        "colab_type": "text"
      },
      "source": [
        "<a href=\"https://colab.research.google.com/github/arangodb/interactive_tutorials/blob/master/Template_basic.ipynb\" target=\"_parent\"><img src=\"https://colab.research.google.com/assets/colab-badge.svg\" alt=\"Open In Colab\"/></a>"
      ]
    },
    {
      "cell_type": "markdown",
      "metadata": {
        "id": "islPPnmmfwIY"
      },
      "source": [
        "This notebook is meant to be a minimal quick start template, if you would like the version with some explanation, you can find that [here](https://github.com/arangodb/interactive_tutorials/blob/master/Template.ipynb)."
      ]
    },
    {
      "cell_type": "code",
      "metadata": {
        "id": "gwdjttO5zcko"
      },
      "source": [
        "%%capture\n",
        "!pip3 install pyarango\n",
        "!pip3 install \"python-arango>=5.0\""
      ],
      "execution_count": null,
      "outputs": []
    },
    {
      "cell_type": "code",
      "metadata": {
        "id": "J_gNZCCJ5ClS"
      },
      "source": [
        "%%capture\n",
        "!git clone https://github.com/arangodb/interactive_tutorials.git -b oasis_connector --single-branch\n",
        "!rsync -av interactive_tutorials/ ./ --exclude=.git"
      ],
      "execution_count": null,
      "outputs": []
    },
    {
      "cell_type": "markdown",
      "metadata": {
        "id": "YvkFgzTY_0fg"
      },
      "source": [
        "Here we import the oasis package along with our python driver. Here we have imported both but only one is necessary."
      ]
    },
    {
      "cell_type": "code",
      "metadata": {
        "id": "9sbDlV9l_fDp"
      },
      "source": [
        "import oasis\n",
        "\n",
        "from pyArango.connection import *\n",
        "from arango import ArangoClient"
      ],
      "execution_count": null,
      "outputs": []
    },
    {
      "cell_type": "markdown",
      "metadata": {
        "id": "69GLRFL7_-Jn"
      },
      "source": [
        "## Connecting\n",
        "\n",
        "Be sure to update the `tutorialName` variable with your tutorials name."
      ]
    },
    {
      "cell_type": "code",
      "metadata": {
        "id": "WOXCQc-xACUv"
      },
      "source": [
        "# Retrieve tmp credentials from ArangoDB Tutorial Service\n",
        "\n",
        "# ** UPDATE THE FOLLOWING VARIABLE  **\n",
        "tutorialName = \"YOUR AWESOME TUTORIAL NAME GOES HERE\"\n",
        "login = oasis.getTempCredentials(tutorialName=tutorialName, credentialProvider=\"https://tutorials.arangodb.cloud:8529/_db/_system/tutorialDB/tutorialDB\")\n",
        "\n",
        "# Here is an example of connecting with the default pyArango driver\n",
        "connection = oasis.connect(login)\n",
        "db = connection[login[\"dbName\"]]\n",
        "\n",
        "# Here is an example of connecting with python arango \n",
        "# database = oasis.connect_python_arango(login)\n",
        "\n",
        "# These are the credentials\n",
        "print(\"https://\"+login[\"hostname\"]+\":\"+str(login[\"port\"]))\n",
        "print(\"Username: \" + login[\"username\"])\n",
        "print(\"Password: \" + login[\"password\"])\n",
        "print(\"Database: \" + login[\"dbName\"])"
      ],
      "execution_count": null,
      "outputs": []
    },
    {
      "cell_type": "markdown",
      "metadata": {
        "id": "zQW-kvq0Eo4A"
      },
      "source": [
        "# Importing Data\n",
        "You are free to parse and import your data however you choose but some simple options for those already familiar with ArangoDB are:\n",
        "* [arangorestore](https://www.arangodb.com/docs/stable/programs-arangorestore.html)\n",
        "* [arangoimport](https://www.arangodb.com/docs/stable/programs-arangoimport.html)\n",
        "\n",
        "It is sometimes necessary to adjust the permissions of the tools folder, if you are using any tools in it."
      ]
    },
    {
      "cell_type": "code",
      "metadata": {
        "id": "q5gXOkinH5GF"
      },
      "source": [
        "!chmod -R 755 ./tools/*"
      ],
      "execution_count": null,
      "outputs": []
    },
    {
      "cell_type": "markdown",
      "metadata": {
        "id": "qCt1keEvM5Q6"
      },
      "source": [
        "If you would like to share your notebook simply place it in the `community_notebooks` folder in the interactive-tutorials repository and make a pull request.\n",
        "\n",
        "Good luck and we are excited to see what you are working on!"
      ]
    }
  ]
}