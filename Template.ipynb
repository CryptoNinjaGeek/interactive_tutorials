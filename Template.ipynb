{
  "nbformat": 4,
  "nbformat_minor": 0,
  "metadata": {
    "colab": {
      "name": "Template.ipynb",
      "provenance": [],
      "collapsed_sections": [],
      "toc_visible": true,
      "authorship_tag": "ABX9TyOj3LiUnXAOmXvHgeU1QCQa",
      "include_colab_link": true
    },
    "kernelspec": {
      "name": "python3",
      "display_name": "Python 3"
    }
  },
  "cells": [
    {
      "cell_type": "markdown",
      "metadata": {
        "id": "view-in-github",
        "colab_type": "text"
      },
      "source": [
        "<a href=\"https://colab.research.google.com/github/arangodb/interactive_tutorials/blob/master/Template.ipynb\" target=\"_parent\"><img src=\"https://colab.research.google.com/assets/colab-badge.svg\" alt=\"Open In Colab\"/></a>"
      ]
    },
    {
      "cell_type": "markdown",
      "metadata": {
        "id": "islPPnmmfwIY"
      },
      "source": [
        "This notebook provides explanation on how to use this template, if you would like the '**quick start**' version without any explanation, you can find that [here]()."
      ]
    },
    {
      "cell_type": "markdown",
      "metadata": {
        "id": "-nMK5TcezrOe"
      },
      "source": [
        "# Getting Started with ArangoDB Interactive Notebooks\n",
        "\n",
        "This notebook provides instructions and examples for creating interactive tutorial notebooks for ArangoDB. If you have a cool project you would like to share or a concept that you think the community might enjoy, please create a notebook and submit a PR.\n",
        "\n",
        "This notebook covers:\n",
        "* How to generate a free temporary database\n",
        "* Installing and using the python driver \n",
        "* Importing data \n",
        "\n",
        "## Getting Connected\n",
        "\n",
        "### Temporary database\n",
        "Our notebooks use a Foxx microservice to generate a temporary database and you can use it as well. \n",
        "\n",
        "#### Hosted for Free\n",
        "We offer the endpoint hosted on Oasis to use for free, the URL to use for that is https://tutorials.arangodb.cloud:8529/_db/_system/tutorialDB/tutorialDB. \n",
        "\n",
        "When making a notebook be sure to include `tutorialName`(as shown below) if you use the endpoint.\n",
        "\n",
        "#### Local\n",
        "Alternatively, you can test and create your own notebooks using the foxx service locally by simply zipping the `foxx_service` directory in the root of the [interactive-tutorials repository](https://github.com/arangodb/interactive_tutorials) and installing in your local ArangoDB instance.\n",
        "\n",
        "## Oasis.py\n",
        "The `oasis.py` package is used to manage the session and helps to ensure the database is ready before proceeding with opening any connections.\n",
        "\n",
        "### Python Driver\n",
        "There are two python drivers created and maintained by our wonderful community and you can use the one your prefer. The two most popular python drivers are:\n",
        "* [pyArango](https://github.com/ArangoDB-Community/pyArango)\n",
        "* [python-arango](https://github.com/joowani/python-arango)\n",
        "\n",
        "By default `oasis.py` uses pyArango but as demonstrated below you can also use python-arango by using `oasis.connect_python_arango()` instead of the default `oasis.connect()`. \n",
        "<hr />"
      ]
    },
    {
      "cell_type": "markdown",
      "metadata": {
        "id": "K8Gy6MuL4qap"
      },
      "source": [
        "## Installation\n",
        "\n",
        "Start with installing any necessary packages for your example, including your python driver of choice."
      ]
    },
    {
      "cell_type": "code",
      "metadata": {
        "id": "gwdjttO5zcko"
      },
      "source": [
        "%%capture\n",
        "!pip3 install pyarango\n",
        "!pip3 install \"python-arango>=5.0\""
      ],
      "execution_count": null,
      "outputs": []
    },
    {
      "cell_type": "markdown",
      "metadata": {
        "id": "Q_TsMrMQ_KC3"
      },
      "source": [
        "Here we clone the `oasis.py` package along with some sample data from the `oasis_with_sample_data` branch. Typically, you will use the `oasis_connector` branch which does not include the extra sample data."
      ]
    },
    {
      "cell_type": "code",
      "metadata": {
        "id": "J_gNZCCJ5ClS"
      },
      "source": [
        "%%capture\n",
        "# Typically you will use -b oasis_connector which does not include the sample data\n",
        "!git clone https://github.com/arangodb/interactive_tutorials.git -b oasis_with_sample_data --single-branch\n",
        "\n",
        "!rsync -av interactive_tutorials/ ./ --exclude=.git"
      ],
      "execution_count": null,
      "outputs": []
    },
    {
      "cell_type": "markdown",
      "metadata": {
        "id": "YvkFgzTY_0fg"
      },
      "source": [
        "Here we import the oasis package along with our python driver. Here we have imported both but only one is necessary."
      ]
    },
    {
      "cell_type": "code",
      "metadata": {
        "id": "9sbDlV9l_fDp"
      },
      "source": [
        "import oasis\n",
        "\n",
        "from pyArango.connection import *\n",
        "from arango import ArangoClient"
      ],
      "execution_count": null,
      "outputs": []
    },
    {
      "cell_type": "markdown",
      "metadata": {
        "id": "69GLRFL7_-Jn"
      },
      "source": [
        "## Connecting\n",
        "\n",
        "Be sure to update the `tutorialName` variable with your tutorials name."
      ]
    },
    {
      "cell_type": "code",
      "metadata": {
        "id": "WOXCQc-xACUv"
      },
      "source": [
        "# Retrieve tmp credentials from ArangoDB Tutorial Service\n",
        "\n",
        "# ** UPDATE THE FOLLOWING VARIABLE  **\n",
        "tutorialName = \"YOUR AWESOME TUTORIAL NAME GOES HERE\"\n",
        "login = oasis.getTempCredentials(tutorialName=tutorialName, credentialProvider=\"https://tutorials.arangodb.cloud:8529/_db/_system/tutorialDB/tutorialDB\")\n",
        "\n",
        "# Here is an example of connecting with the default pyArango driver\n",
        "connection = oasis.connect(login)\n",
        "db = connection[login[\"dbName\"]]\n",
        "\n",
        "# Here is an example of connecting with python arango \n",
        "# database = oasis.connect_python_arango(login)\n",
        "\n",
        "# These are the credentials\n",
        "print(\"https://\"+login[\"hostname\"]+\":\"+str(login[\"port\"]))\n",
        "print(\"Username: \" + login[\"username\"])\n",
        "print(\"Password: \" + login[\"password\"])\n",
        "print(\"Database: \" + login[\"dbName\"])"
      ],
      "execution_count": null,
      "outputs": []
    },
    {
      "cell_type": "markdown",
      "metadata": {
        "id": "zQW-kvq0Eo4A"
      },
      "source": [
        "# Importing Data\n",
        "\n",
        "If your tutorial relies on some external data you will need a way to load it into the newly created database. One way to achieve this is to copy it from somewhere such as GitHub, like we did earlier:\n",
        "\n",
        "```\n",
        "%%capture\n",
        "!git clone https://github.com/arangodb/interactive_tutorials.git -b oasis_connector --single-branch\n",
        "!rsync -av interactive_tutorials/ ./ --exclude=.git\n",
        "```\n",
        "First we cloned the single oasis_connector branch and then used rsync to save into our working directory. \n",
        "\n",
        "Once you have the data you need a way to get it into your newly created database. You are free to parse and import your data however you choose but some simple options for those already familiar with ArangoDB are:\n",
        "* [arangorestore](https://www.arangodb.com/docs/stable/programs-arangorestore.html)\n",
        "* [arangoimport](https://www.arangodb.com/docs/stable/programs-arangoimport.html)\n",
        "\n",
        "Here we confirm that the tools directory can be read and executed. The tools directory is where we store the Linux binaries for the vairous import tools."
      ]
    },
    {
      "cell_type": "code",
      "metadata": {
        "id": "q5gXOkinH5GF"
      },
      "source": [
        "!chmod -R 755 ./tools/*"
      ],
      "execution_count": null,
      "outputs": []
    },
    {
      "cell_type": "markdown",
      "metadata": {
        "id": "bFLxWiCIH7gG"
      },
      "source": [
        "## arangorestore\n",
        "\n",
        "[Arangorestore](https://www.arangodb.com/docs/stable/programs-arangorestore.html) is a command-line client tool to restore backups created by Arangodump to ArangoDB servers.\n",
        "\n",
        "Here is an example of loading the ArangoDB dump of the imdb dataset.\n",
        "\n",
        "**Note**: We are using the `login` variable which contains the newly created database credentials."
      ]
    },
    {
      "cell_type": "code",
      "metadata": {
        "id": "xfiJILrTHG9O"
      },
      "source": [
        "# Extra precaution for this notebook, drop all collections to avoid naming conflicts.\n",
        "# You typically will not need to drop all collections.\n",
        "db.reloadCollections()\n",
        "if db.hasCollection('imdb_vertices') or db.hasCollection('imdb_edges'):\n",
        "   db.dropAllCollections()\n",
        "\n",
        "# Restore an ArangoDB dump into the database.\n",
        "! ./tools/arangorestore \\\n",
        "-c none \\\n",
        "--server.endpoint http+ssl://{login[\"hostname\"]}:{login[\"port\"]} \\\n",
        "--server.username {login[\"username\"]} \\\n",
        "--server.database {login[\"dbName\"]} \\\n",
        "--server.password {login[\"password\"]} \\\n",
        "--replication-factor 3  \\\n",
        "--input-directory \"data/imdb_dump\" "
      ],
      "execution_count": null,
      "outputs": []
    },
    {
      "cell_type": "markdown",
      "metadata": {
        "id": "k-2R8MGxIsS0"
      },
      "source": [
        "## arangoimport\n",
        "[Arangoimport](https://www.arangodb.com/docs/stable/programs-arangoimport.html) is a command-line client tool to import data in JSON, CSV and TSV format to ArangoDB servers.\n",
        "\n",
        "Here is an example of loading the imdb dataset from JSON files.\n",
        "\n",
        "Notes:\n",
        "* We are using the `login` variable which contains the newly created database credentials.\n",
        "* Make sure the `--type` option matches your file type.\n",
        "* You may need to adjust `--batch-size` for  your file\n",
        "* Note that we specify `--create-collection-type` to `edge` "
      ]
    },
    {
      "cell_type": "code",
      "metadata": {
        "id": "rTOqf4BKPum7"
      },
      "source": [
        "# Extra precaution for this notebook, drop all collections to avoid naming conflicts.\n",
        "# You typically will not need to drop all collections.\n",
        "db.reloadCollections()\n",
        "if db.hasCollection('imdb_vertices') or db.hasCollection('imdb_edges'):\n",
        "   db.dropAllCollections()\n",
        "\n",
        "# Import data from CSV, TSV, or JSON into the database. (Document Colleciton)\n",
        "! ./tools/arangoimport \\\n",
        "-c none \\\n",
        "--server.endpoint http+ssl://{login[\"hostname\"]}:{login[\"port\"]} \\\n",
        "--server.username {login[\"username\"]} \\\n",
        "--server.database {login[\"dbName\"]} \\\n",
        "--server.password {login[\"password\"]} \\\n",
        "--file \"data/vertices/imdb_vertices.json\" \\\n",
        "--type json \\\n",
        "--collection \"imdb_vertices\" \\\n",
        "--create-collection true \\\n",
        "--batch-size 44048576\n",
        "\n",
        "# Import data from CSV, TSV, or JSON into the database. (Edge Colleciton)\n",
        "! ./tools/arangoimport \\\n",
        "-c none \\\n",
        "--server.endpoint http+ssl://{login[\"hostname\"]}:{login[\"port\"]} \\\n",
        "--server.username {login[\"username\"]} \\\n",
        "--server.database {login[\"dbName\"]} \\\n",
        "--server.password {login[\"password\"]} \\\n",
        "--file \"data/edges/imdb_edges.json\" \\\n",
        "--type json \\\n",
        "--collection \"imdb_edges\" \\\n",
        "--create-collection true \\\n",
        "--create-collection-type edge \\\n",
        "--batch-size 44048576"
      ],
      "execution_count": null,
      "outputs": []
    },
    {
      "cell_type": "markdown",
      "metadata": {
        "id": "0kV8OLqad92E"
      },
      "source": [
        "You now have a tutorial database with your data loaded and the sky is the limit!\n",
        "\n",
        "If you would like to share your notebook simply place it in the `community_notebooks` folder in the [interactive-tutorials repository](https://github.com/arangodb/interactive_tutorials) and make a pull request.\n",
        "\n",
        "Good luck and we are excited to see what you are working on!"
      ]
    }
  ]
}